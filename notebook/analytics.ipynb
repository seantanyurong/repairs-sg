{
 "cells": [
  {
   "cell_type": "markdown",
   "metadata": {},
   "source": [
    "# Basic Analytics"
   ]
  },
  {
   "cell_type": "markdown",
   "metadata": {},
   "source": [
    "### Connect To MongoDB"
   ]
  },
  {
   "cell_type": "code",
   "execution_count": 2,
   "metadata": {
    "execution": {
     "iopub.execute_input": "2024-09-28T09:31:04.947225Z",
     "iopub.status.busy": "2024-09-28T09:31:04.947225Z",
     "iopub.status.idle": "2024-09-28T09:31:04.982379Z",
     "shell.execute_reply": "2024-09-28T09:31:04.982379Z"
    }
   },
   "outputs": [],
   "source": [
    "## Import MongoClient\n",
    "# from pymongo import MongoClient\n",
    "\n",
    "## Connect To DB\n",
    "# Remove When Committing\n",
    "# connection_string = '' \n",
    "# client = MongoClient(connection_string)\n",
    "# db = client['test']"
   ]
  },
  {
   "cell_type": "code",
   "execution_count": null,
   "metadata": {},
   "outputs": [],
   "source": [
    "## Testing\n",
    "# print(list(db['vehicles'].find()))"
   ]
  },
  {
   "cell_type": "markdown",
   "metadata": {},
   "source": [
    "## Analytics Dashboard"
   ]
  },
  {
   "cell_type": "code",
   "execution_count": 3,
   "metadata": {
    "execution": {
     "iopub.execute_input": "2024-09-28T09:31:04.985011Z",
     "iopub.status.busy": "2024-09-28T09:31:04.985011Z",
     "iopub.status.idle": "2024-09-28T09:31:04.987809Z",
     "shell.execute_reply": "2024-09-28T09:31:04.987809Z"
    }
   },
   "outputs": [],
   "source": [
    "## General Libraries\n",
    "import json\n",
    "# import pandas as pd\n",
    "# import matplotlib.pyplot as plt\n",
    "# import seaborn as sns"
   ]
  },
  {
   "cell_type": "markdown",
   "metadata": {},
   "source": [
    "### Job Analytics"
   ]
  },
  {
   "cell_type": "markdown",
   "metadata": {},
   "source": [
    "#### Job Type Distribution"
   ]
  },
  {
   "cell_type": "code",
   "execution_count": 4,
   "metadata": {
    "execution": {
     "iopub.execute_input": "2024-09-28T09:31:04.990284Z",
     "iopub.status.busy": "2024-09-28T09:31:04.990284Z",
     "iopub.status.idle": "2024-09-28T09:31:04.993626Z",
     "shell.execute_reply": "2024-09-28T09:31:04.993626Z"
    }
   },
   "outputs": [],
   "source": [
    "# General Labels\n",
    "job_types = ['ELECTRICIAN', 'VENTILATION', 'PLUMBER', 'HANDYMAN', 'AIRCON']"
   ]
  },
  {
   "cell_type": "code",
   "execution_count": 5,
   "metadata": {
    "execution": {
     "iopub.execute_input": "2024-09-28T09:31:04.995631Z",
     "iopub.status.busy": "2024-09-28T09:31:04.995631Z",
     "iopub.status.idle": "2024-09-28T09:31:05.001844Z",
     "shell.execute_reply": "2024-09-28T09:31:05.001844Z"
    }
   },
   "outputs": [],
   "source": [
    "# Past 1 Month\n",
    "total_job_frequency = [21, 6, 3, 19, 11]\n",
    "\n",
    "data_job_type_dist = {\n",
    "    'labels': job_types,\n",
    "    'data': total_job_frequency\n",
    "}\n",
    "\n",
    "# Save data to JSON file\n",
    "with open('../public/analytics/job-type-dist-one-month-total.json', 'w') as file:\n",
    "    json.dump(data_job_type_dist, file, indent=4)\n",
    "\n",
    "average_job_frequency = total_job_frequency\n",
    "\n",
    "data_job_type_dist = {\n",
    "    'labels': job_types,\n",
    "    'data': average_job_frequency\n",
    "}\n",
    "\n",
    "# Save data to JSON file\n",
    "with open('../public/analytics/job-type-dist-one-month-average.json', 'w') as file:\n",
    "    json.dump(data_job_type_dist, file, indent=4)   "
   ]
  },
  {
   "cell_type": "code",
   "execution_count": 6,
   "metadata": {
    "execution": {
     "iopub.execute_input": "2024-09-28T09:31:05.005855Z",
     "iopub.status.busy": "2024-09-28T09:31:05.005855Z",
     "iopub.status.idle": "2024-09-28T09:31:05.011937Z",
     "shell.execute_reply": "2024-09-28T09:31:05.011937Z"
    }
   },
   "outputs": [],
   "source": [
    "# Past 3 Month\n",
    "total_job_frequency = [56, 17, 10, 61, 29]\n",
    "\n",
    "data_job_type_dist = {\n",
    "    'labels': job_types,\n",
    "    'data': total_job_frequency\n",
    "}\n",
    "\n",
    "# Save data to JSON file\n",
    "with open('../public/analytics/job-type-dist-three-month-total.json', 'w') as file:\n",
    "    json.dump(data_job_type_dist, file, indent=4)  \n",
    "\n",
    "average_job_frequency = [x / 3 for x in total_job_frequency]\n",
    "\n",
    "data_job_type_dist = {\n",
    "    'labels': job_types,\n",
    "    'data': average_job_frequency\n",
    "}\n",
    "\n",
    "# Save data to JSON file\n",
    "with open('../public/analytics/job-type-dist-three-month-average.json', 'w') as file:\n",
    "    json.dump(data_job_type_dist, file, indent=4) "
   ]
  },
  {
   "cell_type": "code",
   "execution_count": 7,
   "metadata": {
    "execution": {
     "iopub.execute_input": "2024-09-28T09:31:05.014090Z",
     "iopub.status.busy": "2024-09-28T09:31:05.014090Z",
     "iopub.status.idle": "2024-09-28T09:31:05.019514Z",
     "shell.execute_reply": "2024-09-28T09:31:05.019514Z"
    }
   },
   "outputs": [],
   "source": [
    "# Past 6 Month\n",
    "total_job_frequency = [112, 33, 19, 106, 55]\n",
    "\n",
    "data_job_type_dist = {\n",
    "    'labels': job_types,\n",
    "    'data': total_job_frequency\n",
    "}\n",
    "\n",
    "# Save data to JSON file\n",
    "with open('../public/analytics/job-type-dist-six-month-total.json', 'w') as file:\n",
    "    json.dump(data_job_type_dist, file, indent=4)\n",
    "\n",
    "average_job_frequency = [x / 6 for x in total_job_frequency]\n",
    "\n",
    "data_job_type_dist = {\n",
    "    'labels': job_types,\n",
    "    'data': average_job_frequency\n",
    "}\n",
    "\n",
    "# Save data to JSON file\n",
    "with open('../public/analytics/job-type-dist-six-month-average.json', 'w') as file:\n",
    "    json.dump(data_job_type_dist, file, indent=4) "
   ]
  },
  {
   "cell_type": "code",
   "execution_count": 8,
   "metadata": {
    "execution": {
     "iopub.execute_input": "2024-09-28T09:31:05.021832Z",
     "iopub.status.busy": "2024-09-28T09:31:05.021832Z",
     "iopub.status.idle": "2024-09-28T09:31:05.027961Z",
     "shell.execute_reply": "2024-09-28T09:31:05.027961Z"
    }
   },
   "outputs": [],
   "source": [
    "# Past 12 Month\n",
    "total_job_frequency = [222, 61, 40, 205, 99]\n",
    "\n",
    "data_job_type_dist = {\n",
    "    'labels': job_types,\n",
    "    'data': total_job_frequency\n",
    "}\n",
    "\n",
    "# Save data to JSON file\n",
    "with open('../public/analytics/job-type-dist-twelve-month-total.json', 'w') as file:\n",
    "    json.dump(data_job_type_dist, file, indent=4)\n",
    "\n",
    "average_job_frequency = [x / 12 for x in total_job_frequency]\n",
    "\n",
    "data_job_type_dist = {\n",
    "    'labels': job_types,\n",
    "    'data': average_job_frequency\n",
    "}\n",
    "\n",
    "# Save data to JSON file\n",
    "with open('../public/analytics/job-type-dist-twelve-month-average.json', 'w') as file:\n",
    "    json.dump(data_job_type_dist, file, indent=4) "
   ]
  },
  {
   "cell_type": "markdown",
   "metadata": {},
   "source": [
    "#### Job Duration Distribution"
   ]
  },
  {
   "cell_type": "code",
   "execution_count": 9,
   "metadata": {
    "execution": {
     "iopub.execute_input": "2024-09-28T09:31:05.030466Z",
     "iopub.status.busy": "2024-09-28T09:31:05.030466Z",
     "iopub.status.idle": "2024-09-28T09:31:05.034019Z",
     "shell.execute_reply": "2024-09-28T09:31:05.034019Z"
    }
   },
   "outputs": [],
   "source": [
    "job_duration = [21, 48, 57, 19, 181]\n",
    "\n",
    "data_job_duration_dist = {\n",
    "    'labels': job_types,\n",
    "    'data': job_duration\n",
    "}\n",
    "\n",
    "# Save data to JSON file\n",
    "with open('../public/analytics/job-duration-dist.json', 'w') as file:\n",
    "    json.dump(data_job_duration_dist, file, indent=4) "
   ]
  }
 ],
 "metadata": {
  "kernelspec": {
   "display_name": "Python 3 (ipykernel)",
   "language": "python",
   "name": "python3"
  },
  "language_info": {
   "codemirror_mode": {
    "name": "ipython",
    "version": 3
   },
   "file_extension": ".py",
   "mimetype": "text/x-python",
   "name": "python",
   "nbconvert_exporter": "python",
   "pygments_lexer": "ipython3",
   "version": "3.11.0"
  }
 },
 "nbformat": 4,
 "nbformat_minor": 4
}

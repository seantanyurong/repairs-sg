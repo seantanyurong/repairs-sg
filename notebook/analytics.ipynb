{
 "cells": [
  {
   "cell_type": "markdown",
   "metadata": {},
   "source": [
    "# Analytics Notebook"
   ]
  },
  {
   "cell_type": "markdown",
   "metadata": {},
   "source": [
    "### Connect To MongoDB"
   ]
  },
  {
   "cell_type": "code",
   "execution_count": 1,
   "metadata": {
    "execution": {
     "iopub.execute_input": "2024-10-31T09:09:06.331375Z",
     "iopub.status.busy": "2024-10-31T09:09:06.331375Z",
     "iopub.status.idle": "2024-10-31T09:09:07.288508Z",
     "shell.execute_reply": "2024-10-31T09:09:07.287502Z"
    }
   },
   "outputs": [],
   "source": [
    "## Import Libraries\n",
    "import os\n",
    "from pymongo import MongoClient\n",
    "from dotenv import load_dotenv\n",
    "\n",
    "# Load environment variables\n",
    "load_dotenv('../.env.local')\n",
    "db_uri = os.getenv('MONGODB_URI')\n",
    "\n",
    "## Connect To DB\n",
    "client = MongoClient(db_uri)\n",
    "db = client['test']"
   ]
  },
  {
   "cell_type": "markdown",
   "metadata": {},
   "source": [
    "## Analytics Dashboard"
   ]
  },
  {
   "cell_type": "markdown",
   "metadata": {},
   "source": [
    "Uses Cleaned Preprocessed Data Without Sensitive Information. <br/>\n",
    "Preprocessing of Sensitive Data Is Handled Separately."
   ]
  },
  {
   "cell_type": "code",
   "execution_count": 2,
   "metadata": {
    "execution": {
     "iopub.execute_input": "2024-10-31T09:09:07.564466Z",
     "iopub.status.busy": "2024-10-31T09:09:07.563436Z",
     "iopub.status.idle": "2024-10-31T09:09:13.475512Z",
     "shell.execute_reply": "2024-10-31T09:09:13.475000Z"
    }
   },
   "outputs": [],
   "source": [
    "## General Libraries\n",
    "import pandas as pd\n",
    "import numpy as np\n",
    "import json\n",
    "import calendar\n",
    "from datetime import datetime\n",
    "\n",
    "## Time Series\n",
    "from statsmodels.tsa.holtwinters import ExponentialSmoothing\n",
    "\n",
    "## Map\n",
    "import folium\n",
    "\n",
    "## Suppress Warnings\n",
    "import warnings\n",
    "warnings.filterwarnings('ignore')"
   ]
  },
  {
   "cell_type": "markdown",
   "metadata": {},
   "source": [
    "### Job Analytics"
   ]
  },
  {
   "cell_type": "code",
   "execution_count": 3,
   "metadata": {
    "execution": {
     "iopub.execute_input": "2024-10-31T09:09:13.478517Z",
     "iopub.status.busy": "2024-10-31T09:09:13.478517Z",
     "iopub.status.idle": "2024-10-31T09:09:13.492125Z",
     "shell.execute_reply": "2024-10-31T09:09:13.492125Z"
    }
   },
   "outputs": [
    {
     "name": "stdout",
     "output_type": "stream",
     "text": [
      "['Electrician', 'Ventilation', 'Plumber', 'Handyman', 'Aircon']\n"
     ]
    }
   ],
   "source": [
    "# General Labels\n",
    "categories_df = pd.read_csv('./datasets/categories.csv')\n",
    "job_types = categories_df['name'].tolist()\n",
    "print(job_types)"
   ]
  },
  {
   "cell_type": "code",
   "execution_count": 4,
   "metadata": {
    "execution": {
     "iopub.execute_input": "2024-10-31T09:09:13.495131Z",
     "iopub.status.busy": "2024-10-31T09:09:13.495131Z",
     "iopub.status.idle": "2024-10-31T09:09:13.500113Z",
     "shell.execute_reply": "2024-10-31T09:09:13.500113Z"
    }
   },
   "outputs": [],
   "source": [
    "# Function Extract Date\n",
    "def extract_start_date(column):\n",
    "    try:\n",
    "        col_dict = eval(column)\n",
    "        start_date = pd.to_datetime(col_dict[0]['start']['$date'])\n",
    "        return start_date\n",
    "    except:\n",
    "        return None\n",
    "    \n",
    "def extract_end_date(column):\n",
    "    try:\n",
    "        col_dict = eval(column)\n",
    "        start_date = pd.to_datetime(col_dict[0]['end']['$date'])\n",
    "        return start_date\n",
    "    except:\n",
    "        return None"
   ]
  },
  {
   "cell_type": "code",
   "execution_count": 5,
   "metadata": {
    "execution": {
     "iopub.execute_input": "2024-10-31T09:09:13.505123Z",
     "iopub.status.busy": "2024-10-31T09:09:13.504122Z",
     "iopub.status.idle": "2024-10-31T09:09:13.545241Z",
     "shell.execute_reply": "2024-10-31T09:09:13.544229Z"
    }
   },
   "outputs": [],
   "source": [
    "ja_jobs_df = pd.read_csv('./datasets/ja_jobs.csv')\n",
    "ja_jobs_df['date'] = pd.to_datetime(ja_jobs_df['date'])"
   ]
  },
  {
   "cell_type": "markdown",
   "metadata": {},
   "source": [
    "#### Job Type Distribution"
   ]
  },
  {
   "cell_type": "code",
   "execution_count": 6,
   "metadata": {
    "execution": {
     "iopub.execute_input": "2024-10-31T09:09:13.549240Z",
     "iopub.status.busy": "2024-10-31T09:09:13.549240Z",
     "iopub.status.idle": "2024-10-31T09:09:13.568517Z",
     "shell.execute_reply": "2024-10-31T09:09:13.567499Z"
    }
   },
   "outputs": [],
   "source": [
    "# Past 1 Month\n",
    "\n",
    "## Total\n",
    "recent_jobs = ja_jobs_df[ja_jobs_df['date'] >= datetime(2024, 10, 1) - pd.DateOffset(months=1)]\n",
    "total_job_frequency = recent_jobs['category'].value_counts(sort=False).tolist()\n",
    "data_job_type_dist = {\n",
    "    'labels': job_types,\n",
    "    'data': total_job_frequency\n",
    "}\n",
    "\n",
    "with open('../public/analytics/job/job-type-dist-one-month-total.json', 'w') as file:\n",
    "    json.dump(data_job_type_dist, file, indent=4)\n",
    "\n",
    "## Average\n",
    "average_job_frequency = total_job_frequency\n",
    "data_job_type_dist = {\n",
    "    'labels': job_types,\n",
    "    'data': average_job_frequency\n",
    "}\n",
    "\n",
    "with open('../public/analytics/job/job-type-dist-one-month-average.json', 'w') as file:\n",
    "    json.dump(data_job_type_dist, file, indent=4)   "
   ]
  },
  {
   "cell_type": "code",
   "execution_count": 7,
   "metadata": {
    "execution": {
     "iopub.execute_input": "2024-10-31T09:09:13.572520Z",
     "iopub.status.busy": "2024-10-31T09:09:13.572520Z",
     "iopub.status.idle": "2024-10-31T09:09:13.584112Z",
     "shell.execute_reply": "2024-10-31T09:09:13.583020Z"
    }
   },
   "outputs": [],
   "source": [
    "# Past 3 Month\n",
    "## Total\n",
    "recent_jobs = ja_jobs_df[ja_jobs_df['date'] >= datetime(2024, 10, 1) - pd.DateOffset(months=3)]\n",
    "total_job_frequency = recent_jobs['category'].value_counts(sort=False).tolist()\n",
    "data_job_type_dist = {\n",
    "    'labels': job_types,\n",
    "    'data': total_job_frequency\n",
    "}\n",
    "\n",
    "with open('../public/analytics/job/job-type-dist-three-month-total.json', 'w') as file:\n",
    "    json.dump(data_job_type_dist, file, indent=4)  \n",
    "\n",
    "## Average\n",
    "average_job_frequency = [np.ceil(x / 3) for x in total_job_frequency]\n",
    "data_job_type_dist = {\n",
    "    'labels': job_types,\n",
    "    'data': average_job_frequency\n",
    "}\n",
    "\n",
    "with open('../public/analytics/job/job-type-dist-three-month-average.json', 'w') as file:\n",
    "    json.dump(data_job_type_dist, file, indent=4) "
   ]
  },
  {
   "cell_type": "code",
   "execution_count": 8,
   "metadata": {
    "execution": {
     "iopub.execute_input": "2024-10-31T09:09:13.587123Z",
     "iopub.status.busy": "2024-10-31T09:09:13.587123Z",
     "iopub.status.idle": "2024-10-31T09:09:13.595716Z",
     "shell.execute_reply": "2024-10-31T09:09:13.595716Z"
    }
   },
   "outputs": [],
   "source": [
    "# Past 6 Month\n",
    "## Total\n",
    "recent_jobs = ja_jobs_df[ja_jobs_df['date'] >= datetime(2024, 10, 1) - pd.DateOffset(months=6)]\n",
    "total_job_frequency = recent_jobs['category'].value_counts(sort=False).tolist()\n",
    "data_job_type_dist = {\n",
    "    'labels': job_types,\n",
    "    'data': total_job_frequency\n",
    "}\n",
    "\n",
    "with open('../public/analytics/job/job-type-dist-six-month-total.json', 'w') as file:\n",
    "    json.dump(data_job_type_dist, file, indent=4)\n",
    "\n",
    "## Average\n",
    "average_job_frequency = [np.ceil(x / 6) for x in total_job_frequency]\n",
    "data_job_type_dist = {\n",
    "    'labels': job_types,\n",
    "    'data': average_job_frequency\n",
    "}\n",
    "\n",
    "with open('../public/analytics/job/job-type-dist-six-month-average.json', 'w') as file:\n",
    "    json.dump(data_job_type_dist, file, indent=4) "
   ]
  },
  {
   "cell_type": "code",
   "execution_count": 9,
   "metadata": {
    "execution": {
     "iopub.execute_input": "2024-10-31T09:09:13.598723Z",
     "iopub.status.busy": "2024-10-31T09:09:13.598723Z",
     "iopub.status.idle": "2024-10-31T09:09:13.608960Z",
     "shell.execute_reply": "2024-10-31T09:09:13.608286Z"
    }
   },
   "outputs": [],
   "source": [
    "# Past 12 Month\n",
    "## Total\n",
    "recent_jobs = ja_jobs_df[ja_jobs_df['date'] >= datetime(2024, 10, 1) - pd.DateOffset(months=12)]\n",
    "total_job_frequency = recent_jobs['category'].value_counts(sort=False).tolist()\n",
    "data_job_type_dist = {\n",
    "    'labels': job_types,\n",
    "    'data': total_job_frequency\n",
    "}\n",
    "\n",
    "with open('../public/analytics/job/job-type-dist-twelve-month-total.json', 'w') as file:\n",
    "    json.dump(data_job_type_dist, file, indent=4)\n",
    "\n",
    "## Average\n",
    "average_job_frequency = [np.ceil(x / 12) for x in total_job_frequency]\n",
    "data_job_type_dist = {\n",
    "    'labels': job_types,\n",
    "    'data': average_job_frequency\n",
    "}\n",
    "\n",
    "with open('../public/analytics/job/job-type-dist-twelve-month-average.json', 'w') as file:\n",
    "    json.dump(data_job_type_dist, file, indent=4) "
   ]
  },
  {
   "cell_type": "markdown",
   "metadata": {},
   "source": [
    "#### Job Duration Distribution"
   ]
  },
  {
   "cell_type": "code",
   "execution_count": 10,
   "metadata": {
    "execution": {
     "iopub.execute_input": "2024-10-31T09:09:13.611967Z",
     "iopub.status.busy": "2024-10-31T09:09:13.611967Z",
     "iopub.status.idle": "2024-10-31T09:09:13.631065Z",
     "shell.execute_reply": "2024-10-31T09:09:13.631065Z"
    }
   },
   "outputs": [],
   "source": [
    "# Past 1 Month\n",
    "recent_jobs = ja_jobs_df[ja_jobs_df['date'] >= datetime(2024, 10, 1) - pd.DateOffset(months=1)]\n",
    "duration_stats = recent_jobs.groupby('category').agg(\n",
    "    total_duration=('duration', 'sum'),\n",
    "    frequency=('category', 'count')\n",
    ").reset_index()\n",
    "duration_stats['average_duration'] = np.ceil(duration_stats['total_duration'] / duration_stats['frequency'])\n",
    "duration_stats['category'] = pd.Categorical(duration_stats['category'].str.capitalize(), categories=job_types, ordered=True)\n",
    "duration_stats = duration_stats.sort_values('category').reset_index(drop=True)\n",
    "\n",
    "data_job_duration_dist = {\n",
    "    'labels': job_types,\n",
    "    'data': duration_stats['average_duration'].tolist()\n",
    "}\n",
    "\n",
    "with open('../public/analytics/job/job-duration-dist-one-month.json', 'w') as file:\n",
    "    json.dump(data_job_duration_dist, file, indent=4) "
   ]
  },
  {
   "cell_type": "code",
   "execution_count": 11,
   "metadata": {
    "execution": {
     "iopub.execute_input": "2024-10-31T09:09:13.634092Z",
     "iopub.status.busy": "2024-10-31T09:09:13.634092Z",
     "iopub.status.idle": "2024-10-31T09:09:13.652713Z",
     "shell.execute_reply": "2024-10-31T09:09:13.652713Z"
    }
   },
   "outputs": [],
   "source": [
    "# Past 3 Month\n",
    "recent_jobs = ja_jobs_df[ja_jobs_df['date'] >= datetime(2024, 10, 1) - pd.DateOffset(months=3)]\n",
    "duration_stats = recent_jobs.groupby('category').agg(\n",
    "    total_duration=('duration', 'sum'),\n",
    "    frequency=('category', 'count')\n",
    ").reset_index()\n",
    "duration_stats['average_duration'] = np.ceil(duration_stats['total_duration'] / duration_stats['frequency'])\n",
    "duration_stats['category'] = pd.Categorical(duration_stats['category'].str.capitalize(), categories=job_types, ordered=True)\n",
    "duration_stats = duration_stats.sort_values('category').reset_index(drop=True)\n",
    "\n",
    "data_job_duration_dist = {\n",
    "    'labels': job_types,\n",
    "    'data': duration_stats['average_duration'].tolist()\n",
    "}\n",
    "\n",
    "with open('../public/analytics/job/job-duration-dist-three-month.json', 'w') as file:\n",
    "    json.dump(data_job_duration_dist, file, indent=4) "
   ]
  },
  {
   "cell_type": "code",
   "execution_count": 12,
   "metadata": {
    "execution": {
     "iopub.execute_input": "2024-10-31T09:09:13.655747Z",
     "iopub.status.busy": "2024-10-31T09:09:13.655747Z",
     "iopub.status.idle": "2024-10-31T09:09:13.674567Z",
     "shell.execute_reply": "2024-10-31T09:09:13.674567Z"
    }
   },
   "outputs": [],
   "source": [
    "# Past 6 Month\n",
    "recent_jobs = ja_jobs_df[ja_jobs_df['date'] >= datetime(2024, 10, 1) - pd.DateOffset(months=6)]\n",
    "duration_stats = recent_jobs.groupby('category').agg(\n",
    "    total_duration=('duration', 'sum'),\n",
    "    frequency=('category', 'count')\n",
    ").reset_index()\n",
    "duration_stats['average_duration'] = np.ceil(duration_stats['total_duration'] / duration_stats['frequency'])\n",
    "duration_stats['category'] = pd.Categorical(duration_stats['category'].str.capitalize(), categories=job_types, ordered=True)\n",
    "duration_stats = duration_stats.sort_values('category').reset_index(drop=True)\n",
    "\n",
    "data_job_duration_dist = {\n",
    "    'labels': job_types,\n",
    "    'data': duration_stats['average_duration'].tolist()\n",
    "}\n",
    "\n",
    "with open('../public/analytics/job/job-duration-dist-six-month.json', 'w') as file:\n",
    "    json.dump(data_job_duration_dist, file, indent=4) "
   ]
  },
  {
   "cell_type": "code",
   "execution_count": 13,
   "metadata": {
    "execution": {
     "iopub.execute_input": "2024-10-31T09:09:13.677750Z",
     "iopub.status.busy": "2024-10-31T09:09:13.677750Z",
     "iopub.status.idle": "2024-10-31T09:09:13.698618Z",
     "shell.execute_reply": "2024-10-31T09:09:13.697609Z"
    }
   },
   "outputs": [],
   "source": [
    "# Past 12 Month\n",
    "recent_jobs = ja_jobs_df[ja_jobs_df['date'] >= datetime(2024, 10, 1) - pd.DateOffset(months=12)]\n",
    "duration_stats = recent_jobs.groupby('category').agg(\n",
    "    total_duration=('duration', 'sum'),\n",
    "    frequency=('category', 'count')\n",
    ").reset_index()\n",
    "duration_stats['average_duration'] = np.ceil(duration_stats['total_duration'] / duration_stats['frequency'])\n",
    "duration_stats['category'] = pd.Categorical(duration_stats['category'].str.capitalize(), categories=job_types, ordered=True)\n",
    "duration_stats = duration_stats.sort_values('category').reset_index(drop=True)\n",
    "\n",
    "data_job_duration_dist = {\n",
    "    'labels': job_types,\n",
    "    'data': duration_stats['average_duration'].tolist()\n",
    "}\n",
    "\n",
    "with open('../public/analytics/job/job-duration-dist-twelve-month.json', 'w') as file:\n",
    "    json.dump(data_job_duration_dist, file, indent=4) "
   ]
  },
  {
   "cell_type": "markdown",
   "metadata": {},
   "source": [
    "#### Job Delay Distribution"
   ]
  },
  {
   "cell_type": "code",
   "execution_count": 14,
   "metadata": {
    "execution": {
     "iopub.execute_input": "2024-10-31T09:09:13.700621Z",
     "iopub.status.busy": "2024-10-31T09:09:13.700621Z",
     "iopub.status.idle": "2024-10-31T09:09:13.717061Z",
     "shell.execute_reply": "2024-10-31T09:09:13.716383Z"
    }
   },
   "outputs": [],
   "source": [
    "# Past 1 Month\n",
    "recent_jobs = ja_jobs_df[ja_jobs_df['date'] >= datetime(2024, 10, 1) - pd.DateOffset(months=1)]\n",
    "delay_stats = recent_jobs.groupby('category').agg(\n",
    "    total_delay=('delay', 'sum'),\n",
    "    frequency=('category', 'count')\n",
    ").reset_index()\n",
    "delay_stats['average_delay'] = np.ceil(delay_stats['total_delay'] / delay_stats['frequency'])\n",
    "delay_stats['category'] = pd.Categorical(delay_stats['category'].str.capitalize(), categories=job_types, ordered=True)\n",
    "delay_stats = delay_stats.sort_values('category').reset_index(drop=True)\n",
    "\n",
    "data_job_delay_dist = {\n",
    "    'labels': job_types,\n",
    "    'data': delay_stats['average_delay'].tolist()\n",
    "}\n",
    "\n",
    "with open('../public/analytics/job/job-delay-dist-one-month.json', 'w') as file:\n",
    "    json.dump(data_job_delay_dist, file, indent=4) "
   ]
  },
  {
   "cell_type": "code",
   "execution_count": 15,
   "metadata": {
    "execution": {
     "iopub.execute_input": "2024-10-31T09:09:13.719918Z",
     "iopub.status.busy": "2024-10-31T09:09:13.719918Z",
     "iopub.status.idle": "2024-10-31T09:09:13.735362Z",
     "shell.execute_reply": "2024-10-31T09:09:13.735362Z"
    }
   },
   "outputs": [],
   "source": [
    "# Past 3 Month\n",
    "recent_jobs = ja_jobs_df[ja_jobs_df['date'] >= datetime(2024, 10, 1) - pd.DateOffset(months=3)]\n",
    "delay_stats = recent_jobs.groupby('category').agg(\n",
    "    total_delay=('delay', 'sum'),\n",
    "    frequency=('category', 'count')\n",
    ").reset_index()\n",
    "delay_stats['average_delay'] = np.ceil(delay_stats['total_delay'] / delay_stats['frequency'])\n",
    "delay_stats['category'] = pd.Categorical(delay_stats['category'].str.capitalize(), categories=job_types, ordered=True)\n",
    "delay_stats = delay_stats.sort_values('category').reset_index(drop=True)\n",
    "\n",
    "data_job_delay_dist = {\n",
    "    'labels': job_types,\n",
    "    'data': delay_stats['average_delay'].tolist()\n",
    "}\n",
    "\n",
    "with open('../public/analytics/job/job-delay-dist-three-month.json', 'w') as file:\n",
    "    json.dump(data_job_delay_dist, file, indent=4) "
   ]
  },
  {
   "cell_type": "code",
   "execution_count": 16,
   "metadata": {
    "execution": {
     "iopub.execute_input": "2024-10-31T09:09:13.739369Z",
     "iopub.status.busy": "2024-10-31T09:09:13.738370Z",
     "iopub.status.idle": "2024-10-31T09:09:13.753788Z",
     "shell.execute_reply": "2024-10-31T09:09:13.753788Z"
    }
   },
   "outputs": [],
   "source": [
    "# Past 6 Month\n",
    "recent_jobs = ja_jobs_df[ja_jobs_df['date'] >= datetime(2024, 10, 1) - pd.DateOffset(months=6)]\n",
    "delay_stats = recent_jobs.groupby('category').agg(\n",
    "    total_delay=('delay', 'sum'),\n",
    "    frequency=('category', 'count')\n",
    ").reset_index()\n",
    "delay_stats['average_delay'] = np.ceil(delay_stats['total_delay'] / delay_stats['frequency'])\n",
    "delay_stats['category'] = pd.Categorical(delay_stats['category'].str.capitalize(), categories=job_types, ordered=True)\n",
    "delay_stats = delay_stats.sort_values('category').reset_index(drop=True)\n",
    "\n",
    "data_job_delay_dist = {\n",
    "    'labels': job_types,\n",
    "    'data': delay_stats['average_delay'].tolist()\n",
    "}\n",
    "\n",
    "with open('../public/analytics/job/job-delay-dist-six-month.json', 'w') as file:\n",
    "    json.dump(data_job_delay_dist, file, indent=4) "
   ]
  },
  {
   "cell_type": "code",
   "execution_count": 17,
   "metadata": {
    "execution": {
     "iopub.execute_input": "2024-10-31T09:09:13.756799Z",
     "iopub.status.busy": "2024-10-31T09:09:13.756799Z",
     "iopub.status.idle": "2024-10-31T09:09:13.773665Z",
     "shell.execute_reply": "2024-10-31T09:09:13.772650Z"
    }
   },
   "outputs": [],
   "source": [
    "# Past 12 Month\n",
    "recent_jobs = ja_jobs_df[ja_jobs_df['date'] >= datetime(2024, 10, 1) - pd.DateOffset(months=12)]\n",
    "delay_stats = recent_jobs.groupby('category').agg(\n",
    "    total_delay=('delay', 'sum'),\n",
    "    frequency=('category', 'count')\n",
    ").reset_index()\n",
    "delay_stats['average_delay'] = np.ceil(delay_stats['total_delay'] / delay_stats['frequency'])\n",
    "delay_stats['category'] = pd.Categorical(delay_stats['category'].str.capitalize(), categories=job_types, ordered=True)\n",
    "delay_stats = delay_stats.sort_values('category').reset_index(drop=True)\n",
    "\n",
    "data_job_delay_dist = {\n",
    "    'labels': job_types,\n",
    "    'data': delay_stats['average_delay'].tolist()\n",
    "}\n",
    "\n",
    "# Save data to JSON file\n",
    "with open('../public/analytics/job/job-delay-dist-twelve-month.json', 'w') as file:\n",
    "    json.dump(data_job_delay_dist, file, indent=4) "
   ]
  },
  {
   "cell_type": "markdown",
   "metadata": {},
   "source": [
    "#### Job Revenue Distribution"
   ]
  },
  {
   "cell_type": "code",
   "execution_count": 18,
   "metadata": {
    "execution": {
     "iopub.execute_input": "2024-10-31T09:09:13.776675Z",
     "iopub.status.busy": "2024-10-31T09:09:13.776675Z",
     "iopub.status.idle": "2024-10-31T09:09:13.791814Z",
     "shell.execute_reply": "2024-10-31T09:09:13.791814Z"
    }
   },
   "outputs": [],
   "source": [
    "ja_revenue_df = pd.read_csv('./datasets/ja_revenue.csv')\n",
    "ja_revenue_df['date'] = pd.to_datetime(ja_revenue_df['date'])\n",
    "job_categories = ['electrician', 'ventilation', 'plumber', 'handyman', 'aircon']"
   ]
  },
  {
   "cell_type": "code",
   "execution_count": 19,
   "metadata": {
    "execution": {
     "iopub.execute_input": "2024-10-31T09:09:13.794819Z",
     "iopub.status.busy": "2024-10-31T09:09:13.794819Z",
     "iopub.status.idle": "2024-10-31T09:09:13.802990Z",
     "shell.execute_reply": "2024-10-31T09:09:13.802990Z"
    }
   },
   "outputs": [],
   "source": [
    "# Past 1 Month\n",
    "\n",
    "## Total\n",
    "recent_jobs = ja_revenue_df[ja_revenue_df['date'] >= datetime(2024, 10, 1) - pd.DateOffset(months=1)]\n",
    "total_job_revenue = [recent_jobs[job_type].sum() for job_type in job_categories]\n",
    "\n",
    "data_job_revenue_dist = {\n",
    "    'labels': job_types,\n",
    "    'data': total_job_revenue\n",
    "}\n",
    "\n",
    "with open('../public/analytics/job/job-revenue-dist-one-month-total.json', 'w') as file:\n",
    "    json.dump(data_job_revenue_dist, file, indent=4)\n",
    "\n",
    "## Average\n",
    "average_job_revenue = total_job_revenue\n",
    "data_job_revenue_dist = {\n",
    "    'labels': job_types,\n",
    "    'data': average_job_revenue\n",
    "}\n",
    "\n",
    "with open('../public/analytics/job/job-revenue-dist-one-month-average.json', 'w') as file:\n",
    "    json.dump(data_job_revenue_dist, file, indent=4)  "
   ]
  },
  {
   "cell_type": "code",
   "execution_count": 20,
   "metadata": {
    "execution": {
     "iopub.execute_input": "2024-10-31T09:09:13.806041Z",
     "iopub.status.busy": "2024-10-31T09:09:13.806041Z",
     "iopub.status.idle": "2024-10-31T09:09:13.814741Z",
     "shell.execute_reply": "2024-10-31T09:09:13.814460Z"
    }
   },
   "outputs": [],
   "source": [
    "# Past 3 Month\n",
    "\n",
    "## Total\n",
    "recent_jobs = ja_revenue_df[ja_revenue_df['date'] >= datetime(2024, 10, 1) - pd.DateOffset(months=3)]\n",
    "total_job_revenue = [recent_jobs[job_type].sum() for job_type in job_categories]\n",
    "\n",
    "data_job_revenue_dist = {\n",
    "    'labels': job_types,\n",
    "    'data': total_job_revenue\n",
    "}\n",
    "\n",
    "with open('../public/analytics/job/job-revenue-dist-three-month-total.json', 'w') as file:\n",
    "    json.dump(data_job_revenue_dist, file, indent=4)\n",
    "\n",
    "## Average\n",
    "average_job_revenue = [round(x / 3, 2) for x in total_job_revenue]\n",
    "\n",
    "data_job_revenue_dist = {\n",
    "    'labels': job_types,\n",
    "    'data': average_job_revenue\n",
    "}\n",
    "\n",
    "with open('../public/analytics/job/job-revenue-dist-three-month-average.json', 'w') as file:\n",
    "    json.dump(data_job_revenue_dist, file, indent=4)  "
   ]
  },
  {
   "cell_type": "code",
   "execution_count": 21,
   "metadata": {
    "execution": {
     "iopub.execute_input": "2024-10-31T09:09:13.817789Z",
     "iopub.status.busy": "2024-10-31T09:09:13.816836Z",
     "iopub.status.idle": "2024-10-31T09:09:13.825628Z",
     "shell.execute_reply": "2024-10-31T09:09:13.825628Z"
    }
   },
   "outputs": [],
   "source": [
    "# Past 6 Month\n",
    "\n",
    "## Total\n",
    "recent_jobs = ja_revenue_df[ja_revenue_df['date'] >= datetime(2024, 10, 1) - pd.DateOffset(months=6)]\n",
    "total_job_revenue = [recent_jobs[job_type].sum() for job_type in job_categories]\n",
    "\n",
    "data_job_revenue_dist = {\n",
    "    'labels': job_types,\n",
    "    'data': total_job_revenue\n",
    "}\n",
    "\n",
    "with open('../public/analytics/job/job-revenue-dist-six-month-total.json', 'w') as file:\n",
    "    json.dump(data_job_revenue_dist, file, indent=4)\n",
    "\n",
    "## Average\n",
    "average_job_revenue = [round(x / 6, 2) for x in total_job_revenue]\n",
    "data_job_revenue_dist = {\n",
    "    'labels': job_types,\n",
    "    'data': average_job_revenue\n",
    "}\n",
    "\n",
    "with open('../public/analytics/job/job-revenue-dist-six-month-average.json', 'w') as file:\n",
    "    json.dump(data_job_revenue_dist, file, indent=4)  "
   ]
  },
  {
   "cell_type": "code",
   "execution_count": 22,
   "metadata": {
    "execution": {
     "iopub.execute_input": "2024-10-31T09:09:13.828636Z",
     "iopub.status.busy": "2024-10-31T09:09:13.828636Z",
     "iopub.status.idle": "2024-10-31T09:09:13.836580Z",
     "shell.execute_reply": "2024-10-31T09:09:13.836580Z"
    }
   },
   "outputs": [],
   "source": [
    "# Past 12 Month\n",
    "\n",
    "## Total\n",
    "recent_jobs = ja_revenue_df[ja_revenue_df['date'] >= datetime(2024, 10, 1) - pd.DateOffset(months=12)]\n",
    "total_job_revenue = [recent_jobs[job_type].sum() for job_type in job_categories]\n",
    "data_job_revenue_dist = {\n",
    "    'labels': job_types,\n",
    "    'data': total_job_revenue\n",
    "}\n",
    "\n",
    "with open('../public/analytics/job/job-revenue-dist-twelve-month-total.json', 'w') as file:\n",
    "    json.dump(data_job_revenue_dist, file, indent=4)\n",
    "\n",
    "## Average\n",
    "average_job_revenue = [round(x / 12, 2) for x in total_job_revenue]\n",
    "data_job_revenue_dist = {\n",
    "    'labels': job_types,\n",
    "    'data': average_job_revenue\n",
    "}\n",
    "\n",
    "with open('../public/analytics/job/job-revenue-dist-twelve-month-average.json', 'w') as file:\n",
    "    json.dump(data_job_revenue_dist, file, indent=4)  "
   ]
  },
  {
   "cell_type": "markdown",
   "metadata": {},
   "source": [
    "#### Job Revenue Forecasting"
   ]
  },
  {
   "cell_type": "code",
   "execution_count": 23,
   "metadata": {
    "execution": {
     "iopub.execute_input": "2024-10-31T09:09:13.840672Z",
     "iopub.status.busy": "2024-10-31T09:09:13.839661Z",
     "iopub.status.idle": "2024-10-31T09:09:13.845329Z",
     "shell.execute_reply": "2024-10-31T09:09:13.845329Z"
    }
   },
   "outputs": [],
   "source": [
    "# Calculate the date 21 months ago from today\n",
    "start_date = datetime(2024, 10, 1) - pd.DateOffset(months=24)\n",
    "\n",
    "def forecast_revenue(df, seasonal_periods, forecast_horizon):\n",
    "    model = ExponentialSmoothing(df['revenue'], seasonal='add', seasonal_periods=seasonal_periods)\n",
    "    model_fit = model.fit()\n",
    "    forecast = model_fit.forecast(forecast_horizon)\n",
    "    return forecast"
   ]
  },
  {
   "cell_type": "code",
   "execution_count": 24,
   "metadata": {
    "execution": {
     "iopub.execute_input": "2024-10-31T09:09:13.850383Z",
     "iopub.status.busy": "2024-10-31T09:09:13.849336Z",
     "iopub.status.idle": "2024-10-31T09:09:13.913404Z",
     "shell.execute_reply": "2024-10-31T09:09:13.913404Z"
    }
   },
   "outputs": [],
   "source": [
    "# Electrician\n",
    "historical_data = {\n",
    "    'date': pd.date_range(start=start_date, end=datetime(2024, 10, 1), freq='M'),\n",
    "    'revenue': ja_revenue_df['electrician'].tolist()\n",
    "}\n",
    "electrician_df = pd.DataFrame(historical_data)\n",
    "electrician_df.set_index('date', inplace=True)\n",
    "\n",
    "forecast_months = 6\n",
    "\n",
    "# Monthly\n",
    "historical_demand = electrician_df['revenue'][-12:]\n",
    "monthly_forecast = np.ceil(forecast_revenue(electrician_df, seasonal_periods=12, forecast_horizon=forecast_months)).astype(int)\n",
    "combined_demand_forecast = np.concatenate((historical_demand, monthly_forecast))\n",
    "\n",
    "historical_labels = [historical_demand.index[i].strftime(\"%Y-%m\") for i in range(len(historical_demand))]\n",
    "forecasted_labels = [(monthly_forecast.index[i].strftime(\"%Y-%m\")) for i in range(len(monthly_forecast))]\n",
    "combined_labels = historical_labels + forecasted_labels\n",
    "\n",
    "data_job_demand_forecast_monthly = {\n",
    "    'labels': combined_labels,\n",
    "    'data': combined_demand_forecast.tolist()\n",
    "}\n",
    "\n",
    "with open('../public/analytics/job/job-revenue-forecast-electrician-month.json', 'w') as file:\n",
    "    json.dump(data_job_demand_forecast_monthly, file, indent=4) \n",
    "\n",
    "# Quarterly \n",
    "df_quarterly = electrician_df.resample('Q').sum()\n",
    "historical_demand = np.ceil(df_quarterly['revenue'][-6:]).astype(int)\n",
    "quarterly_forecast = np.ceil(forecast_revenue(df_quarterly, seasonal_periods=4, forecast_horizon=forecast_months // 3)).astype(int)\n",
    "combined_demand_forecast = np.concatenate((historical_demand, quarterly_forecast))\n",
    "\n",
    "historical_labels = [historical_demand.index[i].strftime(\"%Y-%m\") for i in range(len(historical_demand))]\n",
    "forecasted_labels = [(quarterly_forecast.index[i].strftime(\"%Y-%m\")) for i in range(len(quarterly_forecast))]\n",
    "combined_labels = historical_labels + forecasted_labels\n",
    "\n",
    "data_job_demand_forecast_quarterly = {\n",
    "    'labels': combined_labels,\n",
    "    'data': combined_demand_forecast.tolist()\n",
    "}\n",
    "\n",
    "with open('../public/analytics/job/job-revenue-forecast-electrician-quarter.json', 'w') as file:\n",
    "    json.dump(data_job_demand_forecast_quarterly, file, indent=4) "
   ]
  },
  {
   "cell_type": "code",
   "execution_count": 25,
   "metadata": {
    "execution": {
     "iopub.execute_input": "2024-10-31T09:09:13.918591Z",
     "iopub.status.busy": "2024-10-31T09:09:13.918591Z",
     "iopub.status.idle": "2024-10-31T09:09:13.957785Z",
     "shell.execute_reply": "2024-10-31T09:09:13.957418Z"
    }
   },
   "outputs": [],
   "source": [
    "# Ventilation\n",
    "historical_data = {\n",
    "    'date': pd.date_range(start=start_date, end=datetime(2024, 10, 1), freq='M'),\n",
    "    'revenue': ja_revenue_df['ventilation'].tolist()\n",
    "}\n",
    "ventilation_df = pd.DataFrame(historical_data)\n",
    "ventilation_df.set_index('date', inplace=True)\n",
    "\n",
    "forecast_months = 6\n",
    "\n",
    "# Monthly\n",
    "historical_demand = ventilation_df['revenue'][-12:]\n",
    "monthly_forecast = np.ceil(forecast_revenue(ventilation_df, seasonal_periods=12, forecast_horizon=forecast_months)).astype(int)\n",
    "combined_demand_forecast = np.concatenate((historical_demand, monthly_forecast))\n",
    "\n",
    "historical_labels = [historical_demand.index[i].strftime(\"%Y-%m\") for i in range(len(historical_demand))]\n",
    "forecasted_labels = [(monthly_forecast.index[i].strftime(\"%Y-%m\")) for i in range(len(monthly_forecast))]\n",
    "combined_labels = historical_labels + forecasted_labels\n",
    "\n",
    "data_job_demand_forecast_monthly = {\n",
    "    'labels': combined_labels,\n",
    "    'data': combined_demand_forecast.tolist()\n",
    "}\n",
    "\n",
    "with open('../public/analytics/job/job-revenue-forecast-ventilation-month.json', 'w') as file:\n",
    "    json.dump(data_job_demand_forecast_monthly, file, indent=4) \n",
    "\n",
    "# Quarterly \n",
    "df_quarterly = ventilation_df.resample('Q').sum()\n",
    "historical_demand = np.ceil(df_quarterly['revenue'][-6:]).astype(int)\n",
    "quarterly_forecast = np.ceil(forecast_revenue(df_quarterly, seasonal_periods=4, forecast_horizon=forecast_months // 3)).astype(int)\n",
    "combined_demand_forecast = np.concatenate((historical_demand, quarterly_forecast))\n",
    "\n",
    "historical_labels = [historical_demand.index[i].strftime(\"%Y-%m\") for i in range(len(historical_demand))]\n",
    "forecasted_labels = [(quarterly_forecast.index[i].strftime(\"%Y-%m\")) for i in range(len(quarterly_forecast))]\n",
    "combined_labels = historical_labels + forecasted_labels\n",
    "\n",
    "data_job_demand_forecast_quarterly = {\n",
    "    'labels': combined_labels,\n",
    "    'data': combined_demand_forecast.tolist()\n",
    "}\n",
    "\n",
    "with open('../public/analytics/job/job-revenue-forecast-ventilation-quarter.json', 'w') as file:\n",
    "    json.dump(data_job_demand_forecast_quarterly, file, indent=4) "
   ]
  },
  {
   "cell_type": "code",
   "execution_count": 26,
   "metadata": {
    "execution": {
     "iopub.execute_input": "2024-10-31T09:09:13.961296Z",
     "iopub.status.busy": "2024-10-31T09:09:13.959794Z",
     "iopub.status.idle": "2024-10-31T09:09:13.993065Z",
     "shell.execute_reply": "2024-10-31T09:09:13.993065Z"
    }
   },
   "outputs": [],
   "source": [
    "# Plumber\n",
    "historical_data = {\n",
    "    'date': pd.date_range(start=start_date, end=datetime(2024, 10, 1), freq='M'),\n",
    "    'revenue': ja_revenue_df['plumber'].tolist()\n",
    "}\n",
    "plumber_df = pd.DataFrame(historical_data)\n",
    "plumber_df.set_index('date', inplace=True)\n",
    "\n",
    "forecast_months = 6\n",
    "\n",
    "# Monthly\n",
    "historical_demand = plumber_df['revenue'][-12:]\n",
    "monthly_forecast = np.ceil(forecast_revenue(plumber_df, seasonal_periods=12, forecast_horizon=forecast_months)).astype(int)\n",
    "combined_demand_forecast = np.concatenate((historical_demand, monthly_forecast))\n",
    "\n",
    "historical_labels = [historical_demand.index[i].strftime(\"%Y-%m\") for i in range(len(historical_demand))]\n",
    "forecasted_labels = [(monthly_forecast.index[i].strftime(\"%Y-%m\")) for i in range(len(monthly_forecast))]\n",
    "combined_labels = historical_labels + forecasted_labels\n",
    "\n",
    "data_job_demand_forecast_monthly = {\n",
    "    'labels': combined_labels,\n",
    "    'data': combined_demand_forecast.tolist()\n",
    "}\n",
    "\n",
    "with open('../public/analytics/job/job-revenue-forecast-plumber-month.json', 'w') as file:\n",
    "    json.dump(data_job_demand_forecast_monthly, file, indent=4) \n",
    "\n",
    "# Quarterly \n",
    "df_quarterly = plumber_df.resample('Q').sum()\n",
    "historical_demand = np.ceil(df_quarterly['revenue'][-6:]).astype(int)\n",
    "quarterly_forecast = np.ceil(forecast_revenue(df_quarterly, seasonal_periods=4, forecast_horizon=forecast_months // 3)).astype(int)\n",
    "combined_demand_forecast = np.concatenate((historical_demand, quarterly_forecast))\n",
    "\n",
    "historical_labels = [historical_demand.index[i].strftime(\"%Y-%m\") for i in range(len(historical_demand))]\n",
    "forecasted_labels = [(quarterly_forecast.index[i].strftime(\"%Y-%m\")) for i in range(len(quarterly_forecast))]\n",
    "combined_labels = historical_labels + forecasted_labels\n",
    "\n",
    "data_job_demand_forecast_quarterly = {\n",
    "    'labels': combined_labels,\n",
    "    'data': combined_demand_forecast.tolist()\n",
    "}\n",
    "\n",
    "with open('../public/analytics/job/job-revenue-forecast-plumber-quarter.json', 'w') as file:\n",
    "    json.dump(data_job_demand_forecast_quarterly, file, indent=4) "
   ]
  },
  {
   "cell_type": "code",
   "execution_count": 27,
   "metadata": {
    "execution": {
     "iopub.execute_input": "2024-10-31T09:09:13.996090Z",
     "iopub.status.busy": "2024-10-31T09:09:13.996090Z",
     "iopub.status.idle": "2024-10-31T09:09:14.030349Z",
     "shell.execute_reply": "2024-10-31T09:09:14.029995Z"
    }
   },
   "outputs": [],
   "source": [
    "# Handyman\n",
    "historical_data = {\n",
    "    'date': pd.date_range(start=start_date, end=datetime(2024, 10, 1), freq='M'),\n",
    "    'revenue': ja_revenue_df['handyman'].tolist()\n",
    "}\n",
    "handyman_df = pd.DataFrame(historical_data)\n",
    "handyman_df.set_index('date', inplace=True)\n",
    "\n",
    "forecast_months = 6\n",
    "\n",
    "# Monthly\n",
    "historical_demand = handyman_df['revenue'][-12:]\n",
    "monthly_forecast = np.ceil(forecast_revenue(handyman_df, seasonal_periods=12, forecast_horizon=forecast_months)).astype(int)\n",
    "combined_demand_forecast = np.concatenate((historical_demand, monthly_forecast))\n",
    "\n",
    "historical_labels = [historical_demand.index[i].strftime(\"%Y-%m\") for i in range(len(historical_demand))]\n",
    "forecasted_labels = [(monthly_forecast.index[i].strftime(\"%Y-%m\")) for i in range(len(monthly_forecast))]\n",
    "combined_labels = historical_labels + forecasted_labels\n",
    "\n",
    "data_job_demand_forecast_monthly = {\n",
    "    'labels': combined_labels,\n",
    "    'data': combined_demand_forecast.tolist()\n",
    "}\n",
    "\n",
    "with open('../public/analytics/job/job-revenue-forecast-handyman-month.json', 'w') as file:\n",
    "    json.dump(data_job_demand_forecast_monthly, file, indent=4) \n",
    "\n",
    "# Quarterly \n",
    "df_quarterly = handyman_df.resample('Q').sum()\n",
    "historical_demand = np.ceil(df_quarterly['revenue'][-6:]).astype(int)\n",
    "quarterly_forecast = np.ceil(forecast_revenue(df_quarterly, seasonal_periods=4, forecast_horizon=forecast_months // 3)).astype(int)\n",
    "combined_demand_forecast = np.concatenate((historical_demand, quarterly_forecast))\n",
    "\n",
    "historical_labels = [historical_demand.index[i].strftime(\"%Y-%m\") for i in range(len(historical_demand))]\n",
    "forecasted_labels = [(quarterly_forecast.index[i].strftime(\"%Y-%m\")) for i in range(len(quarterly_forecast))]\n",
    "combined_labels = historical_labels + forecasted_labels\n",
    "\n",
    "data_job_demand_forecast_quarterly = {\n",
    "    'labels': combined_labels,\n",
    "    'data': combined_demand_forecast.tolist()\n",
    "}\n",
    "\n",
    "with open('../public/analytics/job/job-revenue-forecast-handyman-quarter.json', 'w') as file:\n",
    "    json.dump(data_job_demand_forecast_quarterly, file, indent=4) "
   ]
  },
  {
   "cell_type": "code",
   "execution_count": 28,
   "metadata": {
    "execution": {
     "iopub.execute_input": "2024-10-31T09:09:14.033359Z",
     "iopub.status.busy": "2024-10-31T09:09:14.033359Z",
     "iopub.status.idle": "2024-10-31T09:09:14.066071Z",
     "shell.execute_reply": "2024-10-31T09:09:14.065709Z"
    }
   },
   "outputs": [],
   "source": [
    "# Aircon\n",
    "historical_data = {\n",
    "    'date': pd.date_range(start=start_date, end=datetime(2024, 10, 1), freq='M'),\n",
    "    'revenue': ja_revenue_df['aircon'].tolist()\n",
    "}\n",
    "aircon_df = pd.DataFrame(historical_data)\n",
    "aircon_df.set_index('date', inplace=True)\n",
    "\n",
    "forecast_months = 6\n",
    "\n",
    "# Monthly\n",
    "historical_demand = aircon_df['revenue'][-12:]\n",
    "monthly_forecast = np.ceil(forecast_revenue(aircon_df, seasonal_periods=12, forecast_horizon=forecast_months)).astype(int)\n",
    "combined_demand_forecast = np.concatenate((historical_demand, monthly_forecast))\n",
    "\n",
    "historical_labels = [historical_demand.index[i].strftime(\"%Y-%m\") for i in range(len(historical_demand))]\n",
    "forecasted_labels = [(monthly_forecast.index[i].strftime(\"%Y-%m\")) for i in range(len(monthly_forecast))]\n",
    "combined_labels = historical_labels + forecasted_labels\n",
    "\n",
    "data_job_demand_forecast_monthly = {\n",
    "    'labels': combined_labels,\n",
    "    'data': combined_demand_forecast.tolist()\n",
    "}\n",
    "\n",
    "with open('../public/analytics/job/job-revenue-forecast-aircon-month.json', 'w') as file:\n",
    "    json.dump(data_job_demand_forecast_monthly, file, indent=4) \n",
    "\n",
    "# Quarterly \n",
    "df_quarterly = aircon_df.resample('Q').sum()\n",
    "historical_demand = np.ceil(df_quarterly['revenue'][-6:]).astype(int)\n",
    "quarterly_forecast = np.ceil(forecast_revenue(df_quarterly, seasonal_periods=4, forecast_horizon=forecast_months // 3)).astype(int)\n",
    "combined_demand_forecast = np.concatenate((historical_demand, quarterly_forecast))\n",
    "\n",
    "historical_labels = [historical_demand.index[i].strftime(\"%Y-%m\") for i in range(len(historical_demand))]\n",
    "forecasted_labels = [(quarterly_forecast.index[i].strftime(\"%Y-%m\")) for i in range(len(quarterly_forecast))]\n",
    "combined_labels = historical_labels + forecasted_labels\n",
    "\n",
    "data_job_demand_forecast_quarterly = {\n",
    "    'labels': combined_labels,\n",
    "    'data': combined_demand_forecast.tolist()\n",
    "}\n",
    "\n",
    "with open('../public/analytics/job/job-revenue-forecast-aircon-quarter.json', 'w') as file:\n",
    "    json.dump(data_job_demand_forecast_quarterly, file, indent=4) "
   ]
  },
  {
   "cell_type": "markdown",
   "metadata": {},
   "source": [
    "#### Job Demand Forecast"
   ]
  },
  {
   "cell_type": "code",
   "execution_count": null,
   "metadata": {
    "execution": {
     "iopub.execute_input": "2024-10-31T09:09:14.069114Z",
     "iopub.status.busy": "2024-10-31T09:09:14.069114Z",
     "iopub.status.idle": "2024-10-31T09:09:14.074459Z",
     "shell.execute_reply": "2024-10-31T09:09:14.074204Z"
    }
   },
   "outputs": [],
   "source": [
    "ja_jobs_df['year'] = ja_jobs_df['date'].dt.year\n",
    "ja_jobs_df['month'] = ja_jobs_df['date'].dt.month\n",
    "\n",
    "def forecast_demand(df, seasonal_periods, forecast_horizon):\n",
    "    model = ExponentialSmoothing(df['demand'], seasonal='add', seasonal_periods=seasonal_periods)\n",
    "    model_fit = model.fit()\n",
    "    forecast = model_fit.forecast(forecast_horizon)\n",
    "    return forecast\n",
    "\n",
    "job_counts = ja_jobs_df.groupby(['year', 'month', 'category']).size().reset_index(name='total_jobs')"
   ]
  },
  {
   "cell_type": "code",
   "execution_count": 31,
   "metadata": {
    "execution": {
     "iopub.execute_input": "2024-10-31T09:09:14.089865Z",
     "iopub.status.busy": "2024-10-31T09:09:14.089865Z",
     "iopub.status.idle": "2024-10-31T09:09:14.128534Z",
     "shell.execute_reply": "2024-10-31T09:09:14.128534Z"
    }
   },
   "outputs": [],
   "source": [
    "# Electrician\n",
    "electrician_counts = job_counts[job_counts['category'] == 'electrician']\n",
    "\n",
    "historical_data = {\n",
    "    'date': pd.date_range(start=start_date, end=datetime(2024, 10, 1), freq='M'),\n",
    "    'demand': electrician_counts['total_jobs'].tolist()\n",
    "}\n",
    "electrician_df = pd.DataFrame(historical_data)\n",
    "electrician_df.set_index('date', inplace=True)\n",
    "\n",
    "forecast_months = 6\n",
    "\n",
    "# Monthly\n",
    "historical_demand = electrician_df['demand'][-12:]\n",
    "monthly_forecast = np.ceil(forecast_demand(electrician_df, seasonal_periods=12, forecast_horizon=forecast_months)).astype(int)\n",
    "combined_demand_forecast = np.concatenate((historical_demand, monthly_forecast))\n",
    "\n",
    "historical_labels = [historical_demand.index[i].strftime(\"%Y-%m\") for i in range(len(historical_demand))]\n",
    "forecasted_labels = [(monthly_forecast.index[i].strftime(\"%Y-%m\")) for i in range(len(monthly_forecast))]\n",
    "combined_labels = historical_labels + forecasted_labels\n",
    "\n",
    "data_job_demand_forecast_monthly = {\n",
    "    'labels': combined_labels,\n",
    "    'data': combined_demand_forecast.tolist()\n",
    "}\n",
    "\n",
    "with open('../public/analytics/job/job-demand-forecast-electrician-month.json', 'w') as file:\n",
    "    json.dump(data_job_demand_forecast_monthly, file, indent=4) \n",
    "\n",
    "# Quarterly \n",
    "df_quarterly = electrician_df.resample('Q').sum()\n",
    "historical_demand = np.ceil(df_quarterly['demand'][-6:]).astype(int)\n",
    "quarterly_forecast = np.ceil(forecast_demand(df_quarterly, seasonal_periods=4, forecast_horizon=forecast_months // 3)).astype(int)\n",
    "combined_demand_forecast = np.concatenate((historical_demand, quarterly_forecast))\n",
    "\n",
    "historical_labels = [historical_demand.index[i].strftime(\"%Y-%m\") for i in range(len(historical_demand))]\n",
    "forecasted_labels = [(quarterly_forecast.index[i].strftime(\"%Y-%m\")) for i in range(len(quarterly_forecast))]\n",
    "combined_labels = historical_labels + forecasted_labels\n",
    "\n",
    "data_job_demand_forecast_quarterly = {\n",
    "    'labels': combined_labels,\n",
    "    'data': combined_demand_forecast.tolist()\n",
    "}\n",
    "\n",
    "with open('../public/analytics/job/job-demand-forecast-electrician-quarter.json', 'w') as file:\n",
    "    json.dump(data_job_demand_forecast_quarterly, file, indent=4) \n"
   ]
  },
  {
   "cell_type": "code",
   "execution_count": 32,
   "metadata": {
    "execution": {
     "iopub.execute_input": "2024-10-31T09:09:14.131543Z",
     "iopub.status.busy": "2024-10-31T09:09:14.131543Z",
     "iopub.status.idle": "2024-10-31T09:09:14.176180Z",
     "shell.execute_reply": "2024-10-31T09:09:14.175546Z"
    }
   },
   "outputs": [],
   "source": [
    "# Ventilation\n",
    "ventilation_counts = job_counts[job_counts['category'] == 'ventilation']\n",
    "\n",
    "historical_data = {\n",
    "    'date': pd.date_range(start=start_date, end=datetime(2024, 10, 1), freq='M'),\n",
    "    'demand': ventilation_counts['total_jobs'].tolist()\n",
    "}\n",
    "ventilation_df = pd.DataFrame(historical_data)\n",
    "ventilation_df.set_index('date', inplace=True)\n",
    "\n",
    "forecast_months = 6\n",
    "\n",
    "# Monthly\n",
    "historical_demand = ventilation_df['demand'][-12:]\n",
    "monthly_forecast = np.ceil(forecast_demand(ventilation_df, seasonal_periods=12, forecast_horizon=forecast_months)).astype(int)\n",
    "combined_demand_forecast = np.concatenate((historical_demand, monthly_forecast))\n",
    "\n",
    "historical_labels = [historical_demand.index[i].strftime(\"%Y-%m\") for i in range(len(historical_demand))]\n",
    "forecasted_labels = [(monthly_forecast.index[i].strftime(\"%Y-%m\")) for i in range(len(monthly_forecast))]\n",
    "combined_labels = historical_labels + forecasted_labels\n",
    "\n",
    "data_job_demand_forecast_monthly = {\n",
    "    'labels': combined_labels,\n",
    "    'data': combined_demand_forecast.tolist()\n",
    "}\n",
    "\n",
    "with open('../public/analytics/job/job-demand-forecast-ventilation-month.json', 'w') as file:\n",
    "    json.dump(data_job_demand_forecast_monthly, file, indent=4) \n",
    "\n",
    "# Quarterly \n",
    "df_quarterly = ventilation_df.resample('Q').sum()\n",
    "historical_demand = np.ceil(df_quarterly['demand'][-6:]).astype(int)\n",
    "quarterly_forecast = np.ceil(forecast_demand(df_quarterly, seasonal_periods=4, forecast_horizon=forecast_months // 3)).astype(int)\n",
    "combined_demand_forecast = np.concatenate((historical_demand, quarterly_forecast))\n",
    "\n",
    "historical_labels = [historical_demand.index[i].strftime(\"%Y-%m\") for i in range(len(historical_demand))]\n",
    "forecasted_labels = [(quarterly_forecast.index[i].strftime(\"%Y-%m\")) for i in range(len(quarterly_forecast))]\n",
    "combined_labels = historical_labels + forecasted_labels\n",
    "\n",
    "data_job_demand_forecast_quarterly = {\n",
    "    'labels': combined_labels,\n",
    "    'data': combined_demand_forecast.tolist()\n",
    "}\n",
    "\n",
    "with open('../public/analytics/job/job-demand-forecast-ventilation-quarter.json', 'w') as file:\n",
    "    json.dump(data_job_demand_forecast_quarterly, file, indent=4) "
   ]
  },
  {
   "cell_type": "code",
   "execution_count": 33,
   "metadata": {
    "execution": {
     "iopub.execute_input": "2024-10-31T09:09:14.179249Z",
     "iopub.status.busy": "2024-10-31T09:09:14.178235Z",
     "iopub.status.idle": "2024-10-31T09:09:14.221492Z",
     "shell.execute_reply": "2024-10-31T09:09:14.221492Z"
    }
   },
   "outputs": [],
   "source": [
    "# Plumber\n",
    "plumber_counts = job_counts[job_counts['category'] == 'plumber']\n",
    "\n",
    "historical_data = {\n",
    "    'date': pd.date_range(start=start_date, end=datetime(2024, 10, 1), freq='M'),\n",
    "    'demand': plumber_counts['total_jobs'].tolist()\n",
    "}\n",
    "plumber_df = pd.DataFrame(historical_data)\n",
    "plumber_df.set_index('date', inplace=True)\n",
    "\n",
    "forecast_months = 6\n",
    "\n",
    "# Monthly\n",
    "historical_demand = plumber_df['demand'][-12:]\n",
    "monthly_forecast = np.ceil(forecast_demand(plumber_df, seasonal_periods=12, forecast_horizon=forecast_months)).astype(int)\n",
    "combined_demand_forecast = np.concatenate((historical_demand, monthly_forecast))\n",
    "\n",
    "historical_labels = [historical_demand.index[i].strftime(\"%Y-%m\") for i in range(len(historical_demand))]\n",
    "forecasted_labels = [(monthly_forecast.index[i].strftime(\"%Y-%m\")) for i in range(len(monthly_forecast))]\n",
    "combined_labels = historical_labels + forecasted_labels\n",
    "\n",
    "data_job_demand_forecast_monthly = {\n",
    "    'labels': combined_labels,\n",
    "    'data': combined_demand_forecast.tolist()\n",
    "}\n",
    "\n",
    "with open('../public/analytics/job/job-demand-forecast-plumber-month.json', 'w') as file:\n",
    "    json.dump(data_job_demand_forecast_monthly, file, indent=4) \n",
    "\n",
    "# Quarterly \n",
    "df_quarterly = plumber_df.resample('Q').sum()\n",
    "historical_demand = np.ceil(df_quarterly['demand'][-6:]).astype(int)\n",
    "quarterly_forecast = np.ceil(forecast_demand(df_quarterly, seasonal_periods=4, forecast_horizon=forecast_months // 3)).astype(int)\n",
    "combined_demand_forecast = np.concatenate((historical_demand, quarterly_forecast))\n",
    "\n",
    "historical_labels = [historical_demand.index[i].strftime(\"%Y-%m\") for i in range(len(historical_demand))]\n",
    "forecasted_labels = [(quarterly_forecast.index[i].strftime(\"%Y-%m\")) for i in range(len(quarterly_forecast))]\n",
    "combined_labels = historical_labels + forecasted_labels\n",
    "\n",
    "data_job_demand_forecast_quarterly = {\n",
    "    'labels': combined_labels,\n",
    "    'data': combined_demand_forecast.tolist()\n",
    "}\n",
    "\n",
    "with open('../public/analytics/job/job-demand-forecast-plumber-quarter.json', 'w') as file:\n",
    "    json.dump(data_job_demand_forecast_quarterly, file, indent=4) "
   ]
  },
  {
   "cell_type": "code",
   "execution_count": 34,
   "metadata": {
    "execution": {
     "iopub.execute_input": "2024-10-31T09:09:14.224500Z",
     "iopub.status.busy": "2024-10-31T09:09:14.224500Z",
     "iopub.status.idle": "2024-10-31T09:09:14.273856Z",
     "shell.execute_reply": "2024-10-31T09:09:14.272848Z"
    }
   },
   "outputs": [],
   "source": [
    "# Handyman\n",
    "handyman_counts = job_counts[job_counts['category'] == 'handyman']\n",
    "\n",
    "historical_data = {\n",
    "    'date': pd.date_range(start=start_date, end=datetime(2024, 10, 1), freq='M'),\n",
    "    'demand': handyman_counts['total_jobs'].tolist()\n",
    "}\n",
    "handyman_df = pd.DataFrame(historical_data)\n",
    "handyman_df.set_index('date', inplace=True)\n",
    "\n",
    "forecast_months = 6\n",
    "\n",
    "# Monthly\n",
    "historical_demand = handyman_df['demand'][-12:]\n",
    "monthly_forecast = np.ceil(forecast_demand(handyman_df, seasonal_periods=12, forecast_horizon=forecast_months)).astype(int)\n",
    "combined_demand_forecast = np.concatenate((historical_demand, monthly_forecast))\n",
    "\n",
    "historical_labels = [historical_demand.index[i].strftime(\"%Y-%m\") for i in range(len(historical_demand))]\n",
    "forecasted_labels = [(monthly_forecast.index[i].strftime(\"%Y-%m\")) for i in range(len(monthly_forecast))]\n",
    "combined_labels = historical_labels + forecasted_labels\n",
    "\n",
    "data_job_demand_forecast_monthly = {\n",
    "    'labels': combined_labels,\n",
    "    'data': combined_demand_forecast.tolist()\n",
    "}\n",
    "\n",
    "with open('../public/analytics/job/job-demand-forecast-handyman-month.json', 'w') as file:\n",
    "    json.dump(data_job_demand_forecast_monthly, file, indent=4) \n",
    "\n",
    "# Quarterly \n",
    "df_quarterly = handyman_df.resample('Q').sum()\n",
    "historical_demand = np.ceil(df_quarterly['demand'][-6:]).astype(int)\n",
    "quarterly_forecast = np.ceil(forecast_demand(df_quarterly, seasonal_periods=4, forecast_horizon=forecast_months // 3)).astype(int)\n",
    "combined_demand_forecast = np.concatenate((historical_demand, quarterly_forecast))\n",
    "\n",
    "historical_labels = [historical_demand.index[i].strftime(\"%Y-%m\") for i in range(len(historical_demand))]\n",
    "forecasted_labels = [(quarterly_forecast.index[i].strftime(\"%Y-%m\")) for i in range(len(quarterly_forecast))]\n",
    "combined_labels = historical_labels + forecasted_labels\n",
    "\n",
    "data_job_demand_forecast_quarterly = {\n",
    "    'labels': combined_labels,\n",
    "    'data': combined_demand_forecast.tolist()\n",
    "}\n",
    "\n",
    "with open('../public/analytics/job/job-demand-forecast-handyman-quarter.json', 'w') as file:\n",
    "    json.dump(data_job_demand_forecast_quarterly, file, indent=4) "
   ]
  },
  {
   "cell_type": "code",
   "execution_count": 35,
   "metadata": {
    "execution": {
     "iopub.execute_input": "2024-10-31T09:09:14.277299Z",
     "iopub.status.busy": "2024-10-31T09:09:14.277299Z",
     "iopub.status.idle": "2024-10-31T09:09:14.342521Z",
     "shell.execute_reply": "2024-10-31T09:09:14.342521Z"
    }
   },
   "outputs": [],
   "source": [
    "# Aircon\n",
    "aircon_counts = job_counts[job_counts['category'] == 'aircon']\n",
    "\n",
    "historical_data = {\n",
    "    'date': pd.date_range(start=start_date, end=datetime(2024, 10, 1), freq='M'),\n",
    "    'demand': aircon_counts['total_jobs'].tolist()\n",
    "}\n",
    "aircon_df = pd.DataFrame(historical_data)\n",
    "aircon_df.set_index('date', inplace=True)\n",
    "\n",
    "forecast_months = 6\n",
    "\n",
    "# Monthly\n",
    "historical_demand = aircon_df['demand'][-12:]\n",
    "monthly_forecast = np.ceil(forecast_demand(aircon_df, seasonal_periods=12, forecast_horizon=forecast_months)).astype(int)\n",
    "combined_demand_forecast = np.concatenate((historical_demand, monthly_forecast))\n",
    "\n",
    "historical_labels = [historical_demand.index[i].strftime(\"%Y-%m\") for i in range(len(historical_demand))]\n",
    "forecasted_labels = [(monthly_forecast.index[i].strftime(\"%Y-%m\")) for i in range(len(monthly_forecast))]\n",
    "combined_labels = historical_labels + forecasted_labels\n",
    "\n",
    "data_job_demand_forecast_monthly = {\n",
    "    'labels': combined_labels,\n",
    "    'data': combined_demand_forecast.tolist()\n",
    "}\n",
    "\n",
    "with open('../public/analytics/job/job-demand-forecast-aircon-month.json', 'w') as file:\n",
    "    json.dump(data_job_demand_forecast_monthly, file, indent=4) \n",
    "\n",
    "# Quarterly \n",
    "df_quarterly = aircon_df.resample('Q').sum()\n",
    "historical_demand = np.ceil(df_quarterly['demand'][-6:]).astype(int)\n",
    "quarterly_forecast = np.ceil(forecast_demand(df_quarterly, seasonal_periods=4, forecast_horizon=forecast_months // 3)).astype(int)\n",
    "combined_demand_forecast = np.concatenate((historical_demand, quarterly_forecast))\n",
    "\n",
    "historical_labels = [historical_demand.index[i].strftime(\"%Y-%m\") for i in range(len(historical_demand))]\n",
    "forecasted_labels = [(quarterly_forecast.index[i].strftime(\"%Y-%m\")) for i in range(len(quarterly_forecast))]\n",
    "combined_labels = historical_labels + forecasted_labels\n",
    "\n",
    "data_job_demand_forecast_quarterly = {\n",
    "    'labels': combined_labels,\n",
    "    'data': combined_demand_forecast.tolist()\n",
    "}\n",
    "\n",
    "with open('../public/analytics/job/job-demand-forecast-aircon-quarter.json', 'w') as file:\n",
    "    json.dump(data_job_demand_forecast_quarterly, file, indent=4) "
   ]
  },
  {
   "cell_type": "markdown",
   "metadata": {},
   "source": [
    "### Financial Analytics - Invoice"
   ]
  },
  {
   "cell_type": "code",
   "execution_count": 36,
   "metadata": {
    "execution": {
     "iopub.execute_input": "2024-10-31T09:09:14.347535Z",
     "iopub.status.busy": "2024-10-31T09:09:14.346539Z",
     "iopub.status.idle": "2024-10-31T09:09:14.365716Z",
     "shell.execute_reply": "2024-10-31T09:09:14.364709Z"
    }
   },
   "outputs": [
    {
     "name": "stdout",
     "output_type": "stream",
     "text": [
      "['PayNow', 'Cash', 'Bank Transfer']\n"
     ]
    }
   ],
   "source": [
    "# General Labels\n",
    "payment_methods_df = pd.read_csv('./datasets/payment_methods.csv')\n",
    "payment_types = payment_methods_df['name'].tolist()\n",
    "print(payment_types)"
   ]
  },
  {
   "cell_type": "code",
   "execution_count": 37,
   "metadata": {
    "execution": {
     "iopub.execute_input": "2024-10-31T09:09:14.369721Z",
     "iopub.status.busy": "2024-10-31T09:09:14.369721Z",
     "iopub.status.idle": "2024-10-31T09:09:14.397092Z",
     "shell.execute_reply": "2024-10-31T09:09:14.397092Z"
    }
   },
   "outputs": [],
   "source": [
    "ia_payment_df = pd.read_csv('./datasets/ia_payment.csv')\n",
    "ia_payment_df['Date'] = pd.to_datetime(ia_payment_df['Date'])"
   ]
  },
  {
   "cell_type": "markdown",
   "metadata": {},
   "source": [
    "#### Payment Type Distribution"
   ]
  },
  {
   "cell_type": "code",
   "execution_count": 38,
   "metadata": {
    "execution": {
     "iopub.execute_input": "2024-10-31T09:09:14.400101Z",
     "iopub.status.busy": "2024-10-31T09:09:14.400101Z",
     "iopub.status.idle": "2024-10-31T09:09:14.410626Z",
     "shell.execute_reply": "2024-10-31T09:09:14.410626Z"
    }
   },
   "outputs": [],
   "source": [
    "# Past 1 Month\n",
    "\n",
    "## Total\n",
    "recent_payments = ia_payment_df[ia_payment_df['Date'] >= datetime(2024, 10, 1) - pd.DateOffset(months=1)]\n",
    "total_payments_frequency = recent_payments['Payment Method'].value_counts(sort=False).tolist()\n",
    "data_payment_type_dist = {\n",
    "    'labels': payment_types,\n",
    "    'data': total_payments_frequency\n",
    "}\n",
    "\n",
    "with open('../public/analytics/financial/invoice/payment-type-dist-one-month-total.json', 'w') as file:\n",
    "    json.dump(data_payment_type_dist, file, indent=4)\n",
    "\n",
    "## Average\n",
    "average_payment_frequency = total_payments_frequency\n",
    "data_payment_type_dist = {\n",
    "    'labels': payment_types,\n",
    "    'data': average_payment_frequency\n",
    "}\n",
    "\n",
    "with open('../public/analytics/financial/invoice/payment-type-dist-one-month-average.json', 'w') as file:\n",
    "    json.dump(data_payment_type_dist, file, indent=4)  "
   ]
  },
  {
   "cell_type": "code",
   "execution_count": 39,
   "metadata": {
    "execution": {
     "iopub.execute_input": "2024-10-31T09:09:14.413635Z",
     "iopub.status.busy": "2024-10-31T09:09:14.413635Z",
     "iopub.status.idle": "2024-10-31T09:09:14.424861Z",
     "shell.execute_reply": "2024-10-31T09:09:14.424861Z"
    }
   },
   "outputs": [],
   "source": [
    "# Past 3 Months\n",
    "\n",
    "## Total\n",
    "recent_payments = ia_payment_df[ia_payment_df['Date'] >= datetime(2024, 10, 1) - pd.DateOffset(months=3)]\n",
    "total_payments_frequency = recent_payments['Payment Method'].value_counts(sort=False).tolist()\n",
    "data_payment_type_dist = {\n",
    "    'labels': payment_types,\n",
    "    'data': total_payments_frequency\n",
    "}\n",
    "\n",
    "with open('../public/analytics/financial/invoice/payment-type-dist-three-month-total.json', 'w') as file:\n",
    "    json.dump(data_payment_type_dist, file, indent=4)\n",
    "\n",
    "## Average\n",
    "average_payment_frequency = [np.ceil(x / 3) for x in total_payments_frequency]\n",
    "data_payment_type_dist = {\n",
    "    'labels': payment_types,\n",
    "    'data': average_payment_frequency\n",
    "}\n",
    "\n",
    "with open('../public/analytics/financial/invoice/payment-type-dist-three-month-average.json', 'w') as file:\n",
    "    json.dump(data_payment_type_dist, file, indent=4)   "
   ]
  },
  {
   "cell_type": "code",
   "execution_count": 40,
   "metadata": {
    "execution": {
     "iopub.execute_input": "2024-10-31T09:09:14.428871Z",
     "iopub.status.busy": "2024-10-31T09:09:14.428871Z",
     "iopub.status.idle": "2024-10-31T09:09:14.440195Z",
     "shell.execute_reply": "2024-10-31T09:09:14.440195Z"
    }
   },
   "outputs": [],
   "source": [
    "# Past 6 Months\n",
    "\n",
    "## Total\n",
    "recent_payments = ia_payment_df[ia_payment_df['Date'] >= datetime(2024, 10, 1) - pd.DateOffset(months=6)]\n",
    "total_payments_frequency = recent_payments['Payment Method'].value_counts(sort=False).tolist()\n",
    "data_payment_type_dist = {\n",
    "    'labels': payment_types,\n",
    "    'data': total_payments_frequency\n",
    "}\n",
    "\n",
    "with open('../public/analytics/financial/invoice/payment-type-dist-six-month-total.json', 'w') as file:\n",
    "    json.dump(data_payment_type_dist, file, indent=4)\n",
    "\n",
    "## Average\n",
    "average_payment_frequency = [np.ceil(x / 6) for x in total_payments_frequency]\n",
    "data_payment_type_dist = {\n",
    "    'labels': payment_types,\n",
    "    'data': average_payment_frequency\n",
    "}\n",
    "\n",
    "with open('../public/analytics/financial/invoice/payment-type-dist-six-month-average.json', 'w') as file:\n",
    "    json.dump(data_payment_type_dist, file, indent=4)  "
   ]
  },
  {
   "cell_type": "code",
   "execution_count": 41,
   "metadata": {
    "execution": {
     "iopub.execute_input": "2024-10-31T09:09:14.443202Z",
     "iopub.status.busy": "2024-10-31T09:09:14.443202Z",
     "iopub.status.idle": "2024-10-31T09:09:14.451984Z",
     "shell.execute_reply": "2024-10-31T09:09:14.451984Z"
    }
   },
   "outputs": [],
   "source": [
    "# Past 12 Months\n",
    "\n",
    "## Total\n",
    "recent_payments = ia_payment_df[ia_payment_df['Date'] >= datetime(2024, 10, 1) - pd.DateOffset(months=12)]\n",
    "total_payments_frequency = recent_payments['Payment Method'].value_counts(sort=False).tolist()\n",
    "data_payment_type_dist = {\n",
    "    'labels': payment_types,\n",
    "    'data': total_payments_frequency\n",
    "}\n",
    "\n",
    "with open('../public/analytics/financial/invoice/payment-type-dist-twelve-month-total.json', 'w') as file:\n",
    "    json.dump(data_payment_type_dist, file, indent=4)\n",
    "\n",
    "## Average\n",
    "average_payment_frequency = [np.ceil(x / 12) for x in total_payments_frequency]\n",
    "data_payment_type_dist = {\n",
    "    'labels': payment_types,\n",
    "    'data': average_payment_frequency\n",
    "}\n",
    "\n",
    "with open('../public/analytics/financial/invoice/payment-type-dist-twelve-month-average.json', 'w') as file:\n",
    "    json.dump(data_payment_type_dist, file, indent=4)   "
   ]
  },
  {
   "cell_type": "markdown",
   "metadata": {},
   "source": [
    "#### Payment Duration Distribution"
   ]
  },
  {
   "cell_type": "code",
   "execution_count": 42,
   "metadata": {
    "execution": {
     "iopub.execute_input": "2024-10-31T09:09:14.456053Z",
     "iopub.status.busy": "2024-10-31T09:09:14.456053Z",
     "iopub.status.idle": "2024-10-31T09:09:14.461779Z",
     "shell.execute_reply": "2024-10-31T09:09:14.461779Z"
    }
   },
   "outputs": [],
   "source": [
    "# Payment Duration\n",
    "all_durations = [3, 5, 7, 10, 14]\n",
    "\n",
    "def generate_payment_duration_dist(recent_payments):\n",
    "    month = calendar.month_name[recent_payments['Date'].iloc[0].month]\n",
    "    \n",
    "    ## PayNow\n",
    "    paynow_counts = recent_payments[recent_payments['Payment Method'] == 'PayNow']\n",
    "    total_duration_frequency = paynow_counts['Payment Duration'].value_counts(sort=False)\n",
    "    total_duration_frequency = total_duration_frequency.reindex(all_durations, fill_value=0)\n",
    "    data_payment_type_dist = {\n",
    "        'labels': all_durations,\n",
    "        'data': total_duration_frequency.tolist()\n",
    "    }\n",
    "\n",
    "    with open('../public/analytics/financial/invoice/payment-duration-dist-paynow-{}.json'.format(month), 'w') as file:\n",
    "        json.dump(data_payment_type_dist, file, indent=4) \n",
    "\n",
    "    ## BankTransfer\n",
    "    bank_counts = recent_payments[recent_payments['Payment Method'] == 'Bank Transfer']\n",
    "    total_duration_frequency = bank_counts['Payment Duration'].value_counts(sort=False)\n",
    "    total_duration_frequency = total_duration_frequency.reindex(all_durations, fill_value=0)\n",
    "    data_payment_type_dist = {\n",
    "        'labels': all_durations,\n",
    "        'data': total_duration_frequency.tolist()\n",
    "    }\n",
    "\n",
    "    with open('../public/analytics/financial/invoice/payment-duration-dist-bank-{}.json'.format(month), 'w') as file:\n",
    "        json.dump(data_payment_type_dist, file, indent=4)"
   ]
  },
  {
   "cell_type": "code",
   "execution_count": 43,
   "metadata": {
    "execution": {
     "iopub.execute_input": "2024-10-31T09:09:14.464794Z",
     "iopub.status.busy": "2024-10-31T09:09:14.463795Z",
     "iopub.status.idle": "2024-10-31T09:09:14.474344Z",
     "shell.execute_reply": "2024-10-31T09:09:14.474344Z"
    }
   },
   "outputs": [],
   "source": [
    "# Past 1 Month\n",
    "recent_payments = ia_payment_df[ia_payment_df['Date'] >= datetime(2024, 10, 1) - pd.DateOffset(months=1)]\n",
    "generate_payment_duration_dist(recent_payments)"
   ]
  },
  {
   "cell_type": "code",
   "execution_count": 44,
   "metadata": {
    "execution": {
     "iopub.execute_input": "2024-10-31T09:09:14.478353Z",
     "iopub.status.busy": "2024-10-31T09:09:14.478353Z",
     "iopub.status.idle": "2024-10-31T09:09:14.487940Z",
     "shell.execute_reply": "2024-10-31T09:09:14.487940Z"
    }
   },
   "outputs": [],
   "source": [
    "# Past 2 Month\n",
    "recent_payments = ia_payment_df[(ia_payment_df['Date'] >= datetime(2024, 10, 1) - pd.DateOffset(months=2)) & (ia_payment_df['Date'] < datetime(2024, 10, 1) - pd.DateOffset(months=1))]\n",
    "generate_payment_duration_dist(recent_payments)"
   ]
  },
  {
   "cell_type": "code",
   "execution_count": 45,
   "metadata": {
    "execution": {
     "iopub.execute_input": "2024-10-31T09:09:14.490945Z",
     "iopub.status.busy": "2024-10-31T09:09:14.490945Z",
     "iopub.status.idle": "2024-10-31T09:09:14.500232Z",
     "shell.execute_reply": "2024-10-31T09:09:14.500232Z"
    }
   },
   "outputs": [],
   "source": [
    "# Past 3 Month\n",
    "recent_payments = ia_payment_df[(ia_payment_df['Date'] >= datetime(2024, 10, 1) - pd.DateOffset(months=3)) & (ia_payment_df['Date'] < datetime(2024, 10, 1) - pd.DateOffset(months=2))]\n",
    "generate_payment_duration_dist(recent_payments)"
   ]
  },
  {
   "cell_type": "code",
   "execution_count": 46,
   "metadata": {
    "execution": {
     "iopub.execute_input": "2024-10-31T09:09:14.503243Z",
     "iopub.status.busy": "2024-10-31T09:09:14.503243Z",
     "iopub.status.idle": "2024-10-31T09:09:14.511783Z",
     "shell.execute_reply": "2024-10-31T09:09:14.511783Z"
    }
   },
   "outputs": [],
   "source": [
    "# Past 4 Month\n",
    "recent_payments = ia_payment_df[(ia_payment_df['Date'] >= datetime(2024, 10, 1) - pd.DateOffset(months=4)) & (ia_payment_df['Date'] < datetime(2024, 10, 1) - pd.DateOffset(months=3))]\n",
    "generate_payment_duration_dist(recent_payments)"
   ]
  },
  {
   "cell_type": "code",
   "execution_count": 47,
   "metadata": {
    "execution": {
     "iopub.execute_input": "2024-10-31T09:09:14.514789Z",
     "iopub.status.busy": "2024-10-31T09:09:14.513808Z",
     "iopub.status.idle": "2024-10-31T09:09:14.523191Z",
     "shell.execute_reply": "2024-10-31T09:09:14.523191Z"
    }
   },
   "outputs": [],
   "source": [
    "# Past 5 Month\n",
    "recent_payments = ia_payment_df[(ia_payment_df['Date'] >= datetime(2024, 10, 1) - pd.DateOffset(months=5)) & (ia_payment_df['Date'] < datetime(2024, 10, 1) - pd.DateOffset(months=4))]\n",
    "generate_payment_duration_dist(recent_payments)"
   ]
  },
  {
   "cell_type": "code",
   "execution_count": 48,
   "metadata": {
    "execution": {
     "iopub.execute_input": "2024-10-31T09:09:14.526197Z",
     "iopub.status.busy": "2024-10-31T09:09:14.526197Z",
     "iopub.status.idle": "2024-10-31T09:09:14.534882Z",
     "shell.execute_reply": "2024-10-31T09:09:14.534882Z"
    }
   },
   "outputs": [],
   "source": [
    "# Past 6 Month\n",
    "recent_payments = ia_payment_df[(ia_payment_df['Date'] >= datetime(2024, 10, 1) - pd.DateOffset(months=6)) & (ia_payment_df['Date'] < datetime(2024, 10, 1) - pd.DateOffset(months=5))]\n",
    "generate_payment_duration_dist(recent_payments)"
   ]
  },
  {
   "cell_type": "code",
   "execution_count": 49,
   "metadata": {
    "execution": {
     "iopub.execute_input": "2024-10-31T09:09:14.537889Z",
     "iopub.status.busy": "2024-10-31T09:09:14.537889Z",
     "iopub.status.idle": "2024-10-31T09:09:14.546171Z",
     "shell.execute_reply": "2024-10-31T09:09:14.546171Z"
    }
   },
   "outputs": [],
   "source": [
    "# Past 7 Month\n",
    "recent_payments = ia_payment_df[(ia_payment_df['Date'] >= datetime(2024, 10, 1) - pd.DateOffset(months=7)) & (ia_payment_df['Date'] < datetime(2024, 10, 1) - pd.DateOffset(months=6))]\n",
    "generate_payment_duration_dist(recent_payments)"
   ]
  },
  {
   "cell_type": "code",
   "execution_count": 50,
   "metadata": {
    "execution": {
     "iopub.execute_input": "2024-10-31T09:09:14.549179Z",
     "iopub.status.busy": "2024-10-31T09:09:14.549179Z",
     "iopub.status.idle": "2024-10-31T09:09:14.557479Z",
     "shell.execute_reply": "2024-10-31T09:09:14.557479Z"
    }
   },
   "outputs": [],
   "source": [
    "# Past 8 Month\n",
    "recent_payments = ia_payment_df[(ia_payment_df['Date'] >= datetime(2024, 10, 1) - pd.DateOffset(months=8)) & (ia_payment_df['Date'] < datetime(2024, 10, 1) - pd.DateOffset(months=7))]\n",
    "generate_payment_duration_dist(recent_payments)"
   ]
  },
  {
   "cell_type": "code",
   "execution_count": 51,
   "metadata": {
    "execution": {
     "iopub.execute_input": "2024-10-31T09:09:14.559518Z",
     "iopub.status.busy": "2024-10-31T09:09:14.559518Z",
     "iopub.status.idle": "2024-10-31T09:09:14.568319Z",
     "shell.execute_reply": "2024-10-31T09:09:14.568319Z"
    }
   },
   "outputs": [],
   "source": [
    "# Past 9 Month\n",
    "recent_payments = ia_payment_df[(ia_payment_df['Date'] >= datetime(2024, 10, 1) - pd.DateOffset(months=9)) & (ia_payment_df['Date'] < datetime(2024, 10, 1) - pd.DateOffset(months=8))]\n",
    "generate_payment_duration_dist(recent_payments)"
   ]
  },
  {
   "cell_type": "code",
   "execution_count": 52,
   "metadata": {
    "execution": {
     "iopub.execute_input": "2024-10-31T09:09:14.571516Z",
     "iopub.status.busy": "2024-10-31T09:09:14.571516Z",
     "iopub.status.idle": "2024-10-31T09:09:14.582582Z",
     "shell.execute_reply": "2024-10-31T09:09:14.582582Z"
    }
   },
   "outputs": [],
   "source": [
    "# Past 10 Month\n",
    "recent_payments = ia_payment_df[(ia_payment_df['Date'] >= datetime(2024, 10, 1) - pd.DateOffset(months=10)) & (ia_payment_df['Date'] < datetime(2024, 10, 1) - pd.DateOffset(months=9))]\n",
    "generate_payment_duration_dist(recent_payments)"
   ]
  },
  {
   "cell_type": "code",
   "execution_count": 53,
   "metadata": {
    "execution": {
     "iopub.execute_input": "2024-10-31T09:09:14.585589Z",
     "iopub.status.busy": "2024-10-31T09:09:14.585589Z",
     "iopub.status.idle": "2024-10-31T09:09:14.597998Z",
     "shell.execute_reply": "2024-10-31T09:09:14.596988Z"
    }
   },
   "outputs": [],
   "source": [
    "# Past 11 Month\n",
    "recent_payments = ia_payment_df[(ia_payment_df['Date'] >= datetime(2024, 10, 1) - pd.DateOffset(months=11)) & (ia_payment_df['Date'] < datetime(2024, 10, 1) - pd.DateOffset(months=10))]\n",
    "generate_payment_duration_dist(recent_payments)"
   ]
  },
  {
   "cell_type": "code",
   "execution_count": 54,
   "metadata": {
    "execution": {
     "iopub.execute_input": "2024-10-31T09:09:14.602998Z",
     "iopub.status.busy": "2024-10-31T09:09:14.601997Z",
     "iopub.status.idle": "2024-10-31T09:09:14.618514Z",
     "shell.execute_reply": "2024-10-31T09:09:14.618514Z"
    }
   },
   "outputs": [],
   "source": [
    "# Past 12 Month\n",
    "recent_payments = ia_payment_df[(ia_payment_df['Date'] >= datetime(2024, 10, 1) - pd.DateOffset(months=12)) & (ia_payment_df['Date'] < datetime(2024, 10, 1) - pd.DateOffset(months=11))]\n",
    "generate_payment_duration_dist(recent_payments)"
   ]
  },
  {
   "cell_type": "markdown",
   "metadata": {},
   "source": [
    "### Financial Analytics - Quotation"
   ]
  },
  {
   "cell_type": "markdown",
   "metadata": {},
   "source": [
    "#### Response Duration Distribution"
   ]
  },
  {
   "cell_type": "code",
   "execution_count": 55,
   "metadata": {
    "execution": {
     "iopub.execute_input": "2024-10-31T09:09:14.625807Z",
     "iopub.status.busy": "2024-10-31T09:09:14.624808Z",
     "iopub.status.idle": "2024-10-31T09:09:14.646641Z",
     "shell.execute_reply": "2024-10-31T09:09:14.645632Z"
    }
   },
   "outputs": [],
   "source": [
    "qa_duration_df = pd.read_csv('./datasets/qa_duration.csv')"
   ]
  },
  {
   "cell_type": "code",
   "execution_count": 56,
   "metadata": {
    "execution": {
     "iopub.execute_input": "2024-10-31T09:09:14.650864Z",
     "iopub.status.busy": "2024-10-31T09:09:14.650864Z",
     "iopub.status.idle": "2024-10-31T09:09:14.660814Z",
     "shell.execute_reply": "2024-10-31T09:09:14.659786Z"
    }
   },
   "outputs": [],
   "source": [
    "# Filter for Last 12 Months\n",
    "df_last_12_months = qa_duration_df[qa_duration_df['Period'] == 'Last 12 Months']\n",
    "category_counts = df_last_12_months.groupby('Duration Category').size()\n",
    "data_response_duration_dist = {\n",
    "    'labels': category_counts.index.tolist(),\n",
    "    'data': category_counts.values.tolist()\n",
    "}\n",
    "\n",
    "with open('../public/analytics/financial/quotation/response-duration-dist-last-twelve-month.json', 'w') as file:\n",
    "    json.dump(data_response_duration_dist, file, indent=4)"
   ]
  },
  {
   "cell_type": "code",
   "execution_count": 57,
   "metadata": {
    "execution": {
     "iopub.execute_input": "2024-10-31T09:09:14.665173Z",
     "iopub.status.busy": "2024-10-31T09:09:14.664154Z",
     "iopub.status.idle": "2024-10-31T09:09:14.673760Z",
     "shell.execute_reply": "2024-10-31T09:09:14.673254Z"
    }
   },
   "outputs": [],
   "source": [
    "# Filter for Last 13-24 Months (Prior 12 Months)\n",
    "df_prior_12_months = qa_duration_df[qa_duration_df['Period'] == 'Last 13-24 Months']\n",
    "category_counts = df_prior_12_months.groupby('Duration Category').size()\n",
    "data_response_duration_dist = {\n",
    "    'labels': category_counts.index.tolist(),\n",
    "    'data': category_counts.values.tolist()\n",
    "}\n",
    "\n",
    "with open('../public/analytics/financial/quotation/response-duration-dist-last-twentyfour-month.json', 'w') as file:\n",
    "    json.dump(data_response_duration_dist, file, indent=4)"
   ]
  },
  {
   "cell_type": "markdown",
   "metadata": {},
   "source": [
    "#### Response Reasoning Distribution"
   ]
  },
  {
   "cell_type": "code",
   "execution_count": 58,
   "metadata": {
    "execution": {
     "iopub.execute_input": "2024-10-31T09:09:14.680788Z",
     "iopub.status.busy": "2024-10-31T09:09:14.679771Z",
     "iopub.status.idle": "2024-10-31T09:09:14.699334Z",
     "shell.execute_reply": "2024-10-31T09:09:14.696323Z"
    }
   },
   "outputs": [],
   "source": [
    "qa_reason_df = pd.read_csv('./datasets/qa_reason.csv')"
   ]
  },
  {
   "cell_type": "code",
   "execution_count": 59,
   "metadata": {
    "execution": {
     "iopub.execute_input": "2024-10-31T09:09:14.704332Z",
     "iopub.status.busy": "2024-10-31T09:09:14.703331Z",
     "iopub.status.idle": "2024-10-31T09:09:14.714919Z",
     "shell.execute_reply": "2024-10-31T09:09:14.714919Z"
    }
   },
   "outputs": [],
   "source": [
    "# Filter for Last 12 Months\n",
    "df_last_12_months = qa_reason_df[qa_reason_df['Period'] == 'Last 12 Months']\n",
    "reason_counts = df_last_12_months.groupby('Reason').size()\n",
    "proportion = round((reason_counts / reason_counts.sum() * 100), 1)\n",
    "\n",
    "data_response_reason_dist = {\n",
    "    'labels': reason_counts.index.tolist(),\n",
    "    'data': proportion.tolist()\n",
    "}\n",
    "\n",
    "with open('../public/analytics/financial/quotation/response-reason-dist-last-twelve-month.json', 'w') as file:\n",
    "    json.dump(data_response_reason_dist, file, indent=4)"
   ]
  },
  {
   "cell_type": "code",
   "execution_count": 60,
   "metadata": {
    "execution": {
     "iopub.execute_input": "2024-10-31T09:09:14.734931Z",
     "iopub.status.busy": "2024-10-31T09:09:14.734931Z",
     "iopub.status.idle": "2024-10-31T09:09:14.746167Z",
     "shell.execute_reply": "2024-10-31T09:09:14.745157Z"
    }
   },
   "outputs": [],
   "source": [
    "# Filter for Last 13-24 Months (Prior 12 Months)\n",
    "df_prior_12_months = qa_reason_df[qa_reason_df['Period'] == 'Last 13-24 Months']\n",
    "reason_counts = df_prior_12_months.groupby('Reason').size()\n",
    "proportion = round((reason_counts / reason_counts.sum() * 100), 1)\n",
    "\n",
    "data_response_reason_dist = {\n",
    "    'labels': reason_counts.index.tolist(),\n",
    "    'data': proportion.tolist()\n",
    "}\n",
    "\n",
    "with open('../public/analytics/financial/quotation/response-reason-dist-last-twentyfour-month.json', 'w') as file:\n",
    "    json.dump(data_response_reason_dist, file, indent=4)"
   ]
  },
  {
   "cell_type": "markdown",
   "metadata": {},
   "source": [
    "### Customer Analytics\n"
   ]
  },
  {
   "cell_type": "markdown",
   "metadata": {},
   "source": [
    "#### Customer Satisfaction Rating Distribution"
   ]
  },
  {
   "cell_type": "code",
   "execution_count": 61,
   "metadata": {
    "execution": {
     "iopub.execute_input": "2024-10-31T09:09:14.750166Z",
     "iopub.status.busy": "2024-10-31T09:09:14.750166Z",
     "iopub.status.idle": "2024-10-31T09:09:14.771318Z",
     "shell.execute_reply": "2024-10-31T09:09:14.770135Z"
    }
   },
   "outputs": [],
   "source": [
    "ca_rating_df = pd.read_csv('./datasets/ca_rating.csv')"
   ]
  },
  {
   "cell_type": "code",
   "execution_count": 62,
   "metadata": {
    "execution": {
     "iopub.execute_input": "2024-10-31T09:09:14.776338Z",
     "iopub.status.busy": "2024-10-31T09:09:14.776338Z",
     "iopub.status.idle": "2024-10-31T09:09:14.781124Z",
     "shell.execute_reply": "2024-10-31T09:09:14.781124Z"
    }
   },
   "outputs": [],
   "source": [
    "rating_types = [5, 4, 3, 2, 1]\n",
    "rating_count = ca_rating_df['Rating'].value_counts().reindex(rating_types, fill_value=0)"
   ]
  },
  {
   "cell_type": "code",
   "execution_count": 63,
   "metadata": {
    "execution": {
     "iopub.execute_input": "2024-10-31T09:09:14.786134Z",
     "iopub.status.busy": "2024-10-31T09:09:14.786134Z",
     "iopub.status.idle": "2024-10-31T09:09:14.790978Z",
     "shell.execute_reply": "2024-10-31T09:09:14.790978Z"
    }
   },
   "outputs": [],
   "source": [
    "data_customer_rating_dist = {\n",
    "    'labels': rating_types,\n",
    "    'data': rating_count.tolist()\n",
    "}\n",
    "\n",
    "with open('../public/analytics/customer/customer-rating-dist.json', 'w') as file:\n",
    "    json.dump(data_customer_rating_dist, file, indent=4)"
   ]
  },
  {
   "cell_type": "code",
   "execution_count": 64,
   "metadata": {
    "execution": {
     "iopub.execute_input": "2024-10-31T09:09:14.795988Z",
     "iopub.status.busy": "2024-10-31T09:09:14.794987Z",
     "iopub.status.idle": "2024-10-31T09:09:14.879585Z",
     "shell.execute_reply": "2024-10-31T09:09:14.879585Z"
    }
   },
   "outputs": [],
   "source": [
    "## Prepare Latest 10 Response Per Rating\n",
    "rating_grouped_df = ca_rating_df.groupby('Rating').apply(lambda x: x.head(10) if len(x) >= 10 else x).reset_index(drop=True)"
   ]
  },
  {
   "cell_type": "code",
   "execution_count": 65,
   "metadata": {
    "execution": {
     "iopub.execute_input": "2024-10-31T09:09:14.883603Z",
     "iopub.status.busy": "2024-10-31T09:09:14.883603Z",
     "iopub.status.idle": "2024-10-31T09:09:14.892317Z",
     "shell.execute_reply": "2024-10-31T09:09:14.891302Z"
    }
   },
   "outputs": [],
   "source": [
    "data_customer_rating_review = {\n",
    "    'labels': rating_grouped_df['Rating'].tolist(),\n",
    "    'data': rating_grouped_df['Review'].tolist()\n",
    "}\n",
    "\n",
    "with open('../public/analytics/customer/customer-rating-review.json', 'w') as file:\n",
    "    json.dump(data_customer_rating_review, file, indent=4)"
   ]
  },
  {
   "cell_type": "markdown",
   "metadata": {},
   "source": [
    "#### Customer Acquisition & Churn Forecasting"
   ]
  },
  {
   "cell_type": "code",
   "execution_count": 66,
   "metadata": {
    "execution": {
     "iopub.execute_input": "2024-10-31T09:09:14.896321Z",
     "iopub.status.busy": "2024-10-31T09:09:14.896321Z",
     "iopub.status.idle": "2024-10-31T09:09:14.927859Z",
     "shell.execute_reply": "2024-10-31T09:09:14.926850Z"
    }
   },
   "outputs": [],
   "source": [
    "ca_customer_df = pd.read_csv('./datasets/ca_customer.csv')\n",
    "ca_customer_df['date'] = pd.to_datetime(ca_customer_df ['date'])"
   ]
  },
  {
   "cell_type": "markdown",
   "metadata": {},
   "source": [
    "##### Acquisition"
   ]
  },
  {
   "cell_type": "code",
   "execution_count": null,
   "metadata": {
    "execution": {
     "iopub.execute_input": "2024-10-31T09:09:14.931863Z",
     "iopub.status.busy": "2024-10-31T09:09:14.931863Z",
     "iopub.status.idle": "2024-10-31T09:09:14.943252Z",
     "shell.execute_reply": "2024-10-31T09:09:14.943252Z"
    }
   },
   "outputs": [],
   "source": [
    "# Drop Repeated Customer, Keep Only First Occurrence\n",
    "cust_acquisition_df = ca_customer_df.drop_duplicates(subset='customer_id', keep='first')\n",
    "cust_acquisition_df['year'] = cust_acquisition_df['date'].dt.year\n",
    "cust_acquisition_df['month'] = cust_acquisition_df['date'].dt.month\n",
    "cust_counts = cust_acquisition_df.groupby(['year', 'month']).size().reset_index(name='total_customers')"
   ]
  },
  {
   "cell_type": "code",
   "execution_count": 69,
   "metadata": {
    "execution": {
     "iopub.execute_input": "2024-10-31T09:09:14.957874Z",
     "iopub.status.busy": "2024-10-31T09:09:14.956875Z",
     "iopub.status.idle": "2024-10-31T09:09:14.961617Z",
     "shell.execute_reply": "2024-10-31T09:09:14.961617Z"
    }
   },
   "outputs": [],
   "source": [
    "def forecast_acquisition(df, forecast_horizon):\n",
    "    model = ExponentialSmoothing(df['acquisition'], trend='add', seasonal_periods=None)\n",
    "    model_fit = model.fit()\n",
    "    forecast = model_fit.forecast(forecast_horizon)\n",
    "    return forecast"
   ]
  },
  {
   "cell_type": "code",
   "execution_count": 70,
   "metadata": {
    "execution": {
     "iopub.execute_input": "2024-10-31T09:09:14.964729Z",
     "iopub.status.busy": "2024-10-31T09:09:14.963627Z",
     "iopub.status.idle": "2024-10-31T09:09:15.006775Z",
     "shell.execute_reply": "2024-10-31T09:09:15.006775Z"
    }
   },
   "outputs": [],
   "source": [
    "# Customer\n",
    "historical_data = {\n",
    "    'date': pd.date_range(start=datetime(2023, 1, 1), end=datetime(2024, 10, 1), freq='M'),\n",
    "    'acquisition': cust_counts['total_customers'].tolist()\n",
    "}\n",
    "customer_df = pd.DataFrame(historical_data)\n",
    "customer_df.set_index('date', inplace=True)\n",
    "\n",
    "forecast_months = 3\n",
    "\n",
    "# Monthly\n",
    "historical_acquisition = customer_df['acquisition'][-12:]\n",
    "monthly_forecast = np.ceil(forecast_acquisition(customer_df, forecast_horizon=forecast_months)).astype(int)\n",
    "combined_acquisition_forecast = np.concatenate((historical_acquisition, monthly_forecast))\n",
    "\n",
    "historical_labels = [historical_acquisition.index[i].strftime(\"%Y-%m\") for i in range(len(historical_acquisition))]\n",
    "forecasted_labels = [(monthly_forecast.index[i].strftime(\"%Y-%m\")) for i in range(len(monthly_forecast))]\n",
    "combined_labels = historical_labels + forecasted_labels\n",
    "\n",
    "data_customer_acquisition_forecast_monthly = {\n",
    "    'labels': combined_labels,\n",
    "    'data': combined_acquisition_forecast.tolist()\n",
    "}\n",
    "\n",
    "with open('../public/analytics/customer/customer-acquisition-forecast-month.json', 'w') as file:\n",
    "    json.dump(data_customer_acquisition_forecast_monthly, file, indent=4) \n",
    "\n",
    "# Quarterly \n",
    "df_quarterly = customer_df.resample('Q').sum()\n",
    "historical_acquisition = np.ceil(df_quarterly['acquisition'][-6:]).astype(int)\n",
    "quarterly_forecast = np.ceil(forecast_acquisition(df_quarterly, forecast_horizon=forecast_months // 3)).astype(int)\n",
    "combined_acquisition_forecast = np.concatenate((historical_acquisition, quarterly_forecast))\n",
    "\n",
    "historical_labels = [historical_acquisition.index[i].strftime(\"%Y-%m\") for i in range(len(historical_acquisition))]\n",
    "forecasted_labels = [(quarterly_forecast.index[i].strftime(\"%Y-%m\")) for i in range(len(quarterly_forecast))]\n",
    "combined_labels = historical_labels + forecasted_labels\n",
    "\n",
    "data_customer_acquisition_forecast_quarterly = {\n",
    "    'labels': combined_labels,\n",
    "    'data': combined_acquisition_forecast.tolist()\n",
    "}\n",
    "\n",
    "with open('../public/analytics/customer/customer-acquisition-forecast-quarter.json', 'w') as file:\n",
    "    json.dump(data_customer_acquisition_forecast_quarterly, file, indent=4) \n"
   ]
  },
  {
   "cell_type": "markdown",
   "metadata": {},
   "source": [
    "##### Churn"
   ]
  },
  {
   "cell_type": "markdown",
   "metadata": {},
   "source": [
    "We Take Inactivity Period = 6-12 Months to be considered as attrited i.e. 9 Months"
   ]
  },
  {
   "cell_type": "code",
   "execution_count": 71,
   "metadata": {
    "execution": {
     "iopub.execute_input": "2024-10-31T09:09:15.009804Z",
     "iopub.status.busy": "2024-10-31T09:09:15.009804Z",
     "iopub.status.idle": "2024-10-31T09:09:21.013640Z",
     "shell.execute_reply": "2024-10-31T09:09:21.012655Z"
    }
   },
   "outputs": [],
   "source": [
    "# Create a mask for customer interactions within the last 9 months\n",
    "ca_customer_df['churned'] = False\n",
    "for customer in ca_customer_df['customer_id'].unique():\n",
    "    customer_dates = ca_customer_df[ca_customer_df['customer_id'] == customer]['date']\n",
    "    for date in customer_dates:\n",
    "        recent_interactions = customer_dates[(customer_dates >= date - pd.DateOffset(months=9)) & \n",
    "                                             (customer_dates < date)]\n",
    "        if len(recent_interactions) > 0:\n",
    "            ca_customer_df.loc[ca_customer_df['customer_id'] == customer, 'churned'] = True\n",
    "            break\n",
    "\n",
    "# Filter out customers who have repeated interactions within 9 months\n",
    "cust_churn_df = ca_customer_df[~ca_customer_df['churned']]\n",
    "cust_churn_df = cust_churn_df.drop(columns=['churned'])"
   ]
  },
  {
   "cell_type": "code",
   "execution_count": 72,
   "metadata": {
    "execution": {
     "iopub.execute_input": "2024-10-31T09:09:21.016653Z",
     "iopub.status.busy": "2024-10-31T09:09:21.016653Z",
     "iopub.status.idle": "2024-10-31T09:09:21.025369Z",
     "shell.execute_reply": "2024-10-31T09:09:21.024360Z"
    }
   },
   "outputs": [],
   "source": [
    "# Group by Month\n",
    "cust_churn_df['date'] = cust_churn_df['date'] + pd.DateOffset(months=9)\n",
    "cust_churn_df['year'] = cust_churn_df['date'].dt.year\n",
    "cust_churn_df['month'] = cust_churn_df['date'].dt.month\n",
    "cust_counts = cust_churn_df.groupby(['year', 'month']).size().reset_index(name='total_customers')\n",
    "cust_counts['date'] = pd.to_datetime(cust_counts[['year', 'month']].assign(day=1))"
   ]
  },
  {
   "cell_type": "code",
   "execution_count": 73,
   "metadata": {
    "execution": {
     "iopub.execute_input": "2024-10-31T09:09:21.039535Z",
     "iopub.status.busy": "2024-10-31T09:09:21.039535Z",
     "iopub.status.idle": "2024-10-31T09:09:21.047244Z",
     "shell.execute_reply": "2024-10-31T09:09:21.046757Z"
    }
   },
   "outputs": [],
   "source": [
    "## Monthly\n",
    "cust_counts_monthly_df = cust_counts[cust_counts['date'] <= '2024-12-01']\n",
    "labels_monthly = cust_counts_monthly_df['date'].dt.strftime('%Y-%m').tolist()\n",
    "\n",
    "data_customer_churn_forecast_monthly = {\n",
    "    'labels': labels_monthly,\n",
    "    'data': cust_counts_monthly_df['total_customers'].tolist()\n",
    "}\n",
    "\n",
    "with open('../public/analytics/customer/customer-churn-forecast-month.json', 'w') as file:\n",
    "    json.dump(data_customer_churn_forecast_monthly, file, indent=4) "
   ]
  },
  {
   "cell_type": "code",
   "execution_count": 74,
   "metadata": {
    "execution": {
     "iopub.execute_input": "2024-10-31T09:09:21.050291Z",
     "iopub.status.busy": "2024-10-31T09:09:21.050291Z",
     "iopub.status.idle": "2024-10-31T09:09:21.059356Z",
     "shell.execute_reply": "2024-10-31T09:09:21.059356Z"
    }
   },
   "outputs": [],
   "source": [
    "## Quarterly\n",
    "cust_counts_quarterly_df = cust_counts_monthly_df.resample('Q', on='date').sum().reset_index()\n",
    "labels_quarterly = cust_counts_quarterly_df['date'].dt.strftime('%Y-%m').tolist()\n",
    "\n",
    "data_customer_churn_forecast_quarterly = {\n",
    "    'labels': labels_quarterly,\n",
    "    'data': cust_counts_quarterly_df['total_customers'].tolist()\n",
    "}\n",
    "\n",
    "with open('../public/analytics/customer/customer-churn-forecast-quarter.json', 'w') as file:\n",
    "    json.dump(data_customer_churn_forecast_quarterly, file, indent=4) "
   ]
  },
  {
   "cell_type": "markdown",
   "metadata": {},
   "source": [
    "##### Churn Rate"
   ]
  },
  {
   "cell_type": "code",
   "execution_count": 75,
   "metadata": {
    "execution": {
     "iopub.execute_input": "2024-10-31T09:09:21.062821Z",
     "iopub.status.busy": "2024-10-31T09:09:21.062821Z",
     "iopub.status.idle": "2024-10-31T09:09:21.066575Z",
     "shell.execute_reply": "2024-10-31T09:09:21.066575Z"
    }
   },
   "outputs": [],
   "source": [
    "## Churn Rate\n",
    "current_date = pd.Timestamp('2024-10-01')\n",
    "last_one_months_start = current_date - pd.DateOffset(months=1)\n",
    "last_three_months_start = current_date - pd.DateOffset(months=3)"
   ]
  },
  {
   "cell_type": "code",
   "execution_count": 76,
   "metadata": {
    "execution": {
     "iopub.execute_input": "2024-10-31T09:09:21.070099Z",
     "iopub.status.busy": "2024-10-31T09:09:21.070099Z",
     "iopub.status.idle": "2024-10-31T09:09:21.075817Z",
     "shell.execute_reply": "2024-10-31T09:09:21.075817Z"
    }
   },
   "outputs": [],
   "source": [
    "# Latest Month\n",
    "acquisition_month_df = customer_df[customer_df.index < last_one_months_start]\n",
    "total_cust_month = acquisition_month_df['acquisition'].sum()\n",
    "churn_month_df = cust_counts_monthly_df[cust_counts_monthly_df['date'] < last_one_months_start]\n",
    "total_churn_month = churn_month_df['total_customers'].sum()\n",
    "total_active_month = total_cust_month - total_churn_month\n",
    "current_churn_month = cust_counts_monthly_df[(cust_counts_monthly_df['date'] >= last_one_months_start) & (cust_counts_monthly_df['date'] < current_date)]['total_customers'].iloc[-1]\n",
    "churn_rate_month = round(current_churn_month / total_active_month * 100, 2)\n"
   ]
  },
  {
   "cell_type": "code",
   "execution_count": 77,
   "metadata": {
    "execution": {
     "iopub.execute_input": "2024-10-31T09:09:21.078839Z",
     "iopub.status.busy": "2024-10-31T09:09:21.078839Z",
     "iopub.status.idle": "2024-10-31T09:09:21.086279Z",
     "shell.execute_reply": "2024-10-31T09:09:21.085268Z"
    }
   },
   "outputs": [],
   "source": [
    "# Latest Quarter\n",
    "acquisition_quarter_df = customer_df[customer_df.index < last_three_months_start]\n",
    "total_cust_quarter = acquisition_quarter_df['acquisition'].sum()\n",
    "churn_quarter_df = cust_counts_quarterly_df[cust_counts_quarterly_df['date'] < last_three_months_start]\n",
    "total_churn_quarter = churn_quarter_df['total_customers'].sum()\n",
    "total_active_quarter = total_cust_quarter - total_churn_quarter\n",
    "current_churn_quarter = cust_counts_quarterly_df[(cust_counts_quarterly_df['date'] >= last_three_months_start) & (cust_counts_quarterly_df['date'] < current_date)]['total_customers'].iloc[-1]\n",
    "churn_rate_quarter = round(current_churn_quarter / total_active_quarter * 100, 2)\n"
   ]
  },
  {
   "cell_type": "code",
   "execution_count": 78,
   "metadata": {
    "execution": {
     "iopub.execute_input": "2024-10-31T09:09:21.089274Z",
     "iopub.status.busy": "2024-10-31T09:09:21.089274Z",
     "iopub.status.idle": "2024-10-31T09:09:21.094088Z",
     "shell.execute_reply": "2024-10-31T09:09:21.094088Z"
    }
   },
   "outputs": [],
   "source": [
    "data_customer_churn_rate = {\n",
    "    \"monthly\": {\n",
    "        \"total_active_month\": int(total_active_month),\n",
    "        \"current_churn_month\": int(current_churn_month),\n",
    "        \"churn_rate_month\": float(churn_rate_month)\n",
    "    },\n",
    "    \"quarterly\": {\n",
    "        \"total_active_quarter\": int(total_active_quarter),\n",
    "        \"current_churn_quarter\": int(current_churn_quarter),\n",
    "        \"churn_rate_quarter\": float(churn_rate_quarter)\n",
    "    }\n",
    "}\n",
    "\n",
    "with open('../public/analytics/customer/customer-churn-rate.json', 'w') as file:\n",
    "    json.dump(data_customer_churn_rate, file, indent=4) "
   ]
  },
  {
   "cell_type": "markdown",
   "metadata": {},
   "source": [
    "### Customer Map"
   ]
  },
  {
   "cell_type": "markdown",
   "metadata": {},
   "source": [
    "Only A Small Subset Of Data Is Shown Due To Privacy Concerns"
   ]
  },
  {
   "cell_type": "code",
   "execution_count": 79,
   "metadata": {
    "execution": {
     "iopub.execute_input": "2024-10-31T09:09:21.097095Z",
     "iopub.status.busy": "2024-10-31T09:09:21.097095Z",
     "iopub.status.idle": "2024-10-31T09:09:21.103338Z",
     "shell.execute_reply": "2024-10-31T09:09:21.102413Z"
    }
   },
   "outputs": [],
   "source": [
    "ca_address_df = pd.read_csv('./datasets/ca_address.csv')"
   ]
  },
  {
   "cell_type": "code",
   "execution_count": 80,
   "metadata": {
    "execution": {
     "iopub.execute_input": "2024-10-31T09:09:21.105531Z",
     "iopub.status.busy": "2024-10-31T09:09:21.105531Z",
     "iopub.status.idle": "2024-10-31T09:09:21.119948Z",
     "shell.execute_reply": "2024-10-31T09:09:21.118942Z"
    }
   },
   "outputs": [],
   "source": [
    "# Build Map\n",
    "latitude = 1.3521\n",
    "longitude = 103.8198\n",
    "sg_map = folium.Map(location = [latitude, longitude], zoom_start = 12)\n",
    "\n",
    "# Repair.sg\n",
    "popup_content_repairsg = f\"Repair.sg<br>229 Mountbatten Rd<br>#01-01 Mountbatten Square<br>Singapore 398007\"\n",
    "folium.Marker(location = [1.3032, 103.8841], \n",
    "              icon = folium.Icon(color = 'red', prefix = \"fa\", icon = \"house\"), \n",
    "              tooltip = \"Repair.sg\",\n",
    "              popup = folium.Popup(popup_content_repairsg, max_width=500)).add_to(sg_map)\n",
    "\n",
    "color_mapping = {\n",
    "    'Loyal': 'green',\n",
    "    'Recurring': 'blue',\n",
    "    'New': 'orange',\n",
    "}\n",
    "\n",
    "icon_mapping = {\n",
    "    'Loyal': 'star',\n",
    "    'Recurring': 'heart',\n",
    "    'New': 'plus',\n",
    "}\n",
    "\n",
    "tooltip_mapping = {\n",
    "    'Loyal': 'Loyal Customer (> 5 Bookings)',\n",
    "    'Recurring': 'Recurring Customer (2 <= Bookings <= 5)',\n",
    "    'New': 'New Customer (= 1 Booking)',\n",
    "}\n",
    "\n",
    "# Add Customer Markers\n",
    "for _, row in ca_address_df.iterrows():\n",
    "    marker_color = color_mapping[row['type']]\n",
    "    marker_icon = icon_mapping[row['type']]\n",
    "    tooltip = tooltip_mapping[row['type']]\n",
    "    \n",
    "    folium.Marker(\n",
    "        location=[row['latitude'], row['longitude']],\n",
    "        icon=folium.Icon(color=marker_color, icon=marker_icon, prefix='fa'),\n",
    "        tooltip=tooltip,\n",
    "        popup=folium.Popup(f\"Number of Bookings: {row['bookings']}<br>Address: {row['address']}<br>Postal: {row['postal']}\", max_width=500)\n",
    "    ).add_to(sg_map)"
   ]
  },
  {
   "cell_type": "code",
   "execution_count": 81,
   "metadata": {
    "execution": {
     "iopub.execute_input": "2024-10-31T09:09:21.173590Z",
     "iopub.status.busy": "2024-10-31T09:09:21.172582Z",
     "iopub.status.idle": "2024-10-31T09:09:21.223364Z",
     "shell.execute_reply": "2024-10-31T09:09:21.223364Z"
    }
   },
   "outputs": [],
   "source": [
    "sg_map.save('../public/analytics/customer/customer-map.html')"
   ]
  }
 ],
 "metadata": {
  "kernelspec": {
   "display_name": "Python 3",
   "language": "python",
   "name": "python3"
  },
  "language_info": {
   "codemirror_mode": {
    "name": "ipython",
    "version": 3
   },
   "file_extension": ".py",
   "mimetype": "text/x-python",
   "name": "python",
   "nbconvert_exporter": "python",
   "pygments_lexer": "ipython3",
   "version": "3.11.0"
  }
 },
 "nbformat": 4,
 "nbformat_minor": 4
}

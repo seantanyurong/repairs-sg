{
 "cells": [
  {
   "cell_type": "markdown",
   "metadata": {},
   "source": [
    "# Analytics Notebook"
   ]
  },
  {
   "cell_type": "markdown",
   "metadata": {},
   "source": [
    "### Connect To MongoDB"
   ]
  },
  {
   "cell_type": "code",
   "execution_count": 1,
   "metadata": {
    "execution": {
     "iopub.execute_input": "2024-09-30T15:57:04.307058Z",
     "iopub.status.busy": "2024-09-30T15:57:04.307058Z",
     "iopub.status.idle": "2024-09-30T15:57:04.886798Z",
     "shell.execute_reply": "2024-09-30T15:57:04.886798Z"
    }
   },
   "outputs": [],
   "source": [
    "## Import Libraries\n",
    "import os\n",
    "from pymongo import MongoClient\n",
    "from dotenv import load_dotenv\n",
    "\n",
    "# Load environment variables\n",
    "load_dotenv('../.env.local')\n",
    "db_uri = os.getenv('MONGODB_URI')\n",
    "\n",
    "## Connect To DB\n",
    "client = MongoClient(db_uri)\n",
    "db = client['test']"
   ]
  },
  {
   "cell_type": "code",
   "execution_count": 2,
   "metadata": {
    "execution": {
     "iopub.execute_input": "2024-09-30T15:57:04.889804Z",
     "iopub.status.busy": "2024-09-30T15:57:04.888802Z",
     "iopub.status.idle": "2024-09-30T15:57:05.071328Z",
     "shell.execute_reply": "2024-09-30T15:57:05.069320Z"
    }
   },
   "outputs": [
    {
     "name": "stdout",
     "output_type": "stream",
     "text": [
      "[{'_id': ObjectId('66ed791326d23c81b7e6c223'), 'licencePlate': '123', 'gpsApi': 'abc', 'make': 'Toyota', 'model': 'Camry', 'status': 'Draft', 'createdAt': datetime.datetime(2024, 9, 20, 13, 30, 59, 449000), 'updatedAt': datetime.datetime(2024, 9, 20, 13, 30, 59, 449000)}]\n"
     ]
    }
   ],
   "source": [
    "# Testing\n",
    "print(list(db['vehicles'].find()))"
   ]
  },
  {
   "cell_type": "markdown",
   "metadata": {},
   "source": [
    "## Analytics Dashboard"
   ]
  },
  {
   "cell_type": "code",
   "execution_count": 3,
   "metadata": {
    "execution": {
     "iopub.execute_input": "2024-09-30T15:57:05.100763Z",
     "iopub.status.busy": "2024-09-30T15:57:05.099756Z",
     "iopub.status.idle": "2024-09-30T15:57:05.878198Z",
     "shell.execute_reply": "2024-09-30T15:57:05.878198Z"
    }
   },
   "outputs": [],
   "source": [
    "## General Libraries\n",
    "import json\n",
    "import pandas as pd\n",
    "import numpy as np\n",
    "from datetime import datetime\n",
    "from statsmodels.tsa.holtwinters import ExponentialSmoothing"
   ]
  },
  {
   "cell_type": "markdown",
   "metadata": {},
   "source": [
    "### Job Analytics"
   ]
  },
  {
   "cell_type": "markdown",
   "metadata": {},
   "source": [
    "#### Job Type Distribution"
   ]
  },
  {
   "cell_type": "code",
   "execution_count": 4,
   "metadata": {
    "execution": {
     "iopub.execute_input": "2024-09-30T15:57:05.881206Z",
     "iopub.status.busy": "2024-09-30T15:57:05.880204Z",
     "iopub.status.idle": "2024-09-30T15:57:05.883710Z",
     "shell.execute_reply": "2024-09-30T15:57:05.883710Z"
    }
   },
   "outputs": [],
   "source": [
    "# General Labels\n",
    "job_types = ['ELECTRICIAN', 'VENTILATION', 'PLUMBER', 'HANDYMAN', 'AIRCON']"
   ]
  },
  {
   "cell_type": "code",
   "execution_count": 5,
   "metadata": {
    "execution": {
     "iopub.execute_input": "2024-09-30T15:57:05.886716Z",
     "iopub.status.busy": "2024-09-30T15:57:05.886716Z",
     "iopub.status.idle": "2024-09-30T15:57:05.892381Z",
     "shell.execute_reply": "2024-09-30T15:57:05.892381Z"
    }
   },
   "outputs": [],
   "source": [
    "# Past 1 Month\n",
    "total_job_frequency = [21, 6, 3, 19, 11]\n",
    "\n",
    "data_job_type_dist = {\n",
    "    'labels': job_types,\n",
    "    'data': total_job_frequency\n",
    "}\n",
    "\n",
    "# Save data to JSON file\n",
    "with open('../public/analytics/job-type-dist-one-month-total.json', 'w') as file:\n",
    "    json.dump(data_job_type_dist, file, indent=4)\n",
    "\n",
    "average_job_frequency = total_job_frequency\n",
    "\n",
    "data_job_type_dist = {\n",
    "    'labels': job_types,\n",
    "    'data': average_job_frequency\n",
    "}\n",
    "\n",
    "# Save data to JSON file\n",
    "with open('../public/analytics/job-type-dist-one-month-average.json', 'w') as file:\n",
    "    json.dump(data_job_type_dist, file, indent=4)   "
   ]
  },
  {
   "cell_type": "code",
   "execution_count": 6,
   "metadata": {
    "execution": {
     "iopub.execute_input": "2024-09-30T15:57:05.894914Z",
     "iopub.status.busy": "2024-09-30T15:57:05.894914Z",
     "iopub.status.idle": "2024-09-30T15:57:05.900139Z",
     "shell.execute_reply": "2024-09-30T15:57:05.900139Z"
    }
   },
   "outputs": [],
   "source": [
    "# Past 3 Month\n",
    "total_job_frequency = [56, 17, 10, 61, 29]\n",
    "\n",
    "data_job_type_dist = {\n",
    "    'labels': job_types,\n",
    "    'data': total_job_frequency\n",
    "}\n",
    "\n",
    "# Save data to JSON file\n",
    "with open('../public/analytics/job-type-dist-three-month-total.json', 'w') as file:\n",
    "    json.dump(data_job_type_dist, file, indent=4)  \n",
    "\n",
    "average_job_frequency = [np.ceil(x / 3) for x in total_job_frequency]\n",
    "\n",
    "data_job_type_dist = {\n",
    "    'labels': job_types,\n",
    "    'data': average_job_frequency\n",
    "}\n",
    "\n",
    "# Save data to JSON file\n",
    "with open('../public/analytics/job-type-dist-three-month-average.json', 'w') as file:\n",
    "    json.dump(data_job_type_dist, file, indent=4) "
   ]
  },
  {
   "cell_type": "code",
   "execution_count": 7,
   "metadata": {
    "execution": {
     "iopub.execute_input": "2024-09-30T15:57:05.902144Z",
     "iopub.status.busy": "2024-09-30T15:57:05.902144Z",
     "iopub.status.idle": "2024-09-30T15:57:05.908169Z",
     "shell.execute_reply": "2024-09-30T15:57:05.908169Z"
    }
   },
   "outputs": [],
   "source": [
    "# Past 6 Month\n",
    "total_job_frequency = [112, 33, 19, 106, 55]\n",
    "\n",
    "data_job_type_dist = {\n",
    "    'labels': job_types,\n",
    "    'data': total_job_frequency\n",
    "}\n",
    "\n",
    "# Save data to JSON file\n",
    "with open('../public/analytics/job-type-dist-six-month-total.json', 'w') as file:\n",
    "    json.dump(data_job_type_dist, file, indent=4)\n",
    "\n",
    "average_job_frequency = [np.ceil(x / 6) for x in total_job_frequency]\n",
    "\n",
    "data_job_type_dist = {\n",
    "    'labels': job_types,\n",
    "    'data': average_job_frequency\n",
    "}\n",
    "\n",
    "# Save data to JSON file\n",
    "with open('../public/analytics/job-type-dist-six-month-average.json', 'w') as file:\n",
    "    json.dump(data_job_type_dist, file, indent=4) "
   ]
  },
  {
   "cell_type": "code",
   "execution_count": 8,
   "metadata": {
    "execution": {
     "iopub.execute_input": "2024-09-30T15:57:05.910175Z",
     "iopub.status.busy": "2024-09-30T15:57:05.910175Z",
     "iopub.status.idle": "2024-09-30T15:57:05.916091Z",
     "shell.execute_reply": "2024-09-30T15:57:05.916091Z"
    }
   },
   "outputs": [],
   "source": [
    "# Past 12 Month\n",
    "total_job_frequency = [222, 61, 40, 205, 99]\n",
    "\n",
    "data_job_type_dist = {\n",
    "    'labels': job_types,\n",
    "    'data': total_job_frequency\n",
    "}\n",
    "\n",
    "# Save data to JSON file\n",
    "with open('../public/analytics/job-type-dist-twelve-month-total.json', 'w') as file:\n",
    "    json.dump(data_job_type_dist, file, indent=4)\n",
    "\n",
    "average_job_frequency = [np.ceil(x / 12) for x in total_job_frequency]\n",
    "\n",
    "data_job_type_dist = {\n",
    "    'labels': job_types,\n",
    "    'data': average_job_frequency\n",
    "}\n",
    "\n",
    "# Save data to JSON file\n",
    "with open('../public/analytics/job-type-dist-twelve-month-average.json', 'w') as file:\n",
    "    json.dump(data_job_type_dist, file, indent=4) "
   ]
  },
  {
   "cell_type": "markdown",
   "metadata": {},
   "source": [
    "#### Job Duration Distribution"
   ]
  },
  {
   "cell_type": "code",
   "execution_count": 9,
   "metadata": {
    "execution": {
     "iopub.execute_input": "2024-09-30T15:57:05.918097Z",
     "iopub.status.busy": "2024-09-30T15:57:05.918097Z",
     "iopub.status.idle": "2024-09-30T15:57:05.922176Z",
     "shell.execute_reply": "2024-09-30T15:57:05.922176Z"
    }
   },
   "outputs": [],
   "source": [
    "# Past 1 Month\n",
    "job_duration = [21, 48, 57, 19, 181]\n",
    "\n",
    "data_job_duration_dist = {\n",
    "    'labels': job_types,\n",
    "    'data': job_duration\n",
    "}\n",
    "\n",
    "# Save data to JSON file\n",
    "with open('../public/analytics/job-duration-dist-one-month.json', 'w') as file:\n",
    "    json.dump(data_job_duration_dist, file, indent=4) "
   ]
  },
  {
   "cell_type": "code",
   "execution_count": 10,
   "metadata": {
    "execution": {
     "iopub.execute_input": "2024-09-30T15:57:05.924693Z",
     "iopub.status.busy": "2024-09-30T15:57:05.923686Z",
     "iopub.status.idle": "2024-09-30T15:57:05.928200Z",
     "shell.execute_reply": "2024-09-30T15:57:05.928200Z"
    }
   },
   "outputs": [],
   "source": [
    "# Past 3 Month\n",
    "job_duration = [20, 45, 52, 17, 166]\n",
    "\n",
    "data_job_duration_dist = {\n",
    "    'labels': job_types,\n",
    "    'data': job_duration\n",
    "}\n",
    "\n",
    "# Save data to JSON file\n",
    "with open('../public/analytics/job-duration-dist-three-month.json', 'w') as file:\n",
    "    json.dump(data_job_duration_dist, file, indent=4) "
   ]
  },
  {
   "cell_type": "code",
   "execution_count": 11,
   "metadata": {
    "execution": {
     "iopub.execute_input": "2024-09-30T15:57:05.930206Z",
     "iopub.status.busy": "2024-09-30T15:57:05.930206Z",
     "iopub.status.idle": "2024-09-30T15:57:05.934467Z",
     "shell.execute_reply": "2024-09-30T15:57:05.934467Z"
    }
   },
   "outputs": [],
   "source": [
    "# Past 6 Month\n",
    "job_duration = [23, 49, 58, 21, 174]\n",
    "\n",
    "data_job_duration_dist = {\n",
    "    'labels': job_types,\n",
    "    'data': job_duration\n",
    "}\n",
    "\n",
    "# Save data to JSON file\n",
    "with open('../public/analytics/job-duration-dist-six-month.json', 'w') as file:\n",
    "    json.dump(data_job_duration_dist, file, indent=4) "
   ]
  },
  {
   "cell_type": "code",
   "execution_count": 12,
   "metadata": {
    "execution": {
     "iopub.execute_input": "2024-09-30T15:57:05.936979Z",
     "iopub.status.busy": "2024-09-30T15:57:05.936979Z",
     "iopub.status.idle": "2024-09-30T15:57:05.940666Z",
     "shell.execute_reply": "2024-09-30T15:57:05.940666Z"
    }
   },
   "outputs": [],
   "source": [
    "# Past 12 Month\n",
    "job_duration = [29, 55, 62, 24, 191]\n",
    "\n",
    "data_job_duration_dist = {\n",
    "    'labels': job_types,\n",
    "    'data': job_duration\n",
    "}\n",
    "\n",
    "# Save data to JSON file\n",
    "with open('../public/analytics/job-duration-dist-twelve-month.json', 'w') as file:\n",
    "    json.dump(data_job_duration_dist, file, indent=4) "
   ]
  },
  {
   "cell_type": "markdown",
   "metadata": {},
   "source": [
    "#### Job Revenue Distribution"
   ]
  },
  {
   "cell_type": "code",
   "execution_count": 13,
   "metadata": {
    "execution": {
     "iopub.execute_input": "2024-09-30T15:57:05.942670Z",
     "iopub.status.busy": "2024-09-30T15:57:05.942670Z",
     "iopub.status.idle": "2024-09-30T15:57:05.947903Z",
     "shell.execute_reply": "2024-09-30T15:57:05.947903Z"
    }
   },
   "outputs": [],
   "source": [
    "# Past 1 Month\n",
    "total_job_revenue = [800, 600, 600, 850, 2200]\n",
    "\n",
    "data_job_revenue_dist = {\n",
    "    'labels': job_types,\n",
    "    'data': total_job_revenue\n",
    "}\n",
    "\n",
    "# Save data to JSON file\n",
    "with open('../public/analytics/job-revenue-dist-one-month-total.json', 'w') as file:\n",
    "    json.dump(data_job_revenue_dist, file, indent=4)\n",
    "\n",
    "average_job_revenue = total_job_revenue\n",
    "\n",
    "data_job_revenue_dist = {\n",
    "    'labels': job_types,\n",
    "    'data': average_job_revenue\n",
    "}\n",
    "\n",
    "# Save data to JSON file\n",
    "with open('../public/analytics/job-revenue-dist-one-month-average.json', 'w') as file:\n",
    "    json.dump(data_job_revenue_dist, file, indent=4)  "
   ]
  },
  {
   "cell_type": "code",
   "execution_count": 14,
   "metadata": {
    "execution": {
     "iopub.execute_input": "2024-09-30T15:57:05.949908Z",
     "iopub.status.busy": "2024-09-30T15:57:05.949908Z",
     "iopub.status.idle": "2024-09-30T15:57:05.955154Z",
     "shell.execute_reply": "2024-09-30T15:57:05.955154Z"
    }
   },
   "outputs": [],
   "source": [
    "# Past 3 Month\n",
    "total_job_revenue = [2490, 1710, 1500, 2400, 5130]\n",
    "\n",
    "data_job_revenue_dist = {\n",
    "    'labels': job_types,\n",
    "    'data': total_job_revenue\n",
    "}\n",
    "\n",
    "# Save data to JSON file\n",
    "with open('../public/analytics/job-revenue-dist-three-month-total.json', 'w') as file:\n",
    "    json.dump(data_job_revenue_dist, file, indent=4)\n",
    "\n",
    "average_job_revenue = [round(x / 3, 2) for x in total_job_revenue]\n",
    "\n",
    "data_job_revenue_dist = {\n",
    "    'labels': job_types,\n",
    "    'data': average_job_revenue\n",
    "}\n",
    "\n",
    "# Save data to JSON file\n",
    "with open('../public/analytics/job-revenue-dist-three-month-average.json', 'w') as file:\n",
    "    json.dump(data_job_revenue_dist, file, indent=4)  "
   ]
  },
  {
   "cell_type": "code",
   "execution_count": 15,
   "metadata": {
    "execution": {
     "iopub.execute_input": "2024-09-30T15:57:05.958161Z",
     "iopub.status.busy": "2024-09-30T15:57:05.957161Z",
     "iopub.status.idle": "2024-09-30T15:57:05.963676Z",
     "shell.execute_reply": "2024-09-30T15:57:05.963676Z"
    }
   },
   "outputs": [],
   "source": [
    "# Past 6 Month\n",
    "total_job_revenue = [4490, 2970, 2700, 4400, 9330]\n",
    "\n",
    "data_job_revenue_dist = {\n",
    "    'labels': job_types,\n",
    "    'data': total_job_revenue\n",
    "}\n",
    "\n",
    "# Save data to JSON file\n",
    "with open('../public/analytics/job-revenue-dist-six-month-total.json', 'w') as file:\n",
    "    json.dump(data_job_revenue_dist, file, indent=4)\n",
    "\n",
    "average_job_revenue = [round(x / 6, 2) for x in total_job_revenue]\n",
    "\n",
    "data_job_revenue_dist = {\n",
    "    'labels': job_types,\n",
    "    'data': average_job_revenue\n",
    "}\n",
    "\n",
    "# Save data to JSON file\n",
    "with open('../public/analytics/job-revenue-dist-six-month-average.json', 'w') as file:\n",
    "    json.dump(data_job_revenue_dist, file, indent=4)  "
   ]
  },
  {
   "cell_type": "code",
   "execution_count": 16,
   "metadata": {
    "execution": {
     "iopub.execute_input": "2024-09-30T15:57:05.966683Z",
     "iopub.status.busy": "2024-09-30T15:57:05.965683Z",
     "iopub.status.idle": "2024-09-30T15:57:05.971348Z",
     "shell.execute_reply": "2024-09-30T15:57:05.971348Z"
    }
   },
   "outputs": [],
   "source": [
    "# Past 12 Month\n",
    "total_job_revenue = [8270, 5130, 4860, 8130, 15570]\n",
    "\n",
    "data_job_revenue_dist = {\n",
    "    'labels': job_types,\n",
    "    'data': total_job_revenue\n",
    "}\n",
    "\n",
    "# Save data to JSON file\n",
    "with open('../public/analytics/job-revenue-dist-twelve-month-total.json', 'w') as file:\n",
    "    json.dump(data_job_revenue_dist, file, indent=4)\n",
    "\n",
    "average_job_revenue = [round(x / 12, 2) for x in total_job_revenue]\n",
    "\n",
    "data_job_revenue_dist = {\n",
    "    'labels': job_types,\n",
    "    'data': average_job_revenue\n",
    "}\n",
    "\n",
    "# Save data to JSON file\n",
    "with open('../public/analytics/job-revenue-dist-twelve-month-average.json', 'w') as file:\n",
    "    json.dump(data_job_revenue_dist, file, indent=4)  "
   ]
  },
  {
   "cell_type": "markdown",
   "metadata": {},
   "source": [
    "#### Job Delay Distribution"
   ]
  },
  {
   "cell_type": "code",
   "execution_count": 17,
   "metadata": {
    "execution": {
     "iopub.execute_input": "2024-09-30T15:57:05.973862Z",
     "iopub.status.busy": "2024-09-30T15:57:05.973862Z",
     "iopub.status.idle": "2024-09-30T15:57:05.977811Z",
     "shell.execute_reply": "2024-09-30T15:57:05.977811Z"
    }
   },
   "outputs": [],
   "source": [
    "# Past 1 Month\n",
    "job_delay = [0, 0, 5, 0, 25]\n",
    "\n",
    "data_job_delay_dist = {\n",
    "    'labels': job_types,\n",
    "    'data': job_delay\n",
    "}\n",
    "\n",
    "# Save data to JSON file\n",
    "with open('../public/analytics/job-delay-dist-one-month.json', 'w') as file:\n",
    "    json.dump(data_job_delay_dist, file, indent=4) "
   ]
  },
  {
   "cell_type": "code",
   "execution_count": 18,
   "metadata": {
    "execution": {
     "iopub.execute_input": "2024-09-30T15:57:05.979816Z",
     "iopub.status.busy": "2024-09-30T15:57:05.979816Z",
     "iopub.status.idle": "2024-09-30T15:57:05.984043Z",
     "shell.execute_reply": "2024-09-30T15:57:05.984043Z"
    }
   },
   "outputs": [],
   "source": [
    "# Past 3 Month\n",
    "job_delay = [1, 2, 10,5, 40]\n",
    "\n",
    "data_job_delay_dist = {\n",
    "    'labels': job_types,\n",
    "    'data': job_delay\n",
    "}\n",
    "\n",
    "# Save data to JSON file\n",
    "with open('../public/analytics/job-delay-dist-three-month.json', 'w') as file:\n",
    "    json.dump(data_job_delay_dist, file, indent=4) "
   ]
  },
  {
   "cell_type": "code",
   "execution_count": 19,
   "metadata": {
    "execution": {
     "iopub.execute_input": "2024-09-30T15:57:05.986047Z",
     "iopub.status.busy": "2024-09-30T15:57:05.986047Z",
     "iopub.status.idle": "2024-09-30T15:57:05.989959Z",
     "shell.execute_reply": "2024-09-30T15:57:05.989959Z"
    }
   },
   "outputs": [],
   "source": [
    "# Past 6 Month\n",
    "job_delay = [4, 6, 12, 7, 50]\n",
    "\n",
    "data_job_delay_dist = {\n",
    "    'labels': job_types,\n",
    "    'data': job_delay\n",
    "}\n",
    "\n",
    "# Save data to JSON file\n",
    "with open('../public/analytics/job-delay-dist-six-month.json', 'w') as file:\n",
    "    json.dump(data_job_delay_dist, file, indent=4) "
   ]
  },
  {
   "cell_type": "code",
   "execution_count": 20,
   "metadata": {
    "execution": {
     "iopub.execute_input": "2024-09-30T15:57:05.991965Z",
     "iopub.status.busy": "2024-09-30T15:57:05.991965Z",
     "iopub.status.idle": "2024-09-30T15:57:05.996438Z",
     "shell.execute_reply": "2024-09-30T15:57:05.996438Z"
    }
   },
   "outputs": [],
   "source": [
    "# Past 12 Month\n",
    "job_delay = [8, 7, 15, 10, 60]\n",
    "\n",
    "data_job_delay_dist = {\n",
    "    'labels': job_types,\n",
    "    'data': job_delay\n",
    "}\n",
    "\n",
    "# Save data to JSON file\n",
    "with open('../public/analytics/job-delay-dist-twelve-month.json', 'w') as file:\n",
    "    json.dump(data_job_delay_dist, file, indent=4) "
   ]
  },
  {
   "cell_type": "markdown",
   "metadata": {},
   "source": [
    "#### Job Revenue Forecasting"
   ]
  },
  {
   "cell_type": "code",
   "execution_count": 21,
   "metadata": {
    "execution": {
     "iopub.execute_input": "2024-09-30T15:57:05.999443Z",
     "iopub.status.busy": "2024-09-30T15:57:05.999443Z",
     "iopub.status.idle": "2024-09-30T15:57:06.003383Z",
     "shell.execute_reply": "2024-09-30T15:57:06.002869Z"
    }
   },
   "outputs": [],
   "source": [
    "# Calculate the date 36 months ago from today\n",
    "today = datetime.today()\n",
    "start_date = today - pd.DateOffset(months=35)\n",
    "\n",
    "def forecast_revenue(df, seasonal_periods, forecast_horizon):\n",
    "    model = ExponentialSmoothing(df['revenue'], seasonal='add', seasonal_periods=seasonal_periods)\n",
    "    model_fit = model.fit()\n",
    "    forecast = model_fit.forecast(forecast_horizon)\n",
    "    return forecast"
   ]
  },
  {
   "cell_type": "code",
   "execution_count": 22,
   "metadata": {
    "execution": {
     "iopub.execute_input": "2024-09-30T15:57:06.005390Z",
     "iopub.status.busy": "2024-09-30T15:57:06.005390Z",
     "iopub.status.idle": "2024-09-30T15:57:06.048209Z",
     "shell.execute_reply": "2024-09-30T15:57:06.048209Z"
    }
   },
   "outputs": [
    {
     "name": "stderr",
     "output_type": "stream",
     "text": [
      "C:\\Python311\\Lib\\site-packages\\statsmodels\\tsa\\base\\tsa_model.py:473: ValueWarning: No frequency information was provided, so inferred frequency M will be used.\n",
      "  self._init_dates(dates, freq)\n"
     ]
    }
   ],
   "source": [
    "# Electrician\n",
    "historical_data = {\n",
    "    'date': pd.date_range(start=start_date, end=today, freq='M'),\n",
    "    'revenue': [400, 310, 300, 320, 410, 450, 420, 350, 410, 520, 370, 350, \n",
    "                630, 630, 640, 550, 700, 710, 620, 580, 640, 750, 700, 680,\n",
    "                800, 740, 690, 770, 1000, 900, 730, 850, 930, 1040, 700, 800]\n",
    "}\n",
    "electrician_df = pd.DataFrame(historical_data)\n",
    "electrician_df.set_index('date', inplace=True)\n",
    "\n",
    "forecast_months = 6\n",
    "\n",
    "# Monthly\n",
    "historical_demand = electrician_df['revenue'][-12:]\n",
    "monthly_forecast = np.ceil(forecast_revenue(electrician_df, seasonal_periods=12, forecast_horizon=forecast_months)).astype(int)\n",
    "combined_demand_forecast = np.concatenate((historical_demand, monthly_forecast))\n",
    "\n",
    "historical_labels = [historical_demand.index[i].strftime(\"%Y-%m\") for i in range(len(historical_demand))]\n",
    "forecasted_labels = [(monthly_forecast.index[i].strftime(\"%Y-%m\")) for i in range(len(monthly_forecast))]\n",
    "combined_labels = historical_labels + forecasted_labels\n",
    "\n",
    "data_job_demand_forecast_monthly = {\n",
    "    'labels': combined_labels,\n",
    "    'data': combined_demand_forecast.tolist()\n",
    "}\n",
    "\n",
    "with open('../public/analytics/job-revenue-forecast-electrician-month.json', 'w') as file:\n",
    "    json.dump(data_job_demand_forecast_monthly, file, indent=4) \n",
    "\n",
    "# Quarterly \n",
    "df_quarterly = electrician_df.resample('Q').sum()\n",
    "historical_demand = np.ceil(df_quarterly['revenue'][-6:]).astype(int)\n",
    "quarterly_forecast = np.ceil(forecast_revenue(df_quarterly, seasonal_periods=4, forecast_horizon=forecast_months // 3)).astype(int)\n",
    "combined_demand_forecast = np.concatenate((historical_demand, quarterly_forecast))\n",
    "\n",
    "historical_labels = [historical_demand.index[i].strftime(\"%Y-%m\") for i in range(len(historical_demand))]\n",
    "forecasted_labels = [(quarterly_forecast.index[i].strftime(\"%Y-%m\")) for i in range(len(quarterly_forecast))]\n",
    "combined_labels = historical_labels + forecasted_labels\n",
    "\n",
    "data_job_demand_forecast_quarterly = {\n",
    "    'labels': combined_labels,\n",
    "    'data': combined_demand_forecast.tolist()\n",
    "}\n",
    "\n",
    "with open('../public/analytics/job-revenue-forecast-electrician-quarter.json', 'w') as file:\n",
    "    json.dump(data_job_demand_forecast_quarterly, file, indent=4) "
   ]
  },
  {
   "cell_type": "code",
   "execution_count": 23,
   "metadata": {
    "execution": {
     "iopub.execute_input": "2024-09-30T15:57:06.050214Z",
     "iopub.status.busy": "2024-09-30T15:57:06.050214Z",
     "iopub.status.idle": "2024-09-30T15:57:06.090207Z",
     "shell.execute_reply": "2024-09-30T15:57:06.090207Z"
    }
   },
   "outputs": [
    {
     "name": "stderr",
     "output_type": "stream",
     "text": [
      "C:\\Python311\\Lib\\site-packages\\statsmodels\\tsa\\base\\tsa_model.py:473: ValueWarning: No frequency information was provided, so inferred frequency M will be used.\n",
      "  self._init_dates(dates, freq)\n"
     ]
    }
   ],
   "source": [
    "# Ventilation\n",
    "historical_data = {\n",
    "    'date': pd.date_range(start=start_date, end=today, freq='M'),\n",
    "    'revenue': [320, 260, 310, 390, 280, 260, 300, 230, 220, 240, 310, 340,  \n",
    "                460, 430, 480, 560, 520, 510, 470, 470, 480, 410, 520, 530, \n",
    "                550, 640, 700, 780, 520, 600, 600, 550, 520, 580, 750, 670]\n",
    "}\n",
    "ventilation_df = pd.DataFrame(historical_data)\n",
    "ventilation_df.set_index('date', inplace=True)\n",
    "\n",
    "forecast_months = 6\n",
    "\n",
    "# Monthly\n",
    "historical_demand = ventilation_df['revenue'][-12:]\n",
    "monthly_forecast = np.ceil(forecast_revenue(ventilation_df, seasonal_periods=12, forecast_horizon=forecast_months)).astype(int)\n",
    "combined_demand_forecast = np.concatenate((historical_demand, monthly_forecast))\n",
    "\n",
    "historical_labels = [historical_demand.index[i].strftime(\"%Y-%m\") for i in range(len(historical_demand))]\n",
    "forecasted_labels = [(monthly_forecast.index[i].strftime(\"%Y-%m\")) for i in range(len(monthly_forecast))]\n",
    "combined_labels = historical_labels + forecasted_labels\n",
    "\n",
    "data_job_demand_forecast_monthly = {\n",
    "    'labels': combined_labels,\n",
    "    'data': combined_demand_forecast.tolist()\n",
    "}\n",
    "\n",
    "with open('../public/analytics/job-revenue-forecast-ventilation-month.json', 'w') as file:\n",
    "    json.dump(data_job_demand_forecast_monthly, file, indent=4) \n",
    "\n",
    "# Quarterly \n",
    "df_quarterly = ventilation_df.resample('Q').sum()\n",
    "historical_demand = np.ceil(df_quarterly['revenue'][-6:]).astype(int)\n",
    "quarterly_forecast = np.ceil(forecast_revenue(df_quarterly, seasonal_periods=4, forecast_horizon=forecast_months // 3)).astype(int)\n",
    "combined_demand_forecast = np.concatenate((historical_demand, quarterly_forecast))\n",
    "\n",
    "historical_labels = [historical_demand.index[i].strftime(\"%Y-%m\") for i in range(len(historical_demand))]\n",
    "forecasted_labels = [(quarterly_forecast.index[i].strftime(\"%Y-%m\")) for i in range(len(quarterly_forecast))]\n",
    "combined_labels = historical_labels + forecasted_labels\n",
    "\n",
    "data_job_demand_forecast_quarterly = {\n",
    "    'labels': combined_labels,\n",
    "    'data': combined_demand_forecast.tolist()\n",
    "}\n",
    "\n",
    "with open('../public/analytics/job-revenue-forecast-ventilation-quarter.json', 'w') as file:\n",
    "    json.dump(data_job_demand_forecast_quarterly, file, indent=4) "
   ]
  },
  {
   "cell_type": "code",
   "execution_count": 24,
   "metadata": {
    "execution": {
     "iopub.execute_input": "2024-09-30T15:57:06.092214Z",
     "iopub.status.busy": "2024-09-30T15:57:06.092214Z",
     "iopub.status.idle": "2024-09-30T15:57:06.126902Z",
     "shell.execute_reply": "2024-09-30T15:57:06.126902Z"
    }
   },
   "outputs": [
    {
     "name": "stderr",
     "output_type": "stream",
     "text": [
      "C:\\Python311\\Lib\\site-packages\\statsmodels\\tsa\\base\\tsa_model.py:473: ValueWarning: No frequency information was provided, so inferred frequency M will be used.\n",
      "  self._init_dates(dates, freq)\n"
     ]
    }
   ],
   "source": [
    "# Plumber\n",
    "historical_data = {\n",
    "    'date': pd.date_range(start=start_date, end=today, freq='M'),\n",
    "    'revenue': [280, 260, 300, 230, 320, 260, 310, 390, 220, 240, 310, 340,  \n",
    "                520, 510, 470, 470, 460, 430, 480, 560, 480, 410, 520, 530, \n",
    "                520, 600, 600, 550, 550, 640, 700, 780, 520, 580, 750, 670]\n",
    "}\n",
    "plumber_df = pd.DataFrame(historical_data)\n",
    "plumber_df.set_index('date', inplace=True)\n",
    "\n",
    "forecast_months = 6\n",
    "\n",
    "# Monthly\n",
    "historical_demand = plumber_df['revenue'][-12:]\n",
    "monthly_forecast = np.ceil(forecast_revenue(plumber_df, seasonal_periods=12, forecast_horizon=forecast_months)).astype(int)\n",
    "combined_demand_forecast = np.concatenate((historical_demand, monthly_forecast))\n",
    "\n",
    "historical_labels = [historical_demand.index[i].strftime(\"%Y-%m\") for i in range(len(historical_demand))]\n",
    "forecasted_labels = [(monthly_forecast.index[i].strftime(\"%Y-%m\")) for i in range(len(monthly_forecast))]\n",
    "combined_labels = historical_labels + forecasted_labels\n",
    "\n",
    "data_job_demand_forecast_monthly = {\n",
    "    'labels': combined_labels,\n",
    "    'data': combined_demand_forecast.tolist()\n",
    "}\n",
    "\n",
    "with open('../public/analytics/job-revenue-forecast-plumber-month.json', 'w') as file:\n",
    "    json.dump(data_job_demand_forecast_monthly, file, indent=4) \n",
    "\n",
    "# Quarterly \n",
    "df_quarterly = plumber_df.resample('Q').sum()\n",
    "historical_demand = np.ceil(df_quarterly['revenue'][-6:]).astype(int)\n",
    "quarterly_forecast = np.ceil(forecast_revenue(df_quarterly, seasonal_periods=4, forecast_horizon=forecast_months // 3)).astype(int)\n",
    "combined_demand_forecast = np.concatenate((historical_demand, quarterly_forecast))\n",
    "\n",
    "historical_labels = [historical_demand.index[i].strftime(\"%Y-%m\") for i in range(len(historical_demand))]\n",
    "forecasted_labels = [(quarterly_forecast.index[i].strftime(\"%Y-%m\")) for i in range(len(quarterly_forecast))]\n",
    "combined_labels = historical_labels + forecasted_labels\n",
    "\n",
    "data_job_demand_forecast_quarterly = {\n",
    "    'labels': combined_labels,\n",
    "    'data': combined_demand_forecast.tolist()\n",
    "}\n",
    "\n",
    "with open('../public/analytics/job-revenue-forecast-plumber-quarter.json', 'w') as file:\n",
    "    json.dump(data_job_demand_forecast_quarterly, file, indent=4) "
   ]
  },
  {
   "cell_type": "code",
   "execution_count": 25,
   "metadata": {
    "execution": {
     "iopub.execute_input": "2024-09-30T15:57:06.128930Z",
     "iopub.status.busy": "2024-09-30T15:57:06.128930Z",
     "iopub.status.idle": "2024-09-30T15:57:06.163603Z",
     "shell.execute_reply": "2024-09-30T15:57:06.163058Z"
    }
   },
   "outputs": [
    {
     "name": "stderr",
     "output_type": "stream",
     "text": [
      "C:\\Python311\\Lib\\site-packages\\statsmodels\\tsa\\base\\tsa_model.py:473: ValueWarning: No frequency information was provided, so inferred frequency M will be used.\n",
      "  self._init_dates(dates, freq)\n"
     ]
    }
   ],
   "source": [
    "# Handyman\n",
    "historical_data = {\n",
    "    'date': pd.date_range(start=start_date, end=today, freq='M'),\n",
    "    'revenue': [420, 350, 410, 520, 370, 350, 400, 310, 300, 320, 410, 450,  \n",
    "                620, 580, 640, 750, 700, 680, 630, 630, 640, 550, 700, 710, \n",
    "                730, 850, 930, 1040, 700, 800, 800, 740, 690, 770, 1000, 900]\n",
    "}\n",
    "handyman_df = pd.DataFrame(historical_data)\n",
    "handyman_df.set_index('date', inplace=True)\n",
    "\n",
    "forecast_months = 6\n",
    "\n",
    "# Monthly\n",
    "historical_demand = handyman_df['revenue'][-12:]\n",
    "monthly_forecast = np.ceil(forecast_revenue(handyman_df, seasonal_periods=12, forecast_horizon=forecast_months)).astype(int)\n",
    "combined_demand_forecast = np.concatenate((historical_demand, monthly_forecast))\n",
    "\n",
    "historical_labels = [historical_demand.index[i].strftime(\"%Y-%m\") for i in range(len(historical_demand))]\n",
    "forecasted_labels = [(monthly_forecast.index[i].strftime(\"%Y-%m\")) for i in range(len(monthly_forecast))]\n",
    "combined_labels = historical_labels + forecasted_labels\n",
    "\n",
    "data_job_demand_forecast_monthly = {\n",
    "    'labels': combined_labels,\n",
    "    'data': combined_demand_forecast.tolist()\n",
    "}\n",
    "\n",
    "with open('../public/analytics/job-revenue-forecast-handyman-month.json', 'w') as file:\n",
    "    json.dump(data_job_demand_forecast_monthly, file, indent=4) \n",
    "\n",
    "# Quarterly \n",
    "df_quarterly = handyman_df.resample('Q').sum()\n",
    "historical_demand = np.ceil(df_quarterly['revenue'][-6:]).astype(int)\n",
    "quarterly_forecast = np.ceil(forecast_revenue(df_quarterly, seasonal_periods=4, forecast_horizon=forecast_months // 3)).astype(int)\n",
    "combined_demand_forecast = np.concatenate((historical_demand, quarterly_forecast))\n",
    "\n",
    "historical_labels = [historical_demand.index[i].strftime(\"%Y-%m\") for i in range(len(historical_demand))]\n",
    "forecasted_labels = [(quarterly_forecast.index[i].strftime(\"%Y-%m\")) for i in range(len(quarterly_forecast))]\n",
    "combined_labels = historical_labels + forecasted_labels\n",
    "\n",
    "data_job_demand_forecast_quarterly = {\n",
    "    'labels': combined_labels,\n",
    "    'data': combined_demand_forecast.tolist()\n",
    "}\n",
    "\n",
    "with open('../public/analytics/job-revenue-forecast-handyman-quarter.json', 'w') as file:\n",
    "    json.dump(data_job_demand_forecast_quarterly, file, indent=4) "
   ]
  },
  {
   "cell_type": "code",
   "execution_count": 26,
   "metadata": {
    "execution": {
     "iopub.execute_input": "2024-09-30T15:57:06.165609Z",
     "iopub.status.busy": "2024-09-30T15:57:06.165609Z",
     "iopub.status.idle": "2024-09-30T15:57:06.198850Z",
     "shell.execute_reply": "2024-09-30T15:57:06.198850Z"
    }
   },
   "outputs": [
    {
     "name": "stderr",
     "output_type": "stream",
     "text": [
      "C:\\Python311\\Lib\\site-packages\\statsmodels\\tsa\\base\\tsa_model.py:473: ValueWarning: No frequency information was provided, so inferred frequency M will be used.\n",
      "  self._init_dates(dates, freq)\n"
     ]
    }
   ],
   "source": [
    "# Aircon\n",
    "historical_data = {\n",
    "    'date': pd.date_range(start=start_date, end=today, freq='M'),\n",
    "    'revenue': [840, 700, 600, 640, 820, 900, 820, 1040, 740, 700, 800, 620, \n",
    "                1240, 1160, 1280, 1100, 1400, 1420, 1280, 1500, 1400, 1360, 1260, 1260, \n",
    "                1460, 1700, 1380, 1540, 2000, 1800, 1860, 2080, 1400, 1600, 1600, 1480]\n",
    "}\n",
    "aircon_df = pd.DataFrame(historical_data)\n",
    "aircon_df.set_index('date', inplace=True)\n",
    "\n",
    "forecast_months = 6\n",
    "\n",
    "# Monthly\n",
    "historical_demand = aircon_df['revenue'][-12:]\n",
    "monthly_forecast = np.ceil(forecast_revenue(aircon_df, seasonal_periods=12, forecast_horizon=forecast_months)).astype(int)\n",
    "combined_demand_forecast = np.concatenate((historical_demand, monthly_forecast))\n",
    "\n",
    "historical_labels = [historical_demand.index[i].strftime(\"%Y-%m\") for i in range(len(historical_demand))]\n",
    "forecasted_labels = [(monthly_forecast.index[i].strftime(\"%Y-%m\")) for i in range(len(monthly_forecast))]\n",
    "combined_labels = historical_labels + forecasted_labels\n",
    "\n",
    "data_job_demand_forecast_monthly = {\n",
    "    'labels': combined_labels,\n",
    "    'data': combined_demand_forecast.tolist()\n",
    "}\n",
    "\n",
    "with open('../public/analytics/job-revenue-forecast-aircon-month.json', 'w') as file:\n",
    "    json.dump(data_job_demand_forecast_monthly, file, indent=4) \n",
    "\n",
    "# Quarterly \n",
    "df_quarterly = aircon_df.resample('Q').sum()\n",
    "historical_demand = np.ceil(df_quarterly['revenue'][-6:]).astype(int)\n",
    "quarterly_forecast = np.ceil(forecast_revenue(df_quarterly, seasonal_periods=4, forecast_horizon=forecast_months // 3)).astype(int)\n",
    "combined_demand_forecast = np.concatenate((historical_demand, quarterly_forecast))\n",
    "\n",
    "historical_labels = [historical_demand.index[i].strftime(\"%Y-%m\") for i in range(len(historical_demand))]\n",
    "forecasted_labels = [(quarterly_forecast.index[i].strftime(\"%Y-%m\")) for i in range(len(quarterly_forecast))]\n",
    "combined_labels = historical_labels + forecasted_labels\n",
    "\n",
    "data_job_demand_forecast_quarterly = {\n",
    "    'labels': combined_labels,\n",
    "    'data': combined_demand_forecast.tolist()\n",
    "}\n",
    "\n",
    "with open('../public/analytics/job-revenue-forecast-aircon-quarter.json', 'w') as file:\n",
    "    json.dump(data_job_demand_forecast_quarterly, file, indent=4) "
   ]
  },
  {
   "cell_type": "markdown",
   "metadata": {},
   "source": [
    "#### Job Demand Forecast"
   ]
  },
  {
   "cell_type": "code",
   "execution_count": 27,
   "metadata": {
    "execution": {
     "iopub.execute_input": "2024-09-30T15:57:06.200856Z",
     "iopub.status.busy": "2024-09-30T15:57:06.200856Z",
     "iopub.status.idle": "2024-09-30T15:57:06.204362Z",
     "shell.execute_reply": "2024-09-30T15:57:06.204362Z"
    }
   },
   "outputs": [],
   "source": [
    "def forecast_demand(df, seasonal_periods, forecast_horizon):\n",
    "    model = ExponentialSmoothing(df['demand'], seasonal='add', seasonal_periods=seasonal_periods)\n",
    "    model_fit = model.fit()\n",
    "    forecast = model_fit.forecast(forecast_horizon)\n",
    "    return forecast"
   ]
  },
  {
   "cell_type": "code",
   "execution_count": 28,
   "metadata": {
    "execution": {
     "iopub.execute_input": "2024-09-30T15:57:06.206369Z",
     "iopub.status.busy": "2024-09-30T15:57:06.206369Z",
     "iopub.status.idle": "2024-09-30T15:57:06.244882Z",
     "shell.execute_reply": "2024-09-30T15:57:06.244882Z"
    }
   },
   "outputs": [
    {
     "name": "stderr",
     "output_type": "stream",
     "text": [
      "C:\\Python311\\Lib\\site-packages\\statsmodels\\tsa\\base\\tsa_model.py:473: ValueWarning: No frequency information was provided, so inferred frequency M will be used.\n",
      "  self._init_dates(dates, freq)\n"
     ]
    }
   ],
   "source": [
    "# Electrician\n",
    "historical_data = {\n",
    "    'date': pd.date_range(start=start_date, end=today, freq='M'),\n",
    "    'demand': [1, 1, 0, 2, 4, 5, 2, 3, 4, 2, 3, 5, \n",
    "               3, 3, 4, 5, 7, 7, 2, 5, 6, 6, 7, 8,\n",
    "               5, 4, 5, 6, 10, 9, 3, 5, 3, 4, 6, 8]\n",
    "}\n",
    "electrician_df = pd.DataFrame(historical_data)\n",
    "electrician_df.set_index('date', inplace=True)\n",
    "\n",
    "forecast_months = 6\n",
    "\n",
    "# Monthly\n",
    "historical_demand = electrician_df['demand'][-12:]\n",
    "monthly_forecast = np.ceil(forecast_demand(electrician_df, seasonal_periods=12, forecast_horizon=forecast_months)).astype(int)\n",
    "combined_demand_forecast = np.concatenate((historical_demand, monthly_forecast))\n",
    "\n",
    "historical_labels = [historical_demand.index[i].strftime(\"%Y-%m\") for i in range(len(historical_demand))]\n",
    "forecasted_labels = [(monthly_forecast.index[i].strftime(\"%Y-%m\")) for i in range(len(monthly_forecast))]\n",
    "combined_labels = historical_labels + forecasted_labels\n",
    "\n",
    "data_job_demand_forecast_monthly = {\n",
    "    'labels': combined_labels,\n",
    "    'data': combined_demand_forecast.tolist()\n",
    "}\n",
    "\n",
    "with open('../public/analytics/job-demand-forecast-electrician-month.json', 'w') as file:\n",
    "    json.dump(data_job_demand_forecast_monthly, file, indent=4) \n",
    "\n",
    "# Quarterly \n",
    "df_quarterly = electrician_df.resample('Q').sum()\n",
    "historical_demand = np.ceil(df_quarterly['demand'][-6:]).astype(int)\n",
    "quarterly_forecast = np.ceil(forecast_demand(df_quarterly, seasonal_periods=4, forecast_horizon=forecast_months // 3)).astype(int)\n",
    "combined_demand_forecast = np.concatenate((historical_demand, quarterly_forecast))\n",
    "\n",
    "historical_labels = [historical_demand.index[i].strftime(\"%Y-%m\") for i in range(len(historical_demand))]\n",
    "forecasted_labels = [(quarterly_forecast.index[i].strftime(\"%Y-%m\")) for i in range(len(quarterly_forecast))]\n",
    "combined_labels = historical_labels + forecasted_labels\n",
    "\n",
    "data_job_demand_forecast_quarterly = {\n",
    "    'labels': combined_labels,\n",
    "    'data': combined_demand_forecast.tolist()\n",
    "}\n",
    "\n",
    "with open('../public/analytics/job-demand-forecast-electrician-quarter.json', 'w') as file:\n",
    "    json.dump(data_job_demand_forecast_quarterly, file, indent=4) \n"
   ]
  },
  {
   "cell_type": "code",
   "execution_count": 29,
   "metadata": {
    "execution": {
     "iopub.execute_input": "2024-09-30T15:57:06.247889Z",
     "iopub.status.busy": "2024-09-30T15:57:06.246888Z",
     "iopub.status.idle": "2024-09-30T15:57:06.281497Z",
     "shell.execute_reply": "2024-09-30T15:57:06.281497Z"
    }
   },
   "outputs": [
    {
     "name": "stderr",
     "output_type": "stream",
     "text": [
      "C:\\Python311\\Lib\\site-packages\\statsmodels\\tsa\\base\\tsa_model.py:473: ValueWarning: No frequency information was provided, so inferred frequency M will be used.\n",
      "  self._init_dates(dates, freq)\n"
     ]
    }
   ],
   "source": [
    "# Ventilation\n",
    "historical_data = {\n",
    "    'date': pd.date_range(start=start_date, end=today, freq='M'),\n",
    "    'demand': [1, 0, 2, 4, 5, 3, 3, 4, 5, 6, 2, 1, \n",
    "               4, 10, 6, 5, 4, 3, 5, 2, 4, 3, 5, 1,\n",
    "               8, 6, 4, 3, 5, 2, 7, 7, 5, 6, 2, 5]\n",
    "}\n",
    "ventilation_df = pd.DataFrame(historical_data)\n",
    "ventilation_df.set_index('date', inplace=True)\n",
    "\n",
    "forecast_months = 6\n",
    "\n",
    "# Monthly\n",
    "historical_demand = ventilation_df['demand'][-12:]\n",
    "monthly_forecast = np.ceil(forecast_demand(ventilation_df, seasonal_periods=12, forecast_horizon=forecast_months)).astype(int)\n",
    "combined_demand_forecast = np.concatenate((historical_demand, monthly_forecast))\n",
    "\n",
    "historical_labels = [historical_demand.index[i].strftime(\"%Y-%m\") for i in range(len(historical_demand))]\n",
    "forecasted_labels = [(monthly_forecast.index[i].strftime(\"%Y-%m\")) for i in range(len(monthly_forecast))]\n",
    "combined_labels = historical_labels + forecasted_labels\n",
    "\n",
    "data_job_demand_forecast_monthly = {\n",
    "    'labels': combined_labels,\n",
    "    'data': combined_demand_forecast.tolist()\n",
    "}\n",
    "\n",
    "with open('../public/analytics/job-demand-forecast-ventilation-month.json', 'w') as file:\n",
    "    json.dump(data_job_demand_forecast_monthly, file, indent=4) \n",
    "\n",
    "# Quarterly \n",
    "df_quarterly = ventilation_df.resample('Q').sum()\n",
    "historical_demand = np.ceil(df_quarterly['demand'][-6:]).astype(int)\n",
    "quarterly_forecast = np.ceil(forecast_demand(df_quarterly, seasonal_periods=4, forecast_horizon=forecast_months // 3)).astype(int)\n",
    "combined_demand_forecast = np.concatenate((historical_demand, quarterly_forecast))\n",
    "\n",
    "historical_labels = [historical_demand.index[i].strftime(\"%Y-%m\") for i in range(len(historical_demand))]\n",
    "forecasted_labels = [(quarterly_forecast.index[i].strftime(\"%Y-%m\")) for i in range(len(quarterly_forecast))]\n",
    "combined_labels = historical_labels + forecasted_labels\n",
    "\n",
    "data_job_demand_forecast_quarterly = {\n",
    "    'labels': combined_labels,\n",
    "    'data': combined_demand_forecast.tolist()\n",
    "}\n",
    "\n",
    "with open('../public/analytics/job-demand-forecast-ventilation-quarter.json', 'w') as file:\n",
    "    json.dump(data_job_demand_forecast_quarterly, file, indent=4) "
   ]
  },
  {
   "cell_type": "code",
   "execution_count": 30,
   "metadata": {
    "execution": {
     "iopub.execute_input": "2024-09-30T15:57:06.284010Z",
     "iopub.status.busy": "2024-09-30T15:57:06.284010Z",
     "iopub.status.idle": "2024-09-30T15:57:06.320422Z",
     "shell.execute_reply": "2024-09-30T15:57:06.320422Z"
    }
   },
   "outputs": [
    {
     "name": "stderr",
     "output_type": "stream",
     "text": [
      "C:\\Python311\\Lib\\site-packages\\statsmodels\\tsa\\base\\tsa_model.py:473: ValueWarning: No frequency information was provided, so inferred frequency M will be used.\n",
      "  self._init_dates(dates, freq)\n"
     ]
    }
   ],
   "source": [
    "# Plumber\n",
    "historical_data = {\n",
    "    'date': pd.date_range(start=start_date, end=today, freq='M'),\n",
    "    'demand': [10, 4, 6, 8, 2, 2, 0, 4, 8, 4, 6, 10, \n",
    "               14, 4, 10, 12, 6, 6, 8, 10, 14, 12, 14, 16,\n",
    "               18, 6, 10, 6, 10, 8, 10, 12, 20, 8, 12, 16]\n",
    "}\n",
    "plumber_df = pd.DataFrame(historical_data)\n",
    "plumber_df.set_index('date', inplace=True)\n",
    "\n",
    "forecast_months = 6\n",
    "\n",
    "# Monthly\n",
    "historical_demand = plumber_df['demand'][-12:]\n",
    "monthly_forecast = np.ceil(forecast_demand(plumber_df, seasonal_periods=12, forecast_horizon=forecast_months)).astype(int)\n",
    "combined_demand_forecast = np.concatenate((historical_demand, monthly_forecast))\n",
    "\n",
    "historical_labels = [historical_demand.index[i].strftime(\"%Y-%m\") for i in range(len(historical_demand))]\n",
    "forecasted_labels = [(monthly_forecast.index[i].strftime(\"%Y-%m\")) for i in range(len(monthly_forecast))]\n",
    "combined_labels = historical_labels + forecasted_labels\n",
    "\n",
    "data_job_demand_forecast_monthly = {\n",
    "    'labels': combined_labels,\n",
    "    'data': combined_demand_forecast.tolist()\n",
    "}\n",
    "\n",
    "with open('../public/analytics/job-demand-forecast-plumber-month.json', 'w') as file:\n",
    "    json.dump(data_job_demand_forecast_monthly, file, indent=4) \n",
    "\n",
    "# Quarterly \n",
    "df_quarterly = plumber_df.resample('Q').sum()\n",
    "historical_demand = np.ceil(df_quarterly['demand'][-6:]).astype(int)\n",
    "quarterly_forecast = np.ceil(forecast_demand(df_quarterly, seasonal_periods=4, forecast_horizon=forecast_months // 3)).astype(int)\n",
    "combined_demand_forecast = np.concatenate((historical_demand, quarterly_forecast))\n",
    "\n",
    "historical_labels = [historical_demand.index[i].strftime(\"%Y-%m\") for i in range(len(historical_demand))]\n",
    "forecasted_labels = [(quarterly_forecast.index[i].strftime(\"%Y-%m\")) for i in range(len(quarterly_forecast))]\n",
    "combined_labels = historical_labels + forecasted_labels\n",
    "\n",
    "data_job_demand_forecast_quarterly = {\n",
    "    'labels': combined_labels,\n",
    "    'data': combined_demand_forecast.tolist()\n",
    "}\n",
    "\n",
    "with open('../public/analytics/job-demand-forecast-plumber-quarter.json', 'w') as file:\n",
    "    json.dump(data_job_demand_forecast_quarterly, file, indent=4) "
   ]
  },
  {
   "cell_type": "code",
   "execution_count": 31,
   "metadata": {
    "execution": {
     "iopub.execute_input": "2024-09-30T15:57:06.322427Z",
     "iopub.status.busy": "2024-09-30T15:57:06.322427Z",
     "iopub.status.idle": "2024-09-30T15:57:06.358776Z",
     "shell.execute_reply": "2024-09-30T15:57:06.358776Z"
    }
   },
   "outputs": [
    {
     "name": "stderr",
     "output_type": "stream",
     "text": [
      "C:\\Python311\\Lib\\site-packages\\statsmodels\\tsa\\base\\tsa_model.py:473: ValueWarning: No frequency information was provided, so inferred frequency M will be used.\n",
      "  self._init_dates(dates, freq)\n"
     ]
    }
   ],
   "source": [
    "# Handyman\n",
    "historical_data = {\n",
    "    'date': pd.date_range(start=start_date, end=today, freq='M'),\n",
    "    'demand': [7, 3, 4, 6, 2, 2, 0, 3, 6, 3, 4, 7, \n",
    "               9, 3, 7, 8, 4, 4, 6, 7, 9, 8, 9, 11,\n",
    "               12, 4, 7, 4, 7, 6, 7, 8, 14, 6, 8, 11]\n",
    "}\n",
    "handyman_df = pd.DataFrame(historical_data)\n",
    "handyman_df.set_index('date', inplace=True)\n",
    "\n",
    "forecast_months = 6\n",
    "\n",
    "# Monthly\n",
    "historical_demand = handyman_df['demand'][-12:]\n",
    "monthly_forecast = np.ceil(forecast_demand(handyman_df, seasonal_periods=12, forecast_horizon=forecast_months)).astype(int)\n",
    "combined_demand_forecast = np.concatenate((historical_demand, monthly_forecast))\n",
    "\n",
    "historical_labels = [historical_demand.index[i].strftime(\"%Y-%m\") for i in range(len(historical_demand))]\n",
    "forecasted_labels = [(monthly_forecast.index[i].strftime(\"%Y-%m\")) for i in range(len(monthly_forecast))]\n",
    "combined_labels = historical_labels + forecasted_labels\n",
    "\n",
    "data_job_demand_forecast_monthly = {\n",
    "    'labels': combined_labels,\n",
    "    'data': combined_demand_forecast.tolist()\n",
    "}\n",
    "\n",
    "with open('../public/analytics/job-demand-forecast-handyman-month.json', 'w') as file:\n",
    "    json.dump(data_job_demand_forecast_monthly, file, indent=4) \n",
    "\n",
    "# Quarterly \n",
    "df_quarterly = handyman_df.resample('Q').sum()\n",
    "historical_demand = np.ceil(df_quarterly['demand'][-6:]).astype(int)\n",
    "quarterly_forecast = np.ceil(forecast_demand(df_quarterly, seasonal_periods=4, forecast_horizon=forecast_months // 3)).astype(int)\n",
    "combined_demand_forecast = np.concatenate((historical_demand, quarterly_forecast))\n",
    "\n",
    "historical_labels = [historical_demand.index[i].strftime(\"%Y-%m\") for i in range(len(historical_demand))]\n",
    "forecasted_labels = [(quarterly_forecast.index[i].strftime(\"%Y-%m\")) for i in range(len(quarterly_forecast))]\n",
    "combined_labels = historical_labels + forecasted_labels\n",
    "\n",
    "data_job_demand_forecast_quarterly = {\n",
    "    'labels': combined_labels,\n",
    "    'data': combined_demand_forecast.tolist()\n",
    "}\n",
    "\n",
    "with open('../public/analytics/job-demand-forecast-handyman-quarter.json', 'w') as file:\n",
    "    json.dump(data_job_demand_forecast_quarterly, file, indent=4) "
   ]
  },
  {
   "cell_type": "code",
   "execution_count": 32,
   "metadata": {
    "execution": {
     "iopub.execute_input": "2024-09-30T15:57:06.360781Z",
     "iopub.status.busy": "2024-09-30T15:57:06.360781Z",
     "iopub.status.idle": "2024-09-30T15:57:06.400211Z",
     "shell.execute_reply": "2024-09-30T15:57:06.400211Z"
    }
   },
   "outputs": [
    {
     "name": "stderr",
     "output_type": "stream",
     "text": [
      "C:\\Python311\\Lib\\site-packages\\statsmodels\\tsa\\base\\tsa_model.py:473: ValueWarning: No frequency information was provided, so inferred frequency M will be used.\n",
      "  self._init_dates(dates, freq)\n"
     ]
    }
   ],
   "source": [
    "# Aircon\n",
    "historical_data = {\n",
    "    'date': pd.date_range(start=start_date, end=today, freq='M'),\n",
    "    'demand': [47, 43, 44, 46, 42, 42, 40, 43, 36, 43, 44, 47, \n",
    "               59, 43, 47, 48, 44, 44, 46, 47, 49, 48, 52, 53,\n",
    "               72, 49, 57, 48, 52, 55, 59, 58, 64, 60, 68, 71]\n",
    "}\n",
    "aircon_df = pd.DataFrame(historical_data)\n",
    "aircon_df.set_index('date', inplace=True)\n",
    "\n",
    "forecast_months = 6\n",
    "\n",
    "# Monthly\n",
    "historical_demand = aircon_df['demand'][-12:]\n",
    "monthly_forecast = np.ceil(forecast_demand(aircon_df, seasonal_periods=12, forecast_horizon=forecast_months)).astype(int)\n",
    "combined_demand_forecast = np.concatenate((historical_demand, monthly_forecast))\n",
    "\n",
    "historical_labels = [historical_demand.index[i].strftime(\"%Y-%m\") for i in range(len(historical_demand))]\n",
    "forecasted_labels = [(monthly_forecast.index[i].strftime(\"%Y-%m\")) for i in range(len(monthly_forecast))]\n",
    "combined_labels = historical_labels + forecasted_labels\n",
    "\n",
    "data_job_demand_forecast_monthly = {\n",
    "    'labels': combined_labels,\n",
    "    'data': combined_demand_forecast.tolist()\n",
    "}\n",
    "\n",
    "with open('../public/analytics/job-demand-forecast-aircon-month.json', 'w') as file:\n",
    "    json.dump(data_job_demand_forecast_monthly, file, indent=4) \n",
    "\n",
    "# Quarterly \n",
    "df_quarterly = aircon_df.resample('Q').sum()\n",
    "historical_demand = np.ceil(df_quarterly['demand'][-6:]).astype(int)\n",
    "quarterly_forecast = np.ceil(forecast_demand(df_quarterly, seasonal_periods=4, forecast_horizon=forecast_months // 3)).astype(int)\n",
    "combined_demand_forecast = np.concatenate((historical_demand, quarterly_forecast))\n",
    "\n",
    "historical_labels = [historical_demand.index[i].strftime(\"%Y-%m\") for i in range(len(historical_demand))]\n",
    "forecasted_labels = [(quarterly_forecast.index[i].strftime(\"%Y-%m\")) for i in range(len(quarterly_forecast))]\n",
    "combined_labels = historical_labels + forecasted_labels\n",
    "\n",
    "data_job_demand_forecast_quarterly = {\n",
    "    'labels': combined_labels,\n",
    "    'data': combined_demand_forecast.tolist()\n",
    "}\n",
    "\n",
    "with open('../public/analytics/job-demand-forecast-aircon-quarter.json', 'w') as file:\n",
    "    json.dump(data_job_demand_forecast_quarterly, file, indent=4) "
   ]
  }
 ],
 "metadata": {
  "kernelspec": {
   "display_name": "Python 3 (ipykernel)",
   "language": "python",
   "name": "python3"
  },
  "language_info": {
   "codemirror_mode": {
    "name": "ipython",
    "version": 3
   },
   "file_extension": ".py",
   "mimetype": "text/x-python",
   "name": "python",
   "nbconvert_exporter": "python",
   "pygments_lexer": "ipython3",
   "version": "3.11.0"
  }
 },
 "nbformat": 4,
 "nbformat_minor": 4
}

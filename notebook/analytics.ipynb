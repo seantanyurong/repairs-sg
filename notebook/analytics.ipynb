{
 "cells": [
  {
   "cell_type": "markdown",
   "metadata": {},
   "source": [
    "# Analytics Notebook"
   ]
  },
  {
   "cell_type": "markdown",
   "metadata": {},
   "source": [
    "### Connect To MongoDB"
   ]
  },
  {
   "cell_type": "code",
   "execution_count": 1,
   "metadata": {
    "execution": {
     "iopub.execute_input": "2024-09-28T16:27:04.633574Z",
     "iopub.status.busy": "2024-09-28T16:27:04.632567Z",
     "iopub.status.idle": "2024-09-28T16:27:04.637442Z",
     "shell.execute_reply": "2024-09-28T16:27:04.637442Z"
    }
   },
   "outputs": [],
   "source": [
    "## Import MongoClient\n",
    "# from pymongo import MongoClient\n",
    "\n",
    "## Connect To DB\n",
    "# Remove When Committing\n",
    "# connection_string = '' \n",
    "# client = MongoClient(connection_string)\n",
    "# db = client['test']"
   ]
  },
  {
   "cell_type": "code",
   "execution_count": 2,
   "metadata": {
    "execution": {
     "iopub.execute_input": "2024-09-28T16:27:04.640084Z",
     "iopub.status.busy": "2024-09-28T16:27:04.640084Z",
     "iopub.status.idle": "2024-09-28T16:27:04.643431Z",
     "shell.execute_reply": "2024-09-28T16:27:04.643431Z"
    }
   },
   "outputs": [],
   "source": [
    "## Testing\n",
    "# print(list(db['vehicles'].find()))"
   ]
  },
  {
   "cell_type": "markdown",
   "metadata": {},
   "source": [
    "## Analytics Dashboard"
   ]
  },
  {
   "cell_type": "code",
   "execution_count": 3,
   "metadata": {
    "execution": {
     "iopub.execute_input": "2024-09-28T16:27:04.648356Z",
     "iopub.status.busy": "2024-09-28T16:27:04.647346Z",
     "iopub.status.idle": "2024-09-28T16:27:04.654734Z",
     "shell.execute_reply": "2024-09-28T16:27:04.654734Z"
    }
   },
   "outputs": [],
   "source": [
    "## General Libraries\n",
    "import json\n",
    "# import pandas as pd\n",
    "# import matplotlib.pyplot as plt\n",
    "# import seaborn as sns"
   ]
  },
  {
   "cell_type": "markdown",
   "metadata": {},
   "source": [
    "### Job Analytics"
   ]
  },
  {
   "cell_type": "markdown",
   "metadata": {},
   "source": [
    "#### Job Type Distribution"
   ]
  },
  {
   "cell_type": "code",
   "execution_count": 4,
   "metadata": {
    "execution": {
     "iopub.execute_input": "2024-09-28T16:27:04.658381Z",
     "iopub.status.busy": "2024-09-28T16:27:04.657098Z",
     "iopub.status.idle": "2024-09-28T16:27:04.660973Z",
     "shell.execute_reply": "2024-09-28T16:27:04.660973Z"
    }
   },
   "outputs": [],
   "source": [
    "# General Labels\n",
    "job_types = ['ELECTRICIAN', 'VENTILATION', 'PLUMBER', 'HANDYMAN', 'AIRCON']"
   ]
  },
  {
   "cell_type": "code",
   "execution_count": 5,
   "metadata": {
    "execution": {
     "iopub.execute_input": "2024-09-28T16:27:04.665261Z",
     "iopub.status.busy": "2024-09-28T16:27:04.663844Z",
     "iopub.status.idle": "2024-09-28T16:27:04.673311Z",
     "shell.execute_reply": "2024-09-28T16:27:04.673311Z"
    }
   },
   "outputs": [],
   "source": [
    "# Past 1 Month\n",
    "total_job_frequency = [21, 6, 3, 19, 11]\n",
    "\n",
    "data_job_type_dist = {\n",
    "    'labels': job_types,\n",
    "    'data': total_job_frequency\n",
    "}\n",
    "\n",
    "# Save data to JSON file\n",
    "with open('../public/analytics/job-type-dist-one-month-total.json', 'w') as file:\n",
    "    json.dump(data_job_type_dist, file, indent=4)\n",
    "\n",
    "average_job_frequency = total_job_frequency\n",
    "\n",
    "data_job_type_dist = {\n",
    "    'labels': job_types,\n",
    "    'data': average_job_frequency\n",
    "}\n",
    "\n",
    "# Save data to JSON file\n",
    "with open('../public/analytics/job-type-dist-one-month-average.json', 'w') as file:\n",
    "    json.dump(data_job_type_dist, file, indent=4)   "
   ]
  },
  {
   "cell_type": "code",
   "execution_count": 6,
   "metadata": {
    "execution": {
     "iopub.execute_input": "2024-09-28T16:27:04.678387Z",
     "iopub.status.busy": "2024-09-28T16:27:04.677137Z",
     "iopub.status.idle": "2024-09-28T16:27:04.687319Z",
     "shell.execute_reply": "2024-09-28T16:27:04.687319Z"
    }
   },
   "outputs": [],
   "source": [
    "# Past 3 Month\n",
    "total_job_frequency = [56, 17, 10, 61, 29]\n",
    "\n",
    "data_job_type_dist = {\n",
    "    'labels': job_types,\n",
    "    'data': total_job_frequency\n",
    "}\n",
    "\n",
    "# Save data to JSON file\n",
    "with open('../public/analytics/job-type-dist-three-month-total.json', 'w') as file:\n",
    "    json.dump(data_job_type_dist, file, indent=4)  \n",
    "\n",
    "average_job_frequency = [x / 3 for x in total_job_frequency]\n",
    "\n",
    "data_job_type_dist = {\n",
    "    'labels': job_types,\n",
    "    'data': average_job_frequency\n",
    "}\n",
    "\n",
    "# Save data to JSON file\n",
    "with open('../public/analytics/job-type-dist-three-month-average.json', 'w') as file:\n",
    "    json.dump(data_job_type_dist, file, indent=4) "
   ]
  },
  {
   "cell_type": "code",
   "execution_count": 7,
   "metadata": {
    "execution": {
     "iopub.execute_input": "2024-09-28T16:27:04.691765Z",
     "iopub.status.busy": "2024-09-28T16:27:04.690302Z",
     "iopub.status.idle": "2024-09-28T16:27:04.698196Z",
     "shell.execute_reply": "2024-09-28T16:27:04.698196Z"
    }
   },
   "outputs": [],
   "source": [
    "# Past 6 Month\n",
    "total_job_frequency = [112, 33, 19, 106, 55]\n",
    "\n",
    "data_job_type_dist = {\n",
    "    'labels': job_types,\n",
    "    'data': total_job_frequency\n",
    "}\n",
    "\n",
    "# Save data to JSON file\n",
    "with open('../public/analytics/job-type-dist-six-month-total.json', 'w') as file:\n",
    "    json.dump(data_job_type_dist, file, indent=4)\n",
    "\n",
    "average_job_frequency = [x / 6 for x in total_job_frequency]\n",
    "\n",
    "data_job_type_dist = {\n",
    "    'labels': job_types,\n",
    "    'data': average_job_frequency\n",
    "}\n",
    "\n",
    "# Save data to JSON file\n",
    "with open('../public/analytics/job-type-dist-six-month-average.json', 'w') as file:\n",
    "    json.dump(data_job_type_dist, file, indent=4) "
   ]
  },
  {
   "cell_type": "code",
   "execution_count": 8,
   "metadata": {
    "execution": {
     "iopub.execute_input": "2024-09-28T16:27:04.702147Z",
     "iopub.status.busy": "2024-09-28T16:27:04.702147Z",
     "iopub.status.idle": "2024-09-28T16:27:04.709979Z",
     "shell.execute_reply": "2024-09-28T16:27:04.709979Z"
    }
   },
   "outputs": [],
   "source": [
    "# Past 12 Month\n",
    "total_job_frequency = [222, 61, 40, 205, 99]\n",
    "\n",
    "data_job_type_dist = {\n",
    "    'labels': job_types,\n",
    "    'data': total_job_frequency\n",
    "}\n",
    "\n",
    "# Save data to JSON file\n",
    "with open('../public/analytics/job-type-dist-twelve-month-total.json', 'w') as file:\n",
    "    json.dump(data_job_type_dist, file, indent=4)\n",
    "\n",
    "average_job_frequency = [x / 12 for x in total_job_frequency]\n",
    "\n",
    "data_job_type_dist = {\n",
    "    'labels': job_types,\n",
    "    'data': average_job_frequency\n",
    "}\n",
    "\n",
    "# Save data to JSON file\n",
    "with open('../public/analytics/job-type-dist-twelve-month-average.json', 'w') as file:\n",
    "    json.dump(data_job_type_dist, file, indent=4) "
   ]
  },
  {
   "cell_type": "markdown",
   "metadata": {},
   "source": [
    "#### Job Duration Distribution"
   ]
  },
  {
   "cell_type": "code",
   "execution_count": 9,
   "metadata": {
    "execution": {
     "iopub.execute_input": "2024-09-28T16:27:04.715272Z",
     "iopub.status.busy": "2024-09-28T16:27:04.714267Z",
     "iopub.status.idle": "2024-09-28T16:27:04.719921Z",
     "shell.execute_reply": "2024-09-28T16:27:04.719921Z"
    }
   },
   "outputs": [],
   "source": [
    "# Past 1 Month\n",
    "job_duration = [21, 48, 57, 19, 181]\n",
    "\n",
    "data_job_duration_dist = {\n",
    "    'labels': job_types,\n",
    "    'data': job_duration\n",
    "}\n",
    "\n",
    "# Save data to JSON file\n",
    "with open('../public/analytics/job-duration-dist-one-month.json', 'w') as file:\n",
    "    json.dump(data_job_duration_dist, file, indent=4) "
   ]
  },
  {
   "cell_type": "code",
   "execution_count": 10,
   "metadata": {
    "execution": {
     "iopub.execute_input": "2024-09-28T16:27:04.723264Z",
     "iopub.status.busy": "2024-09-28T16:27:04.723264Z",
     "iopub.status.idle": "2024-09-28T16:27:04.727891Z",
     "shell.execute_reply": "2024-09-28T16:27:04.727891Z"
    }
   },
   "outputs": [],
   "source": [
    "# Past 3 Month\n",
    "job_duration = [20, 45, 52, 17, 166]\n",
    "\n",
    "data_job_duration_dist = {\n",
    "    'labels': job_types,\n",
    "    'data': job_duration\n",
    "}\n",
    "\n",
    "# Save data to JSON file\n",
    "with open('../public/analytics/job-duration-dist-three-month.json', 'w') as file:\n",
    "    json.dump(data_job_duration_dist, file, indent=4) "
   ]
  },
  {
   "cell_type": "code",
   "execution_count": 11,
   "metadata": {
    "execution": {
     "iopub.execute_input": "2024-09-28T16:27:04.732259Z",
     "iopub.status.busy": "2024-09-28T16:27:04.732259Z",
     "iopub.status.idle": "2024-09-28T16:27:04.737208Z",
     "shell.execute_reply": "2024-09-28T16:27:04.737208Z"
    }
   },
   "outputs": [],
   "source": [
    "# Past 6 Month\n",
    "job_duration = [23, 49, 58, 21, 174]\n",
    "\n",
    "data_job_duration_dist = {\n",
    "    'labels': job_types,\n",
    "    'data': job_duration\n",
    "}\n",
    "\n",
    "# Save data to JSON file\n",
    "with open('../public/analytics/job-duration-dist-six-month.json', 'w') as file:\n",
    "    json.dump(data_job_duration_dist, file, indent=4) "
   ]
  },
  {
   "cell_type": "code",
   "execution_count": 12,
   "metadata": {
    "execution": {
     "iopub.execute_input": "2024-09-28T16:27:04.741438Z",
     "iopub.status.busy": "2024-09-28T16:27:04.741438Z",
     "iopub.status.idle": "2024-09-28T16:27:04.746991Z",
     "shell.execute_reply": "2024-09-28T16:27:04.746991Z"
    }
   },
   "outputs": [],
   "source": [
    "# Past 12 Month\n",
    "job_duration = [29, 55, 62, 24, 191]\n",
    "\n",
    "data_job_duration_dist = {\n",
    "    'labels': job_types,\n",
    "    'data': job_duration\n",
    "}\n",
    "\n",
    "# Save data to JSON file\n",
    "with open('../public/analytics/job-duration-dist-twelve-month.json', 'w') as file:\n",
    "    json.dump(data_job_duration_dist, file, indent=4) "
   ]
  },
  {
   "cell_type": "markdown",
   "metadata": {},
   "source": [
    "#### Job Revenue Distribution"
   ]
  },
  {
   "cell_type": "code",
   "execution_count": 13,
   "metadata": {
    "execution": {
     "iopub.execute_input": "2024-09-28T16:27:04.751925Z",
     "iopub.status.busy": "2024-09-28T16:27:04.750925Z",
     "iopub.status.idle": "2024-09-28T16:27:04.759548Z",
     "shell.execute_reply": "2024-09-28T16:27:04.758542Z"
    }
   },
   "outputs": [],
   "source": [
    "# Past 1 Month\n",
    "total_job_revenue = [800, 600, 600, 850, 2200]\n",
    "\n",
    "data_job_revenue_dist = {\n",
    "    'labels': job_types,\n",
    "    'data': total_job_revenue\n",
    "}\n",
    "\n",
    "# Save data to JSON file\n",
    "with open('../public/analytics/job-revenue-dist-one-month-total.json', 'w') as file:\n",
    "    json.dump(data_job_revenue_dist, file, indent=4)\n",
    "\n",
    "average_job_revenue = total_job_revenue\n",
    "\n",
    "data_job_revenue_dist = {\n",
    "    'labels': job_types,\n",
    "    'data': average_job_revenue\n",
    "}\n",
    "\n",
    "# Save data to JSON file\n",
    "with open('../public/analytics/job-revenue-dist-one-month-average.json', 'w') as file:\n",
    "    json.dump(data_job_revenue_dist, file, indent=4)  "
   ]
  },
  {
   "cell_type": "code",
   "execution_count": 14,
   "metadata": {
    "execution": {
     "iopub.execute_input": "2024-09-28T16:27:04.764092Z",
     "iopub.status.busy": "2024-09-28T16:27:04.762677Z",
     "iopub.status.idle": "2024-09-28T16:27:04.770475Z",
     "shell.execute_reply": "2024-09-28T16:27:04.770475Z"
    }
   },
   "outputs": [],
   "source": [
    "# Past 3 Month\n",
    "total_job_revenue = [2490, 1710, 1500, 2400, 5130]\n",
    "\n",
    "data_job_revenue_dist = {\n",
    "    'labels': job_types,\n",
    "    'data': total_job_revenue\n",
    "}\n",
    "\n",
    "# Save data to JSON file\n",
    "with open('../public/analytics/job-revenue-dist-three-month-total.json', 'w') as file:\n",
    "    json.dump(data_job_revenue_dist, file, indent=4)\n",
    "\n",
    "average_job_revenue = [x / 3 for x in total_job_revenue]\n",
    "\n",
    "data_job_revenue_dist = {\n",
    "    'labels': job_types,\n",
    "    'data': average_job_revenue\n",
    "}\n",
    "\n",
    "# Save data to JSON file\n",
    "with open('../public/analytics/job-revenue-dist-three-month-average.json', 'w') as file:\n",
    "    json.dump(data_job_revenue_dist, file, indent=4)  "
   ]
  },
  {
   "cell_type": "code",
   "execution_count": 15,
   "metadata": {
    "execution": {
     "iopub.execute_input": "2024-09-28T16:27:04.774839Z",
     "iopub.status.busy": "2024-09-28T16:27:04.773744Z",
     "iopub.status.idle": "2024-09-28T16:27:04.782460Z",
     "shell.execute_reply": "2024-09-28T16:27:04.782460Z"
    }
   },
   "outputs": [],
   "source": [
    "# Past 6 Month\n",
    "total_job_revenue = [4490, 2970, 2700, 4400, 9330]\n",
    "\n",
    "data_job_revenue_dist = {\n",
    "    'labels': job_types,\n",
    "    'data': total_job_revenue\n",
    "}\n",
    "\n",
    "# Save data to JSON file\n",
    "with open('../public/analytics/job-revenue-dist-six-month-total.json', 'w') as file:\n",
    "    json.dump(data_job_revenue_dist, file, indent=4)\n",
    "\n",
    "average_job_revenue = [x / 6 for x in total_job_revenue]\n",
    "\n",
    "data_job_revenue_dist = {\n",
    "    'labels': job_types,\n",
    "    'data': average_job_revenue\n",
    "}\n",
    "\n",
    "# Save data to JSON file\n",
    "with open('../public/analytics/job-revenue-dist-six-month-average.json', 'w') as file:\n",
    "    json.dump(data_job_revenue_dist, file, indent=4)  "
   ]
  },
  {
   "cell_type": "code",
   "execution_count": 16,
   "metadata": {
    "execution": {
     "iopub.execute_input": "2024-09-28T16:27:04.786365Z",
     "iopub.status.busy": "2024-09-28T16:27:04.786365Z",
     "iopub.status.idle": "2024-09-28T16:27:04.792860Z",
     "shell.execute_reply": "2024-09-28T16:27:04.792860Z"
    }
   },
   "outputs": [],
   "source": [
    "# Past 12 Month\n",
    "total_job_revenue = [8270, 5130, 4860, 8130, 15570]\n",
    "\n",
    "data_job_revenue_dist = {\n",
    "    'labels': job_types,\n",
    "    'data': total_job_revenue\n",
    "}\n",
    "\n",
    "# Save data to JSON file\n",
    "with open('../public/analytics/job-revenue-dist-twelve-month-total.json', 'w') as file:\n",
    "    json.dump(data_job_revenue_dist, file, indent=4)\n",
    "\n",
    "average_job_revenue = [x / 12 for x in total_job_revenue]\n",
    "\n",
    "data_job_revenue_dist = {\n",
    "    'labels': job_types,\n",
    "    'data': average_job_revenue\n",
    "}\n",
    "\n",
    "# Save data to JSON file\n",
    "with open('../public/analytics/job-revenue-dist-twelve-month-average.json', 'w') as file:\n",
    "    json.dump(data_job_revenue_dist, file, indent=4)  "
   ]
  },
  {
   "cell_type": "markdown",
   "metadata": {},
   "source": [
    "#### Job Delay Distribution"
   ]
  },
  {
   "cell_type": "code",
   "execution_count": 17,
   "metadata": {
    "execution": {
     "iopub.execute_input": "2024-09-28T16:27:04.797990Z",
     "iopub.status.busy": "2024-09-28T16:27:04.796991Z",
     "iopub.status.idle": "2024-09-28T16:27:04.803102Z",
     "shell.execute_reply": "2024-09-28T16:27:04.803102Z"
    }
   },
   "outputs": [],
   "source": [
    "# Past 1 Month\n",
    "job_delay = [0, 0, 5, 0, 25]\n",
    "\n",
    "data_job_delay_dist = {\n",
    "    'labels': job_types,\n",
    "    'data': job_delay\n",
    "}\n",
    "\n",
    "# Save data to JSON file\n",
    "with open('../public/analytics/job-delay-dist-one-month.json', 'w') as file:\n",
    "    json.dump(data_job_delay_dist, file, indent=4) "
   ]
  },
  {
   "cell_type": "code",
   "execution_count": 18,
   "metadata": {
    "execution": {
     "iopub.execute_input": "2024-09-28T16:27:04.806436Z",
     "iopub.status.busy": "2024-09-28T16:27:04.806436Z",
     "iopub.status.idle": "2024-09-28T16:27:04.813834Z",
     "shell.execute_reply": "2024-09-28T16:27:04.812585Z"
    }
   },
   "outputs": [],
   "source": [
    "# Past 3 Month\n",
    "job_delay = [1, 2, 10,5, 40]\n",
    "\n",
    "data_job_delay_dist = {\n",
    "    'labels': job_types,\n",
    "    'data': job_delay\n",
    "}\n",
    "\n",
    "# Save data to JSON file\n",
    "with open('../public/analytics/job-delay-dist-three-month.json', 'w') as file:\n",
    "    json.dump(data_job_delay_dist, file, indent=4) "
   ]
  },
  {
   "cell_type": "code",
   "execution_count": 19,
   "metadata": {
    "execution": {
     "iopub.execute_input": "2024-09-28T16:27:04.817648Z",
     "iopub.status.busy": "2024-09-28T16:27:04.816186Z",
     "iopub.status.idle": "2024-09-28T16:27:04.822087Z",
     "shell.execute_reply": "2024-09-28T16:27:04.822087Z"
    }
   },
   "outputs": [],
   "source": [
    "# Past 6 Month\n",
    "job_delay = [4, 6, 12, 7, 50]\n",
    "\n",
    "data_job_delay_dist = {\n",
    "    'labels': job_types,\n",
    "    'data': job_delay\n",
    "}\n",
    "\n",
    "# Save data to JSON file\n",
    "with open('../public/analytics/job-delay-dist-six-month.json', 'w') as file:\n",
    "    json.dump(data_job_delay_dist, file, indent=4) "
   ]
  },
  {
   "cell_type": "code",
   "execution_count": 20,
   "metadata": {
    "execution": {
     "iopub.execute_input": "2024-09-28T16:27:04.825182Z",
     "iopub.status.busy": "2024-09-28T16:27:04.825182Z",
     "iopub.status.idle": "2024-09-28T16:27:04.829990Z",
     "shell.execute_reply": "2024-09-28T16:27:04.829990Z"
    }
   },
   "outputs": [],
   "source": [
    "# Past 12 Month\n",
    "job_delay = [8, 7, 15, 10, 60]\n",
    "\n",
    "data_job_delay_dist = {\n",
    "    'labels': job_types,\n",
    "    'data': job_delay\n",
    "}\n",
    "\n",
    "# Save data to JSON file\n",
    "with open('../public/analytics/job-delay-dist-twelve-month.json', 'w') as file:\n",
    "    json.dump(data_job_delay_dist, file, indent=4) "
   ]
  },
  {
   "cell_type": "markdown",
   "metadata": {},
   "source": [
    "#### Job Duration Forecast"
   ]
  },
  {
   "cell_type": "markdown",
   "metadata": {},
   "source": [
    "#### Job Demand Forecast"
   ]
  }
 ],
 "metadata": {
  "kernelspec": {
   "display_name": "Python 3 (ipykernel)",
   "language": "python",
   "name": "python3"
  },
  "language_info": {
   "codemirror_mode": {
    "name": "ipython",
    "version": 3
   },
   "file_extension": ".py",
   "mimetype": "text/x-python",
   "name": "python",
   "nbconvert_exporter": "python",
   "pygments_lexer": "ipython3",
   "version": "3.11.0"
  }
 },
 "nbformat": 4,
 "nbformat_minor": 4
}

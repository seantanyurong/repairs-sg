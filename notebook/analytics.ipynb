{
 "cells": [
  {
   "cell_type": "markdown",
   "metadata": {},
   "source": [
    "# Analytics Notebook"
   ]
  },
  {
   "cell_type": "markdown",
   "metadata": {},
   "source": [
    "### Connect To MongoDB"
   ]
  },
  {
   "cell_type": "code",
   "execution_count": 1,
   "metadata": {
    "execution": {
     "iopub.execute_input": "2024-10-05T09:22:03.119564Z",
     "iopub.status.busy": "2024-10-05T09:22:03.118164Z",
     "iopub.status.idle": "2024-10-05T09:22:03.561734Z",
     "shell.execute_reply": "2024-10-05T09:22:03.561734Z"
    }
   },
   "outputs": [],
   "source": [
    "## Import Libraries\n",
    "import os\n",
    "from pymongo import MongoClient\n",
    "from dotenv import load_dotenv\n",
    "\n",
    "# Load environment variables\n",
    "load_dotenv('../.env.local')\n",
    "db_uri = os.getenv('MONGODB_URI')\n",
    "\n",
    "## Connect To DB\n",
    "client = MongoClient(db_uri)\n",
    "db = client['test']"
   ]
  },
  {
   "cell_type": "code",
   "execution_count": 2,
   "metadata": {
    "execution": {
     "iopub.execute_input": "2024-10-05T09:22:03.564738Z",
     "iopub.status.busy": "2024-10-05T09:22:03.564738Z",
     "iopub.status.idle": "2024-10-05T09:22:03.715176Z",
     "shell.execute_reply": "2024-10-05T09:22:03.715176Z"
    }
   },
   "outputs": [
    {
     "name": "stdout",
     "output_type": "stream",
     "text": [
      "[{'_id': ObjectId('66feaedd49ba7e8835be8637'), 'rewardCode': 'REW-1234A', 'userId': 'user_2mbSBCVVpY6o84gkOho35Ip0GZn', 'status': 'ACTIVE', 'amount': 15, 'expiryDate': '2024-10-04'}]\n"
     ]
    }
   ],
   "source": [
    "# Testing\n",
    "print(list(db['rewards'].find()))"
   ]
  },
  {
   "cell_type": "markdown",
   "metadata": {},
   "source": [
    "## Analytics Dashboard"
   ]
  },
  {
   "cell_type": "markdown",
   "metadata": {},
   "source": [
    "Uses Cleaned Preprocessed Data Without Sensitive Information. <br/>\n",
    "Preprocessing of Sensitive Data Is Handled Separately."
   ]
  },
  {
   "cell_type": "code",
   "execution_count": 37,
   "metadata": {
    "execution": {
     "iopub.execute_input": "2024-10-05T09:22:03.742949Z",
     "iopub.status.busy": "2024-10-05T09:22:03.742949Z",
     "iopub.status.idle": "2024-10-05T09:22:04.467563Z",
     "shell.execute_reply": "2024-10-05T09:22:04.467563Z"
    }
   },
   "outputs": [],
   "source": [
    "## General Libraries\n",
    "import pandas as pd\n",
    "import numpy as np\n",
    "import json\n",
    "import calendar\n",
    "from datetime import datetime\n",
    "\n",
    "## Time Series\n",
    "from statsmodels.tsa.holtwinters import ExponentialSmoothing\n",
    "\n",
    "## Suppress Warnings\n",
    "import warnings\n",
    "warnings.filterwarnings('ignore')"
   ]
  },
  {
   "cell_type": "markdown",
   "metadata": {},
   "source": [
    "### Job Analytics"
   ]
  },
  {
   "cell_type": "code",
   "execution_count": 4,
   "metadata": {
    "execution": {
     "iopub.execute_input": "2024-10-05T09:22:04.469939Z",
     "iopub.status.busy": "2024-10-05T09:22:04.469939Z",
     "iopub.status.idle": "2024-10-05T09:22:04.475302Z",
     "shell.execute_reply": "2024-10-05T09:22:04.475302Z"
    }
   },
   "outputs": [
    {
     "name": "stdout",
     "output_type": "stream",
     "text": [
      "['Electrician', 'Ventilation', 'Plumber', 'Handyman', 'Aircon']\n"
     ]
    }
   ],
   "source": [
    "# General Labels\n",
    "categories_df = pd.read_csv('./datasets/categories.csv')\n",
    "job_types = categories_df['name'].tolist()\n",
    "print(job_types)"
   ]
  },
  {
   "cell_type": "code",
   "execution_count": 5,
   "metadata": {
    "execution": {
     "iopub.execute_input": "2024-10-05T09:22:04.477307Z",
     "iopub.status.busy": "2024-10-05T09:22:04.477307Z",
     "iopub.status.idle": "2024-10-05T09:22:04.480688Z",
     "shell.execute_reply": "2024-10-05T09:22:04.480688Z"
    }
   },
   "outputs": [],
   "source": [
    "# Function Extract Date\n",
    "def extract_start_date(column):\n",
    "    try:\n",
    "        col_dict = eval(column)\n",
    "        start_date = pd.to_datetime(col_dict[0]['start']['$date'])\n",
    "        return start_date\n",
    "    except:\n",
    "        return None\n",
    "    \n",
    "def extract_end_date(column):\n",
    "    try:\n",
    "        col_dict = eval(column)\n",
    "        start_date = pd.to_datetime(col_dict[0]['end']['$date'])\n",
    "        return start_date\n",
    "    except:\n",
    "        return None"
   ]
  },
  {
   "cell_type": "code",
   "execution_count": 6,
   "metadata": {
    "execution": {
     "iopub.execute_input": "2024-10-05T09:22:04.482693Z",
     "iopub.status.busy": "2024-10-05T09:22:04.482693Z",
     "iopub.status.idle": "2024-10-05T09:22:04.494299Z",
     "shell.execute_reply": "2024-10-05T09:22:04.494299Z"
    }
   },
   "outputs": [],
   "source": [
    "ja_jobs_df = pd.read_csv('./datasets/ja_jobs.csv')\n",
    "ja_jobs_df['date'] = pd.to_datetime(ja_jobs_df['date'])"
   ]
  },
  {
   "cell_type": "markdown",
   "metadata": {},
   "source": [
    "#### Job Type Distribution"
   ]
  },
  {
   "cell_type": "code",
   "execution_count": 7,
   "metadata": {
    "execution": {
     "iopub.execute_input": "2024-10-05T09:22:04.496303Z",
     "iopub.status.busy": "2024-10-05T09:22:04.496303Z",
     "iopub.status.idle": "2024-10-05T09:22:04.503387Z",
     "shell.execute_reply": "2024-10-05T09:22:04.503387Z"
    }
   },
   "outputs": [],
   "source": [
    "# Past 1 Month\n",
    "\n",
    "## Total\n",
    "recent_jobs = ja_jobs_df[ja_jobs_df['date'] >= datetime(2024, 10, 1) - pd.DateOffset(months=1)]\n",
    "total_job_frequency = recent_jobs['category'].value_counts(sort=False).tolist()\n",
    "data_job_type_dist = {\n",
    "    'labels': job_types,\n",
    "    'data': total_job_frequency\n",
    "}\n",
    "\n",
    "with open('../public/analytics/job/job-type-dist-one-month-total.json', 'w') as file:\n",
    "    json.dump(data_job_type_dist, file, indent=4)\n",
    "\n",
    "## Average\n",
    "average_job_frequency = total_job_frequency\n",
    "data_job_type_dist = {\n",
    "    'labels': job_types,\n",
    "    'data': average_job_frequency\n",
    "}\n",
    "\n",
    "with open('../public/analytics/job/job-type-dist-one-month-average.json', 'w') as file:\n",
    "    json.dump(data_job_type_dist, file, indent=4)   "
   ]
  },
  {
   "cell_type": "code",
   "execution_count": 8,
   "metadata": {
    "execution": {
     "iopub.execute_input": "2024-10-05T09:22:04.505774Z",
     "iopub.status.busy": "2024-10-05T09:22:04.505774Z",
     "iopub.status.idle": "2024-10-05T09:22:04.511900Z",
     "shell.execute_reply": "2024-10-05T09:22:04.511900Z"
    }
   },
   "outputs": [],
   "source": [
    "# Past 3 Month\n",
    "## Total\n",
    "recent_jobs = ja_jobs_df[ja_jobs_df['date'] >= datetime(2024, 10, 1) - pd.DateOffset(months=3)]\n",
    "total_job_frequency = recent_jobs['category'].value_counts(sort=False).tolist()\n",
    "data_job_type_dist = {\n",
    "    'labels': job_types,\n",
    "    'data': total_job_frequency\n",
    "}\n",
    "\n",
    "with open('../public/analytics/job/job-type-dist-three-month-total.json', 'w') as file:\n",
    "    json.dump(data_job_type_dist, file, indent=4)  \n",
    "\n",
    "## Average\n",
    "average_job_frequency = [np.ceil(x / 3) for x in total_job_frequency]\n",
    "data_job_type_dist = {\n",
    "    'labels': job_types,\n",
    "    'data': average_job_frequency\n",
    "}\n",
    "\n",
    "with open('../public/analytics/job/job-type-dist-three-month-average.json', 'w') as file:\n",
    "    json.dump(data_job_type_dist, file, indent=4) "
   ]
  },
  {
   "cell_type": "code",
   "execution_count": 9,
   "metadata": {
    "execution": {
     "iopub.execute_input": "2024-10-05T09:22:04.513903Z",
     "iopub.status.busy": "2024-10-05T09:22:04.513903Z",
     "iopub.status.idle": "2024-10-05T09:22:04.520302Z",
     "shell.execute_reply": "2024-10-05T09:22:04.520302Z"
    }
   },
   "outputs": [],
   "source": [
    "# Past 6 Month\n",
    "## Total\n",
    "recent_jobs = ja_jobs_df[ja_jobs_df['date'] >= datetime(2024, 10, 1) - pd.DateOffset(months=6)]\n",
    "total_job_frequency = recent_jobs['category'].value_counts(sort=False).tolist()\n",
    "data_job_type_dist = {\n",
    "    'labels': job_types,\n",
    "    'data': total_job_frequency\n",
    "}\n",
    "\n",
    "with open('../public/analytics/job/job-type-dist-six-month-total.json', 'w') as file:\n",
    "    json.dump(data_job_type_dist, file, indent=4)\n",
    "\n",
    "## Average\n",
    "average_job_frequency = [np.ceil(x / 6) for x in total_job_frequency]\n",
    "data_job_type_dist = {\n",
    "    'labels': job_types,\n",
    "    'data': average_job_frequency\n",
    "}\n",
    "\n",
    "with open('../public/analytics/job/job-type-dist-six-month-average.json', 'w') as file:\n",
    "    json.dump(data_job_type_dist, file, indent=4) "
   ]
  },
  {
   "cell_type": "code",
   "execution_count": 10,
   "metadata": {
    "execution": {
     "iopub.execute_input": "2024-10-05T09:22:04.522654Z",
     "iopub.status.busy": "2024-10-05T09:22:04.522654Z",
     "iopub.status.idle": "2024-10-05T09:22:04.529304Z",
     "shell.execute_reply": "2024-10-05T09:22:04.529304Z"
    }
   },
   "outputs": [],
   "source": [
    "# Past 12 Month\n",
    "## Total\n",
    "recent_jobs = ja_jobs_df[ja_jobs_df['date'] >= datetime(2024, 10, 1) - pd.DateOffset(months=12)]\n",
    "total_job_frequency = recent_jobs['category'].value_counts(sort=False).tolist()\n",
    "data_job_type_dist = {\n",
    "    'labels': job_types,\n",
    "    'data': total_job_frequency\n",
    "}\n",
    "\n",
    "with open('../public/analytics/job/job-type-dist-twelve-month-total.json', 'w') as file:\n",
    "    json.dump(data_job_type_dist, file, indent=4)\n",
    "\n",
    "## Average\n",
    "average_job_frequency = [np.ceil(x / 12) for x in total_job_frequency]\n",
    "data_job_type_dist = {\n",
    "    'labels': job_types,\n",
    "    'data': average_job_frequency\n",
    "}\n",
    "\n",
    "with open('../public/analytics/job/job-type-dist-twelve-month-average.json', 'w') as file:\n",
    "    json.dump(data_job_type_dist, file, indent=4) "
   ]
  },
  {
   "cell_type": "markdown",
   "metadata": {},
   "source": [
    "#### Job Duration Distribution"
   ]
  },
  {
   "cell_type": "code",
   "execution_count": 11,
   "metadata": {
    "execution": {
     "iopub.execute_input": "2024-10-05T09:22:04.531308Z",
     "iopub.status.busy": "2024-10-05T09:22:04.531308Z",
     "iopub.status.idle": "2024-10-05T09:22:04.545023Z",
     "shell.execute_reply": "2024-10-05T09:22:04.545023Z"
    }
   },
   "outputs": [
    {
     "name": "stdout",
     "output_type": "stream",
     "text": [
      "      category  frequency  total_duration  average_duration\n",
      "0  Electrician        138           10725              78.0\n",
      "1  Ventilation         71            9690             137.0\n",
      "2      Plumber         45            4140              92.0\n",
      "3     Handyman        165            5595              34.0\n",
      "4       Aircon        153           38940             255.0\n"
     ]
    }
   ],
   "source": [
    "# Past 1 Month\n",
    "recent_jobs = ja_jobs_df[ja_jobs_df['date'] >= datetime(2024, 10, 1) - pd.DateOffset(months=1)]\n",
    "duration_stats = recent_jobs.groupby('category').agg(\n",
    "    total_duration=('duration', 'sum'),\n",
    "    frequency=('category', 'count')\n",
    ").reset_index()\n",
    "duration_stats['average_duration'] = np.ceil(duration_stats['total_duration'] / duration_stats['frequency'])\n",
    "duration_stats['category'] = pd.Categorical(duration_stats['category'].str.capitalize(), categories=job_types, ordered=True)\n",
    "duration_stats = duration_stats.sort_values('category').reset_index(drop=True)\n",
    "print(duration_stats[['category', 'frequency', 'total_duration', 'average_duration']])\n",
    "\n",
    "data_job_duration_dist = {\n",
    "    'labels': job_types,\n",
    "    'data': duration_stats['average_duration'].tolist()\n",
    "}\n",
    "\n",
    "with open('../public/analytics/job/job-duration-dist-one-month.json', 'w') as file:\n",
    "    json.dump(data_job_duration_dist, file, indent=4) "
   ]
  },
  {
   "cell_type": "code",
   "execution_count": 12,
   "metadata": {
    "execution": {
     "iopub.execute_input": "2024-10-05T09:22:04.547448Z",
     "iopub.status.busy": "2024-10-05T09:22:04.547448Z",
     "iopub.status.idle": "2024-10-05T09:22:04.558975Z",
     "shell.execute_reply": "2024-10-05T09:22:04.558975Z"
    }
   },
   "outputs": [
    {
     "name": "stdout",
     "output_type": "stream",
     "text": [
      "      category  frequency  total_duration  average_duration\n",
      "0  Electrician        222           17370              79.0\n",
      "1  Ventilation        113           15375             137.0\n",
      "2      Plumber        179           16575              93.0\n",
      "3     Handyman        262            8995              35.0\n",
      "4       Aircon        246           62910             256.0\n"
     ]
    }
   ],
   "source": [
    "# Past 3 Month\n",
    "recent_jobs = ja_jobs_df[ja_jobs_df['date'] >= datetime(2024, 10, 1) - pd.DateOffset(months=3)]\n",
    "duration_stats = recent_jobs.groupby('category').agg(\n",
    "    total_duration=('duration', 'sum'),\n",
    "    frequency=('category', 'count')\n",
    ").reset_index()\n",
    "duration_stats['average_duration'] = np.ceil(duration_stats['total_duration'] / duration_stats['frequency'])\n",
    "duration_stats['category'] = pd.Categorical(duration_stats['category'].str.capitalize(), categories=job_types, ordered=True)\n",
    "duration_stats = duration_stats.sort_values('category').reset_index(drop=True)\n",
    "print(duration_stats[['category', 'frequency', 'total_duration', 'average_duration']])\n",
    "\n",
    "data_job_duration_dist = {\n",
    "    'labels': job_types,\n",
    "    'data': duration_stats['average_duration'].tolist()\n",
    "}\n",
    "\n",
    "with open('../public/analytics/job/job-duration-dist-three-month.json', 'w') as file:\n",
    "    json.dump(data_job_duration_dist, file, indent=4) "
   ]
  },
  {
   "cell_type": "code",
   "execution_count": 13,
   "metadata": {
    "execution": {
     "iopub.execute_input": "2024-10-05T09:22:04.561492Z",
     "iopub.status.busy": "2024-10-05T09:22:04.561492Z",
     "iopub.status.idle": "2024-10-05T09:22:04.574854Z",
     "shell.execute_reply": "2024-10-05T09:22:04.574854Z"
    }
   },
   "outputs": [
    {
     "name": "stdout",
     "output_type": "stream",
     "text": [
      "      category  frequency  total_duration  average_duration\n",
      "0  Electrician        416           32280              78.0\n",
      "1  Ventilation        284           38805             137.0\n",
      "2      Plumber        319           29505              93.0\n",
      "3     Handyman        655           23280              36.0\n",
      "4       Aircon        460          115050             251.0\n"
     ]
    }
   ],
   "source": [
    "# Past 6 Month\n",
    "recent_jobs = ja_jobs_df[ja_jobs_df['date'] >= datetime(2024, 10, 1) - pd.DateOffset(months=6)]\n",
    "duration_stats = recent_jobs.groupby('category').agg(\n",
    "    total_duration=('duration', 'sum'),\n",
    "    frequency=('category', 'count')\n",
    ").reset_index()\n",
    "duration_stats['average_duration'] = np.ceil(duration_stats['total_duration'] / duration_stats['frequency'])\n",
    "duration_stats['category'] = pd.Categorical(duration_stats['category'].str.capitalize(), categories=job_types, ordered=True)\n",
    "duration_stats = duration_stats.sort_values('category').reset_index(drop=True)\n",
    "print(duration_stats[['category', 'frequency', 'total_duration', 'average_duration']])\n",
    "\n",
    "data_job_duration_dist = {\n",
    "    'labels': job_types,\n",
    "    'data': duration_stats['average_duration'].tolist()\n",
    "}\n",
    "\n",
    "with open('../public/analytics/job/job-duration-dist-six-month.json', 'w') as file:\n",
    "    json.dump(data_job_duration_dist, file, indent=4) "
   ]
  },
  {
   "cell_type": "code",
   "execution_count": 14,
   "metadata": {
    "execution": {
     "iopub.execute_input": "2024-10-05T09:22:04.578255Z",
     "iopub.status.busy": "2024-10-05T09:22:04.577246Z",
     "iopub.status.idle": "2024-10-05T09:22:04.589800Z",
     "shell.execute_reply": "2024-10-05T09:22:04.589800Z"
    }
   },
   "outputs": [
    {
     "name": "stdout",
     "output_type": "stream",
     "text": [
      "      category  frequency  total_duration  average_duration\n",
      "0  Electrician        915           70470              78.0\n",
      "1  Ventilation        585           80295             138.0\n",
      "2      Plumber        607           55785              92.0\n",
      "3     Handyman       1347           48505              37.0\n",
      "4       Aircon       1010          249390             247.0\n"
     ]
    }
   ],
   "source": [
    "# Past 12 Month\n",
    "recent_jobs = ja_jobs_df[ja_jobs_df['date'] >= datetime(2024, 10, 1) - pd.DateOffset(months=12)]\n",
    "duration_stats = recent_jobs.groupby('category').agg(\n",
    "    total_duration=('duration', 'sum'),\n",
    "    frequency=('category', 'count')\n",
    ").reset_index()\n",
    "duration_stats['average_duration'] = np.ceil(duration_stats['total_duration'] / duration_stats['frequency'])\n",
    "duration_stats['category'] = pd.Categorical(duration_stats['category'].str.capitalize(), categories=job_types, ordered=True)\n",
    "duration_stats = duration_stats.sort_values('category').reset_index(drop=True)\n",
    "print(duration_stats[['category', 'frequency', 'total_duration', 'average_duration']])\n",
    "\n",
    "data_job_duration_dist = {\n",
    "    'labels': job_types,\n",
    "    'data': duration_stats['average_duration'].tolist()\n",
    "}\n",
    "\n",
    "with open('../public/analytics/job/job-duration-dist-twelve-month.json', 'w') as file:\n",
    "    json.dump(data_job_duration_dist, file, indent=4) "
   ]
  },
  {
   "cell_type": "markdown",
   "metadata": {},
   "source": [
    "#### Job Delay Distribution"
   ]
  },
  {
   "cell_type": "code",
   "execution_count": 15,
   "metadata": {
    "execution": {
     "iopub.execute_input": "2024-10-05T09:22:04.591805Z",
     "iopub.status.busy": "2024-10-05T09:22:04.591805Z",
     "iopub.status.idle": "2024-10-05T09:22:04.603131Z",
     "shell.execute_reply": "2024-10-05T09:22:04.603131Z"
    }
   },
   "outputs": [
    {
     "name": "stdout",
     "output_type": "stream",
     "text": [
      "      category  frequency  total_delay  average_delay\n",
      "0  Electrician        138          700            6.0\n",
      "1  Ventilation         71          800           12.0\n",
      "2      Plumber         45          225            5.0\n",
      "3     Handyman        165          288            2.0\n",
      "4       Aircon        153         2250           15.0\n"
     ]
    }
   ],
   "source": [
    "# Past 1 Month\n",
    "recent_jobs = ja_jobs_df[ja_jobs_df['date'] >= datetime(2024, 10, 1) - pd.DateOffset(months=1)]\n",
    "delay_stats = recent_jobs.groupby('category').agg(\n",
    "    total_delay=('delay', 'sum'),\n",
    "    frequency=('category', 'count')\n",
    ").reset_index()\n",
    "delay_stats['average_delay'] = np.ceil(delay_stats['total_delay'] / delay_stats['frequency'])\n",
    "delay_stats['category'] = pd.Categorical(delay_stats['category'].str.capitalize(), categories=job_types, ordered=True)\n",
    "delay_stats = delay_stats.sort_values('category').reset_index(drop=True)\n",
    "print(delay_stats[['category', 'frequency', 'total_delay', 'average_delay']])\n",
    "\n",
    "data_job_delay_dist = {\n",
    "    'labels': job_types,\n",
    "    'data': delay_stats['average_delay'].tolist()\n",
    "}\n",
    "\n",
    "with open('../public/analytics/job/job-delay-dist-one-month.json', 'w') as file:\n",
    "    json.dump(data_job_delay_dist, file, indent=4) "
   ]
  },
  {
   "cell_type": "code",
   "execution_count": 16,
   "metadata": {
    "execution": {
     "iopub.execute_input": "2024-10-05T09:22:04.605134Z",
     "iopub.status.busy": "2024-10-05T09:22:04.605134Z",
     "iopub.status.idle": "2024-10-05T09:22:04.616458Z",
     "shell.execute_reply": "2024-10-05T09:22:04.616458Z"
    }
   },
   "outputs": [
    {
     "name": "stdout",
     "output_type": "stream",
     "text": [
      "      category  frequency  total_delay  average_delay\n",
      "0  Electrician        222         1090            5.0\n",
      "1  Ventilation        113         1240           11.0\n",
      "2      Plumber        179          795            5.0\n",
      "3     Handyman        262          498            2.0\n",
      "4       Aircon        246         3750           16.0\n"
     ]
    }
   ],
   "source": [
    "# Past 3 Month\n",
    "recent_jobs = ja_jobs_df[ja_jobs_df['date'] >= datetime(2024, 10, 1) - pd.DateOffset(months=3)]\n",
    "delay_stats = recent_jobs.groupby('category').agg(\n",
    "    total_delay=('delay', 'sum'),\n",
    "    frequency=('category', 'count')\n",
    ").reset_index()\n",
    "delay_stats['average_delay'] = np.ceil(delay_stats['total_delay'] / delay_stats['frequency'])\n",
    "delay_stats['category'] = pd.Categorical(delay_stats['category'].str.capitalize(), categories=job_types, ordered=True)\n",
    "delay_stats = delay_stats.sort_values('category').reset_index(drop=True)\n",
    "print(delay_stats[['category', 'frequency', 'total_delay', 'average_delay']])\n",
    "\n",
    "data_job_delay_dist = {\n",
    "    'labels': job_types,\n",
    "    'data': delay_stats['average_delay'].tolist()\n",
    "}\n",
    "\n",
    "with open('../public/analytics/job/job-delay-dist-three-month.json', 'w') as file:\n",
    "    json.dump(data_job_delay_dist, file, indent=4) "
   ]
  },
  {
   "cell_type": "code",
   "execution_count": 17,
   "metadata": {
    "execution": {
     "iopub.execute_input": "2024-10-05T09:22:04.618462Z",
     "iopub.status.busy": "2024-10-05T09:22:04.618462Z",
     "iopub.status.idle": "2024-10-05T09:22:04.629761Z",
     "shell.execute_reply": "2024-10-05T09:22:04.629761Z"
    }
   },
   "outputs": [
    {
     "name": "stdout",
     "output_type": "stream",
     "text": [
      "      category  frequency  total_delay  average_delay\n",
      "0  Electrician        416         2130            6.0\n",
      "1  Ventilation        284         2810           10.0\n",
      "2      Plumber        319         1495            5.0\n",
      "3     Handyman        655         1268            2.0\n",
      "4       Aircon        460         6960           16.0\n"
     ]
    }
   ],
   "source": [
    "# Past 6 Month\n",
    "recent_jobs = ja_jobs_df[ja_jobs_df['date'] >= datetime(2024, 10, 1) - pd.DateOffset(months=6)]\n",
    "delay_stats = recent_jobs.groupby('category').agg(\n",
    "    total_delay=('delay', 'sum'),\n",
    "    frequency=('category', 'count')\n",
    ").reset_index()\n",
    "delay_stats['average_delay'] = np.ceil(delay_stats['total_delay'] / delay_stats['frequency'])\n",
    "delay_stats['category'] = pd.Categorical(delay_stats['category'].str.capitalize(), categories=job_types, ordered=True)\n",
    "delay_stats = delay_stats.sort_values('category').reset_index(drop=True)\n",
    "print(delay_stats[['category', 'frequency', 'total_delay', 'average_delay']])\n",
    "\n",
    "data_job_delay_dist = {\n",
    "    'labels': job_types,\n",
    "    'data': delay_stats['average_delay'].tolist()\n",
    "}\n",
    "\n",
    "with open('../public/analytics/job/job-delay-dist-six-month.json', 'w') as file:\n",
    "    json.dump(data_job_delay_dist, file, indent=4) "
   ]
  },
  {
   "cell_type": "code",
   "execution_count": 18,
   "metadata": {
    "execution": {
     "iopub.execute_input": "2024-10-05T09:22:04.632166Z",
     "iopub.status.busy": "2024-10-05T09:22:04.631161Z",
     "iopub.status.idle": "2024-10-05T09:22:04.643182Z",
     "shell.execute_reply": "2024-10-05T09:22:04.643182Z"
    }
   },
   "outputs": [
    {
     "name": "stdout",
     "output_type": "stream",
     "text": [
      "      category  frequency  total_delay  average_delay\n",
      "0  Electrician        915         4615            6.0\n",
      "1  Ventilation        585         5520           10.0\n",
      "2      Plumber        607         3015            5.0\n",
      "3     Handyman       1347         2698            3.0\n",
      "4       Aircon       1010        14985           15.0\n"
     ]
    }
   ],
   "source": [
    "# Past 12 Month\n",
    "recent_jobs = ja_jobs_df[ja_jobs_df['date'] >= datetime(2024, 10, 1) - pd.DateOffset(months=12)]\n",
    "delay_stats = recent_jobs.groupby('category').agg(\n",
    "    total_delay=('delay', 'sum'),\n",
    "    frequency=('category', 'count')\n",
    ").reset_index()\n",
    "delay_stats['average_delay'] = np.ceil(delay_stats['total_delay'] / delay_stats['frequency'])\n",
    "delay_stats['category'] = pd.Categorical(delay_stats['category'].str.capitalize(), categories=job_types, ordered=True)\n",
    "delay_stats = delay_stats.sort_values('category').reset_index(drop=True)\n",
    "print(delay_stats[['category', 'frequency', 'total_delay', 'average_delay']])\n",
    "\n",
    "data_job_delay_dist = {\n",
    "    'labels': job_types,\n",
    "    'data': delay_stats['average_delay'].tolist()\n",
    "}\n",
    "\n",
    "# Save data to JSON file\n",
    "with open('../public/analytics/job/job-delay-dist-twelve-month.json', 'w') as file:\n",
    "    json.dump(data_job_delay_dist, file, indent=4) "
   ]
  },
  {
   "cell_type": "markdown",
   "metadata": {},
   "source": [
    "#### Job Revenue Distribution"
   ]
  },
  {
   "cell_type": "code",
   "execution_count": 19,
   "metadata": {
    "execution": {
     "iopub.execute_input": "2024-10-05T09:22:04.645582Z",
     "iopub.status.busy": "2024-10-05T09:22:04.645582Z",
     "iopub.status.idle": "2024-10-05T09:22:04.649711Z",
     "shell.execute_reply": "2024-10-05T09:22:04.649711Z"
    }
   },
   "outputs": [],
   "source": [
    "ja_revenue_df = pd.read_csv('./datasets/ja_revenue.csv')\n",
    "ja_revenue_df['date'] = pd.to_datetime(ja_revenue_df['date'])\n",
    "job_categories = ['electrician', 'ventilation', 'plumber', 'handyman', 'aircon']"
   ]
  },
  {
   "cell_type": "code",
   "execution_count": 20,
   "metadata": {
    "execution": {
     "iopub.execute_input": "2024-10-05T09:22:04.652019Z",
     "iopub.status.busy": "2024-10-05T09:22:04.651015Z",
     "iopub.status.idle": "2024-10-05T09:22:04.658044Z",
     "shell.execute_reply": "2024-10-05T09:22:04.658044Z"
    }
   },
   "outputs": [],
   "source": [
    "# Past 1 Month\n",
    "\n",
    "## Total\n",
    "recent_jobs = ja_revenue_df[ja_revenue_df['date'] >= datetime(2024, 10, 1) - pd.DateOffset(months=1)]\n",
    "total_job_revenue = [recent_jobs[job_type].sum() for job_type in job_categories]\n",
    "\n",
    "data_job_revenue_dist = {\n",
    "    'labels': job_types,\n",
    "    'data': total_job_revenue\n",
    "}\n",
    "\n",
    "with open('../public/analytics/job/job-revenue-dist-one-month-total.json', 'w') as file:\n",
    "    json.dump(data_job_revenue_dist, file, indent=4)\n",
    "\n",
    "## Average\n",
    "average_job_revenue = total_job_revenue\n",
    "data_job_revenue_dist = {\n",
    "    'labels': job_types,\n",
    "    'data': average_job_revenue\n",
    "}\n",
    "\n",
    "with open('../public/analytics/job/job-revenue-dist-one-month-average.json', 'w') as file:\n",
    "    json.dump(data_job_revenue_dist, file, indent=4)  "
   ]
  },
  {
   "cell_type": "code",
   "execution_count": 21,
   "metadata": {
    "execution": {
     "iopub.execute_input": "2024-10-05T09:22:04.660529Z",
     "iopub.status.busy": "2024-10-05T09:22:04.660529Z",
     "iopub.status.idle": "2024-10-05T09:22:04.666595Z",
     "shell.execute_reply": "2024-10-05T09:22:04.666595Z"
    }
   },
   "outputs": [],
   "source": [
    "# Past 3 Month\n",
    "\n",
    "## Total\n",
    "recent_jobs = ja_revenue_df[ja_revenue_df['date'] >= datetime(2024, 10, 1) - pd.DateOffset(months=3)]\n",
    "total_job_revenue = [recent_jobs[job_type].sum() for job_type in job_categories]\n",
    "\n",
    "data_job_revenue_dist = {\n",
    "    'labels': job_types,\n",
    "    'data': total_job_revenue\n",
    "}\n",
    "\n",
    "with open('../public/analytics/job/job-revenue-dist-three-month-total.json', 'w') as file:\n",
    "    json.dump(data_job_revenue_dist, file, indent=4)\n",
    "\n",
    "## Average\n",
    "average_job_revenue = [round(x / 3, 2) for x in total_job_revenue]\n",
    "\n",
    "data_job_revenue_dist = {\n",
    "    'labels': job_types,\n",
    "    'data': average_job_revenue\n",
    "}\n",
    "\n",
    "with open('../public/analytics/job/job-revenue-dist-three-month-average.json', 'w') as file:\n",
    "    json.dump(data_job_revenue_dist, file, indent=4)  "
   ]
  },
  {
   "cell_type": "code",
   "execution_count": 22,
   "metadata": {
    "execution": {
     "iopub.execute_input": "2024-10-05T09:22:04.669093Z",
     "iopub.status.busy": "2024-10-05T09:22:04.668089Z",
     "iopub.status.idle": "2024-10-05T09:22:04.675042Z",
     "shell.execute_reply": "2024-10-05T09:22:04.675042Z"
    }
   },
   "outputs": [],
   "source": [
    "# Past 6 Month\n",
    "\n",
    "## Total\n",
    "recent_jobs = ja_revenue_df[ja_revenue_df['date'] >= datetime(2024, 10, 1) - pd.DateOffset(months=6)]\n",
    "total_job_revenue = [recent_jobs[job_type].sum() for job_type in job_categories]\n",
    "\n",
    "data_job_revenue_dist = {\n",
    "    'labels': job_types,\n",
    "    'data': total_job_revenue\n",
    "}\n",
    "\n",
    "with open('../public/analytics/job/job-revenue-dist-six-month-total.json', 'w') as file:\n",
    "    json.dump(data_job_revenue_dist, file, indent=4)\n",
    "\n",
    "## Average\n",
    "average_job_revenue = [round(x / 6, 2) for x in total_job_revenue]\n",
    "data_job_revenue_dist = {\n",
    "    'labels': job_types,\n",
    "    'data': average_job_revenue\n",
    "}\n",
    "\n",
    "with open('../public/analytics/job/job-revenue-dist-six-month-average.json', 'w') as file:\n",
    "    json.dump(data_job_revenue_dist, file, indent=4)  "
   ]
  },
  {
   "cell_type": "code",
   "execution_count": 23,
   "metadata": {
    "execution": {
     "iopub.execute_input": "2024-10-05T09:22:04.677046Z",
     "iopub.status.busy": "2024-10-05T09:22:04.677046Z",
     "iopub.status.idle": "2024-10-05T09:22:04.683590Z",
     "shell.execute_reply": "2024-10-05T09:22:04.683590Z"
    }
   },
   "outputs": [],
   "source": [
    "# Past 12 Month\n",
    "\n",
    "## Total\n",
    "recent_jobs = ja_revenue_df[ja_revenue_df['date'] >= datetime(2024, 10, 1) - pd.DateOffset(months=12)]\n",
    "total_job_revenue = [recent_jobs[job_type].sum() for job_type in job_categories]\n",
    "data_job_revenue_dist = {\n",
    "    'labels': job_types,\n",
    "    'data': total_job_revenue\n",
    "}\n",
    "\n",
    "with open('../public/analytics/job/job-revenue-dist-twelve-month-total.json', 'w') as file:\n",
    "    json.dump(data_job_revenue_dist, file, indent=4)\n",
    "\n",
    "## Average\n",
    "average_job_revenue = [round(x / 12, 2) for x in total_job_revenue]\n",
    "data_job_revenue_dist = {\n",
    "    'labels': job_types,\n",
    "    'data': average_job_revenue\n",
    "}\n",
    "\n",
    "with open('../public/analytics/job/job-revenue-dist-twelve-month-average.json', 'w') as file:\n",
    "    json.dump(data_job_revenue_dist, file, indent=4)  "
   ]
  },
  {
   "cell_type": "markdown",
   "metadata": {},
   "source": [
    "#### Job Revenue Forecasting"
   ]
  },
  {
   "cell_type": "code",
   "execution_count": 24,
   "metadata": {
    "execution": {
     "iopub.execute_input": "2024-10-05T09:22:04.686079Z",
     "iopub.status.busy": "2024-10-05T09:22:04.684960Z",
     "iopub.status.idle": "2024-10-05T09:22:04.688719Z",
     "shell.execute_reply": "2024-10-05T09:22:04.688719Z"
    }
   },
   "outputs": [],
   "source": [
    "# Calculate the date 21 months ago from today\n",
    "start_date = datetime(2024, 10, 1) - pd.DateOffset(months=24)\n",
    "\n",
    "def forecast_revenue(df, seasonal_periods, forecast_horizon):\n",
    "    model = ExponentialSmoothing(df['revenue'], seasonal='add', seasonal_periods=seasonal_periods)\n",
    "    model_fit = model.fit()\n",
    "    forecast = model_fit.forecast(forecast_horizon)\n",
    "    return forecast"
   ]
  },
  {
   "cell_type": "code",
   "execution_count": 25,
   "metadata": {
    "execution": {
     "iopub.execute_input": "2024-10-05T09:22:04.691089Z",
     "iopub.status.busy": "2024-10-05T09:22:04.690081Z",
     "iopub.status.idle": "2024-10-05T09:22:04.719593Z",
     "shell.execute_reply": "2024-10-05T09:22:04.719593Z"
    }
   },
   "outputs": [],
   "source": [
    "# Electrician\n",
    "historical_data = {\n",
    "    'date': pd.date_range(start=start_date, end=datetime(2024, 10, 1), freq='M'),\n",
    "    'revenue': ja_revenue_df['electrician'].tolist()\n",
    "}\n",
    "electrician_df = pd.DataFrame(historical_data)\n",
    "electrician_df.set_index('date', inplace=True)\n",
    "\n",
    "forecast_months = 6\n",
    "\n",
    "# Monthly\n",
    "historical_demand = electrician_df['revenue'][-12:]\n",
    "monthly_forecast = np.ceil(forecast_revenue(electrician_df, seasonal_periods=12, forecast_horizon=forecast_months)).astype(int)\n",
    "combined_demand_forecast = np.concatenate((historical_demand, monthly_forecast))\n",
    "\n",
    "historical_labels = [historical_demand.index[i].strftime(\"%Y-%m\") for i in range(len(historical_demand))]\n",
    "forecasted_labels = [(monthly_forecast.index[i].strftime(\"%Y-%m\")) for i in range(len(monthly_forecast))]\n",
    "combined_labels = historical_labels + forecasted_labels\n",
    "\n",
    "data_job_demand_forecast_monthly = {\n",
    "    'labels': combined_labels,\n",
    "    'data': combined_demand_forecast.tolist()\n",
    "}\n",
    "\n",
    "with open('../public/analytics/job/job-revenue-forecast-electrician-month.json', 'w') as file:\n",
    "    json.dump(data_job_demand_forecast_monthly, file, indent=4) \n",
    "\n",
    "# Quarterly \n",
    "df_quarterly = electrician_df.resample('Q').sum()\n",
    "historical_demand = np.ceil(df_quarterly['revenue'][-6:]).astype(int)\n",
    "quarterly_forecast = np.ceil(forecast_revenue(df_quarterly, seasonal_periods=4, forecast_horizon=forecast_months // 3)).astype(int)\n",
    "combined_demand_forecast = np.concatenate((historical_demand, quarterly_forecast))\n",
    "\n",
    "historical_labels = [historical_demand.index[i].strftime(\"%Y-%m\") for i in range(len(historical_demand))]\n",
    "forecasted_labels = [(quarterly_forecast.index[i].strftime(\"%Y-%m\")) for i in range(len(quarterly_forecast))]\n",
    "combined_labels = historical_labels + forecasted_labels\n",
    "\n",
    "data_job_demand_forecast_quarterly = {\n",
    "    'labels': combined_labels,\n",
    "    'data': combined_demand_forecast.tolist()\n",
    "}\n",
    "\n",
    "with open('../public/analytics/job/job-revenue-forecast-electrician-quarter.json', 'w') as file:\n",
    "    json.dump(data_job_demand_forecast_quarterly, file, indent=4) "
   ]
  },
  {
   "cell_type": "code",
   "execution_count": 26,
   "metadata": {
    "execution": {
     "iopub.execute_input": "2024-10-05T09:22:04.722597Z",
     "iopub.status.busy": "2024-10-05T09:22:04.721598Z",
     "iopub.status.idle": "2024-10-05T09:22:04.750267Z",
     "shell.execute_reply": "2024-10-05T09:22:04.750267Z"
    }
   },
   "outputs": [],
   "source": [
    "# Ventilation\n",
    "historical_data = {\n",
    "    'date': pd.date_range(start=start_date, end=datetime(2024, 10, 1), freq='M'),\n",
    "    'revenue': ja_revenue_df['ventilation'].tolist()\n",
    "}\n",
    "ventilation_df = pd.DataFrame(historical_data)\n",
    "ventilation_df.set_index('date', inplace=True)\n",
    "\n",
    "forecast_months = 6\n",
    "\n",
    "# Monthly\n",
    "historical_demand = ventilation_df['revenue'][-12:]\n",
    "monthly_forecast = np.ceil(forecast_revenue(ventilation_df, seasonal_periods=12, forecast_horizon=forecast_months)).astype(int)\n",
    "combined_demand_forecast = np.concatenate((historical_demand, monthly_forecast))\n",
    "\n",
    "historical_labels = [historical_demand.index[i].strftime(\"%Y-%m\") for i in range(len(historical_demand))]\n",
    "forecasted_labels = [(monthly_forecast.index[i].strftime(\"%Y-%m\")) for i in range(len(monthly_forecast))]\n",
    "combined_labels = historical_labels + forecasted_labels\n",
    "\n",
    "data_job_demand_forecast_monthly = {\n",
    "    'labels': combined_labels,\n",
    "    'data': combined_demand_forecast.tolist()\n",
    "}\n",
    "\n",
    "with open('../public/analytics/job/job-revenue-forecast-ventilation-month.json', 'w') as file:\n",
    "    json.dump(data_job_demand_forecast_monthly, file, indent=4) \n",
    "\n",
    "# Quarterly \n",
    "df_quarterly = ventilation_df.resample('Q').sum()\n",
    "historical_demand = np.ceil(df_quarterly['revenue'][-6:]).astype(int)\n",
    "quarterly_forecast = np.ceil(forecast_revenue(df_quarterly, seasonal_periods=4, forecast_horizon=forecast_months // 3)).astype(int)\n",
    "combined_demand_forecast = np.concatenate((historical_demand, quarterly_forecast))\n",
    "\n",
    "historical_labels = [historical_demand.index[i].strftime(\"%Y-%m\") for i in range(len(historical_demand))]\n",
    "forecasted_labels = [(quarterly_forecast.index[i].strftime(\"%Y-%m\")) for i in range(len(quarterly_forecast))]\n",
    "combined_labels = historical_labels + forecasted_labels\n",
    "\n",
    "data_job_demand_forecast_quarterly = {\n",
    "    'labels': combined_labels,\n",
    "    'data': combined_demand_forecast.tolist()\n",
    "}\n",
    "\n",
    "with open('../public/analytics/job/job-revenue-forecast-ventilation-quarter.json', 'w') as file:\n",
    "    json.dump(data_job_demand_forecast_quarterly, file, indent=4) "
   ]
  },
  {
   "cell_type": "code",
   "execution_count": 27,
   "metadata": {
    "execution": {
     "iopub.execute_input": "2024-10-05T09:22:04.752771Z",
     "iopub.status.busy": "2024-10-05T09:22:04.752771Z",
     "iopub.status.idle": "2024-10-05T09:22:04.778910Z",
     "shell.execute_reply": "2024-10-05T09:22:04.778910Z"
    }
   },
   "outputs": [],
   "source": [
    "# Plumber\n",
    "historical_data = {\n",
    "    'date': pd.date_range(start=start_date, end=datetime(2024, 10, 1), freq='M'),\n",
    "    'revenue': ja_revenue_df['plumber'].tolist()\n",
    "}\n",
    "plumber_df = pd.DataFrame(historical_data)\n",
    "plumber_df.set_index('date', inplace=True)\n",
    "\n",
    "forecast_months = 6\n",
    "\n",
    "# Monthly\n",
    "historical_demand = plumber_df['revenue'][-12:]\n",
    "monthly_forecast = np.ceil(forecast_revenue(plumber_df, seasonal_periods=12, forecast_horizon=forecast_months)).astype(int)\n",
    "combined_demand_forecast = np.concatenate((historical_demand, monthly_forecast))\n",
    "\n",
    "historical_labels = [historical_demand.index[i].strftime(\"%Y-%m\") for i in range(len(historical_demand))]\n",
    "forecasted_labels = [(monthly_forecast.index[i].strftime(\"%Y-%m\")) for i in range(len(monthly_forecast))]\n",
    "combined_labels = historical_labels + forecasted_labels\n",
    "\n",
    "data_job_demand_forecast_monthly = {\n",
    "    'labels': combined_labels,\n",
    "    'data': combined_demand_forecast.tolist()\n",
    "}\n",
    "\n",
    "with open('../public/analytics/job/job-revenue-forecast-plumber-month.json', 'w') as file:\n",
    "    json.dump(data_job_demand_forecast_monthly, file, indent=4) \n",
    "\n",
    "# Quarterly \n",
    "df_quarterly = plumber_df.resample('Q').sum()\n",
    "historical_demand = np.ceil(df_quarterly['revenue'][-6:]).astype(int)\n",
    "quarterly_forecast = np.ceil(forecast_revenue(df_quarterly, seasonal_periods=4, forecast_horizon=forecast_months // 3)).astype(int)\n",
    "combined_demand_forecast = np.concatenate((historical_demand, quarterly_forecast))\n",
    "\n",
    "historical_labels = [historical_demand.index[i].strftime(\"%Y-%m\") for i in range(len(historical_demand))]\n",
    "forecasted_labels = [(quarterly_forecast.index[i].strftime(\"%Y-%m\")) for i in range(len(quarterly_forecast))]\n",
    "combined_labels = historical_labels + forecasted_labels\n",
    "\n",
    "data_job_demand_forecast_quarterly = {\n",
    "    'labels': combined_labels,\n",
    "    'data': combined_demand_forecast.tolist()\n",
    "}\n",
    "\n",
    "with open('../public/analytics/job/job-revenue-forecast-plumber-quarter.json', 'w') as file:\n",
    "    json.dump(data_job_demand_forecast_quarterly, file, indent=4) "
   ]
  },
  {
   "cell_type": "code",
   "execution_count": 28,
   "metadata": {
    "execution": {
     "iopub.execute_input": "2024-10-05T09:22:04.781734Z",
     "iopub.status.busy": "2024-10-05T09:22:04.780329Z",
     "iopub.status.idle": "2024-10-05T09:22:04.807623Z",
     "shell.execute_reply": "2024-10-05T09:22:04.807623Z"
    }
   },
   "outputs": [],
   "source": [
    "# Handyman\n",
    "historical_data = {\n",
    "    'date': pd.date_range(start=start_date, end=datetime(2024, 10, 1), freq='M'),\n",
    "    'revenue': ja_revenue_df['handyman'].tolist()\n",
    "}\n",
    "handyman_df = pd.DataFrame(historical_data)\n",
    "handyman_df.set_index('date', inplace=True)\n",
    "\n",
    "forecast_months = 6\n",
    "\n",
    "# Monthly\n",
    "historical_demand = handyman_df['revenue'][-12:]\n",
    "monthly_forecast = np.ceil(forecast_revenue(handyman_df, seasonal_periods=12, forecast_horizon=forecast_months)).astype(int)\n",
    "combined_demand_forecast = np.concatenate((historical_demand, monthly_forecast))\n",
    "\n",
    "historical_labels = [historical_demand.index[i].strftime(\"%Y-%m\") for i in range(len(historical_demand))]\n",
    "forecasted_labels = [(monthly_forecast.index[i].strftime(\"%Y-%m\")) for i in range(len(monthly_forecast))]\n",
    "combined_labels = historical_labels + forecasted_labels\n",
    "\n",
    "data_job_demand_forecast_monthly = {\n",
    "    'labels': combined_labels,\n",
    "    'data': combined_demand_forecast.tolist()\n",
    "}\n",
    "\n",
    "with open('../public/analytics/job/job-revenue-forecast-handyman-month.json', 'w') as file:\n",
    "    json.dump(data_job_demand_forecast_monthly, file, indent=4) \n",
    "\n",
    "# Quarterly \n",
    "df_quarterly = handyman_df.resample('Q').sum()\n",
    "historical_demand = np.ceil(df_quarterly['revenue'][-6:]).astype(int)\n",
    "quarterly_forecast = np.ceil(forecast_revenue(df_quarterly, seasonal_periods=4, forecast_horizon=forecast_months // 3)).astype(int)\n",
    "combined_demand_forecast = np.concatenate((historical_demand, quarterly_forecast))\n",
    "\n",
    "historical_labels = [historical_demand.index[i].strftime(\"%Y-%m\") for i in range(len(historical_demand))]\n",
    "forecasted_labels = [(quarterly_forecast.index[i].strftime(\"%Y-%m\")) for i in range(len(quarterly_forecast))]\n",
    "combined_labels = historical_labels + forecasted_labels\n",
    "\n",
    "data_job_demand_forecast_quarterly = {\n",
    "    'labels': combined_labels,\n",
    "    'data': combined_demand_forecast.tolist()\n",
    "}\n",
    "\n",
    "with open('../public/analytics/job/job-revenue-forecast-handyman-quarter.json', 'w') as file:\n",
    "    json.dump(data_job_demand_forecast_quarterly, file, indent=4) "
   ]
  },
  {
   "cell_type": "code",
   "execution_count": 29,
   "metadata": {
    "execution": {
     "iopub.execute_input": "2024-10-05T09:22:04.809941Z",
     "iopub.status.busy": "2024-10-05T09:22:04.809941Z",
     "iopub.status.idle": "2024-10-05T09:22:04.836627Z",
     "shell.execute_reply": "2024-10-05T09:22:04.836627Z"
    }
   },
   "outputs": [],
   "source": [
    "# Aircon\n",
    "historical_data = {\n",
    "    'date': pd.date_range(start=start_date, end=datetime(2024, 10, 1), freq='M'),\n",
    "    'revenue': ja_revenue_df['aircon'].tolist()\n",
    "}\n",
    "aircon_df = pd.DataFrame(historical_data)\n",
    "aircon_df.set_index('date', inplace=True)\n",
    "\n",
    "forecast_months = 6\n",
    "\n",
    "# Monthly\n",
    "historical_demand = aircon_df['revenue'][-12:]\n",
    "monthly_forecast = np.ceil(forecast_revenue(aircon_df, seasonal_periods=12, forecast_horizon=forecast_months)).astype(int)\n",
    "combined_demand_forecast = np.concatenate((historical_demand, monthly_forecast))\n",
    "\n",
    "historical_labels = [historical_demand.index[i].strftime(\"%Y-%m\") for i in range(len(historical_demand))]\n",
    "forecasted_labels = [(monthly_forecast.index[i].strftime(\"%Y-%m\")) for i in range(len(monthly_forecast))]\n",
    "combined_labels = historical_labels + forecasted_labels\n",
    "\n",
    "data_job_demand_forecast_monthly = {\n",
    "    'labels': combined_labels,\n",
    "    'data': combined_demand_forecast.tolist()\n",
    "}\n",
    "\n",
    "with open('../public/analytics/job/job-revenue-forecast-aircon-month.json', 'w') as file:\n",
    "    json.dump(data_job_demand_forecast_monthly, file, indent=4) \n",
    "\n",
    "# Quarterly \n",
    "df_quarterly = aircon_df.resample('Q').sum()\n",
    "historical_demand = np.ceil(df_quarterly['revenue'][-6:]).astype(int)\n",
    "quarterly_forecast = np.ceil(forecast_revenue(df_quarterly, seasonal_periods=4, forecast_horizon=forecast_months // 3)).astype(int)\n",
    "combined_demand_forecast = np.concatenate((historical_demand, quarterly_forecast))\n",
    "\n",
    "historical_labels = [historical_demand.index[i].strftime(\"%Y-%m\") for i in range(len(historical_demand))]\n",
    "forecasted_labels = [(quarterly_forecast.index[i].strftime(\"%Y-%m\")) for i in range(len(quarterly_forecast))]\n",
    "combined_labels = historical_labels + forecasted_labels\n",
    "\n",
    "data_job_demand_forecast_quarterly = {\n",
    "    'labels': combined_labels,\n",
    "    'data': combined_demand_forecast.tolist()\n",
    "}\n",
    "\n",
    "with open('../public/analytics/job/job-revenue-forecast-aircon-quarter.json', 'w') as file:\n",
    "    json.dump(data_job_demand_forecast_quarterly, file, indent=4) "
   ]
  },
  {
   "cell_type": "markdown",
   "metadata": {},
   "source": [
    "#### Job Demand Forecast"
   ]
  },
  {
   "cell_type": "code",
   "execution_count": 30,
   "metadata": {
    "execution": {
     "iopub.execute_input": "2024-10-05T09:22:04.839017Z",
     "iopub.status.busy": "2024-10-05T09:22:04.839017Z",
     "iopub.status.idle": "2024-10-05T09:22:04.843587Z",
     "shell.execute_reply": "2024-10-05T09:22:04.843587Z"
    }
   },
   "outputs": [],
   "source": [
    "ja_jobs_df['year'] = ja_jobs_df['date'].dt.year\n",
    "ja_jobs_df['month'] = ja_jobs_df['date'].dt.month\n",
    "\n",
    "def forecast_demand(df, seasonal_periods, forecast_horizon):\n",
    "    model = ExponentialSmoothing(df['demand'], seasonal='add', seasonal_periods=seasonal_periods)\n",
    "    model_fit = model.fit()\n",
    "    forecast = model_fit.forecast(forecast_horizon)\n",
    "    return forecast"
   ]
  },
  {
   "cell_type": "code",
   "execution_count": 31,
   "metadata": {
    "execution": {
     "iopub.execute_input": "2024-10-05T09:22:04.845590Z",
     "iopub.status.busy": "2024-10-05T09:22:04.845590Z",
     "iopub.status.idle": "2024-10-05T09:22:04.852317Z",
     "shell.execute_reply": "2024-10-05T09:22:04.852317Z"
    }
   },
   "outputs": [
    {
     "name": "stdout",
     "output_type": "stream",
     "text": [
      "     year  month     category  total_jobs\n",
      "0    2022     10       aircon          63\n",
      "1    2022     10  electrician          95\n",
      "2    2022     10     handyman         100\n",
      "3    2022     10      plumber          23\n",
      "4    2022     10  ventilation          45\n",
      "..    ...    ...          ...         ...\n",
      "115  2024      9       aircon         153\n",
      "116  2024      9  electrician         138\n",
      "117  2024      9     handyman         165\n",
      "118  2024      9      plumber          45\n",
      "119  2024      9  ventilation          71\n",
      "\n",
      "[120 rows x 4 columns]\n"
     ]
    }
   ],
   "source": [
    "job_counts = ja_jobs_df.groupby(['year', 'month', 'category']).size().reset_index(name='total_jobs')\n",
    "print(job_counts)"
   ]
  },
  {
   "cell_type": "code",
   "execution_count": 32,
   "metadata": {
    "execution": {
     "iopub.execute_input": "2024-10-05T09:22:04.854321Z",
     "iopub.status.busy": "2024-10-05T09:22:04.854321Z",
     "iopub.status.idle": "2024-10-05T09:22:04.885951Z",
     "shell.execute_reply": "2024-10-05T09:22:04.885951Z"
    }
   },
   "outputs": [
    {
     "name": "stdout",
     "output_type": "stream",
     "text": [
      "     year  month     category  total_jobs\n",
      "1    2022     10  electrician          95\n",
      "6    2022     11  electrician          86\n",
      "11   2022     12  electrician          48\n",
      "16   2023      1  electrician          29\n",
      "21   2023      2  electrician          59\n",
      "26   2023      3  electrician          45\n",
      "31   2023      4  electrician          88\n",
      "36   2023      5  electrician          34\n",
      "41   2023      6  electrician          54\n",
      "46   2023      7  electrician          66\n",
      "51   2023      8  electrician         102\n",
      "56   2023      9  electrician          56\n",
      "61   2023     10  electrician          84\n",
      "66   2023     11  electrician          62\n",
      "71   2023     12  electrician          85\n",
      "76   2024      1  electrician          29\n",
      "81   2024      2  electrician         118\n",
      "86   2024      3  electrician         121\n",
      "91   2024      4  electrician          96\n",
      "96   2024      5  electrician          23\n",
      "101  2024      6  electrician          75\n",
      "106  2024      7  electrician          48\n",
      "111  2024      8  electrician          36\n",
      "116  2024      9  electrician         138\n"
     ]
    }
   ],
   "source": [
    "# Electrician\n",
    "electrician_counts = job_counts[job_counts['category'] == 'electrician']\n",
    "print(electrician_counts)\n",
    "\n",
    "historical_data = {\n",
    "    'date': pd.date_range(start=start_date, end=datetime(2024, 10, 1), freq='M'),\n",
    "    'demand': electrician_counts['total_jobs'].tolist()\n",
    "}\n",
    "electrician_df = pd.DataFrame(historical_data)\n",
    "electrician_df.set_index('date', inplace=True)\n",
    "\n",
    "forecast_months = 6\n",
    "\n",
    "# Monthly\n",
    "historical_demand = electrician_df['demand'][-12:]\n",
    "monthly_forecast = np.ceil(forecast_demand(electrician_df, seasonal_periods=12, forecast_horizon=forecast_months)).astype(int)\n",
    "combined_demand_forecast = np.concatenate((historical_demand, monthly_forecast))\n",
    "\n",
    "historical_labels = [historical_demand.index[i].strftime(\"%Y-%m\") for i in range(len(historical_demand))]\n",
    "forecasted_labels = [(monthly_forecast.index[i].strftime(\"%Y-%m\")) for i in range(len(monthly_forecast))]\n",
    "combined_labels = historical_labels + forecasted_labels\n",
    "\n",
    "data_job_demand_forecast_monthly = {\n",
    "    'labels': combined_labels,\n",
    "    'data': combined_demand_forecast.tolist()\n",
    "}\n",
    "\n",
    "with open('../public/analytics/job/job-demand-forecast-electrician-month.json', 'w') as file:\n",
    "    json.dump(data_job_demand_forecast_monthly, file, indent=4) \n",
    "\n",
    "# Quarterly \n",
    "df_quarterly = electrician_df.resample('Q').sum()\n",
    "historical_demand = np.ceil(df_quarterly['demand'][-6:]).astype(int)\n",
    "quarterly_forecast = np.ceil(forecast_demand(df_quarterly, seasonal_periods=4, forecast_horizon=forecast_months // 3)).astype(int)\n",
    "combined_demand_forecast = np.concatenate((historical_demand, quarterly_forecast))\n",
    "\n",
    "historical_labels = [historical_demand.index[i].strftime(\"%Y-%m\") for i in range(len(historical_demand))]\n",
    "forecasted_labels = [(quarterly_forecast.index[i].strftime(\"%Y-%m\")) for i in range(len(quarterly_forecast))]\n",
    "combined_labels = historical_labels + forecasted_labels\n",
    "\n",
    "data_job_demand_forecast_quarterly = {\n",
    "    'labels': combined_labels,\n",
    "    'data': combined_demand_forecast.tolist()\n",
    "}\n",
    "\n",
    "with open('../public/analytics/job/job-demand-forecast-electrician-quarter.json', 'w') as file:\n",
    "    json.dump(data_job_demand_forecast_quarterly, file, indent=4) \n"
   ]
  },
  {
   "cell_type": "code",
   "execution_count": 33,
   "metadata": {
    "execution": {
     "iopub.execute_input": "2024-10-05T09:22:04.888675Z",
     "iopub.status.busy": "2024-10-05T09:22:04.887401Z",
     "iopub.status.idle": "2024-10-05T09:22:04.922669Z",
     "shell.execute_reply": "2024-10-05T09:22:04.922669Z"
    }
   },
   "outputs": [
    {
     "name": "stdout",
     "output_type": "stream",
     "text": [
      "     year  month     category  total_jobs\n",
      "4    2022     10  ventilation          45\n",
      "9    2022     11  ventilation          33\n",
      "14   2022     12  ventilation          46\n",
      "19   2023      1  ventilation          16\n",
      "24   2023      2  ventilation          63\n",
      "29   2023      3  ventilation          65\n",
      "34   2023      4  ventilation          52\n",
      "39   2023      5  ventilation          12\n",
      "44   2023      6  ventilation          40\n",
      "49   2023      7  ventilation          26\n",
      "54   2023      8  ventilation          19\n",
      "59   2023      9  ventilation          74\n",
      "64   2023     10  ventilation          65\n",
      "69   2023     11  ventilation          50\n",
      "74   2023     12  ventilation          56\n",
      "79   2024      1  ventilation          65\n",
      "84   2024      2  ventilation          18\n",
      "89   2024      3  ventilation          47\n",
      "94   2024      4  ventilation          65\n",
      "99   2024      5  ventilation          65\n",
      "104  2024      6  ventilation          41\n",
      "109  2024      7  ventilation          13\n",
      "114  2024      8  ventilation          29\n",
      "119  2024      9  ventilation          71\n"
     ]
    }
   ],
   "source": [
    "# Ventilation\n",
    "ventilation_counts = job_counts[job_counts['category'] == 'ventilation']\n",
    "print(ventilation_counts)\n",
    "\n",
    "historical_data = {\n",
    "    'date': pd.date_range(start=start_date, end=datetime(2024, 10, 1), freq='M'),\n",
    "    'demand': ventilation_counts['total_jobs'].tolist()\n",
    "}\n",
    "ventilation_df = pd.DataFrame(historical_data)\n",
    "ventilation_df.set_index('date', inplace=True)\n",
    "\n",
    "forecast_months = 6\n",
    "\n",
    "# Monthly\n",
    "historical_demand = ventilation_df['demand'][-12:]\n",
    "monthly_forecast = np.ceil(forecast_demand(ventilation_df, seasonal_periods=12, forecast_horizon=forecast_months)).astype(int)\n",
    "combined_demand_forecast = np.concatenate((historical_demand, monthly_forecast))\n",
    "\n",
    "historical_labels = [historical_demand.index[i].strftime(\"%Y-%m\") for i in range(len(historical_demand))]\n",
    "forecasted_labels = [(monthly_forecast.index[i].strftime(\"%Y-%m\")) for i in range(len(monthly_forecast))]\n",
    "combined_labels = historical_labels + forecasted_labels\n",
    "\n",
    "data_job_demand_forecast_monthly = {\n",
    "    'labels': combined_labels,\n",
    "    'data': combined_demand_forecast.tolist()\n",
    "}\n",
    "\n",
    "with open('../public/analytics/job/job-demand-forecast-ventilation-month.json', 'w') as file:\n",
    "    json.dump(data_job_demand_forecast_monthly, file, indent=4) \n",
    "\n",
    "# Quarterly \n",
    "df_quarterly = ventilation_df.resample('Q').sum()\n",
    "historical_demand = np.ceil(df_quarterly['demand'][-6:]).astype(int)\n",
    "quarterly_forecast = np.ceil(forecast_demand(df_quarterly, seasonal_periods=4, forecast_horizon=forecast_months // 3)).astype(int)\n",
    "combined_demand_forecast = np.concatenate((historical_demand, quarterly_forecast))\n",
    "\n",
    "historical_labels = [historical_demand.index[i].strftime(\"%Y-%m\") for i in range(len(historical_demand))]\n",
    "forecasted_labels = [(quarterly_forecast.index[i].strftime(\"%Y-%m\")) for i in range(len(quarterly_forecast))]\n",
    "combined_labels = historical_labels + forecasted_labels\n",
    "\n",
    "data_job_demand_forecast_quarterly = {\n",
    "    'labels': combined_labels,\n",
    "    'data': combined_demand_forecast.tolist()\n",
    "}\n",
    "\n",
    "with open('../public/analytics/job/job-demand-forecast-ventilation-quarter.json', 'w') as file:\n",
    "    json.dump(data_job_demand_forecast_quarterly, file, indent=4) "
   ]
  },
  {
   "cell_type": "code",
   "execution_count": 34,
   "metadata": {
    "execution": {
     "iopub.execute_input": "2024-10-05T09:22:04.925152Z",
     "iopub.status.busy": "2024-10-05T09:22:04.924146Z",
     "iopub.status.idle": "2024-10-05T09:22:04.959857Z",
     "shell.execute_reply": "2024-10-05T09:22:04.959857Z"
    }
   },
   "outputs": [
    {
     "name": "stdout",
     "output_type": "stream",
     "text": [
      "     year  month category  total_jobs\n",
      "3    2022     10  plumber          23\n",
      "8    2022     11  plumber          18\n",
      "13   2022     12  plumber          20\n",
      "18   2023      1  plumber          24\n",
      "23   2023      2  plumber           6\n",
      "28   2023      3  plumber          17\n",
      "33   2023      4  plumber          24\n",
      "38   2023      5  plumber          24\n",
      "43   2023      6  plumber          14\n",
      "48   2023      7  plumber           5\n",
      "53   2023      8  plumber          10\n",
      "58   2023      9  plumber          25\n",
      "63   2023     10  plumber          75\n",
      "68   2023     11  plumber          69\n",
      "73   2023     12  plumber          38\n",
      "78   2024      1  plumber          23\n",
      "83   2024      2  plumber          47\n",
      "88   2024      3  plumber          36\n",
      "93   2024      4  plumber          70\n",
      "98   2024      5  plumber          27\n",
      "103  2024      6  plumber          43\n",
      "108  2024      7  plumber          53\n",
      "113  2024      8  plumber          81\n",
      "118  2024      9  plumber          45\n"
     ]
    }
   ],
   "source": [
    "# Plumber\n",
    "plumber_counts = job_counts[job_counts['category'] == 'plumber']\n",
    "print(plumber_counts)\n",
    "\n",
    "historical_data = {\n",
    "    'date': pd.date_range(start=start_date, end=datetime(2024, 10, 1), freq='M'),\n",
    "    'demand': plumber_counts['total_jobs'].tolist()\n",
    "}\n",
    "plumber_df = pd.DataFrame(historical_data)\n",
    "plumber_df.set_index('date', inplace=True)\n",
    "\n",
    "forecast_months = 6\n",
    "\n",
    "# Monthly\n",
    "historical_demand = plumber_df['demand'][-12:]\n",
    "monthly_forecast = np.ceil(forecast_demand(plumber_df, seasonal_periods=12, forecast_horizon=forecast_months)).astype(int)\n",
    "combined_demand_forecast = np.concatenate((historical_demand, monthly_forecast))\n",
    "\n",
    "historical_labels = [historical_demand.index[i].strftime(\"%Y-%m\") for i in range(len(historical_demand))]\n",
    "forecasted_labels = [(monthly_forecast.index[i].strftime(\"%Y-%m\")) for i in range(len(monthly_forecast))]\n",
    "combined_labels = historical_labels + forecasted_labels\n",
    "\n",
    "data_job_demand_forecast_monthly = {\n",
    "    'labels': combined_labels,\n",
    "    'data': combined_demand_forecast.tolist()\n",
    "}\n",
    "\n",
    "with open('../public/analytics/job/job-demand-forecast-plumber-month.json', 'w') as file:\n",
    "    json.dump(data_job_demand_forecast_monthly, file, indent=4) \n",
    "\n",
    "# Quarterly \n",
    "df_quarterly = plumber_df.resample('Q').sum()\n",
    "historical_demand = np.ceil(df_quarterly['demand'][-6:]).astype(int)\n",
    "quarterly_forecast = np.ceil(forecast_demand(df_quarterly, seasonal_periods=4, forecast_horizon=forecast_months // 3)).astype(int)\n",
    "combined_demand_forecast = np.concatenate((historical_demand, quarterly_forecast))\n",
    "\n",
    "historical_labels = [historical_demand.index[i].strftime(\"%Y-%m\") for i in range(len(historical_demand))]\n",
    "forecasted_labels = [(quarterly_forecast.index[i].strftime(\"%Y-%m\")) for i in range(len(quarterly_forecast))]\n",
    "combined_labels = historical_labels + forecasted_labels\n",
    "\n",
    "data_job_demand_forecast_quarterly = {\n",
    "    'labels': combined_labels,\n",
    "    'data': combined_demand_forecast.tolist()\n",
    "}\n",
    "\n",
    "with open('../public/analytics/job/job-demand-forecast-plumber-quarter.json', 'w') as file:\n",
    "    json.dump(data_job_demand_forecast_quarterly, file, indent=4) "
   ]
  },
  {
   "cell_type": "code",
   "execution_count": 35,
   "metadata": {
    "execution": {
     "iopub.execute_input": "2024-10-05T09:22:04.962487Z",
     "iopub.status.busy": "2024-10-05T09:22:04.961262Z",
     "iopub.status.idle": "2024-10-05T09:22:04.992650Z",
     "shell.execute_reply": "2024-10-05T09:22:04.992650Z"
    }
   },
   "outputs": [
    {
     "name": "stdout",
     "output_type": "stream",
     "text": [
      "     year  month  category  total_jobs\n",
      "2    2022     10  handyman         100\n",
      "7    2022     11  handyman          74\n",
      "12   2022     12  handyman         101\n",
      "17   2023      1  handyman          35\n",
      "22   2023      2  handyman         141\n",
      "27   2023      3  handyman         145\n",
      "32   2023      4  handyman         116\n",
      "37   2023      5  handyman          27\n",
      "42   2023      6  handyman          90\n",
      "47   2023      7  handyman          58\n",
      "52   2023      8  handyman          43\n",
      "57   2023      9  handyman         165\n",
      "62   2023     10  handyman         150\n",
      "67   2023     11  handyman         115\n",
      "72   2023     12  handyman         128\n",
      "77   2024      1  handyman         150\n",
      "82   2024      2  handyman          43\n",
      "87   2024      3  handyman         106\n",
      "92   2024      4  handyman         151\n",
      "97   2024      5  handyman         147\n",
      "102  2024      6  handyman          95\n",
      "107  2024      7  handyman          29\n",
      "112  2024      8  handyman          68\n",
      "117  2024      9  handyman         165\n"
     ]
    }
   ],
   "source": [
    "# Handyman\n",
    "handyman_counts = job_counts[job_counts['category'] == 'handyman']\n",
    "print(handyman_counts)\n",
    "\n",
    "historical_data = {\n",
    "    'date': pd.date_range(start=start_date, end=datetime(2024, 10, 1), freq='M'),\n",
    "    'demand': handyman_counts['total_jobs'].tolist()\n",
    "}\n",
    "handyman_df = pd.DataFrame(historical_data)\n",
    "handyman_df.set_index('date', inplace=True)\n",
    "\n",
    "forecast_months = 6\n",
    "\n",
    "# Monthly\n",
    "historical_demand = handyman_df['demand'][-12:]\n",
    "monthly_forecast = np.ceil(forecast_demand(handyman_df, seasonal_periods=12, forecast_horizon=forecast_months)).astype(int)\n",
    "combined_demand_forecast = np.concatenate((historical_demand, monthly_forecast))\n",
    "\n",
    "historical_labels = [historical_demand.index[i].strftime(\"%Y-%m\") for i in range(len(historical_demand))]\n",
    "forecasted_labels = [(monthly_forecast.index[i].strftime(\"%Y-%m\")) for i in range(len(monthly_forecast))]\n",
    "combined_labels = historical_labels + forecasted_labels\n",
    "\n",
    "data_job_demand_forecast_monthly = {\n",
    "    'labels': combined_labels,\n",
    "    'data': combined_demand_forecast.tolist()\n",
    "}\n",
    "\n",
    "with open('../public/analytics/job/job-demand-forecast-handyman-month.json', 'w') as file:\n",
    "    json.dump(data_job_demand_forecast_monthly, file, indent=4) \n",
    "\n",
    "# Quarterly \n",
    "df_quarterly = handyman_df.resample('Q').sum()\n",
    "historical_demand = np.ceil(df_quarterly['demand'][-6:]).astype(int)\n",
    "quarterly_forecast = np.ceil(forecast_demand(df_quarterly, seasonal_periods=4, forecast_horizon=forecast_months // 3)).astype(int)\n",
    "combined_demand_forecast = np.concatenate((historical_demand, quarterly_forecast))\n",
    "\n",
    "historical_labels = [historical_demand.index[i].strftime(\"%Y-%m\") for i in range(len(historical_demand))]\n",
    "forecasted_labels = [(quarterly_forecast.index[i].strftime(\"%Y-%m\")) for i in range(len(quarterly_forecast))]\n",
    "combined_labels = historical_labels + forecasted_labels\n",
    "\n",
    "data_job_demand_forecast_quarterly = {\n",
    "    'labels': combined_labels,\n",
    "    'data': combined_demand_forecast.tolist()\n",
    "}\n",
    "\n",
    "with open('../public/analytics/job/job-demand-forecast-handyman-quarter.json', 'w') as file:\n",
    "    json.dump(data_job_demand_forecast_quarterly, file, indent=4) "
   ]
  },
  {
   "cell_type": "code",
   "execution_count": 36,
   "metadata": {
    "execution": {
     "iopub.execute_input": "2024-10-05T09:22:04.995654Z",
     "iopub.status.busy": "2024-10-05T09:22:04.994654Z",
     "iopub.status.idle": "2024-10-05T09:22:05.031523Z",
     "shell.execute_reply": "2024-10-05T09:22:05.031523Z"
    }
   },
   "outputs": [
    {
     "name": "stdout",
     "output_type": "stream",
     "text": [
      "     year  month category  total_jobs\n",
      "0    2022     10   aircon          63\n",
      "5    2022     11   aircon          49\n",
      "10   2022     12   aircon          55\n",
      "15   2023      1   aircon          63\n",
      "20   2023      2   aircon          18\n",
      "25   2023      3   aircon          45\n",
      "30   2023      4   aircon          63\n",
      "35   2023      5   aircon          63\n",
      "40   2023      6   aircon          40\n",
      "45   2023      7   aircon          12\n",
      "50   2023      8   aircon          29\n",
      "55   2023      9   aircon          70\n",
      "60   2023     10   aircon          92\n",
      "65   2023     11   aircon          68\n",
      "70   2023     12   aircon          93\n",
      "75   2024      1   aircon          33\n",
      "80   2024      2   aircon         130\n",
      "85   2024      3   aircon         134\n",
      "90   2024      4   aircon         106\n",
      "95   2024      5   aircon          25\n",
      "100  2024      6   aircon          83\n",
      "105  2024      7   aircon          53\n",
      "110  2024      8   aircon          40\n",
      "115  2024      9   aircon         153\n"
     ]
    }
   ],
   "source": [
    "# Aircon\n",
    "aircon_counts = job_counts[job_counts['category'] == 'aircon']\n",
    "print(aircon_counts)\n",
    "\n",
    "historical_data = {\n",
    "    'date': pd.date_range(start=start_date, end=datetime(2024, 10, 1), freq='M'),\n",
    "    'demand': aircon_counts['total_jobs'].tolist()\n",
    "}\n",
    "aircon_df = pd.DataFrame(historical_data)\n",
    "aircon_df.set_index('date', inplace=True)\n",
    "\n",
    "forecast_months = 6\n",
    "\n",
    "# Monthly\n",
    "historical_demand = aircon_df['demand'][-12:]\n",
    "monthly_forecast = np.ceil(forecast_demand(aircon_df, seasonal_periods=12, forecast_horizon=forecast_months)).astype(int)\n",
    "combined_demand_forecast = np.concatenate((historical_demand, monthly_forecast))\n",
    "\n",
    "historical_labels = [historical_demand.index[i].strftime(\"%Y-%m\") for i in range(len(historical_demand))]\n",
    "forecasted_labels = [(monthly_forecast.index[i].strftime(\"%Y-%m\")) for i in range(len(monthly_forecast))]\n",
    "combined_labels = historical_labels + forecasted_labels\n",
    "\n",
    "data_job_demand_forecast_monthly = {\n",
    "    'labels': combined_labels,\n",
    "    'data': combined_demand_forecast.tolist()\n",
    "}\n",
    "\n",
    "with open('../public/analytics/job/job-demand-forecast-aircon-month.json', 'w') as file:\n",
    "    json.dump(data_job_demand_forecast_monthly, file, indent=4) \n",
    "\n",
    "# Quarterly \n",
    "df_quarterly = aircon_df.resample('Q').sum()\n",
    "historical_demand = np.ceil(df_quarterly['demand'][-6:]).astype(int)\n",
    "quarterly_forecast = np.ceil(forecast_demand(df_quarterly, seasonal_periods=4, forecast_horizon=forecast_months // 3)).astype(int)\n",
    "combined_demand_forecast = np.concatenate((historical_demand, quarterly_forecast))\n",
    "\n",
    "historical_labels = [historical_demand.index[i].strftime(\"%Y-%m\") for i in range(len(historical_demand))]\n",
    "forecasted_labels = [(quarterly_forecast.index[i].strftime(\"%Y-%m\")) for i in range(len(quarterly_forecast))]\n",
    "combined_labels = historical_labels + forecasted_labels\n",
    "\n",
    "data_job_demand_forecast_quarterly = {\n",
    "    'labels': combined_labels,\n",
    "    'data': combined_demand_forecast.tolist()\n",
    "}\n",
    "\n",
    "with open('../public/analytics/job/job-demand-forecast-aircon-quarter.json', 'w') as file:\n",
    "    json.dump(data_job_demand_forecast_quarterly, file, indent=4) "
   ]
  },
  {
   "cell_type": "markdown",
   "metadata": {},
   "source": [
    "### Financial Analytics - Invoice"
   ]
  },
  {
   "cell_type": "code",
   "execution_count": 21,
   "metadata": {},
   "outputs": [
    {
     "name": "stdout",
     "output_type": "stream",
     "text": [
      "['PayNow', 'Cash', 'Bank Transfer']\n"
     ]
    }
   ],
   "source": [
    "# General Labels\n",
    "payment_methods_df = pd.read_csv('./datasets/payment_methods.csv')\n",
    "payment_types = payment_methods_df['name'].tolist()\n",
    "print(payment_types)"
   ]
  },
  {
   "cell_type": "code",
   "execution_count": 22,
   "metadata": {},
   "outputs": [],
   "source": [
    "ia_payment_df = pd.read_csv('./datasets/ia_payment.csv')\n",
    "ia_payment_df['Date'] = pd.to_datetime(ia_payment_df['Date'])"
   ]
  },
  {
   "cell_type": "markdown",
   "metadata": {},
   "source": [
    "#### Payment Type Distribution"
   ]
  },
  {
   "cell_type": "code",
   "execution_count": 23,
   "metadata": {},
   "outputs": [],
   "source": [
    "# Past 1 Month\n",
    "\n",
    "## Total\n",
    "recent_payments = ia_payment_df[ia_payment_df['Date'] >= datetime(2024, 10, 1) - pd.DateOffset(months=1)]\n",
    "total_payments_frequency = recent_payments['Payment Method'].value_counts(sort=False).tolist()\n",
    "data_payment_type_dist = {\n",
    "    'labels': payment_types,\n",
    "    'data': total_payments_frequency\n",
    "}\n",
    "\n",
    "with open('../public/analytics/financial/invoice/payment-type-dist-one-month-total.json', 'w') as file:\n",
    "    json.dump(data_payment_type_dist, file, indent=4)\n",
    "\n",
    "## Average\n",
    "average_payment_frequency = total_payments_frequency\n",
    "data_payment_type_dist = {\n",
    "    'labels': payment_types,\n",
    "    'data': average_payment_frequency\n",
    "}\n",
    "\n",
    "with open('../public/analytics/financial/invoice/payment-type-dist-one-month-average.json', 'w') as file:\n",
    "    json.dump(data_payment_type_dist, file, indent=4)  "
   ]
  },
  {
   "cell_type": "code",
   "execution_count": 24,
   "metadata": {},
   "outputs": [],
   "source": [
    "# Past 3 Months\n",
    "\n",
    "## Total\n",
    "recent_payments = ia_payment_df[ia_payment_df['Date'] >= datetime(2024, 10, 1) - pd.DateOffset(months=3)]\n",
    "total_payments_frequency = recent_payments['Payment Method'].value_counts(sort=False).tolist()\n",
    "data_payment_type_dist = {\n",
    "    'labels': payment_types,\n",
    "    'data': total_payments_frequency\n",
    "}\n",
    "\n",
    "with open('../public/analytics/financial/invoice/payment-type-dist-three-month-total.json', 'w') as file:\n",
    "    json.dump(data_payment_type_dist, file, indent=4)\n",
    "\n",
    "## Average\n",
    "average_payment_frequency = [np.ceil(x / 3) for x in total_payments_frequency]\n",
    "data_payment_type_dist = {\n",
    "    'labels': payment_types,\n",
    "    'data': average_payment_frequency\n",
    "}\n",
    "\n",
    "with open('../public/analytics/financial/invoice/payment-type-dist-three-month-average.json', 'w') as file:\n",
    "    json.dump(data_payment_type_dist, file, indent=4)   "
   ]
  },
  {
   "cell_type": "code",
   "execution_count": 25,
   "metadata": {},
   "outputs": [],
   "source": [
    "# Past 6 Months\n",
    "\n",
    "## Total\n",
    "recent_payments = ia_payment_df[ia_payment_df['Date'] >= datetime(2024, 10, 1) - pd.DateOffset(months=6)]\n",
    "total_payments_frequency = recent_payments['Payment Method'].value_counts(sort=False).tolist()\n",
    "data_payment_type_dist = {\n",
    "    'labels': payment_types,\n",
    "    'data': total_payments_frequency\n",
    "}\n",
    "\n",
    "with open('../public/analytics/financial/invoice/payment-type-dist-six-month-total.json', 'w') as file:\n",
    "    json.dump(data_payment_type_dist, file, indent=4)\n",
    "\n",
    "## Average\n",
    "average_payment_frequency = [np.ceil(x / 6) for x in total_payments_frequency]\n",
    "data_payment_type_dist = {\n",
    "    'labels': payment_types,\n",
    "    'data': average_payment_frequency\n",
    "}\n",
    "\n",
    "with open('../public/analytics/financial/invoice/payment-type-dist-six-month-average.json', 'w') as file:\n",
    "    json.dump(data_payment_type_dist, file, indent=4)  "
   ]
  },
  {
   "cell_type": "code",
   "execution_count": 26,
   "metadata": {},
   "outputs": [],
   "source": [
    "# Past 12 Months\n",
    "\n",
    "## Total\n",
    "recent_payments = ia_payment_df[ia_payment_df['Date'] >= datetime(2024, 10, 1) - pd.DateOffset(months=12)]\n",
    "total_payments_frequency = recent_payments['Payment Method'].value_counts(sort=False).tolist()\n",
    "data_payment_type_dist = {\n",
    "    'labels': payment_types,\n",
    "    'data': total_payments_frequency\n",
    "}\n",
    "\n",
    "with open('../public/analytics/financial/invoice/payment-type-dist-twelve-month-total.json', 'w') as file:\n",
    "    json.dump(data_payment_type_dist, file, indent=4)\n",
    "\n",
    "## Average\n",
    "average_payment_frequency = [np.ceil(x / 12) for x in total_payments_frequency]\n",
    "data_payment_type_dist = {\n",
    "    'labels': payment_types,\n",
    "    'data': average_payment_frequency\n",
    "}\n",
    "\n",
    "with open('../public/analytics/financial/invoice/payment-type-dist-twelve-month-average.json', 'w') as file:\n",
    "    json.dump(data_payment_type_dist, file, indent=4)   "
   ]
  },
  {
   "cell_type": "markdown",
   "metadata": {},
   "source": [
    "#### Payment Duration Distribution"
   ]
  },
  {
   "cell_type": "code",
   "execution_count": 51,
   "metadata": {},
   "outputs": [],
   "source": [
    "# Payment Duration\n",
    "all_durations = [3, 5, 7, 10, 14]\n",
    "\n",
    "def generate_payment_duration_dist(recent_payments):\n",
    "    month = calendar.month_name[recent_payments['Date'].iloc[0].month]\n",
    "    \n",
    "    ## PayNow\n",
    "    paynow_counts = recent_payments[recent_payments['Payment Method'] == 'PayNow']\n",
    "    total_duration_frequency = paynow_counts['Payment Duration'].value_counts(sort=False)\n",
    "    total_duration_frequency = total_duration_frequency.reindex(all_durations, fill_value=0)\n",
    "    data_payment_type_dist = {\n",
    "        'labels': all_durations,\n",
    "        'data': total_duration_frequency.tolist()\n",
    "    }\n",
    "\n",
    "    with open('../public/analytics/financial/invoice/payment-duration-dist-paynow-{}.json'.format(month), 'w') as file:\n",
    "        json.dump(data_payment_type_dist, file, indent=4) \n",
    "\n",
    "    ## BankTransfer\n",
    "    bank_counts = recent_payments[recent_payments['Payment Method'] == 'Bank Transfer']\n",
    "    total_duration_frequency = bank_counts['Payment Duration'].value_counts(sort=False)\n",
    "    total_duration_frequency = total_duration_frequency.reindex(all_durations, fill_value=0)\n",
    "    data_payment_type_dist = {\n",
    "        'labels': all_durations,\n",
    "        'data': total_duration_frequency.tolist()\n",
    "    }\n",
    "\n",
    "    with open('../public/analytics/financial/invoice/payment-duration-dist-bank-{}.json'.format(month), 'w') as file:\n",
    "        json.dump(data_payment_type_dist, file, indent=4)"
   ]
  },
  {
   "cell_type": "code",
   "execution_count": 52,
   "metadata": {},
   "outputs": [],
   "source": [
    "# Past 1 Month\n",
    "recent_payments = ia_payment_df[ia_payment_df['Date'] >= datetime(2024, 10, 1) - pd.DateOffset(months=1)]\n",
    "generate_payment_duration_dist(recent_payments)"
   ]
  },
  {
   "cell_type": "code",
   "execution_count": 53,
   "metadata": {},
   "outputs": [],
   "source": [
    "# Past 2 Month\n",
    "recent_payments = ia_payment_df[(ia_payment_df['Date'] >= datetime(2024, 10, 1) - pd.DateOffset(months=2)) & (ia_payment_df['Date'] < datetime(2024, 10, 1) - pd.DateOffset(months=1))]\n",
    "generate_payment_duration_dist(recent_payments)"
   ]
  },
  {
   "cell_type": "code",
   "execution_count": 54,
   "metadata": {},
   "outputs": [],
   "source": [
    "# Past 3 Month\n",
    "recent_payments = ia_payment_df[(ia_payment_df['Date'] >= datetime(2024, 10, 1) - pd.DateOffset(months=3)) & (ia_payment_df['Date'] < datetime(2024, 10, 1) - pd.DateOffset(months=2))]\n",
    "generate_payment_duration_dist(recent_payments)"
   ]
  },
  {
   "cell_type": "code",
   "execution_count": 55,
   "metadata": {},
   "outputs": [],
   "source": [
    "# Past 4 Month\n",
    "recent_payments = ia_payment_df[(ia_payment_df['Date'] >= datetime(2024, 10, 1) - pd.DateOffset(months=4)) & (ia_payment_df['Date'] < datetime(2024, 10, 1) - pd.DateOffset(months=3))]\n",
    "generate_payment_duration_dist(recent_payments)"
   ]
  },
  {
   "cell_type": "code",
   "execution_count": 56,
   "metadata": {},
   "outputs": [],
   "source": [
    "# Past 5 Month\n",
    "recent_payments = ia_payment_df[(ia_payment_df['Date'] >= datetime(2024, 10, 1) - pd.DateOffset(months=5)) & (ia_payment_df['Date'] < datetime(2024, 10, 1) - pd.DateOffset(months=4))]\n",
    "generate_payment_duration_dist(recent_payments)"
   ]
  },
  {
   "cell_type": "code",
   "execution_count": 57,
   "metadata": {},
   "outputs": [],
   "source": [
    "# Past 6 Month\n",
    "recent_payments = ia_payment_df[(ia_payment_df['Date'] >= datetime(2024, 10, 1) - pd.DateOffset(months=6)) & (ia_payment_df['Date'] < datetime(2024, 10, 1) - pd.DateOffset(months=5))]\n",
    "generate_payment_duration_dist(recent_payments)"
   ]
  },
  {
   "cell_type": "code",
   "execution_count": 58,
   "metadata": {},
   "outputs": [],
   "source": [
    "# Past 7 Month\n",
    "recent_payments = ia_payment_df[(ia_payment_df['Date'] >= datetime(2024, 10, 1) - pd.DateOffset(months=7)) & (ia_payment_df['Date'] < datetime(2024, 10, 1) - pd.DateOffset(months=6))]\n",
    "generate_payment_duration_dist(recent_payments)"
   ]
  },
  {
   "cell_type": "code",
   "execution_count": 59,
   "metadata": {},
   "outputs": [],
   "source": [
    "# Past 8 Month\n",
    "recent_payments = ia_payment_df[(ia_payment_df['Date'] >= datetime(2024, 10, 1) - pd.DateOffset(months=8)) & (ia_payment_df['Date'] < datetime(2024, 10, 1) - pd.DateOffset(months=7))]\n",
    "generate_payment_duration_dist(recent_payments)"
   ]
  },
  {
   "cell_type": "code",
   "execution_count": 60,
   "metadata": {},
   "outputs": [],
   "source": [
    "# Past 9 Month\n",
    "recent_payments = ia_payment_df[(ia_payment_df['Date'] >= datetime(2024, 10, 1) - pd.DateOffset(months=9)) & (ia_payment_df['Date'] < datetime(2024, 10, 1) - pd.DateOffset(months=8))]\n",
    "generate_payment_duration_dist(recent_payments)"
   ]
  },
  {
   "cell_type": "code",
   "execution_count": 61,
   "metadata": {},
   "outputs": [],
   "source": [
    "# Past 10 Month\n",
    "recent_payments = ia_payment_df[(ia_payment_df['Date'] >= datetime(2024, 10, 1) - pd.DateOffset(months=10)) & (ia_payment_df['Date'] < datetime(2024, 10, 1) - pd.DateOffset(months=9))]\n",
    "generate_payment_duration_dist(recent_payments)"
   ]
  },
  {
   "cell_type": "code",
   "execution_count": 62,
   "metadata": {},
   "outputs": [],
   "source": [
    "# Past 11 Month\n",
    "recent_payments = ia_payment_df[(ia_payment_df['Date'] >= datetime(2024, 10, 1) - pd.DateOffset(months=11)) & (ia_payment_df['Date'] < datetime(2024, 10, 1) - pd.DateOffset(months=10))]\n",
    "generate_payment_duration_dist(recent_payments)"
   ]
  },
  {
   "cell_type": "code",
   "execution_count": 63,
   "metadata": {},
   "outputs": [],
   "source": [
    "# Past 12 Month\n",
    "recent_payments = ia_payment_df[(ia_payment_df['Date'] >= datetime(2024, 10, 1) - pd.DateOffset(months=12)) & (ia_payment_df['Date'] < datetime(2024, 10, 1) - pd.DateOffset(months=11))]\n",
    "generate_payment_duration_dist(recent_payments)"
   ]
  },
  {
   "cell_type": "markdown",
   "metadata": {},
   "source": [
    "### Financial Analytics - Quotation"
   ]
  },
  {
   "cell_type": "markdown",
   "metadata": {},
   "source": [
    "#### Response Duration Distribution"
   ]
  },
  {
   "cell_type": "code",
   "execution_count": 66,
   "metadata": {},
   "outputs": [],
   "source": [
    "qa_duration_df = pd.read_csv('./datasets/qa_duration.csv')"
   ]
  },
  {
   "cell_type": "code",
   "execution_count": 67,
   "metadata": {},
   "outputs": [],
   "source": [
    "# Filter for Last 12 Months\n",
    "df_last_12_months = qa_duration_df[qa_duration_df['Period'] == 'Last 12 Months']\n",
    "category_counts = df_last_12_months.groupby('Duration Category').size()\n",
    "data_response_duration_dist = {\n",
    "    'labels': category_counts.index.tolist(),\n",
    "    'data': category_counts.values.tolist()\n",
    "}\n",
    "\n",
    "with open('../public/analytics/financial/quotation/response-duration-dist-last-twelve-month.json', 'w') as file:\n",
    "    json.dump(data_response_duration_dist, file, indent=4)\n"
   ]
  },
  {
   "cell_type": "code",
   "execution_count": 68,
   "metadata": {},
   "outputs": [],
   "source": [
    "# Filter for Last 13-24 Months (Prior 12 Months)\n",
    "df_prior_12_months = qa_duration_df[qa_duration_df['Period'] == 'Last 13-24 Months']\n",
    "category_counts = df_prior_12_months.groupby('Duration Category').size()\n",
    "data_response_duration_dist = {\n",
    "    'labels': category_counts.index.tolist(),\n",
    "    'data': category_counts.values.tolist()\n",
    "}\n",
    "\n",
    "with open('../public/analytics/financial/quotation/response-duration-dist-last-twentyfour-month.json', 'w') as file:\n",
    "    json.dump(data_response_duration_dist, file, indent=4)"
   ]
  },
  {
   "cell_type": "markdown",
   "metadata": {},
   "source": [
    "#### Response Reasoning Distribution"
   ]
  },
  {
   "cell_type": "code",
   "execution_count": 74,
   "metadata": {},
   "outputs": [],
   "source": [
    "qa_reason_df = pd.read_csv('./datasets/qa_reason.csv')"
   ]
  },
  {
   "cell_type": "code",
   "execution_count": 75,
   "metadata": {},
   "outputs": [],
   "source": [
    "# Filter for Last 12 Months\n",
    "df_last_12_months = qa_reason_df[qa_reason_df['Period'] == 'Last 12 Months']\n",
    "reason_counts = df_last_12_months.groupby('Reason').size()\n",
    "proportion = round((reason_counts / reason_counts.sum() * 100), 1)\n",
    "\n",
    "data_response_reason_dist = {\n",
    "    'labels': reason_counts.index.tolist(),\n",
    "    'data': proportion.tolist()\n",
    "}\n",
    "\n",
    "with open('../public/analytics/financial/quotation/response-reason-dist-last-twelve-month.json', 'w') as file:\n",
    "    json.dump(data_response_reason_dist, file, indent=4)"
   ]
  },
  {
   "cell_type": "code",
   "execution_count": 76,
   "metadata": {},
   "outputs": [],
   "source": [
    "# Filter for Last 13-24 Months (Prior 12 Months)\n",
    "df_prior_12_months = qa_reason_df[qa_reason_df['Period'] == 'Last 13-24 Months']\n",
    "reason_counts = df_prior_12_months.groupby('Reason').size()\n",
    "proportion = round((reason_counts / reason_counts.sum() * 100), 1)\n",
    "\n",
    "data_response_reason_dist = {\n",
    "    'labels': reason_counts.index.tolist(),\n",
    "    'data': proportion.tolist()\n",
    "}\n",
    "\n",
    "with open('../public/analytics/financial/quotation/response-reason-dist-last-twentyfour-month.json', 'w') as file:\n",
    "    json.dump(data_response_reason_dist, file, indent=4)"
   ]
  }
 ],
 "metadata": {
  "kernelspec": {
   "display_name": "Python 3",
   "language": "python",
   "name": "python3"
  },
  "language_info": {
   "codemirror_mode": {
    "name": "ipython",
    "version": 3
   },
   "file_extension": ".py",
   "mimetype": "text/x-python",
   "name": "python",
   "nbconvert_exporter": "python",
   "pygments_lexer": "ipython3",
   "version": "3.11.0"
  }
 },
 "nbformat": 4,
 "nbformat_minor": 4
}

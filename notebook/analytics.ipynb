{
 "cells": [
  {
   "cell_type": "markdown",
   "metadata": {},
   "source": [
    "# Analytics Notebook"
   ]
  },
  {
   "cell_type": "markdown",
   "metadata": {},
   "source": [
    "### Connect To MongoDB"
   ]
  },
  {
   "cell_type": "code",
   "execution_count": 1,
   "metadata": {
    "execution": {
     "iopub.execute_input": "2024-10-31T09:09:06.331375Z",
     "iopub.status.busy": "2024-10-31T09:09:06.331375Z",
     "iopub.status.idle": "2024-10-31T09:09:07.288508Z",
     "shell.execute_reply": "2024-10-31T09:09:07.287502Z"
    }
   },
   "outputs": [],
   "source": [
    "## Import Libraries\n",
    "import os\n",
    "from pymongo import MongoClient\n",
    "from dotenv import load_dotenv\n",
    "\n",
    "# Load environment variables\n",
    "load_dotenv('../.env.local')\n",
    "db_uri = os.getenv('MONGODB_URI')\n",
    "\n",
    "## Connect To DB\n",
    "client = MongoClient(db_uri)\n",
    "db = client['test']"
   ]
  },
  {
   "cell_type": "code",
   "execution_count": 2,
   "metadata": {
    "execution": {
     "iopub.execute_input": "2024-10-31T09:09:07.293510Z",
     "iopub.status.busy": "2024-10-31T09:09:07.292514Z",
     "iopub.status.idle": "2024-10-31T09:09:07.512382Z",
     "shell.execute_reply": "2024-10-31T09:09:07.512382Z"
    }
   },
   "outputs": [
    {
     "name": "stdout",
     "output_type": "stream",
     "text": [
      "[{'_id': ObjectId('66feaedd49ba7e8835be8637'), 'rewardCode': 'REW-1234A', 'userId': 'user_2mbSBCVVpY6o84gkOho35Ip0GZn', 'status': 'EXPIRED', 'amount': 15, 'expiryDate': '2024-10-06', 'updatedAt': datetime.datetime(2024, 10, 6, 3, 11, 39, 649000)}]\n"
     ]
    }
   ],
   "source": [
    "# Testing\n",
    "print(list(db['rewards'].find()))"
   ]
  },
  {
   "cell_type": "markdown",
   "metadata": {},
   "source": [
    "## Analytics Dashboard"
   ]
  },
  {
   "cell_type": "markdown",
   "metadata": {},
   "source": [
    "Uses Cleaned Preprocessed Data Without Sensitive Information. <br/>\n",
    "Preprocessing of Sensitive Data Is Handled Separately."
   ]
  },
  {
   "cell_type": "code",
   "execution_count": 3,
   "metadata": {
    "execution": {
     "iopub.execute_input": "2024-10-31T09:09:07.564466Z",
     "iopub.status.busy": "2024-10-31T09:09:07.563436Z",
     "iopub.status.idle": "2024-10-31T09:09:13.475512Z",
     "shell.execute_reply": "2024-10-31T09:09:13.475000Z"
    }
   },
   "outputs": [],
   "source": [
    "## General Libraries\n",
    "import pandas as pd\n",
    "import numpy as np\n",
    "import json\n",
    "import calendar\n",
    "from datetime import datetime\n",
    "\n",
    "## Time Series\n",
    "from statsmodels.tsa.holtwinters import ExponentialSmoothing\n",
    "\n",
    "## Map\n",
    "import folium\n",
    "\n",
    "## Suppress Warnings\n",
    "import warnings\n",
    "warnings.filterwarnings('ignore')"
   ]
  },
  {
   "cell_type": "markdown",
   "metadata": {},
   "source": [
    "### Job Analytics"
   ]
  },
  {
   "cell_type": "code",
   "execution_count": 4,
   "metadata": {
    "execution": {
     "iopub.execute_input": "2024-10-31T09:09:13.478517Z",
     "iopub.status.busy": "2024-10-31T09:09:13.478517Z",
     "iopub.status.idle": "2024-10-31T09:09:13.492125Z",
     "shell.execute_reply": "2024-10-31T09:09:13.492125Z"
    }
   },
   "outputs": [
    {
     "name": "stdout",
     "output_type": "stream",
     "text": [
      "['Electrician', 'Ventilation', 'Plumber', 'Handyman', 'Aircon']\n"
     ]
    }
   ],
   "source": [
    "# General Labels\n",
    "categories_df = pd.read_csv('./datasets/categories.csv')\n",
    "job_types = categories_df['name'].tolist()\n",
    "print(job_types)"
   ]
  },
  {
   "cell_type": "code",
   "execution_count": 5,
   "metadata": {
    "execution": {
     "iopub.execute_input": "2024-10-31T09:09:13.495131Z",
     "iopub.status.busy": "2024-10-31T09:09:13.495131Z",
     "iopub.status.idle": "2024-10-31T09:09:13.500113Z",
     "shell.execute_reply": "2024-10-31T09:09:13.500113Z"
    }
   },
   "outputs": [],
   "source": [
    "# Function Extract Date\n",
    "def extract_start_date(column):\n",
    "    try:\n",
    "        col_dict = eval(column)\n",
    "        start_date = pd.to_datetime(col_dict[0]['start']['$date'])\n",
    "        return start_date\n",
    "    except:\n",
    "        return None\n",
    "    \n",
    "def extract_end_date(column):\n",
    "    try:\n",
    "        col_dict = eval(column)\n",
    "        start_date = pd.to_datetime(col_dict[0]['end']['$date'])\n",
    "        return start_date\n",
    "    except:\n",
    "        return None"
   ]
  },
  {
   "cell_type": "code",
   "execution_count": 6,
   "metadata": {
    "execution": {
     "iopub.execute_input": "2024-10-31T09:09:13.505123Z",
     "iopub.status.busy": "2024-10-31T09:09:13.504122Z",
     "iopub.status.idle": "2024-10-31T09:09:13.545241Z",
     "shell.execute_reply": "2024-10-31T09:09:13.544229Z"
    }
   },
   "outputs": [],
   "source": [
    "ja_jobs_df = pd.read_csv('./datasets/ja_jobs.csv')\n",
    "ja_jobs_df['date'] = pd.to_datetime(ja_jobs_df['date'])"
   ]
  },
  {
   "cell_type": "markdown",
   "metadata": {},
   "source": [
    "#### Job Type Distribution"
   ]
  },
  {
   "cell_type": "code",
   "execution_count": 7,
   "metadata": {
    "execution": {
     "iopub.execute_input": "2024-10-31T09:09:13.549240Z",
     "iopub.status.busy": "2024-10-31T09:09:13.549240Z",
     "iopub.status.idle": "2024-10-31T09:09:13.568517Z",
     "shell.execute_reply": "2024-10-31T09:09:13.567499Z"
    }
   },
   "outputs": [],
   "source": [
    "# Past 1 Month\n",
    "\n",
    "## Total\n",
    "recent_jobs = ja_jobs_df[ja_jobs_df['date'] >= datetime(2024, 10, 1) - pd.DateOffset(months=1)]\n",
    "total_job_frequency = recent_jobs['category'].value_counts(sort=False).tolist()\n",
    "data_job_type_dist = {\n",
    "    'labels': job_types,\n",
    "    'data': total_job_frequency\n",
    "}\n",
    "\n",
    "with open('../public/analytics/job/job-type-dist-one-month-total.json', 'w') as file:\n",
    "    json.dump(data_job_type_dist, file, indent=4)\n",
    "\n",
    "## Average\n",
    "average_job_frequency = total_job_frequency\n",
    "data_job_type_dist = {\n",
    "    'labels': job_types,\n",
    "    'data': average_job_frequency\n",
    "}\n",
    "\n",
    "with open('../public/analytics/job/job-type-dist-one-month-average.json', 'w') as file:\n",
    "    json.dump(data_job_type_dist, file, indent=4)   "
   ]
  },
  {
   "cell_type": "code",
   "execution_count": 8,
   "metadata": {
    "execution": {
     "iopub.execute_input": "2024-10-31T09:09:13.572520Z",
     "iopub.status.busy": "2024-10-31T09:09:13.572520Z",
     "iopub.status.idle": "2024-10-31T09:09:13.584112Z",
     "shell.execute_reply": "2024-10-31T09:09:13.583020Z"
    }
   },
   "outputs": [],
   "source": [
    "# Past 3 Month\n",
    "## Total\n",
    "recent_jobs = ja_jobs_df[ja_jobs_df['date'] >= datetime(2024, 10, 1) - pd.DateOffset(months=3)]\n",
    "total_job_frequency = recent_jobs['category'].value_counts(sort=False).tolist()\n",
    "data_job_type_dist = {\n",
    "    'labels': job_types,\n",
    "    'data': total_job_frequency\n",
    "}\n",
    "\n",
    "with open('../public/analytics/job/job-type-dist-three-month-total.json', 'w') as file:\n",
    "    json.dump(data_job_type_dist, file, indent=4)  \n",
    "\n",
    "## Average\n",
    "average_job_frequency = [np.ceil(x / 3) for x in total_job_frequency]\n",
    "data_job_type_dist = {\n",
    "    'labels': job_types,\n",
    "    'data': average_job_frequency\n",
    "}\n",
    "\n",
    "with open('../public/analytics/job/job-type-dist-three-month-average.json', 'w') as file:\n",
    "    json.dump(data_job_type_dist, file, indent=4) "
   ]
  },
  {
   "cell_type": "code",
   "execution_count": 9,
   "metadata": {
    "execution": {
     "iopub.execute_input": "2024-10-31T09:09:13.587123Z",
     "iopub.status.busy": "2024-10-31T09:09:13.587123Z",
     "iopub.status.idle": "2024-10-31T09:09:13.595716Z",
     "shell.execute_reply": "2024-10-31T09:09:13.595716Z"
    }
   },
   "outputs": [],
   "source": [
    "# Past 6 Month\n",
    "## Total\n",
    "recent_jobs = ja_jobs_df[ja_jobs_df['date'] >= datetime(2024, 10, 1) - pd.DateOffset(months=6)]\n",
    "total_job_frequency = recent_jobs['category'].value_counts(sort=False).tolist()\n",
    "data_job_type_dist = {\n",
    "    'labels': job_types,\n",
    "    'data': total_job_frequency\n",
    "}\n",
    "\n",
    "with open('../public/analytics/job/job-type-dist-six-month-total.json', 'w') as file:\n",
    "    json.dump(data_job_type_dist, file, indent=4)\n",
    "\n",
    "## Average\n",
    "average_job_frequency = [np.ceil(x / 6) for x in total_job_frequency]\n",
    "data_job_type_dist = {\n",
    "    'labels': job_types,\n",
    "    'data': average_job_frequency\n",
    "}\n",
    "\n",
    "with open('../public/analytics/job/job-type-dist-six-month-average.json', 'w') as file:\n",
    "    json.dump(data_job_type_dist, file, indent=4) "
   ]
  },
  {
   "cell_type": "code",
   "execution_count": 10,
   "metadata": {
    "execution": {
     "iopub.execute_input": "2024-10-31T09:09:13.598723Z",
     "iopub.status.busy": "2024-10-31T09:09:13.598723Z",
     "iopub.status.idle": "2024-10-31T09:09:13.608960Z",
     "shell.execute_reply": "2024-10-31T09:09:13.608286Z"
    }
   },
   "outputs": [],
   "source": [
    "# Past 12 Month\n",
    "## Total\n",
    "recent_jobs = ja_jobs_df[ja_jobs_df['date'] >= datetime(2024, 10, 1) - pd.DateOffset(months=12)]\n",
    "total_job_frequency = recent_jobs['category'].value_counts(sort=False).tolist()\n",
    "data_job_type_dist = {\n",
    "    'labels': job_types,\n",
    "    'data': total_job_frequency\n",
    "}\n",
    "\n",
    "with open('../public/analytics/job/job-type-dist-twelve-month-total.json', 'w') as file:\n",
    "    json.dump(data_job_type_dist, file, indent=4)\n",
    "\n",
    "## Average\n",
    "average_job_frequency = [np.ceil(x / 12) for x in total_job_frequency]\n",
    "data_job_type_dist = {\n",
    "    'labels': job_types,\n",
    "    'data': average_job_frequency\n",
    "}\n",
    "\n",
    "with open('../public/analytics/job/job-type-dist-twelve-month-average.json', 'w') as file:\n",
    "    json.dump(data_job_type_dist, file, indent=4) "
   ]
  },
  {
   "cell_type": "markdown",
   "metadata": {},
   "source": [
    "#### Job Duration Distribution"
   ]
  },
  {
   "cell_type": "code",
   "execution_count": 11,
   "metadata": {
    "execution": {
     "iopub.execute_input": "2024-10-31T09:09:13.611967Z",
     "iopub.status.busy": "2024-10-31T09:09:13.611967Z",
     "iopub.status.idle": "2024-10-31T09:09:13.631065Z",
     "shell.execute_reply": "2024-10-31T09:09:13.631065Z"
    }
   },
   "outputs": [
    {
     "name": "stdout",
     "output_type": "stream",
     "text": [
      "      category  frequency  total_duration  average_duration\n",
      "0  Electrician        138           10725              78.0\n",
      "1  Ventilation         71            9690             137.0\n",
      "2      Plumber         45            4140              92.0\n",
      "3     Handyman        165            5595              34.0\n",
      "4       Aircon        153           38940             255.0\n"
     ]
    }
   ],
   "source": [
    "# Past 1 Month\n",
    "recent_jobs = ja_jobs_df[ja_jobs_df['date'] >= datetime(2024, 10, 1) - pd.DateOffset(months=1)]\n",
    "duration_stats = recent_jobs.groupby('category').agg(\n",
    "    total_duration=('duration', 'sum'),\n",
    "    frequency=('category', 'count')\n",
    ").reset_index()\n",
    "duration_stats['average_duration'] = np.ceil(duration_stats['total_duration'] / duration_stats['frequency'])\n",
    "duration_stats['category'] = pd.Categorical(duration_stats['category'].str.capitalize(), categories=job_types, ordered=True)\n",
    "duration_stats = duration_stats.sort_values('category').reset_index(drop=True)\n",
    "print(duration_stats[['category', 'frequency', 'total_duration', 'average_duration']])\n",
    "\n",
    "data_job_duration_dist = {\n",
    "    'labels': job_types,\n",
    "    'data': duration_stats['average_duration'].tolist()\n",
    "}\n",
    "\n",
    "with open('../public/analytics/job/job-duration-dist-one-month.json', 'w') as file:\n",
    "    json.dump(data_job_duration_dist, file, indent=4) "
   ]
  },
  {
   "cell_type": "code",
   "execution_count": 12,
   "metadata": {
    "execution": {
     "iopub.execute_input": "2024-10-31T09:09:13.634092Z",
     "iopub.status.busy": "2024-10-31T09:09:13.634092Z",
     "iopub.status.idle": "2024-10-31T09:09:13.652713Z",
     "shell.execute_reply": "2024-10-31T09:09:13.652713Z"
    }
   },
   "outputs": [
    {
     "name": "stdout",
     "output_type": "stream",
     "text": [
      "      category  frequency  total_duration  average_duration\n",
      "0  Electrician        222           17370              79.0\n",
      "1  Ventilation        113           15375             137.0\n",
      "2      Plumber        179           16575              93.0\n",
      "3     Handyman        262            8995              35.0\n",
      "4       Aircon        246           62910             256.0\n"
     ]
    }
   ],
   "source": [
    "# Past 3 Month\n",
    "recent_jobs = ja_jobs_df[ja_jobs_df['date'] >= datetime(2024, 10, 1) - pd.DateOffset(months=3)]\n",
    "duration_stats = recent_jobs.groupby('category').agg(\n",
    "    total_duration=('duration', 'sum'),\n",
    "    frequency=('category', 'count')\n",
    ").reset_index()\n",
    "duration_stats['average_duration'] = np.ceil(duration_stats['total_duration'] / duration_stats['frequency'])\n",
    "duration_stats['category'] = pd.Categorical(duration_stats['category'].str.capitalize(), categories=job_types, ordered=True)\n",
    "duration_stats = duration_stats.sort_values('category').reset_index(drop=True)\n",
    "print(duration_stats[['category', 'frequency', 'total_duration', 'average_duration']])\n",
    "\n",
    "data_job_duration_dist = {\n",
    "    'labels': job_types,\n",
    "    'data': duration_stats['average_duration'].tolist()\n",
    "}\n",
    "\n",
    "with open('../public/analytics/job/job-duration-dist-three-month.json', 'w') as file:\n",
    "    json.dump(data_job_duration_dist, file, indent=4) "
   ]
  },
  {
   "cell_type": "code",
   "execution_count": 13,
   "metadata": {
    "execution": {
     "iopub.execute_input": "2024-10-31T09:09:13.655747Z",
     "iopub.status.busy": "2024-10-31T09:09:13.655747Z",
     "iopub.status.idle": "2024-10-31T09:09:13.674567Z",
     "shell.execute_reply": "2024-10-31T09:09:13.674567Z"
    }
   },
   "outputs": [
    {
     "name": "stdout",
     "output_type": "stream",
     "text": [
      "      category  frequency  total_duration  average_duration\n",
      "0  Electrician        416           32280              78.0\n",
      "1  Ventilation        284           38805             137.0\n",
      "2      Plumber        319           29505              93.0\n",
      "3     Handyman        655           23280              36.0\n",
      "4       Aircon        460          115050             251.0\n"
     ]
    }
   ],
   "source": [
    "# Past 6 Month\n",
    "recent_jobs = ja_jobs_df[ja_jobs_df['date'] >= datetime(2024, 10, 1) - pd.DateOffset(months=6)]\n",
    "duration_stats = recent_jobs.groupby('category').agg(\n",
    "    total_duration=('duration', 'sum'),\n",
    "    frequency=('category', 'count')\n",
    ").reset_index()\n",
    "duration_stats['average_duration'] = np.ceil(duration_stats['total_duration'] / duration_stats['frequency'])\n",
    "duration_stats['category'] = pd.Categorical(duration_stats['category'].str.capitalize(), categories=job_types, ordered=True)\n",
    "duration_stats = duration_stats.sort_values('category').reset_index(drop=True)\n",
    "print(duration_stats[['category', 'frequency', 'total_duration', 'average_duration']])\n",
    "\n",
    "data_job_duration_dist = {\n",
    "    'labels': job_types,\n",
    "    'data': duration_stats['average_duration'].tolist()\n",
    "}\n",
    "\n",
    "with open('../public/analytics/job/job-duration-dist-six-month.json', 'w') as file:\n",
    "    json.dump(data_job_duration_dist, file, indent=4) "
   ]
  },
  {
   "cell_type": "code",
   "execution_count": 14,
   "metadata": {
    "execution": {
     "iopub.execute_input": "2024-10-31T09:09:13.677750Z",
     "iopub.status.busy": "2024-10-31T09:09:13.677750Z",
     "iopub.status.idle": "2024-10-31T09:09:13.698618Z",
     "shell.execute_reply": "2024-10-31T09:09:13.697609Z"
    }
   },
   "outputs": [
    {
     "name": "stdout",
     "output_type": "stream",
     "text": [
      "      category  frequency  total_duration  average_duration\n",
      "0  Electrician        915           70470              78.0\n",
      "1  Ventilation        585           80295             138.0\n",
      "2      Plumber        607           55785              92.0\n",
      "3     Handyman       1347           48505              37.0\n",
      "4       Aircon       1010          249390             247.0\n"
     ]
    }
   ],
   "source": [
    "# Past 12 Month\n",
    "recent_jobs = ja_jobs_df[ja_jobs_df['date'] >= datetime(2024, 10, 1) - pd.DateOffset(months=12)]\n",
    "duration_stats = recent_jobs.groupby('category').agg(\n",
    "    total_duration=('duration', 'sum'),\n",
    "    frequency=('category', 'count')\n",
    ").reset_index()\n",
    "duration_stats['average_duration'] = np.ceil(duration_stats['total_duration'] / duration_stats['frequency'])\n",
    "duration_stats['category'] = pd.Categorical(duration_stats['category'].str.capitalize(), categories=job_types, ordered=True)\n",
    "duration_stats = duration_stats.sort_values('category').reset_index(drop=True)\n",
    "print(duration_stats[['category', 'frequency', 'total_duration', 'average_duration']])\n",
    "\n",
    "data_job_duration_dist = {\n",
    "    'labels': job_types,\n",
    "    'data': duration_stats['average_duration'].tolist()\n",
    "}\n",
    "\n",
    "with open('../public/analytics/job/job-duration-dist-twelve-month.json', 'w') as file:\n",
    "    json.dump(data_job_duration_dist, file, indent=4) "
   ]
  },
  {
   "cell_type": "markdown",
   "metadata": {},
   "source": [
    "#### Job Delay Distribution"
   ]
  },
  {
   "cell_type": "code",
   "execution_count": 15,
   "metadata": {
    "execution": {
     "iopub.execute_input": "2024-10-31T09:09:13.700621Z",
     "iopub.status.busy": "2024-10-31T09:09:13.700621Z",
     "iopub.status.idle": "2024-10-31T09:09:13.717061Z",
     "shell.execute_reply": "2024-10-31T09:09:13.716383Z"
    }
   },
   "outputs": [
    {
     "name": "stdout",
     "output_type": "stream",
     "text": [
      "      category  frequency  total_delay  average_delay\n",
      "0  Electrician        138          700            6.0\n",
      "1  Ventilation         71          800           12.0\n",
      "2      Plumber         45          225            5.0\n",
      "3     Handyman        165          288            2.0\n",
      "4       Aircon        153         2250           15.0\n"
     ]
    }
   ],
   "source": [
    "# Past 1 Month\n",
    "recent_jobs = ja_jobs_df[ja_jobs_df['date'] >= datetime(2024, 10, 1) - pd.DateOffset(months=1)]\n",
    "delay_stats = recent_jobs.groupby('category').agg(\n",
    "    total_delay=('delay', 'sum'),\n",
    "    frequency=('category', 'count')\n",
    ").reset_index()\n",
    "delay_stats['average_delay'] = np.ceil(delay_stats['total_delay'] / delay_stats['frequency'])\n",
    "delay_stats['category'] = pd.Categorical(delay_stats['category'].str.capitalize(), categories=job_types, ordered=True)\n",
    "delay_stats = delay_stats.sort_values('category').reset_index(drop=True)\n",
    "print(delay_stats[['category', 'frequency', 'total_delay', 'average_delay']])\n",
    "\n",
    "data_job_delay_dist = {\n",
    "    'labels': job_types,\n",
    "    'data': delay_stats['average_delay'].tolist()\n",
    "}\n",
    "\n",
    "with open('../public/analytics/job/job-delay-dist-one-month.json', 'w') as file:\n",
    "    json.dump(data_job_delay_dist, file, indent=4) "
   ]
  },
  {
   "cell_type": "code",
   "execution_count": 16,
   "metadata": {
    "execution": {
     "iopub.execute_input": "2024-10-31T09:09:13.719918Z",
     "iopub.status.busy": "2024-10-31T09:09:13.719918Z",
     "iopub.status.idle": "2024-10-31T09:09:13.735362Z",
     "shell.execute_reply": "2024-10-31T09:09:13.735362Z"
    }
   },
   "outputs": [
    {
     "name": "stdout",
     "output_type": "stream",
     "text": [
      "      category  frequency  total_delay  average_delay\n",
      "0  Electrician        222         1090            5.0\n",
      "1  Ventilation        113         1240           11.0\n",
      "2      Plumber        179          795            5.0\n",
      "3     Handyman        262          498            2.0\n",
      "4       Aircon        246         3750           16.0\n"
     ]
    }
   ],
   "source": [
    "# Past 3 Month\n",
    "recent_jobs = ja_jobs_df[ja_jobs_df['date'] >= datetime(2024, 10, 1) - pd.DateOffset(months=3)]\n",
    "delay_stats = recent_jobs.groupby('category').agg(\n",
    "    total_delay=('delay', 'sum'),\n",
    "    frequency=('category', 'count')\n",
    ").reset_index()\n",
    "delay_stats['average_delay'] = np.ceil(delay_stats['total_delay'] / delay_stats['frequency'])\n",
    "delay_stats['category'] = pd.Categorical(delay_stats['category'].str.capitalize(), categories=job_types, ordered=True)\n",
    "delay_stats = delay_stats.sort_values('category').reset_index(drop=True)\n",
    "print(delay_stats[['category', 'frequency', 'total_delay', 'average_delay']])\n",
    "\n",
    "data_job_delay_dist = {\n",
    "    'labels': job_types,\n",
    "    'data': delay_stats['average_delay'].tolist()\n",
    "}\n",
    "\n",
    "with open('../public/analytics/job/job-delay-dist-three-month.json', 'w') as file:\n",
    "    json.dump(data_job_delay_dist, file, indent=4) "
   ]
  },
  {
   "cell_type": "code",
   "execution_count": 17,
   "metadata": {
    "execution": {
     "iopub.execute_input": "2024-10-31T09:09:13.739369Z",
     "iopub.status.busy": "2024-10-31T09:09:13.738370Z",
     "iopub.status.idle": "2024-10-31T09:09:13.753788Z",
     "shell.execute_reply": "2024-10-31T09:09:13.753788Z"
    }
   },
   "outputs": [
    {
     "name": "stdout",
     "output_type": "stream",
     "text": [
      "      category  frequency  total_delay  average_delay\n",
      "0  Electrician        416         2130            6.0\n",
      "1  Ventilation        284         2810           10.0\n",
      "2      Plumber        319         1495            5.0\n",
      "3     Handyman        655         1268            2.0\n",
      "4       Aircon        460         6960           16.0\n"
     ]
    }
   ],
   "source": [
    "# Past 6 Month\n",
    "recent_jobs = ja_jobs_df[ja_jobs_df['date'] >= datetime(2024, 10, 1) - pd.DateOffset(months=6)]\n",
    "delay_stats = recent_jobs.groupby('category').agg(\n",
    "    total_delay=('delay', 'sum'),\n",
    "    frequency=('category', 'count')\n",
    ").reset_index()\n",
    "delay_stats['average_delay'] = np.ceil(delay_stats['total_delay'] / delay_stats['frequency'])\n",
    "delay_stats['category'] = pd.Categorical(delay_stats['category'].str.capitalize(), categories=job_types, ordered=True)\n",
    "delay_stats = delay_stats.sort_values('category').reset_index(drop=True)\n",
    "print(delay_stats[['category', 'frequency', 'total_delay', 'average_delay']])\n",
    "\n",
    "data_job_delay_dist = {\n",
    "    'labels': job_types,\n",
    "    'data': delay_stats['average_delay'].tolist()\n",
    "}\n",
    "\n",
    "with open('../public/analytics/job/job-delay-dist-six-month.json', 'w') as file:\n",
    "    json.dump(data_job_delay_dist, file, indent=4) "
   ]
  },
  {
   "cell_type": "code",
   "execution_count": 18,
   "metadata": {
    "execution": {
     "iopub.execute_input": "2024-10-31T09:09:13.756799Z",
     "iopub.status.busy": "2024-10-31T09:09:13.756799Z",
     "iopub.status.idle": "2024-10-31T09:09:13.773665Z",
     "shell.execute_reply": "2024-10-31T09:09:13.772650Z"
    }
   },
   "outputs": [
    {
     "name": "stdout",
     "output_type": "stream",
     "text": [
      "      category  frequency  total_delay  average_delay\n",
      "0  Electrician        915         4615            6.0\n",
      "1  Ventilation        585         5520           10.0\n",
      "2      Plumber        607         3015            5.0\n",
      "3     Handyman       1347         2698            3.0\n",
      "4       Aircon       1010        14985           15.0\n"
     ]
    }
   ],
   "source": [
    "# Past 12 Month\n",
    "recent_jobs = ja_jobs_df[ja_jobs_df['date'] >= datetime(2024, 10, 1) - pd.DateOffset(months=12)]\n",
    "delay_stats = recent_jobs.groupby('category').agg(\n",
    "    total_delay=('delay', 'sum'),\n",
    "    frequency=('category', 'count')\n",
    ").reset_index()\n",
    "delay_stats['average_delay'] = np.ceil(delay_stats['total_delay'] / delay_stats['frequency'])\n",
    "delay_stats['category'] = pd.Categorical(delay_stats['category'].str.capitalize(), categories=job_types, ordered=True)\n",
    "delay_stats = delay_stats.sort_values('category').reset_index(drop=True)\n",
    "print(delay_stats[['category', 'frequency', 'total_delay', 'average_delay']])\n",
    "\n",
    "data_job_delay_dist = {\n",
    "    'labels': job_types,\n",
    "    'data': delay_stats['average_delay'].tolist()\n",
    "}\n",
    "\n",
    "# Save data to JSON file\n",
    "with open('../public/analytics/job/job-delay-dist-twelve-month.json', 'w') as file:\n",
    "    json.dump(data_job_delay_dist, file, indent=4) "
   ]
  },
  {
   "cell_type": "markdown",
   "metadata": {},
   "source": [
    "#### Job Revenue Distribution"
   ]
  },
  {
   "cell_type": "code",
   "execution_count": 19,
   "metadata": {
    "execution": {
     "iopub.execute_input": "2024-10-31T09:09:13.776675Z",
     "iopub.status.busy": "2024-10-31T09:09:13.776675Z",
     "iopub.status.idle": "2024-10-31T09:09:13.791814Z",
     "shell.execute_reply": "2024-10-31T09:09:13.791814Z"
    }
   },
   "outputs": [],
   "source": [
    "ja_revenue_df = pd.read_csv('./datasets/ja_revenue.csv')\n",
    "ja_revenue_df['date'] = pd.to_datetime(ja_revenue_df['date'])\n",
    "job_categories = ['electrician', 'ventilation', 'plumber', 'handyman', 'aircon']"
   ]
  },
  {
   "cell_type": "code",
   "execution_count": 20,
   "metadata": {
    "execution": {
     "iopub.execute_input": "2024-10-31T09:09:13.794819Z",
     "iopub.status.busy": "2024-10-31T09:09:13.794819Z",
     "iopub.status.idle": "2024-10-31T09:09:13.802990Z",
     "shell.execute_reply": "2024-10-31T09:09:13.802990Z"
    }
   },
   "outputs": [],
   "source": [
    "# Past 1 Month\n",
    "\n",
    "## Total\n",
    "recent_jobs = ja_revenue_df[ja_revenue_df['date'] >= datetime(2024, 10, 1) - pd.DateOffset(months=1)]\n",
    "total_job_revenue = [recent_jobs[job_type].sum() for job_type in job_categories]\n",
    "\n",
    "data_job_revenue_dist = {\n",
    "    'labels': job_types,\n",
    "    'data': total_job_revenue\n",
    "}\n",
    "\n",
    "with open('../public/analytics/job/job-revenue-dist-one-month-total.json', 'w') as file:\n",
    "    json.dump(data_job_revenue_dist, file, indent=4)\n",
    "\n",
    "## Average\n",
    "average_job_revenue = total_job_revenue\n",
    "data_job_revenue_dist = {\n",
    "    'labels': job_types,\n",
    "    'data': average_job_revenue\n",
    "}\n",
    "\n",
    "with open('../public/analytics/job/job-revenue-dist-one-month-average.json', 'w') as file:\n",
    "    json.dump(data_job_revenue_dist, file, indent=4)  "
   ]
  },
  {
   "cell_type": "code",
   "execution_count": 21,
   "metadata": {
    "execution": {
     "iopub.execute_input": "2024-10-31T09:09:13.806041Z",
     "iopub.status.busy": "2024-10-31T09:09:13.806041Z",
     "iopub.status.idle": "2024-10-31T09:09:13.814741Z",
     "shell.execute_reply": "2024-10-31T09:09:13.814460Z"
    }
   },
   "outputs": [],
   "source": [
    "# Past 3 Month\n",
    "\n",
    "## Total\n",
    "recent_jobs = ja_revenue_df[ja_revenue_df['date'] >= datetime(2024, 10, 1) - pd.DateOffset(months=3)]\n",
    "total_job_revenue = [recent_jobs[job_type].sum() for job_type in job_categories]\n",
    "\n",
    "data_job_revenue_dist = {\n",
    "    'labels': job_types,\n",
    "    'data': total_job_revenue\n",
    "}\n",
    "\n",
    "with open('../public/analytics/job/job-revenue-dist-three-month-total.json', 'w') as file:\n",
    "    json.dump(data_job_revenue_dist, file, indent=4)\n",
    "\n",
    "## Average\n",
    "average_job_revenue = [round(x / 3, 2) for x in total_job_revenue]\n",
    "\n",
    "data_job_revenue_dist = {\n",
    "    'labels': job_types,\n",
    "    'data': average_job_revenue\n",
    "}\n",
    "\n",
    "with open('../public/analytics/job/job-revenue-dist-three-month-average.json', 'w') as file:\n",
    "    json.dump(data_job_revenue_dist, file, indent=4)  "
   ]
  },
  {
   "cell_type": "code",
   "execution_count": 22,
   "metadata": {
    "execution": {
     "iopub.execute_input": "2024-10-31T09:09:13.817789Z",
     "iopub.status.busy": "2024-10-31T09:09:13.816836Z",
     "iopub.status.idle": "2024-10-31T09:09:13.825628Z",
     "shell.execute_reply": "2024-10-31T09:09:13.825628Z"
    }
   },
   "outputs": [],
   "source": [
    "# Past 6 Month\n",
    "\n",
    "## Total\n",
    "recent_jobs = ja_revenue_df[ja_revenue_df['date'] >= datetime(2024, 10, 1) - pd.DateOffset(months=6)]\n",
    "total_job_revenue = [recent_jobs[job_type].sum() for job_type in job_categories]\n",
    "\n",
    "data_job_revenue_dist = {\n",
    "    'labels': job_types,\n",
    "    'data': total_job_revenue\n",
    "}\n",
    "\n",
    "with open('../public/analytics/job/job-revenue-dist-six-month-total.json', 'w') as file:\n",
    "    json.dump(data_job_revenue_dist, file, indent=4)\n",
    "\n",
    "## Average\n",
    "average_job_revenue = [round(x / 6, 2) for x in total_job_revenue]\n",
    "data_job_revenue_dist = {\n",
    "    'labels': job_types,\n",
    "    'data': average_job_revenue\n",
    "}\n",
    "\n",
    "with open('../public/analytics/job/job-revenue-dist-six-month-average.json', 'w') as file:\n",
    "    json.dump(data_job_revenue_dist, file, indent=4)  "
   ]
  },
  {
   "cell_type": "code",
   "execution_count": 23,
   "metadata": {
    "execution": {
     "iopub.execute_input": "2024-10-31T09:09:13.828636Z",
     "iopub.status.busy": "2024-10-31T09:09:13.828636Z",
     "iopub.status.idle": "2024-10-31T09:09:13.836580Z",
     "shell.execute_reply": "2024-10-31T09:09:13.836580Z"
    }
   },
   "outputs": [],
   "source": [
    "# Past 12 Month\n",
    "\n",
    "## Total\n",
    "recent_jobs = ja_revenue_df[ja_revenue_df['date'] >= datetime(2024, 10, 1) - pd.DateOffset(months=12)]\n",
    "total_job_revenue = [recent_jobs[job_type].sum() for job_type in job_categories]\n",
    "data_job_revenue_dist = {\n",
    "    'labels': job_types,\n",
    "    'data': total_job_revenue\n",
    "}\n",
    "\n",
    "with open('../public/analytics/job/job-revenue-dist-twelve-month-total.json', 'w') as file:\n",
    "    json.dump(data_job_revenue_dist, file, indent=4)\n",
    "\n",
    "## Average\n",
    "average_job_revenue = [round(x / 12, 2) for x in total_job_revenue]\n",
    "data_job_revenue_dist = {\n",
    "    'labels': job_types,\n",
    "    'data': average_job_revenue\n",
    "}\n",
    "\n",
    "with open('../public/analytics/job/job-revenue-dist-twelve-month-average.json', 'w') as file:\n",
    "    json.dump(data_job_revenue_dist, file, indent=4)  "
   ]
  },
  {
   "cell_type": "markdown",
   "metadata": {},
   "source": [
    "#### Job Revenue Forecasting"
   ]
  },
  {
   "cell_type": "code",
   "execution_count": 24,
   "metadata": {
    "execution": {
     "iopub.execute_input": "2024-10-31T09:09:13.840672Z",
     "iopub.status.busy": "2024-10-31T09:09:13.839661Z",
     "iopub.status.idle": "2024-10-31T09:09:13.845329Z",
     "shell.execute_reply": "2024-10-31T09:09:13.845329Z"
    }
   },
   "outputs": [],
   "source": [
    "# Calculate the date 21 months ago from today\n",
    "start_date = datetime(2024, 10, 1) - pd.DateOffset(months=24)\n",
    "\n",
    "def forecast_revenue(df, seasonal_periods, forecast_horizon):\n",
    "    model = ExponentialSmoothing(df['revenue'], seasonal='add', seasonal_periods=seasonal_periods)\n",
    "    model_fit = model.fit()\n",
    "    forecast = model_fit.forecast(forecast_horizon)\n",
    "    return forecast"
   ]
  },
  {
   "cell_type": "code",
   "execution_count": 25,
   "metadata": {
    "execution": {
     "iopub.execute_input": "2024-10-31T09:09:13.850383Z",
     "iopub.status.busy": "2024-10-31T09:09:13.849336Z",
     "iopub.status.idle": "2024-10-31T09:09:13.913404Z",
     "shell.execute_reply": "2024-10-31T09:09:13.913404Z"
    }
   },
   "outputs": [],
   "source": [
    "# Electrician\n",
    "historical_data = {\n",
    "    'date': pd.date_range(start=start_date, end=datetime(2024, 10, 1), freq='M'),\n",
    "    'revenue': ja_revenue_df['electrician'].tolist()\n",
    "}\n",
    "electrician_df = pd.DataFrame(historical_data)\n",
    "electrician_df.set_index('date', inplace=True)\n",
    "\n",
    "forecast_months = 6\n",
    "\n",
    "# Monthly\n",
    "historical_demand = electrician_df['revenue'][-12:]\n",
    "monthly_forecast = np.ceil(forecast_revenue(electrician_df, seasonal_periods=12, forecast_horizon=forecast_months)).astype(int)\n",
    "combined_demand_forecast = np.concatenate((historical_demand, monthly_forecast))\n",
    "\n",
    "historical_labels = [historical_demand.index[i].strftime(\"%Y-%m\") for i in range(len(historical_demand))]\n",
    "forecasted_labels = [(monthly_forecast.index[i].strftime(\"%Y-%m\")) for i in range(len(monthly_forecast))]\n",
    "combined_labels = historical_labels + forecasted_labels\n",
    "\n",
    "data_job_demand_forecast_monthly = {\n",
    "    'labels': combined_labels,\n",
    "    'data': combined_demand_forecast.tolist()\n",
    "}\n",
    "\n",
    "with open('../public/analytics/job/job-revenue-forecast-electrician-month.json', 'w') as file:\n",
    "    json.dump(data_job_demand_forecast_monthly, file, indent=4) \n",
    "\n",
    "# Quarterly \n",
    "df_quarterly = electrician_df.resample('Q').sum()\n",
    "historical_demand = np.ceil(df_quarterly['revenue'][-6:]).astype(int)\n",
    "quarterly_forecast = np.ceil(forecast_revenue(df_quarterly, seasonal_periods=4, forecast_horizon=forecast_months // 3)).astype(int)\n",
    "combined_demand_forecast = np.concatenate((historical_demand, quarterly_forecast))\n",
    "\n",
    "historical_labels = [historical_demand.index[i].strftime(\"%Y-%m\") for i in range(len(historical_demand))]\n",
    "forecasted_labels = [(quarterly_forecast.index[i].strftime(\"%Y-%m\")) for i in range(len(quarterly_forecast))]\n",
    "combined_labels = historical_labels + forecasted_labels\n",
    "\n",
    "data_job_demand_forecast_quarterly = {\n",
    "    'labels': combined_labels,\n",
    "    'data': combined_demand_forecast.tolist()\n",
    "}\n",
    "\n",
    "with open('../public/analytics/job/job-revenue-forecast-electrician-quarter.json', 'w') as file:\n",
    "    json.dump(data_job_demand_forecast_quarterly, file, indent=4) "
   ]
  },
  {
   "cell_type": "code",
   "execution_count": 26,
   "metadata": {
    "execution": {
     "iopub.execute_input": "2024-10-31T09:09:13.918591Z",
     "iopub.status.busy": "2024-10-31T09:09:13.918591Z",
     "iopub.status.idle": "2024-10-31T09:09:13.957785Z",
     "shell.execute_reply": "2024-10-31T09:09:13.957418Z"
    }
   },
   "outputs": [],
   "source": [
    "# Ventilation\n",
    "historical_data = {\n",
    "    'date': pd.date_range(start=start_date, end=datetime(2024, 10, 1), freq='M'),\n",
    "    'revenue': ja_revenue_df['ventilation'].tolist()\n",
    "}\n",
    "ventilation_df = pd.DataFrame(historical_data)\n",
    "ventilation_df.set_index('date', inplace=True)\n",
    "\n",
    "forecast_months = 6\n",
    "\n",
    "# Monthly\n",
    "historical_demand = ventilation_df['revenue'][-12:]\n",
    "monthly_forecast = np.ceil(forecast_revenue(ventilation_df, seasonal_periods=12, forecast_horizon=forecast_months)).astype(int)\n",
    "combined_demand_forecast = np.concatenate((historical_demand, monthly_forecast))\n",
    "\n",
    "historical_labels = [historical_demand.index[i].strftime(\"%Y-%m\") for i in range(len(historical_demand))]\n",
    "forecasted_labels = [(monthly_forecast.index[i].strftime(\"%Y-%m\")) for i in range(len(monthly_forecast))]\n",
    "combined_labels = historical_labels + forecasted_labels\n",
    "\n",
    "data_job_demand_forecast_monthly = {\n",
    "    'labels': combined_labels,\n",
    "    'data': combined_demand_forecast.tolist()\n",
    "}\n",
    "\n",
    "with open('../public/analytics/job/job-revenue-forecast-ventilation-month.json', 'w') as file:\n",
    "    json.dump(data_job_demand_forecast_monthly, file, indent=4) \n",
    "\n",
    "# Quarterly \n",
    "df_quarterly = ventilation_df.resample('Q').sum()\n",
    "historical_demand = np.ceil(df_quarterly['revenue'][-6:]).astype(int)\n",
    "quarterly_forecast = np.ceil(forecast_revenue(df_quarterly, seasonal_periods=4, forecast_horizon=forecast_months // 3)).astype(int)\n",
    "combined_demand_forecast = np.concatenate((historical_demand, quarterly_forecast))\n",
    "\n",
    "historical_labels = [historical_demand.index[i].strftime(\"%Y-%m\") for i in range(len(historical_demand))]\n",
    "forecasted_labels = [(quarterly_forecast.index[i].strftime(\"%Y-%m\")) for i in range(len(quarterly_forecast))]\n",
    "combined_labels = historical_labels + forecasted_labels\n",
    "\n",
    "data_job_demand_forecast_quarterly = {\n",
    "    'labels': combined_labels,\n",
    "    'data': combined_demand_forecast.tolist()\n",
    "}\n",
    "\n",
    "with open('../public/analytics/job/job-revenue-forecast-ventilation-quarter.json', 'w') as file:\n",
    "    json.dump(data_job_demand_forecast_quarterly, file, indent=4) "
   ]
  },
  {
   "cell_type": "code",
   "execution_count": 27,
   "metadata": {
    "execution": {
     "iopub.execute_input": "2024-10-31T09:09:13.961296Z",
     "iopub.status.busy": "2024-10-31T09:09:13.959794Z",
     "iopub.status.idle": "2024-10-31T09:09:13.993065Z",
     "shell.execute_reply": "2024-10-31T09:09:13.993065Z"
    }
   },
   "outputs": [],
   "source": [
    "# Plumber\n",
    "historical_data = {\n",
    "    'date': pd.date_range(start=start_date, end=datetime(2024, 10, 1), freq='M'),\n",
    "    'revenue': ja_revenue_df['plumber'].tolist()\n",
    "}\n",
    "plumber_df = pd.DataFrame(historical_data)\n",
    "plumber_df.set_index('date', inplace=True)\n",
    "\n",
    "forecast_months = 6\n",
    "\n",
    "# Monthly\n",
    "historical_demand = plumber_df['revenue'][-12:]\n",
    "monthly_forecast = np.ceil(forecast_revenue(plumber_df, seasonal_periods=12, forecast_horizon=forecast_months)).astype(int)\n",
    "combined_demand_forecast = np.concatenate((historical_demand, monthly_forecast))\n",
    "\n",
    "historical_labels = [historical_demand.index[i].strftime(\"%Y-%m\") for i in range(len(historical_demand))]\n",
    "forecasted_labels = [(monthly_forecast.index[i].strftime(\"%Y-%m\")) for i in range(len(monthly_forecast))]\n",
    "combined_labels = historical_labels + forecasted_labels\n",
    "\n",
    "data_job_demand_forecast_monthly = {\n",
    "    'labels': combined_labels,\n",
    "    'data': combined_demand_forecast.tolist()\n",
    "}\n",
    "\n",
    "with open('../public/analytics/job/job-revenue-forecast-plumber-month.json', 'w') as file:\n",
    "    json.dump(data_job_demand_forecast_monthly, file, indent=4) \n",
    "\n",
    "# Quarterly \n",
    "df_quarterly = plumber_df.resample('Q').sum()\n",
    "historical_demand = np.ceil(df_quarterly['revenue'][-6:]).astype(int)\n",
    "quarterly_forecast = np.ceil(forecast_revenue(df_quarterly, seasonal_periods=4, forecast_horizon=forecast_months // 3)).astype(int)\n",
    "combined_demand_forecast = np.concatenate((historical_demand, quarterly_forecast))\n",
    "\n",
    "historical_labels = [historical_demand.index[i].strftime(\"%Y-%m\") for i in range(len(historical_demand))]\n",
    "forecasted_labels = [(quarterly_forecast.index[i].strftime(\"%Y-%m\")) for i in range(len(quarterly_forecast))]\n",
    "combined_labels = historical_labels + forecasted_labels\n",
    "\n",
    "data_job_demand_forecast_quarterly = {\n",
    "    'labels': combined_labels,\n",
    "    'data': combined_demand_forecast.tolist()\n",
    "}\n",
    "\n",
    "with open('../public/analytics/job/job-revenue-forecast-plumber-quarter.json', 'w') as file:\n",
    "    json.dump(data_job_demand_forecast_quarterly, file, indent=4) "
   ]
  },
  {
   "cell_type": "code",
   "execution_count": 28,
   "metadata": {
    "execution": {
     "iopub.execute_input": "2024-10-31T09:09:13.996090Z",
     "iopub.status.busy": "2024-10-31T09:09:13.996090Z",
     "iopub.status.idle": "2024-10-31T09:09:14.030349Z",
     "shell.execute_reply": "2024-10-31T09:09:14.029995Z"
    }
   },
   "outputs": [],
   "source": [
    "# Handyman\n",
    "historical_data = {\n",
    "    'date': pd.date_range(start=start_date, end=datetime(2024, 10, 1), freq='M'),\n",
    "    'revenue': ja_revenue_df['handyman'].tolist()\n",
    "}\n",
    "handyman_df = pd.DataFrame(historical_data)\n",
    "handyman_df.set_index('date', inplace=True)\n",
    "\n",
    "forecast_months = 6\n",
    "\n",
    "# Monthly\n",
    "historical_demand = handyman_df['revenue'][-12:]\n",
    "monthly_forecast = np.ceil(forecast_revenue(handyman_df, seasonal_periods=12, forecast_horizon=forecast_months)).astype(int)\n",
    "combined_demand_forecast = np.concatenate((historical_demand, monthly_forecast))\n",
    "\n",
    "historical_labels = [historical_demand.index[i].strftime(\"%Y-%m\") for i in range(len(historical_demand))]\n",
    "forecasted_labels = [(monthly_forecast.index[i].strftime(\"%Y-%m\")) for i in range(len(monthly_forecast))]\n",
    "combined_labels = historical_labels + forecasted_labels\n",
    "\n",
    "data_job_demand_forecast_monthly = {\n",
    "    'labels': combined_labels,\n",
    "    'data': combined_demand_forecast.tolist()\n",
    "}\n",
    "\n",
    "with open('../public/analytics/job/job-revenue-forecast-handyman-month.json', 'w') as file:\n",
    "    json.dump(data_job_demand_forecast_monthly, file, indent=4) \n",
    "\n",
    "# Quarterly \n",
    "df_quarterly = handyman_df.resample('Q').sum()\n",
    "historical_demand = np.ceil(df_quarterly['revenue'][-6:]).astype(int)\n",
    "quarterly_forecast = np.ceil(forecast_revenue(df_quarterly, seasonal_periods=4, forecast_horizon=forecast_months // 3)).astype(int)\n",
    "combined_demand_forecast = np.concatenate((historical_demand, quarterly_forecast))\n",
    "\n",
    "historical_labels = [historical_demand.index[i].strftime(\"%Y-%m\") for i in range(len(historical_demand))]\n",
    "forecasted_labels = [(quarterly_forecast.index[i].strftime(\"%Y-%m\")) for i in range(len(quarterly_forecast))]\n",
    "combined_labels = historical_labels + forecasted_labels\n",
    "\n",
    "data_job_demand_forecast_quarterly = {\n",
    "    'labels': combined_labels,\n",
    "    'data': combined_demand_forecast.tolist()\n",
    "}\n",
    "\n",
    "with open('../public/analytics/job/job-revenue-forecast-handyman-quarter.json', 'w') as file:\n",
    "    json.dump(data_job_demand_forecast_quarterly, file, indent=4) "
   ]
  },
  {
   "cell_type": "code",
   "execution_count": 29,
   "metadata": {
    "execution": {
     "iopub.execute_input": "2024-10-31T09:09:14.033359Z",
     "iopub.status.busy": "2024-10-31T09:09:14.033359Z",
     "iopub.status.idle": "2024-10-31T09:09:14.066071Z",
     "shell.execute_reply": "2024-10-31T09:09:14.065709Z"
    }
   },
   "outputs": [],
   "source": [
    "# Aircon\n",
    "historical_data = {\n",
    "    'date': pd.date_range(start=start_date, end=datetime(2024, 10, 1), freq='M'),\n",
    "    'revenue': ja_revenue_df['aircon'].tolist()\n",
    "}\n",
    "aircon_df = pd.DataFrame(historical_data)\n",
    "aircon_df.set_index('date', inplace=True)\n",
    "\n",
    "forecast_months = 6\n",
    "\n",
    "# Monthly\n",
    "historical_demand = aircon_df['revenue'][-12:]\n",
    "monthly_forecast = np.ceil(forecast_revenue(aircon_df, seasonal_periods=12, forecast_horizon=forecast_months)).astype(int)\n",
    "combined_demand_forecast = np.concatenate((historical_demand, monthly_forecast))\n",
    "\n",
    "historical_labels = [historical_demand.index[i].strftime(\"%Y-%m\") for i in range(len(historical_demand))]\n",
    "forecasted_labels = [(monthly_forecast.index[i].strftime(\"%Y-%m\")) for i in range(len(monthly_forecast))]\n",
    "combined_labels = historical_labels + forecasted_labels\n",
    "\n",
    "data_job_demand_forecast_monthly = {\n",
    "    'labels': combined_labels,\n",
    "    'data': combined_demand_forecast.tolist()\n",
    "}\n",
    "\n",
    "with open('../public/analytics/job/job-revenue-forecast-aircon-month.json', 'w') as file:\n",
    "    json.dump(data_job_demand_forecast_monthly, file, indent=4) \n",
    "\n",
    "# Quarterly \n",
    "df_quarterly = aircon_df.resample('Q').sum()\n",
    "historical_demand = np.ceil(df_quarterly['revenue'][-6:]).astype(int)\n",
    "quarterly_forecast = np.ceil(forecast_revenue(df_quarterly, seasonal_periods=4, forecast_horizon=forecast_months // 3)).astype(int)\n",
    "combined_demand_forecast = np.concatenate((historical_demand, quarterly_forecast))\n",
    "\n",
    "historical_labels = [historical_demand.index[i].strftime(\"%Y-%m\") for i in range(len(historical_demand))]\n",
    "forecasted_labels = [(quarterly_forecast.index[i].strftime(\"%Y-%m\")) for i in range(len(quarterly_forecast))]\n",
    "combined_labels = historical_labels + forecasted_labels\n",
    "\n",
    "data_job_demand_forecast_quarterly = {\n",
    "    'labels': combined_labels,\n",
    "    'data': combined_demand_forecast.tolist()\n",
    "}\n",
    "\n",
    "with open('../public/analytics/job/job-revenue-forecast-aircon-quarter.json', 'w') as file:\n",
    "    json.dump(data_job_demand_forecast_quarterly, file, indent=4) "
   ]
  },
  {
   "cell_type": "markdown",
   "metadata": {},
   "source": [
    "#### Job Demand Forecast"
   ]
  },
  {
   "cell_type": "code",
   "execution_count": 30,
   "metadata": {
    "execution": {
     "iopub.execute_input": "2024-10-31T09:09:14.069114Z",
     "iopub.status.busy": "2024-10-31T09:09:14.069114Z",
     "iopub.status.idle": "2024-10-31T09:09:14.074459Z",
     "shell.execute_reply": "2024-10-31T09:09:14.074204Z"
    }
   },
   "outputs": [],
   "source": [
    "ja_jobs_df['year'] = ja_jobs_df['date'].dt.year\n",
    "ja_jobs_df['month'] = ja_jobs_df['date'].dt.month\n",
    "\n",
    "def forecast_demand(df, seasonal_periods, forecast_horizon):\n",
    "    model = ExponentialSmoothing(df['demand'], seasonal='add', seasonal_periods=seasonal_periods)\n",
    "    model_fit = model.fit()\n",
    "    forecast = model_fit.forecast(forecast_horizon)\n",
    "    return forecast"
   ]
  },
  {
   "cell_type": "code",
   "execution_count": 31,
   "metadata": {
    "execution": {
     "iopub.execute_input": "2024-10-31T09:09:14.077540Z",
     "iopub.status.busy": "2024-10-31T09:09:14.076508Z",
     "iopub.status.idle": "2024-10-31T09:09:14.086855Z",
     "shell.execute_reply": "2024-10-31T09:09:14.086855Z"
    }
   },
   "outputs": [
    {
     "name": "stdout",
     "output_type": "stream",
     "text": [
      "     year  month     category  total_jobs\n",
      "0    2022     10       aircon          63\n",
      "1    2022     10  electrician          95\n",
      "2    2022     10     handyman         100\n",
      "3    2022     10      plumber          23\n",
      "4    2022     10  ventilation          45\n",
      "..    ...    ...          ...         ...\n",
      "115  2024      9       aircon         153\n",
      "116  2024      9  electrician         138\n",
      "117  2024      9     handyman         165\n",
      "118  2024      9      plumber          45\n",
      "119  2024      9  ventilation          71\n",
      "\n",
      "[120 rows x 4 columns]\n"
     ]
    }
   ],
   "source": [
    "job_counts = ja_jobs_df.groupby(['year', 'month', 'category']).size().reset_index(name='total_jobs')\n",
    "print(job_counts)"
   ]
  },
  {
   "cell_type": "code",
   "execution_count": 32,
   "metadata": {
    "execution": {
     "iopub.execute_input": "2024-10-31T09:09:14.089865Z",
     "iopub.status.busy": "2024-10-31T09:09:14.089865Z",
     "iopub.status.idle": "2024-10-31T09:09:14.128534Z",
     "shell.execute_reply": "2024-10-31T09:09:14.128534Z"
    }
   },
   "outputs": [
    {
     "name": "stdout",
     "output_type": "stream",
     "text": [
      "     year  month     category  total_jobs\n",
      "1    2022     10  electrician          95\n",
      "6    2022     11  electrician          86\n",
      "11   2022     12  electrician          48\n",
      "16   2023      1  electrician          29\n",
      "21   2023      2  electrician          59\n",
      "26   2023      3  electrician          45\n",
      "31   2023      4  electrician          88\n",
      "36   2023      5  electrician          34\n",
      "41   2023      6  electrician          54\n",
      "46   2023      7  electrician          66\n",
      "51   2023      8  electrician         102\n",
      "56   2023      9  electrician          56\n",
      "61   2023     10  electrician          84\n",
      "66   2023     11  electrician          62\n",
      "71   2023     12  electrician          85\n",
      "76   2024      1  electrician          29\n",
      "81   2024      2  electrician         118\n",
      "86   2024      3  electrician         121\n",
      "91   2024      4  electrician          96\n",
      "96   2024      5  electrician          23\n",
      "101  2024      6  electrician          75\n",
      "106  2024      7  electrician          48\n",
      "111  2024      8  electrician          36\n",
      "116  2024      9  electrician         138\n"
     ]
    }
   ],
   "source": [
    "# Electrician\n",
    "electrician_counts = job_counts[job_counts['category'] == 'electrician']\n",
    "print(electrician_counts)\n",
    "\n",
    "historical_data = {\n",
    "    'date': pd.date_range(start=start_date, end=datetime(2024, 10, 1), freq='M'),\n",
    "    'demand': electrician_counts['total_jobs'].tolist()\n",
    "}\n",
    "electrician_df = pd.DataFrame(historical_data)\n",
    "electrician_df.set_index('date', inplace=True)\n",
    "\n",
    "forecast_months = 6\n",
    "\n",
    "# Monthly\n",
    "historical_demand = electrician_df['demand'][-12:]\n",
    "monthly_forecast = np.ceil(forecast_demand(electrician_df, seasonal_periods=12, forecast_horizon=forecast_months)).astype(int)\n",
    "combined_demand_forecast = np.concatenate((historical_demand, monthly_forecast))\n",
    "\n",
    "historical_labels = [historical_demand.index[i].strftime(\"%Y-%m\") for i in range(len(historical_demand))]\n",
    "forecasted_labels = [(monthly_forecast.index[i].strftime(\"%Y-%m\")) for i in range(len(monthly_forecast))]\n",
    "combined_labels = historical_labels + forecasted_labels\n",
    "\n",
    "data_job_demand_forecast_monthly = {\n",
    "    'labels': combined_labels,\n",
    "    'data': combined_demand_forecast.tolist()\n",
    "}\n",
    "\n",
    "with open('../public/analytics/job/job-demand-forecast-electrician-month.json', 'w') as file:\n",
    "    json.dump(data_job_demand_forecast_monthly, file, indent=4) \n",
    "\n",
    "# Quarterly \n",
    "df_quarterly = electrician_df.resample('Q').sum()\n",
    "historical_demand = np.ceil(df_quarterly['demand'][-6:]).astype(int)\n",
    "quarterly_forecast = np.ceil(forecast_demand(df_quarterly, seasonal_periods=4, forecast_horizon=forecast_months // 3)).astype(int)\n",
    "combined_demand_forecast = np.concatenate((historical_demand, quarterly_forecast))\n",
    "\n",
    "historical_labels = [historical_demand.index[i].strftime(\"%Y-%m\") for i in range(len(historical_demand))]\n",
    "forecasted_labels = [(quarterly_forecast.index[i].strftime(\"%Y-%m\")) for i in range(len(quarterly_forecast))]\n",
    "combined_labels = historical_labels + forecasted_labels\n",
    "\n",
    "data_job_demand_forecast_quarterly = {\n",
    "    'labels': combined_labels,\n",
    "    'data': combined_demand_forecast.tolist()\n",
    "}\n",
    "\n",
    "with open('../public/analytics/job/job-demand-forecast-electrician-quarter.json', 'w') as file:\n",
    "    json.dump(data_job_demand_forecast_quarterly, file, indent=4) \n"
   ]
  },
  {
   "cell_type": "code",
   "execution_count": 33,
   "metadata": {
    "execution": {
     "iopub.execute_input": "2024-10-31T09:09:14.131543Z",
     "iopub.status.busy": "2024-10-31T09:09:14.131543Z",
     "iopub.status.idle": "2024-10-31T09:09:14.176180Z",
     "shell.execute_reply": "2024-10-31T09:09:14.175546Z"
    }
   },
   "outputs": [
    {
     "name": "stdout",
     "output_type": "stream",
     "text": [
      "     year  month     category  total_jobs\n",
      "4    2022     10  ventilation          45\n",
      "9    2022     11  ventilation          33\n",
      "14   2022     12  ventilation          46\n",
      "19   2023      1  ventilation          16\n",
      "24   2023      2  ventilation          63\n",
      "29   2023      3  ventilation          65\n",
      "34   2023      4  ventilation          52\n",
      "39   2023      5  ventilation          12\n",
      "44   2023      6  ventilation          40\n",
      "49   2023      7  ventilation          26\n",
      "54   2023      8  ventilation          19\n",
      "59   2023      9  ventilation          74\n",
      "64   2023     10  ventilation          65\n",
      "69   2023     11  ventilation          50\n",
      "74   2023     12  ventilation          56\n",
      "79   2024      1  ventilation          65\n",
      "84   2024      2  ventilation          18\n",
      "89   2024      3  ventilation          47\n",
      "94   2024      4  ventilation          65\n",
      "99   2024      5  ventilation          65\n",
      "104  2024      6  ventilation          41\n",
      "109  2024      7  ventilation          13\n",
      "114  2024      8  ventilation          29\n",
      "119  2024      9  ventilation          71\n"
     ]
    }
   ],
   "source": [
    "# Ventilation\n",
    "ventilation_counts = job_counts[job_counts['category'] == 'ventilation']\n",
    "print(ventilation_counts)\n",
    "\n",
    "historical_data = {\n",
    "    'date': pd.date_range(start=start_date, end=datetime(2024, 10, 1), freq='M'),\n",
    "    'demand': ventilation_counts['total_jobs'].tolist()\n",
    "}\n",
    "ventilation_df = pd.DataFrame(historical_data)\n",
    "ventilation_df.set_index('date', inplace=True)\n",
    "\n",
    "forecast_months = 6\n",
    "\n",
    "# Monthly\n",
    "historical_demand = ventilation_df['demand'][-12:]\n",
    "monthly_forecast = np.ceil(forecast_demand(ventilation_df, seasonal_periods=12, forecast_horizon=forecast_months)).astype(int)\n",
    "combined_demand_forecast = np.concatenate((historical_demand, monthly_forecast))\n",
    "\n",
    "historical_labels = [historical_demand.index[i].strftime(\"%Y-%m\") for i in range(len(historical_demand))]\n",
    "forecasted_labels = [(monthly_forecast.index[i].strftime(\"%Y-%m\")) for i in range(len(monthly_forecast))]\n",
    "combined_labels = historical_labels + forecasted_labels\n",
    "\n",
    "data_job_demand_forecast_monthly = {\n",
    "    'labels': combined_labels,\n",
    "    'data': combined_demand_forecast.tolist()\n",
    "}\n",
    "\n",
    "with open('../public/analytics/job/job-demand-forecast-ventilation-month.json', 'w') as file:\n",
    "    json.dump(data_job_demand_forecast_monthly, file, indent=4) \n",
    "\n",
    "# Quarterly \n",
    "df_quarterly = ventilation_df.resample('Q').sum()\n",
    "historical_demand = np.ceil(df_quarterly['demand'][-6:]).astype(int)\n",
    "quarterly_forecast = np.ceil(forecast_demand(df_quarterly, seasonal_periods=4, forecast_horizon=forecast_months // 3)).astype(int)\n",
    "combined_demand_forecast = np.concatenate((historical_demand, quarterly_forecast))\n",
    "\n",
    "historical_labels = [historical_demand.index[i].strftime(\"%Y-%m\") for i in range(len(historical_demand))]\n",
    "forecasted_labels = [(quarterly_forecast.index[i].strftime(\"%Y-%m\")) for i in range(len(quarterly_forecast))]\n",
    "combined_labels = historical_labels + forecasted_labels\n",
    "\n",
    "data_job_demand_forecast_quarterly = {\n",
    "    'labels': combined_labels,\n",
    "    'data': combined_demand_forecast.tolist()\n",
    "}\n",
    "\n",
    "with open('../public/analytics/job/job-demand-forecast-ventilation-quarter.json', 'w') as file:\n",
    "    json.dump(data_job_demand_forecast_quarterly, file, indent=4) "
   ]
  },
  {
   "cell_type": "code",
   "execution_count": 34,
   "metadata": {
    "execution": {
     "iopub.execute_input": "2024-10-31T09:09:14.179249Z",
     "iopub.status.busy": "2024-10-31T09:09:14.178235Z",
     "iopub.status.idle": "2024-10-31T09:09:14.221492Z",
     "shell.execute_reply": "2024-10-31T09:09:14.221492Z"
    }
   },
   "outputs": [
    {
     "name": "stdout",
     "output_type": "stream",
     "text": [
      "     year  month category  total_jobs\n",
      "3    2022     10  plumber          23\n",
      "8    2022     11  plumber          18\n",
      "13   2022     12  plumber          20\n",
      "18   2023      1  plumber          24\n",
      "23   2023      2  plumber           6\n",
      "28   2023      3  plumber          17\n",
      "33   2023      4  plumber          24\n",
      "38   2023      5  plumber          24\n",
      "43   2023      6  plumber          14\n",
      "48   2023      7  plumber           5\n",
      "53   2023      8  plumber          10\n",
      "58   2023      9  plumber          25\n",
      "63   2023     10  plumber          75\n",
      "68   2023     11  plumber          69\n",
      "73   2023     12  plumber          38\n",
      "78   2024      1  plumber          23\n",
      "83   2024      2  plumber          47\n",
      "88   2024      3  plumber          36\n",
      "93   2024      4  plumber          70\n",
      "98   2024      5  plumber          27\n",
      "103  2024      6  plumber          43\n",
      "108  2024      7  plumber          53\n",
      "113  2024      8  plumber          81\n",
      "118  2024      9  plumber          45\n"
     ]
    }
   ],
   "source": [
    "# Plumber\n",
    "plumber_counts = job_counts[job_counts['category'] == 'plumber']\n",
    "print(plumber_counts)\n",
    "\n",
    "historical_data = {\n",
    "    'date': pd.date_range(start=start_date, end=datetime(2024, 10, 1), freq='M'),\n",
    "    'demand': plumber_counts['total_jobs'].tolist()\n",
    "}\n",
    "plumber_df = pd.DataFrame(historical_data)\n",
    "plumber_df.set_index('date', inplace=True)\n",
    "\n",
    "forecast_months = 6\n",
    "\n",
    "# Monthly\n",
    "historical_demand = plumber_df['demand'][-12:]\n",
    "monthly_forecast = np.ceil(forecast_demand(plumber_df, seasonal_periods=12, forecast_horizon=forecast_months)).astype(int)\n",
    "combined_demand_forecast = np.concatenate((historical_demand, monthly_forecast))\n",
    "\n",
    "historical_labels = [historical_demand.index[i].strftime(\"%Y-%m\") for i in range(len(historical_demand))]\n",
    "forecasted_labels = [(monthly_forecast.index[i].strftime(\"%Y-%m\")) for i in range(len(monthly_forecast))]\n",
    "combined_labels = historical_labels + forecasted_labels\n",
    "\n",
    "data_job_demand_forecast_monthly = {\n",
    "    'labels': combined_labels,\n",
    "    'data': combined_demand_forecast.tolist()\n",
    "}\n",
    "\n",
    "with open('../public/analytics/job/job-demand-forecast-plumber-month.json', 'w') as file:\n",
    "    json.dump(data_job_demand_forecast_monthly, file, indent=4) \n",
    "\n",
    "# Quarterly \n",
    "df_quarterly = plumber_df.resample('Q').sum()\n",
    "historical_demand = np.ceil(df_quarterly['demand'][-6:]).astype(int)\n",
    "quarterly_forecast = np.ceil(forecast_demand(df_quarterly, seasonal_periods=4, forecast_horizon=forecast_months // 3)).astype(int)\n",
    "combined_demand_forecast = np.concatenate((historical_demand, quarterly_forecast))\n",
    "\n",
    "historical_labels = [historical_demand.index[i].strftime(\"%Y-%m\") for i in range(len(historical_demand))]\n",
    "forecasted_labels = [(quarterly_forecast.index[i].strftime(\"%Y-%m\")) for i in range(len(quarterly_forecast))]\n",
    "combined_labels = historical_labels + forecasted_labels\n",
    "\n",
    "data_job_demand_forecast_quarterly = {\n",
    "    'labels': combined_labels,\n",
    "    'data': combined_demand_forecast.tolist()\n",
    "}\n",
    "\n",
    "with open('../public/analytics/job/job-demand-forecast-plumber-quarter.json', 'w') as file:\n",
    "    json.dump(data_job_demand_forecast_quarterly, file, indent=4) "
   ]
  },
  {
   "cell_type": "code",
   "execution_count": 35,
   "metadata": {
    "execution": {
     "iopub.execute_input": "2024-10-31T09:09:14.224500Z",
     "iopub.status.busy": "2024-10-31T09:09:14.224500Z",
     "iopub.status.idle": "2024-10-31T09:09:14.273856Z",
     "shell.execute_reply": "2024-10-31T09:09:14.272848Z"
    }
   },
   "outputs": [
    {
     "name": "stdout",
     "output_type": "stream",
     "text": [
      "     year  month  category  total_jobs\n",
      "2    2022     10  handyman         100\n",
      "7    2022     11  handyman          74\n",
      "12   2022     12  handyman         101\n",
      "17   2023      1  handyman          35\n",
      "22   2023      2  handyman         141\n",
      "27   2023      3  handyman         145\n",
      "32   2023      4  handyman         116\n",
      "37   2023      5  handyman          27\n",
      "42   2023      6  handyman          90\n",
      "47   2023      7  handyman          58\n",
      "52   2023      8  handyman          43\n",
      "57   2023      9  handyman         165\n",
      "62   2023     10  handyman         150\n",
      "67   2023     11  handyman         115\n",
      "72   2023     12  handyman         128\n",
      "77   2024      1  handyman         150\n",
      "82   2024      2  handyman          43\n",
      "87   2024      3  handyman         106\n",
      "92   2024      4  handyman         151\n",
      "97   2024      5  handyman         147\n",
      "102  2024      6  handyman          95\n",
      "107  2024      7  handyman          29\n",
      "112  2024      8  handyman          68\n",
      "117  2024      9  handyman         165\n"
     ]
    }
   ],
   "source": [
    "# Handyman\n",
    "handyman_counts = job_counts[job_counts['category'] == 'handyman']\n",
    "print(handyman_counts)\n",
    "\n",
    "historical_data = {\n",
    "    'date': pd.date_range(start=start_date, end=datetime(2024, 10, 1), freq='M'),\n",
    "    'demand': handyman_counts['total_jobs'].tolist()\n",
    "}\n",
    "handyman_df = pd.DataFrame(historical_data)\n",
    "handyman_df.set_index('date', inplace=True)\n",
    "\n",
    "forecast_months = 6\n",
    "\n",
    "# Monthly\n",
    "historical_demand = handyman_df['demand'][-12:]\n",
    "monthly_forecast = np.ceil(forecast_demand(handyman_df, seasonal_periods=12, forecast_horizon=forecast_months)).astype(int)\n",
    "combined_demand_forecast = np.concatenate((historical_demand, monthly_forecast))\n",
    "\n",
    "historical_labels = [historical_demand.index[i].strftime(\"%Y-%m\") for i in range(len(historical_demand))]\n",
    "forecasted_labels = [(monthly_forecast.index[i].strftime(\"%Y-%m\")) for i in range(len(monthly_forecast))]\n",
    "combined_labels = historical_labels + forecasted_labels\n",
    "\n",
    "data_job_demand_forecast_monthly = {\n",
    "    'labels': combined_labels,\n",
    "    'data': combined_demand_forecast.tolist()\n",
    "}\n",
    "\n",
    "with open('../public/analytics/job/job-demand-forecast-handyman-month.json', 'w') as file:\n",
    "    json.dump(data_job_demand_forecast_monthly, file, indent=4) \n",
    "\n",
    "# Quarterly \n",
    "df_quarterly = handyman_df.resample('Q').sum()\n",
    "historical_demand = np.ceil(df_quarterly['demand'][-6:]).astype(int)\n",
    "quarterly_forecast = np.ceil(forecast_demand(df_quarterly, seasonal_periods=4, forecast_horizon=forecast_months // 3)).astype(int)\n",
    "combined_demand_forecast = np.concatenate((historical_demand, quarterly_forecast))\n",
    "\n",
    "historical_labels = [historical_demand.index[i].strftime(\"%Y-%m\") for i in range(len(historical_demand))]\n",
    "forecasted_labels = [(quarterly_forecast.index[i].strftime(\"%Y-%m\")) for i in range(len(quarterly_forecast))]\n",
    "combined_labels = historical_labels + forecasted_labels\n",
    "\n",
    "data_job_demand_forecast_quarterly = {\n",
    "    'labels': combined_labels,\n",
    "    'data': combined_demand_forecast.tolist()\n",
    "}\n",
    "\n",
    "with open('../public/analytics/job/job-demand-forecast-handyman-quarter.json', 'w') as file:\n",
    "    json.dump(data_job_demand_forecast_quarterly, file, indent=4) "
   ]
  },
  {
   "cell_type": "code",
   "execution_count": 36,
   "metadata": {
    "execution": {
     "iopub.execute_input": "2024-10-31T09:09:14.277299Z",
     "iopub.status.busy": "2024-10-31T09:09:14.277299Z",
     "iopub.status.idle": "2024-10-31T09:09:14.342521Z",
     "shell.execute_reply": "2024-10-31T09:09:14.342521Z"
    }
   },
   "outputs": [
    {
     "name": "stdout",
     "output_type": "stream",
     "text": [
      "     year  month category  total_jobs\n",
      "0    2022     10   aircon          63\n",
      "5    2022     11   aircon          49\n",
      "10   2022     12   aircon          55\n",
      "15   2023      1   aircon          63\n",
      "20   2023      2   aircon          18\n",
      "25   2023      3   aircon          45\n",
      "30   2023      4   aircon          63\n",
      "35   2023      5   aircon          63\n",
      "40   2023      6   aircon          40\n",
      "45   2023      7   aircon          12\n",
      "50   2023      8   aircon          29\n",
      "55   2023      9   aircon          70\n",
      "60   2023     10   aircon          92\n",
      "65   2023     11   aircon          68\n",
      "70   2023     12   aircon          93\n",
      "75   2024      1   aircon          33\n",
      "80   2024      2   aircon         130\n",
      "85   2024      3   aircon         134\n",
      "90   2024      4   aircon         106\n",
      "95   2024      5   aircon          25\n",
      "100  2024      6   aircon          83\n",
      "105  2024      7   aircon          53\n",
      "110  2024      8   aircon          40\n",
      "115  2024      9   aircon         153\n"
     ]
    }
   ],
   "source": [
    "# Aircon\n",
    "aircon_counts = job_counts[job_counts['category'] == 'aircon']\n",
    "print(aircon_counts)\n",
    "\n",
    "historical_data = {\n",
    "    'date': pd.date_range(start=start_date, end=datetime(2024, 10, 1), freq='M'),\n",
    "    'demand': aircon_counts['total_jobs'].tolist()\n",
    "}\n",
    "aircon_df = pd.DataFrame(historical_data)\n",
    "aircon_df.set_index('date', inplace=True)\n",
    "\n",
    "forecast_months = 6\n",
    "\n",
    "# Monthly\n",
    "historical_demand = aircon_df['demand'][-12:]\n",
    "monthly_forecast = np.ceil(forecast_demand(aircon_df, seasonal_periods=12, forecast_horizon=forecast_months)).astype(int)\n",
    "combined_demand_forecast = np.concatenate((historical_demand, monthly_forecast))\n",
    "\n",
    "historical_labels = [historical_demand.index[i].strftime(\"%Y-%m\") for i in range(len(historical_demand))]\n",
    "forecasted_labels = [(monthly_forecast.index[i].strftime(\"%Y-%m\")) for i in range(len(monthly_forecast))]\n",
    "combined_labels = historical_labels + forecasted_labels\n",
    "\n",
    "data_job_demand_forecast_monthly = {\n",
    "    'labels': combined_labels,\n",
    "    'data': combined_demand_forecast.tolist()\n",
    "}\n",
    "\n",
    "with open('../public/analytics/job/job-demand-forecast-aircon-month.json', 'w') as file:\n",
    "    json.dump(data_job_demand_forecast_monthly, file, indent=4) \n",
    "\n",
    "# Quarterly \n",
    "df_quarterly = aircon_df.resample('Q').sum()\n",
    "historical_demand = np.ceil(df_quarterly['demand'][-6:]).astype(int)\n",
    "quarterly_forecast = np.ceil(forecast_demand(df_quarterly, seasonal_periods=4, forecast_horizon=forecast_months // 3)).astype(int)\n",
    "combined_demand_forecast = np.concatenate((historical_demand, quarterly_forecast))\n",
    "\n",
    "historical_labels = [historical_demand.index[i].strftime(\"%Y-%m\") for i in range(len(historical_demand))]\n",
    "forecasted_labels = [(quarterly_forecast.index[i].strftime(\"%Y-%m\")) for i in range(len(quarterly_forecast))]\n",
    "combined_labels = historical_labels + forecasted_labels\n",
    "\n",
    "data_job_demand_forecast_quarterly = {\n",
    "    'labels': combined_labels,\n",
    "    'data': combined_demand_forecast.tolist()\n",
    "}\n",
    "\n",
    "with open('../public/analytics/job/job-demand-forecast-aircon-quarter.json', 'w') as file:\n",
    "    json.dump(data_job_demand_forecast_quarterly, file, indent=4) "
   ]
  },
  {
   "cell_type": "markdown",
   "metadata": {},
   "source": [
    "### Financial Analytics - Invoice"
   ]
  },
  {
   "cell_type": "code",
   "execution_count": 37,
   "metadata": {
    "execution": {
     "iopub.execute_input": "2024-10-31T09:09:14.347535Z",
     "iopub.status.busy": "2024-10-31T09:09:14.346539Z",
     "iopub.status.idle": "2024-10-31T09:09:14.365716Z",
     "shell.execute_reply": "2024-10-31T09:09:14.364709Z"
    }
   },
   "outputs": [
    {
     "name": "stdout",
     "output_type": "stream",
     "text": [
      "['PayNow', 'Cash', 'Bank Transfer']\n"
     ]
    }
   ],
   "source": [
    "# General Labels\n",
    "payment_methods_df = pd.read_csv('./datasets/payment_methods.csv')\n",
    "payment_types = payment_methods_df['name'].tolist()\n",
    "print(payment_types)"
   ]
  },
  {
   "cell_type": "code",
   "execution_count": 38,
   "metadata": {
    "execution": {
     "iopub.execute_input": "2024-10-31T09:09:14.369721Z",
     "iopub.status.busy": "2024-10-31T09:09:14.369721Z",
     "iopub.status.idle": "2024-10-31T09:09:14.397092Z",
     "shell.execute_reply": "2024-10-31T09:09:14.397092Z"
    }
   },
   "outputs": [],
   "source": [
    "ia_payment_df = pd.read_csv('./datasets/ia_payment.csv')\n",
    "ia_payment_df['Date'] = pd.to_datetime(ia_payment_df['Date'])"
   ]
  },
  {
   "cell_type": "markdown",
   "metadata": {},
   "source": [
    "#### Payment Type Distribution"
   ]
  },
  {
   "cell_type": "code",
   "execution_count": 39,
   "metadata": {
    "execution": {
     "iopub.execute_input": "2024-10-31T09:09:14.400101Z",
     "iopub.status.busy": "2024-10-31T09:09:14.400101Z",
     "iopub.status.idle": "2024-10-31T09:09:14.410626Z",
     "shell.execute_reply": "2024-10-31T09:09:14.410626Z"
    }
   },
   "outputs": [],
   "source": [
    "# Past 1 Month\n",
    "\n",
    "## Total\n",
    "recent_payments = ia_payment_df[ia_payment_df['Date'] >= datetime(2024, 10, 1) - pd.DateOffset(months=1)]\n",
    "total_payments_frequency = recent_payments['Payment Method'].value_counts(sort=False).tolist()\n",
    "data_payment_type_dist = {\n",
    "    'labels': payment_types,\n",
    "    'data': total_payments_frequency\n",
    "}\n",
    "\n",
    "with open('../public/analytics/financial/invoice/payment-type-dist-one-month-total.json', 'w') as file:\n",
    "    json.dump(data_payment_type_dist, file, indent=4)\n",
    "\n",
    "## Average\n",
    "average_payment_frequency = total_payments_frequency\n",
    "data_payment_type_dist = {\n",
    "    'labels': payment_types,\n",
    "    'data': average_payment_frequency\n",
    "}\n",
    "\n",
    "with open('../public/analytics/financial/invoice/payment-type-dist-one-month-average.json', 'w') as file:\n",
    "    json.dump(data_payment_type_dist, file, indent=4)  "
   ]
  },
  {
   "cell_type": "code",
   "execution_count": 40,
   "metadata": {
    "execution": {
     "iopub.execute_input": "2024-10-31T09:09:14.413635Z",
     "iopub.status.busy": "2024-10-31T09:09:14.413635Z",
     "iopub.status.idle": "2024-10-31T09:09:14.424861Z",
     "shell.execute_reply": "2024-10-31T09:09:14.424861Z"
    }
   },
   "outputs": [],
   "source": [
    "# Past 3 Months\n",
    "\n",
    "## Total\n",
    "recent_payments = ia_payment_df[ia_payment_df['Date'] >= datetime(2024, 10, 1) - pd.DateOffset(months=3)]\n",
    "total_payments_frequency = recent_payments['Payment Method'].value_counts(sort=False).tolist()\n",
    "data_payment_type_dist = {\n",
    "    'labels': payment_types,\n",
    "    'data': total_payments_frequency\n",
    "}\n",
    "\n",
    "with open('../public/analytics/financial/invoice/payment-type-dist-three-month-total.json', 'w') as file:\n",
    "    json.dump(data_payment_type_dist, file, indent=4)\n",
    "\n",
    "## Average\n",
    "average_payment_frequency = [np.ceil(x / 3) for x in total_payments_frequency]\n",
    "data_payment_type_dist = {\n",
    "    'labels': payment_types,\n",
    "    'data': average_payment_frequency\n",
    "}\n",
    "\n",
    "with open('../public/analytics/financial/invoice/payment-type-dist-three-month-average.json', 'w') as file:\n",
    "    json.dump(data_payment_type_dist, file, indent=4)   "
   ]
  },
  {
   "cell_type": "code",
   "execution_count": 41,
   "metadata": {
    "execution": {
     "iopub.execute_input": "2024-10-31T09:09:14.428871Z",
     "iopub.status.busy": "2024-10-31T09:09:14.428871Z",
     "iopub.status.idle": "2024-10-31T09:09:14.440195Z",
     "shell.execute_reply": "2024-10-31T09:09:14.440195Z"
    }
   },
   "outputs": [],
   "source": [
    "# Past 6 Months\n",
    "\n",
    "## Total\n",
    "recent_payments = ia_payment_df[ia_payment_df['Date'] >= datetime(2024, 10, 1) - pd.DateOffset(months=6)]\n",
    "total_payments_frequency = recent_payments['Payment Method'].value_counts(sort=False).tolist()\n",
    "data_payment_type_dist = {\n",
    "    'labels': payment_types,\n",
    "    'data': total_payments_frequency\n",
    "}\n",
    "\n",
    "with open('../public/analytics/financial/invoice/payment-type-dist-six-month-total.json', 'w') as file:\n",
    "    json.dump(data_payment_type_dist, file, indent=4)\n",
    "\n",
    "## Average\n",
    "average_payment_frequency = [np.ceil(x / 6) for x in total_payments_frequency]\n",
    "data_payment_type_dist = {\n",
    "    'labels': payment_types,\n",
    "    'data': average_payment_frequency\n",
    "}\n",
    "\n",
    "with open('../public/analytics/financial/invoice/payment-type-dist-six-month-average.json', 'w') as file:\n",
    "    json.dump(data_payment_type_dist, file, indent=4)  "
   ]
  },
  {
   "cell_type": "code",
   "execution_count": 42,
   "metadata": {
    "execution": {
     "iopub.execute_input": "2024-10-31T09:09:14.443202Z",
     "iopub.status.busy": "2024-10-31T09:09:14.443202Z",
     "iopub.status.idle": "2024-10-31T09:09:14.451984Z",
     "shell.execute_reply": "2024-10-31T09:09:14.451984Z"
    }
   },
   "outputs": [],
   "source": [
    "# Past 12 Months\n",
    "\n",
    "## Total\n",
    "recent_payments = ia_payment_df[ia_payment_df['Date'] >= datetime(2024, 10, 1) - pd.DateOffset(months=12)]\n",
    "total_payments_frequency = recent_payments['Payment Method'].value_counts(sort=False).tolist()\n",
    "data_payment_type_dist = {\n",
    "    'labels': payment_types,\n",
    "    'data': total_payments_frequency\n",
    "}\n",
    "\n",
    "with open('../public/analytics/financial/invoice/payment-type-dist-twelve-month-total.json', 'w') as file:\n",
    "    json.dump(data_payment_type_dist, file, indent=4)\n",
    "\n",
    "## Average\n",
    "average_payment_frequency = [np.ceil(x / 12) for x in total_payments_frequency]\n",
    "data_payment_type_dist = {\n",
    "    'labels': payment_types,\n",
    "    'data': average_payment_frequency\n",
    "}\n",
    "\n",
    "with open('../public/analytics/financial/invoice/payment-type-dist-twelve-month-average.json', 'w') as file:\n",
    "    json.dump(data_payment_type_dist, file, indent=4)   "
   ]
  },
  {
   "cell_type": "markdown",
   "metadata": {},
   "source": [
    "#### Payment Duration Distribution"
   ]
  },
  {
   "cell_type": "code",
   "execution_count": 43,
   "metadata": {
    "execution": {
     "iopub.execute_input": "2024-10-31T09:09:14.456053Z",
     "iopub.status.busy": "2024-10-31T09:09:14.456053Z",
     "iopub.status.idle": "2024-10-31T09:09:14.461779Z",
     "shell.execute_reply": "2024-10-31T09:09:14.461779Z"
    }
   },
   "outputs": [],
   "source": [
    "# Payment Duration\n",
    "all_durations = [3, 5, 7, 10, 14]\n",
    "\n",
    "def generate_payment_duration_dist(recent_payments):\n",
    "    month = calendar.month_name[recent_payments['Date'].iloc[0].month]\n",
    "    \n",
    "    ## PayNow\n",
    "    paynow_counts = recent_payments[recent_payments['Payment Method'] == 'PayNow']\n",
    "    total_duration_frequency = paynow_counts['Payment Duration'].value_counts(sort=False)\n",
    "    total_duration_frequency = total_duration_frequency.reindex(all_durations, fill_value=0)\n",
    "    data_payment_type_dist = {\n",
    "        'labels': all_durations,\n",
    "        'data': total_duration_frequency.tolist()\n",
    "    }\n",
    "\n",
    "    with open('../public/analytics/financial/invoice/payment-duration-dist-paynow-{}.json'.format(month), 'w') as file:\n",
    "        json.dump(data_payment_type_dist, file, indent=4) \n",
    "\n",
    "    ## BankTransfer\n",
    "    bank_counts = recent_payments[recent_payments['Payment Method'] == 'Bank Transfer']\n",
    "    total_duration_frequency = bank_counts['Payment Duration'].value_counts(sort=False)\n",
    "    total_duration_frequency = total_duration_frequency.reindex(all_durations, fill_value=0)\n",
    "    data_payment_type_dist = {\n",
    "        'labels': all_durations,\n",
    "        'data': total_duration_frequency.tolist()\n",
    "    }\n",
    "\n",
    "    with open('../public/analytics/financial/invoice/payment-duration-dist-bank-{}.json'.format(month), 'w') as file:\n",
    "        json.dump(data_payment_type_dist, file, indent=4)"
   ]
  },
  {
   "cell_type": "code",
   "execution_count": 44,
   "metadata": {
    "execution": {
     "iopub.execute_input": "2024-10-31T09:09:14.464794Z",
     "iopub.status.busy": "2024-10-31T09:09:14.463795Z",
     "iopub.status.idle": "2024-10-31T09:09:14.474344Z",
     "shell.execute_reply": "2024-10-31T09:09:14.474344Z"
    }
   },
   "outputs": [],
   "source": [
    "# Past 1 Month\n",
    "recent_payments = ia_payment_df[ia_payment_df['Date'] >= datetime(2024, 10, 1) - pd.DateOffset(months=1)]\n",
    "generate_payment_duration_dist(recent_payments)"
   ]
  },
  {
   "cell_type": "code",
   "execution_count": 45,
   "metadata": {
    "execution": {
     "iopub.execute_input": "2024-10-31T09:09:14.478353Z",
     "iopub.status.busy": "2024-10-31T09:09:14.478353Z",
     "iopub.status.idle": "2024-10-31T09:09:14.487940Z",
     "shell.execute_reply": "2024-10-31T09:09:14.487940Z"
    }
   },
   "outputs": [],
   "source": [
    "# Past 2 Month\n",
    "recent_payments = ia_payment_df[(ia_payment_df['Date'] >= datetime(2024, 10, 1) - pd.DateOffset(months=2)) & (ia_payment_df['Date'] < datetime(2024, 10, 1) - pd.DateOffset(months=1))]\n",
    "generate_payment_duration_dist(recent_payments)"
   ]
  },
  {
   "cell_type": "code",
   "execution_count": 46,
   "metadata": {
    "execution": {
     "iopub.execute_input": "2024-10-31T09:09:14.490945Z",
     "iopub.status.busy": "2024-10-31T09:09:14.490945Z",
     "iopub.status.idle": "2024-10-31T09:09:14.500232Z",
     "shell.execute_reply": "2024-10-31T09:09:14.500232Z"
    }
   },
   "outputs": [],
   "source": [
    "# Past 3 Month\n",
    "recent_payments = ia_payment_df[(ia_payment_df['Date'] >= datetime(2024, 10, 1) - pd.DateOffset(months=3)) & (ia_payment_df['Date'] < datetime(2024, 10, 1) - pd.DateOffset(months=2))]\n",
    "generate_payment_duration_dist(recent_payments)"
   ]
  },
  {
   "cell_type": "code",
   "execution_count": 47,
   "metadata": {
    "execution": {
     "iopub.execute_input": "2024-10-31T09:09:14.503243Z",
     "iopub.status.busy": "2024-10-31T09:09:14.503243Z",
     "iopub.status.idle": "2024-10-31T09:09:14.511783Z",
     "shell.execute_reply": "2024-10-31T09:09:14.511783Z"
    }
   },
   "outputs": [],
   "source": [
    "# Past 4 Month\n",
    "recent_payments = ia_payment_df[(ia_payment_df['Date'] >= datetime(2024, 10, 1) - pd.DateOffset(months=4)) & (ia_payment_df['Date'] < datetime(2024, 10, 1) - pd.DateOffset(months=3))]\n",
    "generate_payment_duration_dist(recent_payments)"
   ]
  },
  {
   "cell_type": "code",
   "execution_count": 48,
   "metadata": {
    "execution": {
     "iopub.execute_input": "2024-10-31T09:09:14.514789Z",
     "iopub.status.busy": "2024-10-31T09:09:14.513808Z",
     "iopub.status.idle": "2024-10-31T09:09:14.523191Z",
     "shell.execute_reply": "2024-10-31T09:09:14.523191Z"
    }
   },
   "outputs": [],
   "source": [
    "# Past 5 Month\n",
    "recent_payments = ia_payment_df[(ia_payment_df['Date'] >= datetime(2024, 10, 1) - pd.DateOffset(months=5)) & (ia_payment_df['Date'] < datetime(2024, 10, 1) - pd.DateOffset(months=4))]\n",
    "generate_payment_duration_dist(recent_payments)"
   ]
  },
  {
   "cell_type": "code",
   "execution_count": 49,
   "metadata": {
    "execution": {
     "iopub.execute_input": "2024-10-31T09:09:14.526197Z",
     "iopub.status.busy": "2024-10-31T09:09:14.526197Z",
     "iopub.status.idle": "2024-10-31T09:09:14.534882Z",
     "shell.execute_reply": "2024-10-31T09:09:14.534882Z"
    }
   },
   "outputs": [],
   "source": [
    "# Past 6 Month\n",
    "recent_payments = ia_payment_df[(ia_payment_df['Date'] >= datetime(2024, 10, 1) - pd.DateOffset(months=6)) & (ia_payment_df['Date'] < datetime(2024, 10, 1) - pd.DateOffset(months=5))]\n",
    "generate_payment_duration_dist(recent_payments)"
   ]
  },
  {
   "cell_type": "code",
   "execution_count": 50,
   "metadata": {
    "execution": {
     "iopub.execute_input": "2024-10-31T09:09:14.537889Z",
     "iopub.status.busy": "2024-10-31T09:09:14.537889Z",
     "iopub.status.idle": "2024-10-31T09:09:14.546171Z",
     "shell.execute_reply": "2024-10-31T09:09:14.546171Z"
    }
   },
   "outputs": [],
   "source": [
    "# Past 7 Month\n",
    "recent_payments = ia_payment_df[(ia_payment_df['Date'] >= datetime(2024, 10, 1) - pd.DateOffset(months=7)) & (ia_payment_df['Date'] < datetime(2024, 10, 1) - pd.DateOffset(months=6))]\n",
    "generate_payment_duration_dist(recent_payments)"
   ]
  },
  {
   "cell_type": "code",
   "execution_count": 51,
   "metadata": {
    "execution": {
     "iopub.execute_input": "2024-10-31T09:09:14.549179Z",
     "iopub.status.busy": "2024-10-31T09:09:14.549179Z",
     "iopub.status.idle": "2024-10-31T09:09:14.557479Z",
     "shell.execute_reply": "2024-10-31T09:09:14.557479Z"
    }
   },
   "outputs": [],
   "source": [
    "# Past 8 Month\n",
    "recent_payments = ia_payment_df[(ia_payment_df['Date'] >= datetime(2024, 10, 1) - pd.DateOffset(months=8)) & (ia_payment_df['Date'] < datetime(2024, 10, 1) - pd.DateOffset(months=7))]\n",
    "generate_payment_duration_dist(recent_payments)"
   ]
  },
  {
   "cell_type": "code",
   "execution_count": 52,
   "metadata": {
    "execution": {
     "iopub.execute_input": "2024-10-31T09:09:14.559518Z",
     "iopub.status.busy": "2024-10-31T09:09:14.559518Z",
     "iopub.status.idle": "2024-10-31T09:09:14.568319Z",
     "shell.execute_reply": "2024-10-31T09:09:14.568319Z"
    }
   },
   "outputs": [],
   "source": [
    "# Past 9 Month\n",
    "recent_payments = ia_payment_df[(ia_payment_df['Date'] >= datetime(2024, 10, 1) - pd.DateOffset(months=9)) & (ia_payment_df['Date'] < datetime(2024, 10, 1) - pd.DateOffset(months=8))]\n",
    "generate_payment_duration_dist(recent_payments)"
   ]
  },
  {
   "cell_type": "code",
   "execution_count": 53,
   "metadata": {
    "execution": {
     "iopub.execute_input": "2024-10-31T09:09:14.571516Z",
     "iopub.status.busy": "2024-10-31T09:09:14.571516Z",
     "iopub.status.idle": "2024-10-31T09:09:14.582582Z",
     "shell.execute_reply": "2024-10-31T09:09:14.582582Z"
    }
   },
   "outputs": [],
   "source": [
    "# Past 10 Month\n",
    "recent_payments = ia_payment_df[(ia_payment_df['Date'] >= datetime(2024, 10, 1) - pd.DateOffset(months=10)) & (ia_payment_df['Date'] < datetime(2024, 10, 1) - pd.DateOffset(months=9))]\n",
    "generate_payment_duration_dist(recent_payments)"
   ]
  },
  {
   "cell_type": "code",
   "execution_count": 54,
   "metadata": {
    "execution": {
     "iopub.execute_input": "2024-10-31T09:09:14.585589Z",
     "iopub.status.busy": "2024-10-31T09:09:14.585589Z",
     "iopub.status.idle": "2024-10-31T09:09:14.597998Z",
     "shell.execute_reply": "2024-10-31T09:09:14.596988Z"
    }
   },
   "outputs": [],
   "source": [
    "# Past 11 Month\n",
    "recent_payments = ia_payment_df[(ia_payment_df['Date'] >= datetime(2024, 10, 1) - pd.DateOffset(months=11)) & (ia_payment_df['Date'] < datetime(2024, 10, 1) - pd.DateOffset(months=10))]\n",
    "generate_payment_duration_dist(recent_payments)"
   ]
  },
  {
   "cell_type": "code",
   "execution_count": 55,
   "metadata": {
    "execution": {
     "iopub.execute_input": "2024-10-31T09:09:14.602998Z",
     "iopub.status.busy": "2024-10-31T09:09:14.601997Z",
     "iopub.status.idle": "2024-10-31T09:09:14.618514Z",
     "shell.execute_reply": "2024-10-31T09:09:14.618514Z"
    }
   },
   "outputs": [],
   "source": [
    "# Past 12 Month\n",
    "recent_payments = ia_payment_df[(ia_payment_df['Date'] >= datetime(2024, 10, 1) - pd.DateOffset(months=12)) & (ia_payment_df['Date'] < datetime(2024, 10, 1) - pd.DateOffset(months=11))]\n",
    "generate_payment_duration_dist(recent_payments)"
   ]
  },
  {
   "cell_type": "markdown",
   "metadata": {},
   "source": [
    "### Financial Analytics - Quotation"
   ]
  },
  {
   "cell_type": "markdown",
   "metadata": {},
   "source": [
    "#### Response Duration Distribution"
   ]
  },
  {
   "cell_type": "code",
   "execution_count": 56,
   "metadata": {
    "execution": {
     "iopub.execute_input": "2024-10-31T09:09:14.625807Z",
     "iopub.status.busy": "2024-10-31T09:09:14.624808Z",
     "iopub.status.idle": "2024-10-31T09:09:14.646641Z",
     "shell.execute_reply": "2024-10-31T09:09:14.645632Z"
    }
   },
   "outputs": [],
   "source": [
    "qa_duration_df = pd.read_csv('./datasets/qa_duration.csv')"
   ]
  },
  {
   "cell_type": "code",
   "execution_count": 57,
   "metadata": {
    "execution": {
     "iopub.execute_input": "2024-10-31T09:09:14.650864Z",
     "iopub.status.busy": "2024-10-31T09:09:14.650864Z",
     "iopub.status.idle": "2024-10-31T09:09:14.660814Z",
     "shell.execute_reply": "2024-10-31T09:09:14.659786Z"
    }
   },
   "outputs": [],
   "source": [
    "# Filter for Last 12 Months\n",
    "df_last_12_months = qa_duration_df[qa_duration_df['Period'] == 'Last 12 Months']\n",
    "category_counts = df_last_12_months.groupby('Duration Category').size()\n",
    "data_response_duration_dist = {\n",
    "    'labels': category_counts.index.tolist(),\n",
    "    'data': category_counts.values.tolist()\n",
    "}\n",
    "\n",
    "with open('../public/analytics/financial/quotation/response-duration-dist-last-twelve-month.json', 'w') as file:\n",
    "    json.dump(data_response_duration_dist, file, indent=4)\n"
   ]
  },
  {
   "cell_type": "code",
   "execution_count": 58,
   "metadata": {
    "execution": {
     "iopub.execute_input": "2024-10-31T09:09:14.665173Z",
     "iopub.status.busy": "2024-10-31T09:09:14.664154Z",
     "iopub.status.idle": "2024-10-31T09:09:14.673760Z",
     "shell.execute_reply": "2024-10-31T09:09:14.673254Z"
    }
   },
   "outputs": [],
   "source": [
    "# Filter for Last 13-24 Months (Prior 12 Months)\n",
    "df_prior_12_months = qa_duration_df[qa_duration_df['Period'] == 'Last 13-24 Months']\n",
    "category_counts = df_prior_12_months.groupby('Duration Category').size()\n",
    "data_response_duration_dist = {\n",
    "    'labels': category_counts.index.tolist(),\n",
    "    'data': category_counts.values.tolist()\n",
    "}\n",
    "\n",
    "with open('../public/analytics/financial/quotation/response-duration-dist-last-twentyfour-month.json', 'w') as file:\n",
    "    json.dump(data_response_duration_dist, file, indent=4)"
   ]
  },
  {
   "cell_type": "markdown",
   "metadata": {},
   "source": [
    "#### Response Reasoning Distribution"
   ]
  },
  {
   "cell_type": "code",
   "execution_count": 59,
   "metadata": {
    "execution": {
     "iopub.execute_input": "2024-10-31T09:09:14.680788Z",
     "iopub.status.busy": "2024-10-31T09:09:14.679771Z",
     "iopub.status.idle": "2024-10-31T09:09:14.699334Z",
     "shell.execute_reply": "2024-10-31T09:09:14.696323Z"
    }
   },
   "outputs": [],
   "source": [
    "qa_reason_df = pd.read_csv('./datasets/qa_reason.csv')"
   ]
  },
  {
   "cell_type": "code",
   "execution_count": 60,
   "metadata": {
    "execution": {
     "iopub.execute_input": "2024-10-31T09:09:14.704332Z",
     "iopub.status.busy": "2024-10-31T09:09:14.703331Z",
     "iopub.status.idle": "2024-10-31T09:09:14.714919Z",
     "shell.execute_reply": "2024-10-31T09:09:14.714919Z"
    }
   },
   "outputs": [],
   "source": [
    "# Filter for Last 12 Months\n",
    "df_last_12_months = qa_reason_df[qa_reason_df['Period'] == 'Last 12 Months']\n",
    "reason_counts = df_last_12_months.groupby('Reason').size()\n",
    "proportion = round((reason_counts / reason_counts.sum() * 100), 1)\n",
    "\n",
    "data_response_reason_dist = {\n",
    "    'labels': reason_counts.index.tolist(),\n",
    "    'data': proportion.tolist()\n",
    "}\n",
    "\n",
    "with open('../public/analytics/financial/quotation/response-reason-dist-last-twelve-month.json', 'w') as file:\n",
    "    json.dump(data_response_reason_dist, file, indent=4)"
   ]
  },
  {
   "cell_type": "code",
   "execution_count": 61,
   "metadata": {
    "execution": {
     "iopub.execute_input": "2024-10-31T09:09:14.734931Z",
     "iopub.status.busy": "2024-10-31T09:09:14.734931Z",
     "iopub.status.idle": "2024-10-31T09:09:14.746167Z",
     "shell.execute_reply": "2024-10-31T09:09:14.745157Z"
    }
   },
   "outputs": [],
   "source": [
    "# Filter for Last 13-24 Months (Prior 12 Months)\n",
    "df_prior_12_months = qa_reason_df[qa_reason_df['Period'] == 'Last 13-24 Months']\n",
    "reason_counts = df_prior_12_months.groupby('Reason').size()\n",
    "proportion = round((reason_counts / reason_counts.sum() * 100), 1)\n",
    "\n",
    "data_response_reason_dist = {\n",
    "    'labels': reason_counts.index.tolist(),\n",
    "    'data': proportion.tolist()\n",
    "}\n",
    "\n",
    "with open('../public/analytics/financial/quotation/response-reason-dist-last-twentyfour-month.json', 'w') as file:\n",
    "    json.dump(data_response_reason_dist, file, indent=4)"
   ]
  },
  {
   "cell_type": "markdown",
   "metadata": {},
   "source": [
    "### Customer Analytics\n"
   ]
  },
  {
   "cell_type": "markdown",
   "metadata": {},
   "source": [
    "#### Customer Satisfaction Rating Distribution"
   ]
  },
  {
   "cell_type": "code",
   "execution_count": 62,
   "metadata": {
    "execution": {
     "iopub.execute_input": "2024-10-31T09:09:14.750166Z",
     "iopub.status.busy": "2024-10-31T09:09:14.750166Z",
     "iopub.status.idle": "2024-10-31T09:09:14.771318Z",
     "shell.execute_reply": "2024-10-31T09:09:14.770135Z"
    }
   },
   "outputs": [],
   "source": [
    "ca_rating_df = pd.read_csv('./datasets/ca_rating.csv')"
   ]
  },
  {
   "cell_type": "code",
   "execution_count": 63,
   "metadata": {
    "execution": {
     "iopub.execute_input": "2024-10-31T09:09:14.776338Z",
     "iopub.status.busy": "2024-10-31T09:09:14.776338Z",
     "iopub.status.idle": "2024-10-31T09:09:14.781124Z",
     "shell.execute_reply": "2024-10-31T09:09:14.781124Z"
    }
   },
   "outputs": [],
   "source": [
    "rating_types = [5, 4, 3, 2, 1]\n",
    "rating_count = ca_rating_df['Rating'].value_counts().reindex(rating_types, fill_value=0)"
   ]
  },
  {
   "cell_type": "code",
   "execution_count": 64,
   "metadata": {
    "execution": {
     "iopub.execute_input": "2024-10-31T09:09:14.786134Z",
     "iopub.status.busy": "2024-10-31T09:09:14.786134Z",
     "iopub.status.idle": "2024-10-31T09:09:14.790978Z",
     "shell.execute_reply": "2024-10-31T09:09:14.790978Z"
    }
   },
   "outputs": [],
   "source": [
    "data_customer_rating_dist = {\n",
    "    'labels': rating_types,\n",
    "    'data': rating_count.tolist()\n",
    "}\n",
    "\n",
    "with open('../public/analytics/customer/customer-rating-dist.json', 'w') as file:\n",
    "    json.dump(data_customer_rating_dist, file, indent=4)"
   ]
  },
  {
   "cell_type": "code",
   "execution_count": 65,
   "metadata": {
    "execution": {
     "iopub.execute_input": "2024-10-31T09:09:14.795988Z",
     "iopub.status.busy": "2024-10-31T09:09:14.794987Z",
     "iopub.status.idle": "2024-10-31T09:09:14.879585Z",
     "shell.execute_reply": "2024-10-31T09:09:14.879585Z"
    }
   },
   "outputs": [
    {
     "name": "stdout",
     "output_type": "stream",
     "text": [
      "    Rating                                             Review\n",
      "0        3  Very polite and apologetic. Appreciated.Would ...\n",
      "1        3      This customer left a review without a comment\n",
      "2        4  Appreciate the fuss free service and professio...\n",
      "3        4  My toilet switch gave off sparks, so was glad ...\n",
      "4        4  installation prices were reasonable. service w...\n",
      "5        4      This customer left a review without a comment\n",
      "6        5  Great team of men made up of Omar, Hossain and...\n",
      "7        5  I was very pleased with the service provided. ...\n",
      "8        5  Offers a very prompt and comprehensive set of ...\n",
      "9        5  I engaged Repair.sg to install a ceiling light...\n",
      "10       5  The technician came and fix my wall socket and...\n",
      "11       5  Fast and responsive. Price is reasonable and m...\n",
      "12       5  Great job to the team for replacing my bathroo...\n",
      "13       5  These guys do a great job every single time. T...\n",
      "14       5  I changed two light fixtures in my home. The t...\n",
      "15       5  Great service, professional and really helpful...\n"
     ]
    }
   ],
   "source": [
    "## Prepare Latest 10 Response Per Rating\n",
    "rating_grouped_df = ca_rating_df.groupby('Rating').apply(lambda x: x.head(10) if len(x) >= 10 else x).reset_index(drop=True)\n",
    "print(rating_grouped_df)"
   ]
  },
  {
   "cell_type": "code",
   "execution_count": 66,
   "metadata": {
    "execution": {
     "iopub.execute_input": "2024-10-31T09:09:14.883603Z",
     "iopub.status.busy": "2024-10-31T09:09:14.883603Z",
     "iopub.status.idle": "2024-10-31T09:09:14.892317Z",
     "shell.execute_reply": "2024-10-31T09:09:14.891302Z"
    }
   },
   "outputs": [],
   "source": [
    "data_customer_rating_review = {\n",
    "    'labels': rating_grouped_df['Rating'].tolist(),\n",
    "    'data': rating_grouped_df['Review'].tolist()\n",
    "}\n",
    "\n",
    "with open('../public/analytics/customer/customer-rating-review.json', 'w') as file:\n",
    "    json.dump(data_customer_rating_review, file, indent=4)"
   ]
  },
  {
   "cell_type": "markdown",
   "metadata": {},
   "source": [
    "#### Customer Acquisition & Churn Forecasting"
   ]
  },
  {
   "cell_type": "code",
   "execution_count": 67,
   "metadata": {
    "execution": {
     "iopub.execute_input": "2024-10-31T09:09:14.896321Z",
     "iopub.status.busy": "2024-10-31T09:09:14.896321Z",
     "iopub.status.idle": "2024-10-31T09:09:14.927859Z",
     "shell.execute_reply": "2024-10-31T09:09:14.926850Z"
    }
   },
   "outputs": [],
   "source": [
    "ca_customer_df = pd.read_csv('./datasets/ca_customer.csv')\n",
    "ca_customer_df['date'] = pd.to_datetime(ca_customer_df ['date'])"
   ]
  },
  {
   "cell_type": "markdown",
   "metadata": {},
   "source": [
    "##### Acquisition"
   ]
  },
  {
   "cell_type": "code",
   "execution_count": 68,
   "metadata": {
    "execution": {
     "iopub.execute_input": "2024-10-31T09:09:14.931863Z",
     "iopub.status.busy": "2024-10-31T09:09:14.931863Z",
     "iopub.status.idle": "2024-10-31T09:09:14.943252Z",
     "shell.execute_reply": "2024-10-31T09:09:14.943252Z"
    }
   },
   "outputs": [],
   "source": [
    "# Drop Repeated Customer, Keep Only First Occurrence\n",
    "cust_acquisition_df = ca_customer_df.drop_duplicates(subset='customer_id', keep='first')\n",
    "cust_acquisition_df['year'] = cust_acquisition_df['date'].dt.year\n",
    "cust_acquisition_df['month'] = cust_acquisition_df['date'].dt.month"
   ]
  },
  {
   "cell_type": "code",
   "execution_count": 69,
   "metadata": {
    "execution": {
     "iopub.execute_input": "2024-10-31T09:09:14.946257Z",
     "iopub.status.busy": "2024-10-31T09:09:14.946257Z",
     "iopub.status.idle": "2024-10-31T09:09:14.953878Z",
     "shell.execute_reply": "2024-10-31T09:09:14.952867Z"
    }
   },
   "outputs": [
    {
     "name": "stdout",
     "output_type": "stream",
     "text": [
      "    year  month  total_customers\n",
      "0   2023      1              206\n",
      "1   2023      2              193\n",
      "2   2023      3              207\n",
      "3   2023      4              162\n",
      "4   2023      5              186\n",
      "5   2023      6              188\n",
      "6   2023      7              198\n",
      "7   2023      8              204\n",
      "8   2023      9              183\n",
      "9   2023     10              190\n",
      "10  2023     11              228\n",
      "11  2023     12              243\n",
      "12  2024      1              297\n",
      "13  2024      2              220\n",
      "14  2024      3              235\n",
      "15  2024      4              212\n",
      "16  2024      5              245\n",
      "17  2024      6              243\n",
      "18  2024      7              250\n",
      "19  2024      8              227\n",
      "20  2024      9              223\n"
     ]
    }
   ],
   "source": [
    "cust_counts = cust_acquisition_df.groupby(['year', 'month']).size().reset_index(name='total_customers')\n",
    "print(cust_counts)"
   ]
  },
  {
   "cell_type": "code",
   "execution_count": 70,
   "metadata": {
    "execution": {
     "iopub.execute_input": "2024-10-31T09:09:14.957874Z",
     "iopub.status.busy": "2024-10-31T09:09:14.956875Z",
     "iopub.status.idle": "2024-10-31T09:09:14.961617Z",
     "shell.execute_reply": "2024-10-31T09:09:14.961617Z"
    }
   },
   "outputs": [],
   "source": [
    "def forecast_acquisition(df, forecast_horizon):\n",
    "    model = ExponentialSmoothing(df['acquisition'], trend='add', seasonal_periods=None)\n",
    "    model_fit = model.fit()\n",
    "    forecast = model_fit.forecast(forecast_horizon)\n",
    "    return forecast"
   ]
  },
  {
   "cell_type": "code",
   "execution_count": 71,
   "metadata": {
    "execution": {
     "iopub.execute_input": "2024-10-31T09:09:14.964729Z",
     "iopub.status.busy": "2024-10-31T09:09:14.963627Z",
     "iopub.status.idle": "2024-10-31T09:09:15.006775Z",
     "shell.execute_reply": "2024-10-31T09:09:15.006775Z"
    }
   },
   "outputs": [],
   "source": [
    "# Customer\n",
    "historical_data = {\n",
    "    'date': pd.date_range(start=datetime(2023, 1, 1), end=datetime(2024, 10, 1), freq='M'),\n",
    "    'acquisition': cust_counts['total_customers'].tolist()\n",
    "}\n",
    "customer_df = pd.DataFrame(historical_data)\n",
    "customer_df.set_index('date', inplace=True)\n",
    "\n",
    "forecast_months = 3\n",
    "\n",
    "# Monthly\n",
    "historical_acquisition = customer_df['acquisition'][-12:]\n",
    "monthly_forecast = np.ceil(forecast_acquisition(customer_df, forecast_horizon=forecast_months)).astype(int)\n",
    "combined_acquisition_forecast = np.concatenate((historical_acquisition, monthly_forecast))\n",
    "\n",
    "historical_labels = [historical_acquisition.index[i].strftime(\"%Y-%m\") for i in range(len(historical_acquisition))]\n",
    "forecasted_labels = [(monthly_forecast.index[i].strftime(\"%Y-%m\")) for i in range(len(monthly_forecast))]\n",
    "combined_labels = historical_labels + forecasted_labels\n",
    "\n",
    "data_customer_acquisition_forecast_monthly = {\n",
    "    'labels': combined_labels,\n",
    "    'data': combined_acquisition_forecast.tolist()\n",
    "}\n",
    "\n",
    "with open('../public/analytics/customer/customer-acquisition-forecast-month.json', 'w') as file:\n",
    "    json.dump(data_customer_acquisition_forecast_monthly, file, indent=4) \n",
    "\n",
    "# Quarterly \n",
    "df_quarterly = customer_df.resample('Q').sum()\n",
    "historical_acquisition = np.ceil(df_quarterly['acquisition'][-6:]).astype(int)\n",
    "quarterly_forecast = np.ceil(forecast_acquisition(df_quarterly, forecast_horizon=forecast_months // 3)).astype(int)\n",
    "combined_acquisition_forecast = np.concatenate((historical_acquisition, quarterly_forecast))\n",
    "\n",
    "historical_labels = [historical_acquisition.index[i].strftime(\"%Y-%m\") for i in range(len(historical_acquisition))]\n",
    "forecasted_labels = [(quarterly_forecast.index[i].strftime(\"%Y-%m\")) for i in range(len(quarterly_forecast))]\n",
    "combined_labels = historical_labels + forecasted_labels\n",
    "\n",
    "data_customer_acquisition_forecast_quarterly = {\n",
    "    'labels': combined_labels,\n",
    "    'data': combined_acquisition_forecast.tolist()\n",
    "}\n",
    "\n",
    "with open('../public/analytics/customer/customer-acquisition-forecast-quarter.json', 'w') as file:\n",
    "    json.dump(data_customer_acquisition_forecast_quarterly, file, indent=4) \n"
   ]
  },
  {
   "cell_type": "markdown",
   "metadata": {},
   "source": [
    "##### Churn"
   ]
  },
  {
   "cell_type": "markdown",
   "metadata": {},
   "source": [
    "We Take Inactivity Period = 6-12 Months to be considered as attrited i.e. 9 Months"
   ]
  },
  {
   "cell_type": "code",
   "execution_count": 72,
   "metadata": {
    "execution": {
     "iopub.execute_input": "2024-10-31T09:09:15.009804Z",
     "iopub.status.busy": "2024-10-31T09:09:15.009804Z",
     "iopub.status.idle": "2024-10-31T09:09:21.013640Z",
     "shell.execute_reply": "2024-10-31T09:09:21.012655Z"
    }
   },
   "outputs": [],
   "source": [
    "# Create a mask for customer interactions within the last 9 months\n",
    "ca_customer_df['churned'] = False\n",
    "for customer in ca_customer_df['customer_id'].unique():\n",
    "    customer_dates = ca_customer_df[ca_customer_df['customer_id'] == customer]['date']\n",
    "    for date in customer_dates:\n",
    "        recent_interactions = customer_dates[(customer_dates >= date - pd.DateOffset(months=9)) & \n",
    "                                             (customer_dates < date)]\n",
    "        if len(recent_interactions) > 0:\n",
    "            ca_customer_df.loc[ca_customer_df['customer_id'] == customer, 'churned'] = True\n",
    "            break\n",
    "\n",
    "# Filter out customers who have repeated interactions within 9 months\n",
    "cust_churn_df = ca_customer_df[~ca_customer_df['churned']]\n",
    "cust_churn_df = cust_churn_df.drop(columns=['churned'])"
   ]
  },
  {
   "cell_type": "code",
   "execution_count": 73,
   "metadata": {
    "execution": {
     "iopub.execute_input": "2024-10-31T09:09:21.016653Z",
     "iopub.status.busy": "2024-10-31T09:09:21.016653Z",
     "iopub.status.idle": "2024-10-31T09:09:21.025369Z",
     "shell.execute_reply": "2024-10-31T09:09:21.024360Z"
    }
   },
   "outputs": [],
   "source": [
    "# Group by Month\n",
    "cust_churn_df['date'] = cust_churn_df['date'] + pd.DateOffset(months=9)\n",
    "cust_churn_df['year'] = cust_churn_df['date'].dt.year\n",
    "cust_churn_df['month'] = cust_churn_df['date'].dt.month\n",
    "cust_counts = cust_churn_df.groupby(['year', 'month']).size().reset_index(name='total_customers')"
   ]
  },
  {
   "cell_type": "code",
   "execution_count": null,
   "metadata": {
    "execution": {
     "iopub.execute_input": "2024-10-31T09:09:21.028376Z",
     "iopub.status.busy": "2024-10-31T09:09:21.027374Z",
     "iopub.status.idle": "2024-10-31T09:09:21.036530Z",
     "shell.execute_reply": "2024-10-31T09:09:21.035522Z"
    }
   },
   "outputs": [],
   "source": [
    "cust_counts['date'] = pd.to_datetime(cust_counts[['year', 'month']].assign(day=1))"
   ]
  },
  {
   "cell_type": "code",
   "execution_count": null,
   "metadata": {
    "execution": {
     "iopub.execute_input": "2024-10-31T09:09:21.039535Z",
     "iopub.status.busy": "2024-10-31T09:09:21.039535Z",
     "iopub.status.idle": "2024-10-31T09:09:21.047244Z",
     "shell.execute_reply": "2024-10-31T09:09:21.046757Z"
    }
   },
   "outputs": [],
   "source": [
    "## Monthly\n",
    "cust_counts_monthly_df = cust_counts[cust_counts['date'] <= '2024-12-01']\n",
    "labels_monthly = cust_counts_monthly_df['date'].dt.strftime('%Y-%m').tolist()\n",
    "\n",
    "data_customer_churn_forecast_monthly = {\n",
    "    'labels': labels_monthly,\n",
    "    'data': cust_counts_monthly_df['total_customers'].tolist()\n",
    "}\n",
    "\n",
    "with open('../public/analytics/customer/customer-churn-forecast-month.json', 'w') as file:\n",
    "    json.dump(data_customer_churn_forecast_monthly, file, indent=4) "
   ]
  },
  {
   "cell_type": "code",
   "execution_count": 76,
   "metadata": {
    "execution": {
     "iopub.execute_input": "2024-10-31T09:09:21.050291Z",
     "iopub.status.busy": "2024-10-31T09:09:21.050291Z",
     "iopub.status.idle": "2024-10-31T09:09:21.059356Z",
     "shell.execute_reply": "2024-10-31T09:09:21.059356Z"
    }
   },
   "outputs": [],
   "source": [
    "## Quarterly\n",
    "cust_counts_quarterly_df = cust_counts_monthly_df.resample('Q', on='date').sum().reset_index()\n",
    "labels_quarterly = cust_counts_quarterly_df['date'].dt.strftime('%Y-%m').tolist()\n",
    "\n",
    "data_customer_churn_forecast_quarterly = {\n",
    "    'labels': labels_quarterly,\n",
    "    'data': cust_counts_quarterly_df['total_customers'].tolist()\n",
    "}\n",
    "\n",
    "with open('../public/analytics/customer/customer-churn-forecast-quarter.json', 'w') as file:\n",
    "    json.dump(data_customer_churn_forecast_quarterly, file, indent=4) "
   ]
  },
  {
   "cell_type": "markdown",
   "metadata": {},
   "source": [
    "##### Churn Rate"
   ]
  },
  {
   "cell_type": "code",
   "execution_count": 77,
   "metadata": {
    "execution": {
     "iopub.execute_input": "2024-10-31T09:09:21.062821Z",
     "iopub.status.busy": "2024-10-31T09:09:21.062821Z",
     "iopub.status.idle": "2024-10-31T09:09:21.066575Z",
     "shell.execute_reply": "2024-10-31T09:09:21.066575Z"
    }
   },
   "outputs": [],
   "source": [
    "## Churn Rate\n",
    "current_date = pd.Timestamp('2024-10-01')\n",
    "last_one_months_start = current_date - pd.DateOffset(months=1)\n",
    "last_three_months_start = current_date - pd.DateOffset(months=3)"
   ]
  },
  {
   "cell_type": "code",
   "execution_count": 78,
   "metadata": {
    "execution": {
     "iopub.execute_input": "2024-10-31T09:09:21.070099Z",
     "iopub.status.busy": "2024-10-31T09:09:21.070099Z",
     "iopub.status.idle": "2024-10-31T09:09:21.075817Z",
     "shell.execute_reply": "2024-10-31T09:09:21.075817Z"
    }
   },
   "outputs": [],
   "source": [
    "# Latest Month\n",
    "acquisition_month_df = customer_df[customer_df.index < last_one_months_start]\n",
    "total_cust_month = acquisition_month_df['acquisition'].sum()\n",
    "churn_month_df = cust_counts_monthly_df[cust_counts_monthly_df['date'] < last_one_months_start]\n",
    "total_churn_month = churn_month_df['total_customers'].sum()\n",
    "total_active_month = total_cust_month - total_churn_month\n",
    "current_churn_month = cust_counts_monthly_df[(cust_counts_monthly_df['date'] >= last_one_months_start) & (cust_counts_monthly_df['date'] < current_date)]['total_customers'].iloc[-1]\n",
    "churn_rate_month = round(current_churn_month / total_active_month * 100, 2)\n"
   ]
  },
  {
   "cell_type": "code",
   "execution_count": 79,
   "metadata": {
    "execution": {
     "iopub.execute_input": "2024-10-31T09:09:21.078839Z",
     "iopub.status.busy": "2024-10-31T09:09:21.078839Z",
     "iopub.status.idle": "2024-10-31T09:09:21.086279Z",
     "shell.execute_reply": "2024-10-31T09:09:21.085268Z"
    }
   },
   "outputs": [],
   "source": [
    "# Latest Quarter\n",
    "acquisition_quarter_df = customer_df[customer_df.index < last_three_months_start]\n",
    "total_cust_quarter = acquisition_quarter_df['acquisition'].sum()\n",
    "churn_quarter_df = cust_counts_quarterly_df[cust_counts_quarterly_df['date'] < last_three_months_start]\n",
    "total_churn_quarter = churn_quarter_df['total_customers'].sum()\n",
    "total_active_quarter = total_cust_quarter - total_churn_quarter\n",
    "current_churn_quarter = cust_counts_quarterly_df[(cust_counts_quarterly_df['date'] >= last_three_months_start) & (cust_counts_quarterly_df['date'] < current_date)]['total_customers'].iloc[-1]\n",
    "churn_rate_quarter = round(current_churn_quarter / total_active_quarter * 100, 2)\n"
   ]
  },
  {
   "cell_type": "code",
   "execution_count": 80,
   "metadata": {
    "execution": {
     "iopub.execute_input": "2024-10-31T09:09:21.089274Z",
     "iopub.status.busy": "2024-10-31T09:09:21.089274Z",
     "iopub.status.idle": "2024-10-31T09:09:21.094088Z",
     "shell.execute_reply": "2024-10-31T09:09:21.094088Z"
    }
   },
   "outputs": [],
   "source": [
    "data_customer_churn_rate = {\n",
    "    \"monthly\": {\n",
    "        \"total_active_month\": int(total_active_month),\n",
    "        \"current_churn_month\": int(current_churn_month),\n",
    "        \"churn_rate_month\": float(churn_rate_month)\n",
    "    },\n",
    "    \"quarterly\": {\n",
    "        \"total_active_quarter\": int(total_active_quarter),\n",
    "        \"current_churn_quarter\": int(current_churn_quarter),\n",
    "        \"churn_rate_quarter\": float(churn_rate_quarter)\n",
    "    }\n",
    "}\n",
    "\n",
    "with open('../public/analytics/customer/customer-churn-rate.json', 'w') as file:\n",
    "    json.dump(data_customer_churn_rate, file, indent=4) "
   ]
  },
  {
   "cell_type": "markdown",
   "metadata": {},
   "source": [
    "### Customer Map"
   ]
  },
  {
   "cell_type": "markdown",
   "metadata": {},
   "source": [
    "Only A Small Subset Of Data Is Shown Due To Privacy Concerns"
   ]
  },
  {
   "cell_type": "code",
   "execution_count": 81,
   "metadata": {
    "execution": {
     "iopub.execute_input": "2024-10-31T09:09:21.097095Z",
     "iopub.status.busy": "2024-10-31T09:09:21.097095Z",
     "iopub.status.idle": "2024-10-31T09:09:21.103338Z",
     "shell.execute_reply": "2024-10-31T09:09:21.102413Z"
    }
   },
   "outputs": [],
   "source": [
    "ca_address_df = pd.read_csv('./datasets/ca_address.csv')"
   ]
  },
  {
   "cell_type": "code",
   "execution_count": 82,
   "metadata": {
    "execution": {
     "iopub.execute_input": "2024-10-31T09:09:21.105531Z",
     "iopub.status.busy": "2024-10-31T09:09:21.105531Z",
     "iopub.status.idle": "2024-10-31T09:09:21.119948Z",
     "shell.execute_reply": "2024-10-31T09:09:21.118942Z"
    }
   },
   "outputs": [],
   "source": [
    "# Build Map\n",
    "latitude = 1.3521\n",
    "longitude = 103.8198\n",
    "sg_map = folium.Map(location = [latitude, longitude], zoom_start = 12)\n",
    "\n",
    "# Repair.sg\n",
    "popup_content_repairsg = f\"Repair.sg<br>229 Mountbatten Rd<br>#01-01 Mountbatten Square<br>Singapore 398007\"\n",
    "folium.Marker(location = [1.3032, 103.8841], \n",
    "              icon = folium.Icon(color = 'red', prefix = \"fa\", icon = \"house\"), \n",
    "              tooltip = \"Repair.sg\",\n",
    "              popup = folium.Popup(popup_content_repairsg, max_width=500)).add_to(sg_map)\n",
    "\n",
    "color_mapping = {\n",
    "    'Loyal': 'green',\n",
    "    'Recurring': 'blue',\n",
    "    'New': 'orange',\n",
    "}\n",
    "\n",
    "icon_mapping = {\n",
    "    'Loyal': 'star',\n",
    "    'Recurring': 'heart',\n",
    "    'New': 'plus',\n",
    "}\n",
    "\n",
    "tooltip_mapping = {\n",
    "    'Loyal': 'Loyal Customer (> 5 Bookings)',\n",
    "    'Recurring': 'Recurring Customer (2 <= Bookings <= 5)',\n",
    "    'New': 'New Customer (= 1 Booking)',\n",
    "}\n",
    "\n",
    "# Add Customer Markers\n",
    "for _, row in ca_address_df.iterrows():\n",
    "    marker_color = color_mapping[row['type']]\n",
    "    marker_icon = icon_mapping[row['type']]\n",
    "    tooltip = tooltip_mapping[row['type']]\n",
    "    \n",
    "    folium.Marker(\n",
    "        location=[row['latitude'], row['longitude']],\n",
    "        icon=folium.Icon(color=marker_color, icon=marker_icon, prefix='fa'),\n",
    "        tooltip=tooltip,\n",
    "        popup=folium.Popup(f\"Number of Bookings: {row['bookings']}<br>Address: {row['address']}<br>Postal: {row['postal']}\", max_width=500)\n",
    "    ).add_to(sg_map)"
   ]
  },
  {
   "cell_type": "code",
   "execution_count": null,
   "metadata": {
    "execution": {
     "iopub.execute_input": "2024-10-31T09:09:21.122137Z",
     "iopub.status.busy": "2024-10-31T09:09:21.122137Z",
     "iopub.status.idle": "2024-10-31T09:09:21.169740Z",
     "shell.execute_reply": "2024-10-31T09:09:21.168733Z"
    }
   },
   "outputs": [
    {
     "data": {
      "text/html": [
       "<div style=\"width:100%;\"><div style=\"position:relative;width:100%;height:0;padding-bottom:60%;\"><span style=\"color:#565656\">Make this Notebook Trusted to load map: File -> Trust Notebook</span><iframe srcdoc=\"&lt;!DOCTYPE html&gt;\n",
       "&lt;html&gt;\n",
       "&lt;head&gt;\n",
       "    \n",
       "    &lt;meta http-equiv=&quot;content-type&quot; content=&quot;text/html; charset=UTF-8&quot; /&gt;\n",
       "    \n",
       "        &lt;script&gt;\n",
       "            L_NO_TOUCH = false;\n",
       "            L_DISABLE_3D = false;\n",
       "        &lt;/script&gt;\n",
       "    \n",
       "    &lt;style&gt;html, body {width: 100%;height: 100%;margin: 0;padding: 0;}&lt;/style&gt;\n",
       "    &lt;style&gt;#map {position:absolute;top:0;bottom:0;right:0;left:0;}&lt;/style&gt;\n",
       "    &lt;script src=&quot;https://cdn.jsdelivr.net/npm/leaflet@1.9.3/dist/leaflet.js&quot;&gt;&lt;/script&gt;\n",
       "    &lt;script src=&quot;https://code.jquery.com/jquery-3.7.1.min.js&quot;&gt;&lt;/script&gt;\n",
       "    &lt;script src=&quot;https://cdn.jsdelivr.net/npm/bootstrap@5.2.2/dist/js/bootstrap.bundle.min.js&quot;&gt;&lt;/script&gt;\n",
       "    &lt;script src=&quot;https://cdnjs.cloudflare.com/ajax/libs/Leaflet.awesome-markers/2.0.2/leaflet.awesome-markers.js&quot;&gt;&lt;/script&gt;\n",
       "    &lt;link rel=&quot;stylesheet&quot; href=&quot;https://cdn.jsdelivr.net/npm/leaflet@1.9.3/dist/leaflet.css&quot;/&gt;\n",
       "    &lt;link rel=&quot;stylesheet&quot; href=&quot;https://cdn.jsdelivr.net/npm/bootstrap@5.2.2/dist/css/bootstrap.min.css&quot;/&gt;\n",
       "    &lt;link rel=&quot;stylesheet&quot; href=&quot;https://netdna.bootstrapcdn.com/bootstrap/3.0.0/css/bootstrap-glyphicons.css&quot;/&gt;\n",
       "    &lt;link rel=&quot;stylesheet&quot; href=&quot;https://cdn.jsdelivr.net/npm/@fortawesome/fontawesome-free@6.2.0/css/all.min.css&quot;/&gt;\n",
       "    &lt;link rel=&quot;stylesheet&quot; href=&quot;https://cdnjs.cloudflare.com/ajax/libs/Leaflet.awesome-markers/2.0.2/leaflet.awesome-markers.css&quot;/&gt;\n",
       "    &lt;link rel=&quot;stylesheet&quot; href=&quot;https://cdn.jsdelivr.net/gh/python-visualization/folium/folium/templates/leaflet.awesome.rotate.min.css&quot;/&gt;\n",
       "    \n",
       "            &lt;meta name=&quot;viewport&quot; content=&quot;width=device-width,\n",
       "                initial-scale=1.0, maximum-scale=1.0, user-scalable=no&quot; /&gt;\n",
       "            &lt;style&gt;\n",
       "                #map_298e9d54ec34343bd49833b17aab84ba {\n",
       "                    position: relative;\n",
       "                    width: 100.0%;\n",
       "                    height: 100.0%;\n",
       "                    left: 0.0%;\n",
       "                    top: 0.0%;\n",
       "                }\n",
       "                .leaflet-container { font-size: 1rem; }\n",
       "            &lt;/style&gt;\n",
       "        \n",
       "&lt;/head&gt;\n",
       "&lt;body&gt;\n",
       "    \n",
       "    \n",
       "            &lt;div class=&quot;folium-map&quot; id=&quot;map_298e9d54ec34343bd49833b17aab84ba&quot; &gt;&lt;/div&gt;\n",
       "        \n",
       "&lt;/body&gt;\n",
       "&lt;script&gt;\n",
       "    \n",
       "    \n",
       "            var map_298e9d54ec34343bd49833b17aab84ba = L.map(\n",
       "                &quot;map_298e9d54ec34343bd49833b17aab84ba&quot;,\n",
       "                {\n",
       "                    center: [1.3521, 103.8198],\n",
       "                    crs: L.CRS.EPSG3857,\n",
       "                    zoom: 12,\n",
       "                    zoomControl: true,\n",
       "                    preferCanvas: false,\n",
       "                }\n",
       "            );\n",
       "\n",
       "            \n",
       "\n",
       "        \n",
       "    \n",
       "            var tile_layer_98c89a93cfd680101a4ed04ddc94bf92 = L.tileLayer(\n",
       "                &quot;https://tile.openstreetmap.org/{z}/{x}/{y}.png&quot;,\n",
       "                {&quot;attribution&quot;: &quot;\\u0026copy; \\u003ca href=\\&quot;https://www.openstreetmap.org/copyright\\&quot;\\u003eOpenStreetMap\\u003c/a\\u003e contributors&quot;, &quot;detectRetina&quot;: false, &quot;maxNativeZoom&quot;: 19, &quot;maxZoom&quot;: 19, &quot;minZoom&quot;: 0, &quot;noWrap&quot;: false, &quot;opacity&quot;: 1, &quot;subdomains&quot;: &quot;abc&quot;, &quot;tms&quot;: false}\n",
       "            );\n",
       "        \n",
       "    \n",
       "            tile_layer_98c89a93cfd680101a4ed04ddc94bf92.addTo(map_298e9d54ec34343bd49833b17aab84ba);\n",
       "        \n",
       "    \n",
       "            var marker_5feb6abbb70c119ad11546109d3622a7 = L.marker(\n",
       "                [1.3032, 103.8841],\n",
       "                {}\n",
       "            ).addTo(map_298e9d54ec34343bd49833b17aab84ba);\n",
       "        \n",
       "    \n",
       "            var icon_83ef165b36bc05ba0fb024a38bed53a2 = L.AwesomeMarkers.icon(\n",
       "                {&quot;extraClasses&quot;: &quot;fa-rotate-0&quot;, &quot;icon&quot;: &quot;house&quot;, &quot;iconColor&quot;: &quot;white&quot;, &quot;markerColor&quot;: &quot;red&quot;, &quot;prefix&quot;: &quot;fa&quot;}\n",
       "            );\n",
       "            marker_5feb6abbb70c119ad11546109d3622a7.setIcon(icon_83ef165b36bc05ba0fb024a38bed53a2);\n",
       "        \n",
       "    \n",
       "        var popup_4e73adae2e8c9771ae77825da49a40c4 = L.popup({&quot;maxWidth&quot;: 500});\n",
       "\n",
       "        \n",
       "            \n",
       "                var html_2005ac436713463d3e0fe276a9e2184c = $(`&lt;div id=&quot;html_2005ac436713463d3e0fe276a9e2184c&quot; style=&quot;width: 100.0%; height: 100.0%;&quot;&gt;Repair.sg&lt;br&gt;229 Mountbatten Rd&lt;br&gt;#01-01 Mountbatten Square&lt;br&gt;Singapore 398007&lt;/div&gt;`)[0];\n",
       "                popup_4e73adae2e8c9771ae77825da49a40c4.setContent(html_2005ac436713463d3e0fe276a9e2184c);\n",
       "            \n",
       "        \n",
       "\n",
       "        marker_5feb6abbb70c119ad11546109d3622a7.bindPopup(popup_4e73adae2e8c9771ae77825da49a40c4)\n",
       "        ;\n",
       "\n",
       "        \n",
       "    \n",
       "    \n",
       "            marker_5feb6abbb70c119ad11546109d3622a7.bindTooltip(\n",
       "                `&lt;div&gt;\n",
       "                     Repair.sg\n",
       "                 &lt;/div&gt;`,\n",
       "                {&quot;sticky&quot;: true}\n",
       "            );\n",
       "        \n",
       "    \n",
       "            var marker_2ba9fa6c41f14cf5a4b44d039a4b3e30 = L.marker(\n",
       "                [1.2803, 103.8419],\n",
       "                {}\n",
       "            ).addTo(map_298e9d54ec34343bd49833b17aab84ba);\n",
       "        \n",
       "    \n",
       "            var icon_cff7cec34a83ac6b0edfe68a2842b87a = L.AwesomeMarkers.icon(\n",
       "                {&quot;extraClasses&quot;: &quot;fa-rotate-0&quot;, &quot;icon&quot;: &quot;star&quot;, &quot;iconColor&quot;: &quot;white&quot;, &quot;markerColor&quot;: &quot;green&quot;, &quot;prefix&quot;: &quot;fa&quot;}\n",
       "            );\n",
       "            marker_2ba9fa6c41f14cf5a4b44d039a4b3e30.setIcon(icon_cff7cec34a83ac6b0edfe68a2842b87a);\n",
       "        \n",
       "    \n",
       "        var popup_d370b998cc7241d7b640c58b7b45fb66 = L.popup({&quot;maxWidth&quot;: 500});\n",
       "\n",
       "        \n",
       "            \n",
       "                var html_1a4f018ef0cf4e88053050283d0e7bba = $(`&lt;div id=&quot;html_1a4f018ef0cf4e88053050283d0e7bba&quot; style=&quot;width: 100.0%; height: 100.0%;&quot;&gt;Number of Bookings: 31&lt;br&gt;Address: 12 Teck Lim Road&lt;br&gt;Postal: 88387&lt;/div&gt;`)[0];\n",
       "                popup_d370b998cc7241d7b640c58b7b45fb66.setContent(html_1a4f018ef0cf4e88053050283d0e7bba);\n",
       "            \n",
       "        \n",
       "\n",
       "        marker_2ba9fa6c41f14cf5a4b44d039a4b3e30.bindPopup(popup_d370b998cc7241d7b640c58b7b45fb66)\n",
       "        ;\n",
       "\n",
       "        \n",
       "    \n",
       "    \n",
       "            marker_2ba9fa6c41f14cf5a4b44d039a4b3e30.bindTooltip(\n",
       "                `&lt;div&gt;\n",
       "                     Loyal Customer (&gt; 5 Bookings)\n",
       "                 &lt;/div&gt;`,\n",
       "                {&quot;sticky&quot;: true}\n",
       "            );\n",
       "        \n",
       "    \n",
       "            var marker_729b3f6050331d7112d296442772ce60 = L.marker(\n",
       "                [1.2946, 103.8597],\n",
       "                {}\n",
       "            ).addTo(map_298e9d54ec34343bd49833b17aab84ba);\n",
       "        \n",
       "    \n",
       "            var icon_40921d61722961c7085d5447b9cae8cd = L.AwesomeMarkers.icon(\n",
       "                {&quot;extraClasses&quot;: &quot;fa-rotate-0&quot;, &quot;icon&quot;: &quot;star&quot;, &quot;iconColor&quot;: &quot;white&quot;, &quot;markerColor&quot;: &quot;green&quot;, &quot;prefix&quot;: &quot;fa&quot;}\n",
       "            );\n",
       "            marker_729b3f6050331d7112d296442772ce60.setIcon(icon_40921d61722961c7085d5447b9cae8cd);\n",
       "        \n",
       "    \n",
       "        var popup_70547b30d5c9c4fd38cda292ce7a7849 = L.popup({&quot;maxWidth&quot;: 500});\n",
       "\n",
       "        \n",
       "            \n",
       "                var html_d50e54ca28f8e8661b10fcd8ab8263fa = $(`&lt;div id=&quot;html_d50e54ca28f8e8661b10fcd8ab8263fa&quot; style=&quot;width: 100.0%; height: 100.0%;&quot;&gt;Number of Bookings: 24&lt;br&gt;Address: 6 Temasek Boulevard&lt;br&gt;Postal: 38986&lt;/div&gt;`)[0];\n",
       "                popup_70547b30d5c9c4fd38cda292ce7a7849.setContent(html_d50e54ca28f8e8661b10fcd8ab8263fa);\n",
       "            \n",
       "        \n",
       "\n",
       "        marker_729b3f6050331d7112d296442772ce60.bindPopup(popup_70547b30d5c9c4fd38cda292ce7a7849)\n",
       "        ;\n",
       "\n",
       "        \n",
       "    \n",
       "    \n",
       "            marker_729b3f6050331d7112d296442772ce60.bindTooltip(\n",
       "                `&lt;div&gt;\n",
       "                     Loyal Customer (&gt; 5 Bookings)\n",
       "                 &lt;/div&gt;`,\n",
       "                {&quot;sticky&quot;: true}\n",
       "            );\n",
       "        \n",
       "    \n",
       "            var marker_8a683686279ab58fff18ba0e37d84a82 = L.marker(\n",
       "                [1.2939, 103.8424],\n",
       "                {}\n",
       "            ).addTo(map_298e9d54ec34343bd49833b17aab84ba);\n",
       "        \n",
       "    \n",
       "            var icon_be79ff3b20e451738129dfd8bfb952e4 = L.AwesomeMarkers.icon(\n",
       "                {&quot;extraClasses&quot;: &quot;fa-rotate-0&quot;, &quot;icon&quot;: &quot;star&quot;, &quot;iconColor&quot;: &quot;white&quot;, &quot;markerColor&quot;: &quot;green&quot;, &quot;prefix&quot;: &quot;fa&quot;}\n",
       "            );\n",
       "            marker_8a683686279ab58fff18ba0e37d84a82.setIcon(icon_be79ff3b20e451738129dfd8bfb952e4);\n",
       "        \n",
       "    \n",
       "        var popup_a6c0a3021bdcd599cc4f5c901b667738 = L.popup({&quot;maxWidth&quot;: 500});\n",
       "\n",
       "        \n",
       "            \n",
       "                var html_48119efae2509d3f65eca3129f521875 = $(`&lt;div id=&quot;html_48119efae2509d3f65eca3129f521875&quot; style=&quot;width: 100.0%; height: 100.0%;&quot;&gt;Number of Bookings: 18&lt;br&gt;Address: 228 River Valley Road&lt;br&gt;Postal: 238286&lt;/div&gt;`)[0];\n",
       "                popup_a6c0a3021bdcd599cc4f5c901b667738.setContent(html_48119efae2509d3f65eca3129f521875);\n",
       "            \n",
       "        \n",
       "\n",
       "        marker_8a683686279ab58fff18ba0e37d84a82.bindPopup(popup_a6c0a3021bdcd599cc4f5c901b667738)\n",
       "        ;\n",
       "\n",
       "        \n",
       "    \n",
       "    \n",
       "            marker_8a683686279ab58fff18ba0e37d84a82.bindTooltip(\n",
       "                `&lt;div&gt;\n",
       "                     Loyal Customer (&gt; 5 Bookings)\n",
       "                 &lt;/div&gt;`,\n",
       "                {&quot;sticky&quot;: true}\n",
       "            );\n",
       "        \n",
       "    \n",
       "            var marker_fdbd4db5917283ab05be9dab77ed2f79 = L.marker(\n",
       "                [1.3726, 103.8939],\n",
       "                {}\n",
       "            ).addTo(map_298e9d54ec34343bd49833b17aab84ba);\n",
       "        \n",
       "    \n",
       "            var icon_a2b23d6fa88ca41b63b105f9dd35bd04 = L.AwesomeMarkers.icon(\n",
       "                {&quot;extraClasses&quot;: &quot;fa-rotate-0&quot;, &quot;icon&quot;: &quot;star&quot;, &quot;iconColor&quot;: &quot;white&quot;, &quot;markerColor&quot;: &quot;green&quot;, &quot;prefix&quot;: &quot;fa&quot;}\n",
       "            );\n",
       "            marker_fdbd4db5917283ab05be9dab77ed2f79.setIcon(icon_a2b23d6fa88ca41b63b105f9dd35bd04);\n",
       "        \n",
       "    \n",
       "        var popup_fb4c883d4ff03d00d90dec6a26c7e19f = L.popup({&quot;maxWidth&quot;: 500});\n",
       "\n",
       "        \n",
       "            \n",
       "                var html_f946d3d48b0e2040007243040a1dd3f5 = $(`&lt;div id=&quot;html_f946d3d48b0e2040007243040a1dd3f5&quot; style=&quot;width: 100.0%; height: 100.0%;&quot;&gt;Number of Bookings: 14&lt;br&gt;Address: 90 Hougang Avenue 10&lt;br&gt;Postal: 538766&lt;/div&gt;`)[0];\n",
       "                popup_fb4c883d4ff03d00d90dec6a26c7e19f.setContent(html_f946d3d48b0e2040007243040a1dd3f5);\n",
       "            \n",
       "        \n",
       "\n",
       "        marker_fdbd4db5917283ab05be9dab77ed2f79.bindPopup(popup_fb4c883d4ff03d00d90dec6a26c7e19f)\n",
       "        ;\n",
       "\n",
       "        \n",
       "    \n",
       "    \n",
       "            marker_fdbd4db5917283ab05be9dab77ed2f79.bindTooltip(\n",
       "                `&lt;div&gt;\n",
       "                     Loyal Customer (&gt; 5 Bookings)\n",
       "                 &lt;/div&gt;`,\n",
       "                {&quot;sticky&quot;: true}\n",
       "            );\n",
       "        \n",
       "    \n",
       "            var marker_ea33e4d8d3f7bbb88449159f872eb94a = L.marker(\n",
       "                [1.2984, 103.883],\n",
       "                {}\n",
       "            ).addTo(map_298e9d54ec34343bd49833b17aab84ba);\n",
       "        \n",
       "    \n",
       "            var icon_4d0682357cba385709694bbc43418e5f = L.AwesomeMarkers.icon(\n",
       "                {&quot;extraClasses&quot;: &quot;fa-rotate-0&quot;, &quot;icon&quot;: &quot;star&quot;, &quot;iconColor&quot;: &quot;white&quot;, &quot;markerColor&quot;: &quot;green&quot;, &quot;prefix&quot;: &quot;fa&quot;}\n",
       "            );\n",
       "            marker_ea33e4d8d3f7bbb88449159f872eb94a.setIcon(icon_4d0682357cba385709694bbc43418e5f);\n",
       "        \n",
       "    \n",
       "        var popup_d55ad5845ec54c2c2a958f0bc689ccb3 = L.popup({&quot;maxWidth&quot;: 500});\n",
       "\n",
       "        \n",
       "            \n",
       "                var html_62f447924d4ad3cef4ab91093b11fc8a = $(`&lt;div id=&quot;html_62f447924d4ad3cef4ab91093b11fc8a&quot; style=&quot;width: 100.0%; height: 100.0%;&quot;&gt;Number of Bookings: 9&lt;br&gt;Address: 10 Tanjong Rhu Road&lt;br&gt;Postal: 436895&lt;/div&gt;`)[0];\n",
       "                popup_d55ad5845ec54c2c2a958f0bc689ccb3.setContent(html_62f447924d4ad3cef4ab91093b11fc8a);\n",
       "            \n",
       "        \n",
       "\n",
       "        marker_ea33e4d8d3f7bbb88449159f872eb94a.bindPopup(popup_d55ad5845ec54c2c2a958f0bc689ccb3)\n",
       "        ;\n",
       "\n",
       "        \n",
       "    \n",
       "    \n",
       "            marker_ea33e4d8d3f7bbb88449159f872eb94a.bindTooltip(\n",
       "                `&lt;div&gt;\n",
       "                     Loyal Customer (&gt; 5 Bookings)\n",
       "                 &lt;/div&gt;`,\n",
       "                {&quot;sticky&quot;: true}\n",
       "            );\n",
       "        \n",
       "    \n",
       "            var marker_6d8a87f2875311448b0c242da5db295b = L.marker(\n",
       "                [1.4504, 103.8187],\n",
       "                {}\n",
       "            ).addTo(map_298e9d54ec34343bd49833b17aab84ba);\n",
       "        \n",
       "    \n",
       "            var icon_13a48d90f30560cd049d999e9f721081 = L.AwesomeMarkers.icon(\n",
       "                {&quot;extraClasses&quot;: &quot;fa-rotate-0&quot;, &quot;icon&quot;: &quot;heart&quot;, &quot;iconColor&quot;: &quot;white&quot;, &quot;markerColor&quot;: &quot;blue&quot;, &quot;prefix&quot;: &quot;fa&quot;}\n",
       "            );\n",
       "            marker_6d8a87f2875311448b0c242da5db295b.setIcon(icon_13a48d90f30560cd049d999e9f721081);\n",
       "        \n",
       "    \n",
       "        var popup_306fd6b41d610ed641c93d09df1636c8 = L.popup({&quot;maxWidth&quot;: 500});\n",
       "\n",
       "        \n",
       "            \n",
       "                var html_5939bd3c7b6379b589afe0f69d407f88 = $(`&lt;div id=&quot;html_5939bd3c7b6379b589afe0f69d407f88&quot; style=&quot;width: 100.0%; height: 100.0%;&quot;&gt;Number of Bookings: 5&lt;br&gt;Address: 354B Admiralty Drive&lt;br&gt;Postal: 752354&lt;/div&gt;`)[0];\n",
       "                popup_306fd6b41d610ed641c93d09df1636c8.setContent(html_5939bd3c7b6379b589afe0f69d407f88);\n",
       "            \n",
       "        \n",
       "\n",
       "        marker_6d8a87f2875311448b0c242da5db295b.bindPopup(popup_306fd6b41d610ed641c93d09df1636c8)\n",
       "        ;\n",
       "\n",
       "        \n",
       "    \n",
       "    \n",
       "            marker_6d8a87f2875311448b0c242da5db295b.bindTooltip(\n",
       "                `&lt;div&gt;\n",
       "                     Recurring Customer (2 &lt;= Bookings &lt;= 5)\n",
       "                 &lt;/div&gt;`,\n",
       "                {&quot;sticky&quot;: true}\n",
       "            );\n",
       "        \n",
       "    \n",
       "            var marker_7063eee0afebbfe171b44080e6b68890 = L.marker(\n",
       "                [1.3192, 103.8853],\n",
       "                {}\n",
       "            ).addTo(map_298e9d54ec34343bd49833b17aab84ba);\n",
       "        \n",
       "    \n",
       "            var icon_1f9d5eb845611cd82933d74d9c7f99cf = L.AwesomeMarkers.icon(\n",
       "                {&quot;extraClasses&quot;: &quot;fa-rotate-0&quot;, &quot;icon&quot;: &quot;heart&quot;, &quot;iconColor&quot;: &quot;white&quot;, &quot;markerColor&quot;: &quot;blue&quot;, &quot;prefix&quot;: &quot;fa&quot;}\n",
       "            );\n",
       "            marker_7063eee0afebbfe171b44080e6b68890.setIcon(icon_1f9d5eb845611cd82933d74d9c7f99cf);\n",
       "        \n",
       "    \n",
       "        var popup_81338795bd29c6b1223f1149c348afe1 = L.popup({&quot;maxWidth&quot;: 500});\n",
       "\n",
       "        \n",
       "            \n",
       "                var html_2c12928466f1f99a681b1f05b4798963 = $(`&lt;div id=&quot;html_2c12928466f1f99a681b1f05b4798963&quot; style=&quot;width: 100.0%; height: 100.0%;&quot;&gt;Number of Bookings: 5&lt;br&gt;Address: 108 Aljunied Crescent&lt;br&gt;Postal: 380108&lt;/div&gt;`)[0];\n",
       "                popup_81338795bd29c6b1223f1149c348afe1.setContent(html_2c12928466f1f99a681b1f05b4798963);\n",
       "            \n",
       "        \n",
       "\n",
       "        marker_7063eee0afebbfe171b44080e6b68890.bindPopup(popup_81338795bd29c6b1223f1149c348afe1)\n",
       "        ;\n",
       "\n",
       "        \n",
       "    \n",
       "    \n",
       "            marker_7063eee0afebbfe171b44080e6b68890.bindTooltip(\n",
       "                `&lt;div&gt;\n",
       "                     Recurring Customer (2 &lt;= Bookings &lt;= 5)\n",
       "                 &lt;/div&gt;`,\n",
       "                {&quot;sticky&quot;: true}\n",
       "            );\n",
       "        \n",
       "    \n",
       "            var marker_1b9b489b5e77b3f372f8ce3a7b4d063e = L.marker(\n",
       "                [1.4367, 103.7962],\n",
       "                {}\n",
       "            ).addTo(map_298e9d54ec34343bd49833b17aab84ba);\n",
       "        \n",
       "    \n",
       "            var icon_915c8d8b52f8feff1363bba95f1e2c07 = L.AwesomeMarkers.icon(\n",
       "                {&quot;extraClasses&quot;: &quot;fa-rotate-0&quot;, &quot;icon&quot;: &quot;heart&quot;, &quot;iconColor&quot;: &quot;white&quot;, &quot;markerColor&quot;: &quot;blue&quot;, &quot;prefix&quot;: &quot;fa&quot;}\n",
       "            );\n",
       "            marker_1b9b489b5e77b3f372f8ce3a7b4d063e.setIcon(icon_915c8d8b52f8feff1363bba95f1e2c07);\n",
       "        \n",
       "    \n",
       "        var popup_2398d32526cae0e55634843f783cfafa = L.popup({&quot;maxWidth&quot;: 500});\n",
       "\n",
       "        \n",
       "            \n",
       "                var html_14fe151a2752d221d3e7a424365f451a = $(`&lt;div id=&quot;html_14fe151a2752d221d3e7a424365f451a&quot; style=&quot;width: 100.0%; height: 100.0%;&quot;&gt;Number of Bookings: 4&lt;br&gt;Address: 607 Woodlands Ring Road&lt;br&gt;Postal: 730607&lt;/div&gt;`)[0];\n",
       "                popup_2398d32526cae0e55634843f783cfafa.setContent(html_14fe151a2752d221d3e7a424365f451a);\n",
       "            \n",
       "        \n",
       "\n",
       "        marker_1b9b489b5e77b3f372f8ce3a7b4d063e.bindPopup(popup_2398d32526cae0e55634843f783cfafa)\n",
       "        ;\n",
       "\n",
       "        \n",
       "    \n",
       "    \n",
       "            marker_1b9b489b5e77b3f372f8ce3a7b4d063e.bindTooltip(\n",
       "                `&lt;div&gt;\n",
       "                     Recurring Customer (2 &lt;= Bookings &lt;= 5)\n",
       "                 &lt;/div&gt;`,\n",
       "                {&quot;sticky&quot;: true}\n",
       "            );\n",
       "        \n",
       "    \n",
       "            var marker_f93631fb3ec29740877f00fb769eb1c6 = L.marker(\n",
       "                [1.3193, 103.9452],\n",
       "                {}\n",
       "            ).addTo(map_298e9d54ec34343bd49833b17aab84ba);\n",
       "        \n",
       "    \n",
       "            var icon_dd5937ad46a600667ed8e06c655a29f7 = L.AwesomeMarkers.icon(\n",
       "                {&quot;extraClasses&quot;: &quot;fa-rotate-0&quot;, &quot;icon&quot;: &quot;heart&quot;, &quot;iconColor&quot;: &quot;white&quot;, &quot;markerColor&quot;: &quot;blue&quot;, &quot;prefix&quot;: &quot;fa&quot;}\n",
       "            );\n",
       "            marker_f93631fb3ec29740877f00fb769eb1c6.setIcon(icon_dd5937ad46a600667ed8e06c655a29f7);\n",
       "        \n",
       "    \n",
       "        var popup_503c2e94b98edb2f89e6851472ee9be8 = L.popup({&quot;maxWidth&quot;: 500});\n",
       "\n",
       "        \n",
       "            \n",
       "                var html_4c43a4c035f2769c8ca4ce3c6b4fe16e = $(`&lt;div id=&quot;html_4c43a4c035f2769c8ca4ce3c6b4fe16e&quot; style=&quot;width: 100.0%; height: 100.0%;&quot;&gt;Number of Bookings: 4&lt;br&gt;Address: 160 Bedok South Avenue 3&lt;br&gt;Postal: 460160&lt;/div&gt;`)[0];\n",
       "                popup_503c2e94b98edb2f89e6851472ee9be8.setContent(html_4c43a4c035f2769c8ca4ce3c6b4fe16e);\n",
       "            \n",
       "        \n",
       "\n",
       "        marker_f93631fb3ec29740877f00fb769eb1c6.bindPopup(popup_503c2e94b98edb2f89e6851472ee9be8)\n",
       "        ;\n",
       "\n",
       "        \n",
       "    \n",
       "    \n",
       "            marker_f93631fb3ec29740877f00fb769eb1c6.bindTooltip(\n",
       "                `&lt;div&gt;\n",
       "                     Recurring Customer (2 &lt;= Bookings &lt;= 5)\n",
       "                 &lt;/div&gt;`,\n",
       "                {&quot;sticky&quot;: true}\n",
       "            );\n",
       "        \n",
       "    \n",
       "            var marker_ff53bed5e5668f15f1c2c62413a91e44 = L.marker(\n",
       "                [1.38, 103.8794],\n",
       "                {}\n",
       "            ).addTo(map_298e9d54ec34343bd49833b17aab84ba);\n",
       "        \n",
       "    \n",
       "            var icon_03c1c26af1bd90dfe6450f9f3940e2ee = L.AwesomeMarkers.icon(\n",
       "                {&quot;extraClasses&quot;: &quot;fa-rotate-0&quot;, &quot;icon&quot;: &quot;heart&quot;, &quot;iconColor&quot;: &quot;white&quot;, &quot;markerColor&quot;: &quot;blue&quot;, &quot;prefix&quot;: &quot;fa&quot;}\n",
       "            );\n",
       "            marker_ff53bed5e5668f15f1c2c62413a91e44.setIcon(icon_03c1c26af1bd90dfe6450f9f3940e2ee);\n",
       "        \n",
       "    \n",
       "        var popup_2c4d5d319b77d0db36df74d7c91f9eaf = L.popup({&quot;maxWidth&quot;: 500});\n",
       "\n",
       "        \n",
       "            \n",
       "                var html_d481ec6ee9673ee09c0ce597076f1a87 = $(`&lt;div id=&quot;html_d481ec6ee9673ee09c0ce597076f1a87&quot; style=&quot;width: 100.0%; height: 100.0%;&quot;&gt;Number of Bookings: 3&lt;br&gt;Address: 978D Buangkok Crescent&lt;br&gt;Postal: 536978&lt;/div&gt;`)[0];\n",
       "                popup_2c4d5d319b77d0db36df74d7c91f9eaf.setContent(html_d481ec6ee9673ee09c0ce597076f1a87);\n",
       "            \n",
       "        \n",
       "\n",
       "        marker_ff53bed5e5668f15f1c2c62413a91e44.bindPopup(popup_2c4d5d319b77d0db36df74d7c91f9eaf)\n",
       "        ;\n",
       "\n",
       "        \n",
       "    \n",
       "    \n",
       "            marker_ff53bed5e5668f15f1c2c62413a91e44.bindTooltip(\n",
       "                `&lt;div&gt;\n",
       "                     Recurring Customer (2 &lt;= Bookings &lt;= 5)\n",
       "                 &lt;/div&gt;`,\n",
       "                {&quot;sticky&quot;: true}\n",
       "            );\n",
       "        \n",
       "    \n",
       "            var marker_5db54cc7ee81371cc12546b3b27d1404 = L.marker(\n",
       "                [1.3065, 103.7948],\n",
       "                {}\n",
       "            ).addTo(map_298e9d54ec34343bd49833b17aab84ba);\n",
       "        \n",
       "    \n",
       "            var icon_516918540682265e3d1f346bb87f0620 = L.AwesomeMarkers.icon(\n",
       "                {&quot;extraClasses&quot;: &quot;fa-rotate-0&quot;, &quot;icon&quot;: &quot;heart&quot;, &quot;iconColor&quot;: &quot;white&quot;, &quot;markerColor&quot;: &quot;blue&quot;, &quot;prefix&quot;: &quot;fa&quot;}\n",
       "            );\n",
       "            marker_5db54cc7ee81371cc12546b3b27d1404.setIcon(icon_516918540682265e3d1f346bb87f0620);\n",
       "        \n",
       "    \n",
       "        var popup_21a64836667f0fb76432511b868f7c42 = L.popup({&quot;maxWidth&quot;: 500});\n",
       "\n",
       "        \n",
       "            \n",
       "                var html_b809885b56ac4376116ca747a0526fcc = $(`&lt;div id=&quot;html_b809885b56ac4376116ca747a0526fcc&quot; style=&quot;width: 100.0%; height: 100.0%;&quot;&gt;Number of Bookings: 3&lt;br&gt;Address: 7 Commonwealth Avenue&lt;br&gt;Postal: 140007&lt;/div&gt;`)[0];\n",
       "                popup_21a64836667f0fb76432511b868f7c42.setContent(html_b809885b56ac4376116ca747a0526fcc);\n",
       "            \n",
       "        \n",
       "\n",
       "        marker_5db54cc7ee81371cc12546b3b27d1404.bindPopup(popup_21a64836667f0fb76432511b868f7c42)\n",
       "        ;\n",
       "\n",
       "        \n",
       "    \n",
       "    \n",
       "            marker_5db54cc7ee81371cc12546b3b27d1404.bindTooltip(\n",
       "                `&lt;div&gt;\n",
       "                     Recurring Customer (2 &lt;= Bookings &lt;= 5)\n",
       "                 &lt;/div&gt;`,\n",
       "                {&quot;sticky&quot;: true}\n",
       "            );\n",
       "        \n",
       "    \n",
       "            var marker_23fcdffc772a6fd0baa22d9aa4eba04b = L.marker(\n",
       "                [1.3163, 103.8485],\n",
       "                {}\n",
       "            ).addTo(map_298e9d54ec34343bd49833b17aab84ba);\n",
       "        \n",
       "    \n",
       "            var icon_e2579ecc7c527af1ebf2c4050340791e = L.AwesomeMarkers.icon(\n",
       "                {&quot;extraClasses&quot;: &quot;fa-rotate-0&quot;, &quot;icon&quot;: &quot;heart&quot;, &quot;iconColor&quot;: &quot;white&quot;, &quot;markerColor&quot;: &quot;blue&quot;, &quot;prefix&quot;: &quot;fa&quot;}\n",
       "            );\n",
       "            marker_23fcdffc772a6fd0baa22d9aa4eba04b.setIcon(icon_e2579ecc7c527af1ebf2c4050340791e);\n",
       "        \n",
       "    \n",
       "        var popup_6585df947e633ca2ee8dc471e52cd925 = L.popup({&quot;maxWidth&quot;: 500});\n",
       "\n",
       "        \n",
       "            \n",
       "                var html_00746fa961c0d60f2260dd2626211166 = $(`&lt;div id=&quot;html_00746fa961c0d60f2260dd2626211166&quot; style=&quot;width: 100.0%; height: 100.0%;&quot;&gt;Number of Bookings: 2&lt;br&gt;Address: 39 Cambridge Road&lt;br&gt;Postal: 210039&lt;/div&gt;`)[0];\n",
       "                popup_6585df947e633ca2ee8dc471e52cd925.setContent(html_00746fa961c0d60f2260dd2626211166);\n",
       "            \n",
       "        \n",
       "\n",
       "        marker_23fcdffc772a6fd0baa22d9aa4eba04b.bindPopup(popup_6585df947e633ca2ee8dc471e52cd925)\n",
       "        ;\n",
       "\n",
       "        \n",
       "    \n",
       "    \n",
       "            marker_23fcdffc772a6fd0baa22d9aa4eba04b.bindTooltip(\n",
       "                `&lt;div&gt;\n",
       "                     Recurring Customer (2 &lt;= Bookings &lt;= 5)\n",
       "                 &lt;/div&gt;`,\n",
       "                {&quot;sticky&quot;: true}\n",
       "            );\n",
       "        \n",
       "    \n",
       "            var marker_d06882df719cd4b780cef9a233423517 = L.marker(\n",
       "                [1.2739, 103.8403],\n",
       "                {}\n",
       "            ).addTo(map_298e9d54ec34343bd49833b17aab84ba);\n",
       "        \n",
       "    \n",
       "            var icon_cc51c34777c294b9ad862ca8f6a0a37d = L.AwesomeMarkers.icon(\n",
       "                {&quot;extraClasses&quot;: &quot;fa-rotate-0&quot;, &quot;icon&quot;: &quot;heart&quot;, &quot;iconColor&quot;: &quot;white&quot;, &quot;markerColor&quot;: &quot;blue&quot;, &quot;prefix&quot;: &quot;fa&quot;}\n",
       "            );\n",
       "            marker_d06882df719cd4b780cef9a233423517.setIcon(icon_cc51c34777c294b9ad862ca8f6a0a37d);\n",
       "        \n",
       "    \n",
       "        var popup_0109a0b4625c86999a6dd012ed6a28e8 = L.popup({&quot;maxWidth&quot;: 500});\n",
       "\n",
       "        \n",
       "            \n",
       "                var html_def2b71fbd1abff237991530fb74bba2 = $(`&lt;div id=&quot;html_def2b71fbd1abff237991530fb74bba2&quot; style=&quot;width: 100.0%; height: 100.0%;&quot;&gt;Number of Bookings: 2&lt;br&gt;Address: 16 Cantonment Close&lt;br&gt;Postal: 80016&lt;/div&gt;`)[0];\n",
       "                popup_0109a0b4625c86999a6dd012ed6a28e8.setContent(html_def2b71fbd1abff237991530fb74bba2);\n",
       "            \n",
       "        \n",
       "\n",
       "        marker_d06882df719cd4b780cef9a233423517.bindPopup(popup_0109a0b4625c86999a6dd012ed6a28e8)\n",
       "        ;\n",
       "\n",
       "        \n",
       "    \n",
       "    \n",
       "            marker_d06882df719cd4b780cef9a233423517.bindTooltip(\n",
       "                `&lt;div&gt;\n",
       "                     Recurring Customer (2 &lt;= Bookings &lt;= 5)\n",
       "                 &lt;/div&gt;`,\n",
       "                {&quot;sticky&quot;: true}\n",
       "            );\n",
       "        \n",
       "    \n",
       "            var marker_c3c632b40c16f9895ca28541e74e5433 = L.marker(\n",
       "                [1.2766, 103.8412],\n",
       "                {}\n",
       "            ).addTo(map_298e9d54ec34343bd49833b17aab84ba);\n",
       "        \n",
       "    \n",
       "            var icon_4eee324be32c6cbf44864ae9642865e6 = L.AwesomeMarkers.icon(\n",
       "                {&quot;extraClasses&quot;: &quot;fa-rotate-0&quot;, &quot;icon&quot;: &quot;plus&quot;, &quot;iconColor&quot;: &quot;white&quot;, &quot;markerColor&quot;: &quot;orange&quot;, &quot;prefix&quot;: &quot;fa&quot;}\n",
       "            );\n",
       "            marker_c3c632b40c16f9895ca28541e74e5433.setIcon(icon_4eee324be32c6cbf44864ae9642865e6);\n",
       "        \n",
       "    \n",
       "        var popup_a1cdafe57540a4bc6460d2063d2b2a9e = L.popup({&quot;maxWidth&quot;: 500});\n",
       "\n",
       "        \n",
       "            \n",
       "                var html_3e7f94e4948bd49630798b2ecd2e9ae7 = $(`&lt;div id=&quot;html_3e7f94e4948bd49630798b2ecd2e9ae7&quot; style=&quot;width: 100.0%; height: 100.0%;&quot;&gt;Number of Bookings: 1&lt;br&gt;Address: 1E Cantonment Road&lt;br&gt;Postal: 85501&lt;/div&gt;`)[0];\n",
       "                popup_a1cdafe57540a4bc6460d2063d2b2a9e.setContent(html_3e7f94e4948bd49630798b2ecd2e9ae7);\n",
       "            \n",
       "        \n",
       "\n",
       "        marker_c3c632b40c16f9895ca28541e74e5433.bindPopup(popup_a1cdafe57540a4bc6460d2063d2b2a9e)\n",
       "        ;\n",
       "\n",
       "        \n",
       "    \n",
       "    \n",
       "            marker_c3c632b40c16f9895ca28541e74e5433.bindTooltip(\n",
       "                `&lt;div&gt;\n",
       "                     New Customer (= 1 Booking)\n",
       "                 &lt;/div&gt;`,\n",
       "                {&quot;sticky&quot;: true}\n",
       "            );\n",
       "        \n",
       "    \n",
       "            var marker_e7ff166aace5a62f9d5162ced6a3cb0b = L.marker(\n",
       "                [1.3102, 103.8848],\n",
       "                {}\n",
       "            ).addTo(map_298e9d54ec34343bd49833b17aab84ba);\n",
       "        \n",
       "    \n",
       "            var icon_e2e9d2ee50fe4878226dbc96f501c005 = L.AwesomeMarkers.icon(\n",
       "                {&quot;extraClasses&quot;: &quot;fa-rotate-0&quot;, &quot;icon&quot;: &quot;plus&quot;, &quot;iconColor&quot;: &quot;white&quot;, &quot;markerColor&quot;: &quot;orange&quot;, &quot;prefix&quot;: &quot;fa&quot;}\n",
       "            );\n",
       "            marker_e7ff166aace5a62f9d5162ced6a3cb0b.setIcon(icon_e2e9d2ee50fe4878226dbc96f501c005);\n",
       "        \n",
       "    \n",
       "        var popup_7dcc6daf670d8e0004969c9a3f51cdfa = L.popup({&quot;maxWidth&quot;: 500});\n",
       "\n",
       "        \n",
       "            \n",
       "                var html_dc39a8122cb1b46a2e46fe952b2bcad3 = $(`&lt;div id=&quot;html_dc39a8122cb1b46a2e46fe952b2bcad3&quot; style=&quot;width: 100.0%; height: 100.0%;&quot;&gt;Number of Bookings: 1&lt;br&gt;Address: 54 Cassia Crescent&lt;br&gt;Postal: 390054&lt;/div&gt;`)[0];\n",
       "                popup_7dcc6daf670d8e0004969c9a3f51cdfa.setContent(html_dc39a8122cb1b46a2e46fe952b2bcad3);\n",
       "            \n",
       "        \n",
       "\n",
       "        marker_e7ff166aace5a62f9d5162ced6a3cb0b.bindPopup(popup_7dcc6daf670d8e0004969c9a3f51cdfa)\n",
       "        ;\n",
       "\n",
       "        \n",
       "    \n",
       "    \n",
       "            marker_e7ff166aace5a62f9d5162ced6a3cb0b.bindTooltip(\n",
       "                `&lt;div&gt;\n",
       "                     New Customer (= 1 Booking)\n",
       "                 &lt;/div&gt;`,\n",
       "                {&quot;sticky&quot;: true}\n",
       "            );\n",
       "        \n",
       "    \n",
       "            var marker_b3d25292b561f2f22299a3af179a6dd6 = L.marker(\n",
       "                [1.3743, 103.7699],\n",
       "                {}\n",
       "            ).addTo(map_298e9d54ec34343bd49833b17aab84ba);\n",
       "        \n",
       "    \n",
       "            var icon_e03475219b97fa24fd13bb8872b60a5b = L.AwesomeMarkers.icon(\n",
       "                {&quot;extraClasses&quot;: &quot;fa-rotate-0&quot;, &quot;icon&quot;: &quot;plus&quot;, &quot;iconColor&quot;: &quot;white&quot;, &quot;markerColor&quot;: &quot;orange&quot;, &quot;prefix&quot;: &quot;fa&quot;}\n",
       "            );\n",
       "            marker_b3d25292b561f2f22299a3af179a6dd6.setIcon(icon_e03475219b97fa24fd13bb8872b60a5b);\n",
       "        \n",
       "    \n",
       "        var popup_0418cea5f591600f45ba08dbd6009220 = L.popup({&quot;maxWidth&quot;: 500});\n",
       "\n",
       "        \n",
       "            \n",
       "                var html_03d3197319d0f2e6f6e98e238db7d240 = $(`&lt;div id=&quot;html_03d3197319d0f2e6f6e98e238db7d240&quot; style=&quot;width: 100.0%; height: 100.0%;&quot;&gt;Number of Bookings: 1&lt;br&gt;Address: 133 Cashew Road&lt;br&gt;Postal: 670133&lt;/div&gt;`)[0];\n",
       "                popup_0418cea5f591600f45ba08dbd6009220.setContent(html_03d3197319d0f2e6f6e98e238db7d240);\n",
       "            \n",
       "        \n",
       "\n",
       "        marker_b3d25292b561f2f22299a3af179a6dd6.bindPopup(popup_0418cea5f591600f45ba08dbd6009220)\n",
       "        ;\n",
       "\n",
       "        \n",
       "    \n",
       "    \n",
       "            marker_b3d25292b561f2f22299a3af179a6dd6.bindTooltip(\n",
       "                `&lt;div&gt;\n",
       "                     New Customer (= 1 Booking)\n",
       "                 &lt;/div&gt;`,\n",
       "                {&quot;sticky&quot;: true}\n",
       "            );\n",
       "        \n",
       "    \n",
       "            var marker_cdd8a2901ff36bab79331c16b84cf57b = L.marker(\n",
       "                [1.3094, 103.8833],\n",
       "                {}\n",
       "            ).addTo(map_298e9d54ec34343bd49833b17aab84ba);\n",
       "        \n",
       "    \n",
       "            var icon_c3fddba17f79c9df54826e05b25b3417 = L.AwesomeMarkers.icon(\n",
       "                {&quot;extraClasses&quot;: &quot;fa-rotate-0&quot;, &quot;icon&quot;: &quot;plus&quot;, &quot;iconColor&quot;: &quot;white&quot;, &quot;markerColor&quot;: &quot;orange&quot;, &quot;prefix&quot;: &quot;fa&quot;}\n",
       "            );\n",
       "            marker_cdd8a2901ff36bab79331c16b84cf57b.setIcon(icon_c3fddba17f79c9df54826e05b25b3417);\n",
       "        \n",
       "    \n",
       "        var popup_2160a5e38e39189bd3a6ef8cb46ce1ef = L.popup({&quot;maxWidth&quot;: 500});\n",
       "\n",
       "        \n",
       "            \n",
       "                var html_d4514ab84e5652624c4eb4028d1fdc04 = $(`&lt;div id=&quot;html_d4514ab84e5652624c4eb4028d1fdc04&quot; style=&quot;width: 100.0%; height: 100.0%;&quot;&gt;Number of Bookings: 1&lt;br&gt;Address: 30 Cassia Crescent&lt;br&gt;Postal: 391030&lt;/div&gt;`)[0];\n",
       "                popup_2160a5e38e39189bd3a6ef8cb46ce1ef.setContent(html_d4514ab84e5652624c4eb4028d1fdc04);\n",
       "            \n",
       "        \n",
       "\n",
       "        marker_cdd8a2901ff36bab79331c16b84cf57b.bindPopup(popup_2160a5e38e39189bd3a6ef8cb46ce1ef)\n",
       "        ;\n",
       "\n",
       "        \n",
       "    \n",
       "    \n",
       "            marker_cdd8a2901ff36bab79331c16b84cf57b.bindTooltip(\n",
       "                `&lt;div&gt;\n",
       "                     New Customer (= 1 Booking)\n",
       "                 &lt;/div&gt;`,\n",
       "                {&quot;sticky&quot;: true}\n",
       "            );\n",
       "        \n",
       "    \n",
       "            var marker_275727da2b91646c9b1e028e4e2789a5 = L.marker(\n",
       "                [1.3253, 103.9254],\n",
       "                {}\n",
       "            ).addTo(map_298e9d54ec34343bd49833b17aab84ba);\n",
       "        \n",
       "    \n",
       "            var icon_f2d9d0f0d799830f6573c911ca03b7f7 = L.AwesomeMarkers.icon(\n",
       "                {&quot;extraClasses&quot;: &quot;fa-rotate-0&quot;, &quot;icon&quot;: &quot;plus&quot;, &quot;iconColor&quot;: &quot;white&quot;, &quot;markerColor&quot;: &quot;orange&quot;, &quot;prefix&quot;: &quot;fa&quot;}\n",
       "            );\n",
       "            marker_275727da2b91646c9b1e028e4e2789a5.setIcon(icon_f2d9d0f0d799830f6573c911ca03b7f7);\n",
       "        \n",
       "    \n",
       "        var popup_d8b53092bfe6a6bdbc0c8548292147d9 = L.popup({&quot;maxWidth&quot;: 500});\n",
       "\n",
       "        \n",
       "            \n",
       "                var html_df729343c21c05627114533c9f89fe21 = $(`&lt;div id=&quot;html_df729343c21c05627114533c9f89fe21&quot; style=&quot;width: 100.0%; height: 100.0%;&quot;&gt;Number of Bookings: 1&lt;br&gt;Address: 36 Chai Chee Avenue&lt;br&gt;Postal: 461036&lt;/div&gt;`)[0];\n",
       "                popup_d8b53092bfe6a6bdbc0c8548292147d9.setContent(html_df729343c21c05627114533c9f89fe21);\n",
       "            \n",
       "        \n",
       "\n",
       "        marker_275727da2b91646c9b1e028e4e2789a5.bindPopup(popup_d8b53092bfe6a6bdbc0c8548292147d9)\n",
       "        ;\n",
       "\n",
       "        \n",
       "    \n",
       "    \n",
       "            marker_275727da2b91646c9b1e028e4e2789a5.bindTooltip(\n",
       "                `&lt;div&gt;\n",
       "                     New Customer (= 1 Booking)\n",
       "                 &lt;/div&gt;`,\n",
       "                {&quot;sticky&quot;: true}\n",
       "            );\n",
       "        \n",
       "    \n",
       "            var marker_ad215947c0d7847f8de901981ed7df04 = L.marker(\n",
       "                [1.3268, 103.8559],\n",
       "                {}\n",
       "            ).addTo(map_298e9d54ec34343bd49833b17aab84ba);\n",
       "        \n",
       "    \n",
       "            var icon_b37c0305edd7c558a888481ed27f853c = L.AwesomeMarkers.icon(\n",
       "                {&quot;extraClasses&quot;: &quot;fa-rotate-0&quot;, &quot;icon&quot;: &quot;plus&quot;, &quot;iconColor&quot;: &quot;white&quot;, &quot;markerColor&quot;: &quot;orange&quot;, &quot;prefix&quot;: &quot;fa&quot;}\n",
       "            );\n",
       "            marker_ad215947c0d7847f8de901981ed7df04.setIcon(icon_b37c0305edd7c558a888481ed27f853c);\n",
       "        \n",
       "    \n",
       "        var popup_aa650fd9f7ea638a50a5081babcf70fe = L.popup({&quot;maxWidth&quot;: 500});\n",
       "\n",
       "        \n",
       "            \n",
       "                var html_ecf750cf38c91152044db851b400d836 = $(`&lt;div id=&quot;html_ecf750cf38c91152044db851b400d836&quot; style=&quot;width: 100.0%; height: 100.0%;&quot;&gt;Number of Bookings: 1&lt;br&gt;Address: 110 Whampoa Road&lt;br&gt;Postal: 321110&lt;/div&gt;`)[0];\n",
       "                popup_aa650fd9f7ea638a50a5081babcf70fe.setContent(html_ecf750cf38c91152044db851b400d836);\n",
       "            \n",
       "        \n",
       "\n",
       "        marker_ad215947c0d7847f8de901981ed7df04.bindPopup(popup_aa650fd9f7ea638a50a5081babcf70fe)\n",
       "        ;\n",
       "\n",
       "        \n",
       "    \n",
       "    \n",
       "            marker_ad215947c0d7847f8de901981ed7df04.bindTooltip(\n",
       "                `&lt;div&gt;\n",
       "                     New Customer (= 1 Booking)\n",
       "                 &lt;/div&gt;`,\n",
       "                {&quot;sticky&quot;: true}\n",
       "            );\n",
       "        \n",
       "    \n",
       "            var marker_4b70fad1e348cd7e99003cfe8f07e3ce = L.marker(\n",
       "                [1.3788, 103.9042],\n",
       "                {}\n",
       "            ).addTo(map_298e9d54ec34343bd49833b17aab84ba);\n",
       "        \n",
       "    \n",
       "            var icon_bd9e1c00eaef05be308bf89f0ec3e97d = L.AwesomeMarkers.icon(\n",
       "                {&quot;extraClasses&quot;: &quot;fa-rotate-0&quot;, &quot;icon&quot;: &quot;plus&quot;, &quot;iconColor&quot;: &quot;white&quot;, &quot;markerColor&quot;: &quot;orange&quot;, &quot;prefix&quot;: &quot;fa&quot;}\n",
       "            );\n",
       "            marker_4b70fad1e348cd7e99003cfe8f07e3ce.setIcon(icon_bd9e1c00eaef05be308bf89f0ec3e97d);\n",
       "        \n",
       "    \n",
       "        var popup_0c95da8ae8db6729b02f8105c1e69b42 = L.popup({&quot;maxWidth&quot;: 500});\n",
       "\n",
       "        \n",
       "            \n",
       "                var html_3418626e8077da0daab1129e68d5b1f1 = $(`&lt;div id=&quot;html_3418626e8077da0daab1129e68d5b1f1&quot; style=&quot;width: 100.0%; height: 100.0%;&quot;&gt;Number of Bookings: 1&lt;br&gt;Address: 477B Upper Serangoon Avenue&lt;br&gt;Postal: 532477&lt;/div&gt;`)[0];\n",
       "                popup_0c95da8ae8db6729b02f8105c1e69b42.setContent(html_3418626e8077da0daab1129e68d5b1f1);\n",
       "            \n",
       "        \n",
       "\n",
       "        marker_4b70fad1e348cd7e99003cfe8f07e3ce.bindPopup(popup_0c95da8ae8db6729b02f8105c1e69b42)\n",
       "        ;\n",
       "\n",
       "        \n",
       "    \n",
       "    \n",
       "            marker_4b70fad1e348cd7e99003cfe8f07e3ce.bindTooltip(\n",
       "                `&lt;div&gt;\n",
       "                     New Customer (= 1 Booking)\n",
       "                 &lt;/div&gt;`,\n",
       "                {&quot;sticky&quot;: true}\n",
       "            );\n",
       "        \n",
       "    \n",
       "            var marker_113e81b79987626a5b6debd113788f21 = L.marker(\n",
       "                [1.3155, 103.8504],\n",
       "                {}\n",
       "            ).addTo(map_298e9d54ec34343bd49833b17aab84ba);\n",
       "        \n",
       "    \n",
       "            var icon_828bb8f52b7384193bbf441bed88b92b = L.AwesomeMarkers.icon(\n",
       "                {&quot;extraClasses&quot;: &quot;fa-rotate-0&quot;, &quot;icon&quot;: &quot;plus&quot;, &quot;iconColor&quot;: &quot;white&quot;, &quot;markerColor&quot;: &quot;orange&quot;, &quot;prefix&quot;: &quot;fa&quot;}\n",
       "            );\n",
       "            marker_113e81b79987626a5b6debd113788f21.setIcon(icon_828bb8f52b7384193bbf441bed88b92b);\n",
       "        \n",
       "    \n",
       "        var popup_b87c6fbae0fc3514a4624cda8888f8e7 = L.popup({&quot;maxWidth&quot;: 500});\n",
       "\n",
       "        \n",
       "            \n",
       "                var html_77bf81b98b1b4c5f9ec7bf64b7cb7911 = $(`&lt;div id=&quot;html_77bf81b98b1b4c5f9ec7bf64b7cb7911&quot; style=&quot;width: 100.0%; height: 100.0%;&quot;&gt;Number of Bookings: 1&lt;br&gt;Address: 46 Owen Road&lt;br&gt;Postal: 210044&lt;/div&gt;`)[0];\n",
       "                popup_b87c6fbae0fc3514a4624cda8888f8e7.setContent(html_77bf81b98b1b4c5f9ec7bf64b7cb7911);\n",
       "            \n",
       "        \n",
       "\n",
       "        marker_113e81b79987626a5b6debd113788f21.bindPopup(popup_b87c6fbae0fc3514a4624cda8888f8e7)\n",
       "        ;\n",
       "\n",
       "        \n",
       "    \n",
       "    \n",
       "            marker_113e81b79987626a5b6debd113788f21.bindTooltip(\n",
       "                `&lt;div&gt;\n",
       "                     New Customer (= 1 Booking)\n",
       "                 &lt;/div&gt;`,\n",
       "                {&quot;sticky&quot;: true}\n",
       "            );\n",
       "        \n",
       "    \n",
       "            var marker_fcfe410ba8eee94cf17b231e7a61379e = L.marker(\n",
       "                [1.3086, 103.8882],\n",
       "                {}\n",
       "            ).addTo(map_298e9d54ec34343bd49833b17aab84ba);\n",
       "        \n",
       "    \n",
       "            var icon_05ab59ba6b5f848090040e768a67d62d = L.AwesomeMarkers.icon(\n",
       "                {&quot;extraClasses&quot;: &quot;fa-rotate-0&quot;, &quot;icon&quot;: &quot;plus&quot;, &quot;iconColor&quot;: &quot;white&quot;, &quot;markerColor&quot;: &quot;orange&quot;, &quot;prefix&quot;: &quot;fa&quot;}\n",
       "            );\n",
       "            marker_fcfe410ba8eee94cf17b231e7a61379e.setIcon(icon_05ab59ba6b5f848090040e768a67d62d);\n",
       "        \n",
       "    \n",
       "        var popup_d8c03bd20c132818f866cc3b27390d61 = L.popup({&quot;maxWidth&quot;: 500});\n",
       "\n",
       "        \n",
       "            \n",
       "                var html_7455ed417163a12e3ebc6826df74a46d = $(`&lt;div id=&quot;html_7455ed417163a12e3ebc6826df74a46d&quot; style=&quot;width: 100.0%; height: 100.0%;&quot;&gt;Number of Bookings: 1&lt;br&gt;Address: 99 Old Airport Road&lt;br&gt;Postal: 390099&lt;/div&gt;`)[0];\n",
       "                popup_d8c03bd20c132818f866cc3b27390d61.setContent(html_7455ed417163a12e3ebc6826df74a46d);\n",
       "            \n",
       "        \n",
       "\n",
       "        marker_fcfe410ba8eee94cf17b231e7a61379e.bindPopup(popup_d8c03bd20c132818f866cc3b27390d61)\n",
       "        ;\n",
       "\n",
       "        \n",
       "    \n",
       "    \n",
       "            marker_fcfe410ba8eee94cf17b231e7a61379e.bindTooltip(\n",
       "                `&lt;div&gt;\n",
       "                     New Customer (= 1 Booking)\n",
       "                 &lt;/div&gt;`,\n",
       "                {&quot;sticky&quot;: true}\n",
       "            );\n",
       "        \n",
       "    \n",
       "            var marker_e859bdd0d80a460b0af639f18ec34965 = L.marker(\n",
       "                [1.3054, 103.8632],\n",
       "                {}\n",
       "            ).addTo(map_298e9d54ec34343bd49833b17aab84ba);\n",
       "        \n",
       "    \n",
       "            var icon_3c5d713c1a6d0739349c8848bff92465 = L.AwesomeMarkers.icon(\n",
       "                {&quot;extraClasses&quot;: &quot;fa-rotate-0&quot;, &quot;icon&quot;: &quot;plus&quot;, &quot;iconColor&quot;: &quot;white&quot;, &quot;markerColor&quot;: &quot;orange&quot;, &quot;prefix&quot;: &quot;fa&quot;}\n",
       "            );\n",
       "            marker_e859bdd0d80a460b0af639f18ec34965.setIcon(icon_3c5d713c1a6d0739349c8848bff92465);\n",
       "        \n",
       "    \n",
       "        var popup_07322c6a55b747b2cf6d59983b2caa2a = L.popup({&quot;maxWidth&quot;: 500});\n",
       "\n",
       "        \n",
       "            \n",
       "                var html_590ce257fe63d6ef83f730a8b8041c81 = $(`&lt;div id=&quot;html_590ce257fe63d6ef83f730a8b8041c81&quot; style=&quot;width: 100.0%; height: 100.0%;&quot;&gt;Number of Bookings: 1&lt;br&gt;Address: 468 North Bridge Road&lt;br&gt;Postal: 190468&lt;/div&gt;`)[0];\n",
       "                popup_07322c6a55b747b2cf6d59983b2caa2a.setContent(html_590ce257fe63d6ef83f730a8b8041c81);\n",
       "            \n",
       "        \n",
       "\n",
       "        marker_e859bdd0d80a460b0af639f18ec34965.bindPopup(popup_07322c6a55b747b2cf6d59983b2caa2a)\n",
       "        ;\n",
       "\n",
       "        \n",
       "    \n",
       "    \n",
       "            marker_e859bdd0d80a460b0af639f18ec34965.bindTooltip(\n",
       "                `&lt;div&gt;\n",
       "                     New Customer (= 1 Booking)\n",
       "                 &lt;/div&gt;`,\n",
       "                {&quot;sticky&quot;: true}\n",
       "            );\n",
       "        \n",
       "    \n",
       "            var marker_0ce00ba48675f47f0fb9fe02df4363c2 = L.marker(\n",
       "                [1.3221, 103.8679],\n",
       "                {}\n",
       "            ).addTo(map_298e9d54ec34343bd49833b17aab84ba);\n",
       "        \n",
       "    \n",
       "            var icon_b1bebeebb77b9a3df15af9bf5ce1554f = L.AwesomeMarkers.icon(\n",
       "                {&quot;extraClasses&quot;: &quot;fa-rotate-0&quot;, &quot;icon&quot;: &quot;plus&quot;, &quot;iconColor&quot;: &quot;white&quot;, &quot;markerColor&quot;: &quot;orange&quot;, &quot;prefix&quot;: &quot;fa&quot;}\n",
       "            );\n",
       "            marker_0ce00ba48675f47f0fb9fe02df4363c2.setIcon(icon_b1bebeebb77b9a3df15af9bf5ce1554f);\n",
       "        \n",
       "    \n",
       "        var popup_7444556245f1995990329af7700dd0a1 = L.popup({&quot;maxWidth&quot;: 500});\n",
       "\n",
       "        \n",
       "            \n",
       "                var html_57748b3070d9460024e0d08613f505fa = $(`&lt;div id=&quot;html_57748b3070d9460024e0d08613f505fa&quot; style=&quot;width: 100.0%; height: 100.0%;&quot;&gt;Number of Bookings: 1&lt;br&gt;Address: 59B Geylang Bahru&lt;br&gt;Postal: 331059&lt;/div&gt;`)[0];\n",
       "                popup_7444556245f1995990329af7700dd0a1.setContent(html_57748b3070d9460024e0d08613f505fa);\n",
       "            \n",
       "        \n",
       "\n",
       "        marker_0ce00ba48675f47f0fb9fe02df4363c2.bindPopup(popup_7444556245f1995990329af7700dd0a1)\n",
       "        ;\n",
       "\n",
       "        \n",
       "    \n",
       "    \n",
       "            marker_0ce00ba48675f47f0fb9fe02df4363c2.bindTooltip(\n",
       "                `&lt;div&gt;\n",
       "                     New Customer (= 1 Booking)\n",
       "                 &lt;/div&gt;`,\n",
       "                {&quot;sticky&quot;: true}\n",
       "            );\n",
       "        \n",
       "    \n",
       "            var marker_28ab1b2278389b64a36088b012458a9b = L.marker(\n",
       "                [1.3035, 103.8837],\n",
       "                {}\n",
       "            ).addTo(map_298e9d54ec34343bd49833b17aab84ba);\n",
       "        \n",
       "    \n",
       "            var icon_6ef64751d4053ee5ca66de865a270383 = L.AwesomeMarkers.icon(\n",
       "                {&quot;extraClasses&quot;: &quot;fa-rotate-0&quot;, &quot;icon&quot;: &quot;plus&quot;, &quot;iconColor&quot;: &quot;white&quot;, &quot;markerColor&quot;: &quot;orange&quot;, &quot;prefix&quot;: &quot;fa&quot;}\n",
       "            );\n",
       "            marker_28ab1b2278389b64a36088b012458a9b.setIcon(icon_6ef64751d4053ee5ca66de865a270383);\n",
       "        \n",
       "    \n",
       "        var popup_3e874e789bc261b34c5fc037d922314e = L.popup({&quot;maxWidth&quot;: 500});\n",
       "\n",
       "        \n",
       "            \n",
       "                var html_bfde45a279323550a214d63c348b3172 = $(`&lt;div id=&quot;html_bfde45a279323550a214d63c348b3172&quot; style=&quot;width: 100.0%; height: 100.0%;&quot;&gt;Number of Bookings: 1&lt;br&gt;Address: 1 Kampong Kayu Road&lt;br&gt;Postal: 431001&lt;/div&gt;`)[0];\n",
       "                popup_3e874e789bc261b34c5fc037d922314e.setContent(html_bfde45a279323550a214d63c348b3172);\n",
       "            \n",
       "        \n",
       "\n",
       "        marker_28ab1b2278389b64a36088b012458a9b.bindPopup(popup_3e874e789bc261b34c5fc037d922314e)\n",
       "        ;\n",
       "\n",
       "        \n",
       "    \n",
       "    \n",
       "            marker_28ab1b2278389b64a36088b012458a9b.bindTooltip(\n",
       "                `&lt;div&gt;\n",
       "                     New Customer (= 1 Booking)\n",
       "                 &lt;/div&gt;`,\n",
       "                {&quot;sticky&quot;: true}\n",
       "            );\n",
       "        \n",
       "&lt;/script&gt;\n",
       "&lt;/html&gt;\" style=\"position:absolute;width:100%;height:100%;left:0;top:0;border:none !important;\" allowfullscreen webkitallowfullscreen mozallowfullscreen></iframe></div></div>"
      ],
      "text/plain": [
       "<folium.folium.Map at 0x205d2082710>"
      ]
     },
     "execution_count": 83,
     "metadata": {},
     "output_type": "execute_result"
    }
   ],
   "source": [
    "sg_map"
   ]
  },
  {
   "cell_type": "code",
   "execution_count": 84,
   "metadata": {
    "execution": {
     "iopub.execute_input": "2024-10-31T09:09:21.173590Z",
     "iopub.status.busy": "2024-10-31T09:09:21.172582Z",
     "iopub.status.idle": "2024-10-31T09:09:21.223364Z",
     "shell.execute_reply": "2024-10-31T09:09:21.223364Z"
    }
   },
   "outputs": [],
   "source": [
    "sg_map.save('../public/analytics/customer/customer-map.html')"
   ]
  }
 ],
 "metadata": {
  "kernelspec": {
   "display_name": "Python 3",
   "language": "python",
   "name": "python3"
  },
  "language_info": {
   "codemirror_mode": {
    "name": "ipython",
    "version": 3
   },
   "file_extension": ".py",
   "mimetype": "text/x-python",
   "name": "python",
   "nbconvert_exporter": "python",
   "pygments_lexer": "ipython3",
   "version": "3.11.0"
  }
 },
 "nbformat": 4,
 "nbformat_minor": 4
}

{
 "cells": [
  {
   "cell_type": "markdown",
   "metadata": {},
   "source": [
    "# Analytics Notebook"
   ]
  },
  {
   "cell_type": "markdown",
   "metadata": {},
   "source": [
    "### Connect To MongoDB"
   ]
  },
  {
   "cell_type": "code",
   "execution_count": 1,
   "metadata": {
    "execution": {
     "iopub.execute_input": "2024-10-02T18:45:04.236926Z",
     "iopub.status.busy": "2024-10-02T18:45:04.236926Z",
     "iopub.status.idle": "2024-10-02T18:45:04.908680Z",
     "shell.execute_reply": "2024-10-02T18:45:04.908680Z"
    }
   },
   "outputs": [],
   "source": [
    "## Import Libraries\n",
    "import os\n",
    "from pymongo import MongoClient\n",
    "from dotenv import load_dotenv\n",
    "\n",
    "# Load environment variables\n",
    "load_dotenv('../.env.local')\n",
    "db_uri = os.getenv('MONGODB_URI')\n",
    "\n",
    "## Connect To DB\n",
    "client = MongoClient(db_uri)\n",
    "db = client['test']"
   ]
  },
  {
   "cell_type": "code",
   "execution_count": 2,
   "metadata": {
    "execution": {
     "iopub.execute_input": "2024-10-02T18:45:04.911579Z",
     "iopub.status.busy": "2024-10-02T18:45:04.911579Z",
     "iopub.status.idle": "2024-10-02T18:45:05.096368Z",
     "shell.execute_reply": "2024-10-02T18:45:05.096368Z"
    }
   },
   "outputs": [
    {
     "name": "stdout",
     "output_type": "stream",
     "text": [
      "[]\n"
     ]
    }
   ],
   "source": [
    "# Testing\n",
    "print(list(db['vehicles'].find()))"
   ]
  },
  {
   "cell_type": "markdown",
   "metadata": {},
   "source": [
    "## Analytics Dashboard"
   ]
  },
  {
   "cell_type": "code",
   "execution_count": 3,
   "metadata": {
    "execution": {
     "iopub.execute_input": "2024-10-02T18:45:05.134687Z",
     "iopub.status.busy": "2024-10-02T18:45:05.133185Z",
     "iopub.status.idle": "2024-10-02T18:45:08.915890Z",
     "shell.execute_reply": "2024-10-02T18:45:08.915890Z"
    }
   },
   "outputs": [],
   "source": [
    "## General Libraries\n",
    "import pandas as pd\n",
    "import numpy as np\n",
    "import json\n",
    "import pytz\n",
    "from datetime import datetime, timedelta\n",
    "from statsmodels.tsa.holtwinters import ExponentialSmoothing"
   ]
  },
  {
   "cell_type": "markdown",
   "metadata": {},
   "source": [
    "### Job Analytics"
   ]
  },
  {
   "cell_type": "code",
   "execution_count": 4,
   "metadata": {
    "execution": {
     "iopub.execute_input": "2024-10-02T18:45:08.918731Z",
     "iopub.status.busy": "2024-10-02T18:45:08.918731Z",
     "iopub.status.idle": "2024-10-02T18:45:08.923734Z",
     "shell.execute_reply": "2024-10-02T18:45:08.923734Z"
    }
   },
   "outputs": [
    {
     "name": "stdout",
     "output_type": "stream",
     "text": [
      "['Electrician', 'Ventilation', 'Plumber', 'Handyman', 'Aircon']\n"
     ]
    }
   ],
   "source": [
    "# General Labels\n",
    "categories_df = pd.read_csv('./datasets/categories.csv')\n",
    "job_types = categories_df['name'].tolist()\n",
    "print(job_types)"
   ]
  },
  {
   "cell_type": "code",
   "execution_count": 5,
   "metadata": {
    "execution": {
     "iopub.execute_input": "2024-10-02T18:45:08.925210Z",
     "iopub.status.busy": "2024-10-02T18:45:08.925210Z",
     "iopub.status.idle": "2024-10-02T18:45:08.929090Z",
     "shell.execute_reply": "2024-10-02T18:45:08.929090Z"
    }
   },
   "outputs": [],
   "source": [
    "# Function Extract Date\n",
    "def extract_start_date(column):\n",
    "    try:\n",
    "        col_dict = eval(column)\n",
    "        start_date = pd.to_datetime(col_dict[0]['start']['$date'])\n",
    "        return start_date\n",
    "    except:\n",
    "        return None\n",
    "    \n",
    "def extract_end_date(column):\n",
    "    try:\n",
    "        col_dict = eval(column)\n",
    "        start_date = pd.to_datetime(col_dict[0]['end']['$date'])\n",
    "        return start_date\n",
    "    except:\n",
    "        return None"
   ]
  },
  {
   "cell_type": "code",
   "execution_count": 6,
   "metadata": {
    "execution": {
     "iopub.execute_input": "2024-10-02T18:45:08.930491Z",
     "iopub.status.busy": "2024-10-02T18:45:08.930491Z",
     "iopub.status.idle": "2024-10-02T18:45:08.951122Z",
     "shell.execute_reply": "2024-10-02T18:45:08.951122Z"
    }
   },
   "outputs": [],
   "source": [
    "ja_jobs_df = pd.read_csv('./datasets/ja_jobs.csv')\n",
    "ja_jobs_df['date'] = pd.to_datetime(ja_jobs_df['date'])"
   ]
  },
  {
   "cell_type": "markdown",
   "metadata": {},
   "source": [
    "#### Job Type Distribution"
   ]
  },
  {
   "cell_type": "code",
   "execution_count": 7,
   "metadata": {
    "execution": {
     "iopub.execute_input": "2024-10-02T18:45:08.953611Z",
     "iopub.status.busy": "2024-10-02T18:45:08.953611Z",
     "iopub.status.idle": "2024-10-02T18:45:08.961174Z",
     "shell.execute_reply": "2024-10-02T18:45:08.961174Z"
    }
   },
   "outputs": [
    {
     "name": "stdout",
     "output_type": "stream",
     "text": [
      "[152, 146, 126, 75, 57]\n"
     ]
    }
   ],
   "source": [
    "# Past 1 Month\n",
    "recent_jobs = ja_jobs_df[ja_jobs_df['date'] > datetime(2024, 10, 1) - pd.DateOffset(months=1)]\n",
    "total_job_frequency = recent_jobs['category'].value_counts().tolist()\n",
    "print(total_job_frequency)\n",
    "\n",
    "data_job_type_dist = {\n",
    "    'labels': job_types,\n",
    "    'data': total_job_frequency\n",
    "}\n",
    "\n",
    "# Save data to JSON file\n",
    "with open('../public/analytics/job-type-dist-one-month-total.json', 'w') as file:\n",
    "    json.dump(data_job_type_dist, file, indent=4)\n",
    "\n",
    "average_job_frequency = total_job_frequency\n",
    "\n",
    "data_job_type_dist = {\n",
    "    'labels': job_types,\n",
    "    'data': average_job_frequency\n",
    "}\n",
    "\n",
    "# Save data to JSON file\n",
    "with open('../public/analytics/job-type-dist-one-month-average.json', 'w') as file:\n",
    "    json.dump(data_job_type_dist, file, indent=4)   "
   ]
  },
  {
   "cell_type": "code",
   "execution_count": 8,
   "metadata": {
    "execution": {
     "iopub.execute_input": "2024-10-02T18:45:08.963798Z",
     "iopub.status.busy": "2024-10-02T18:45:08.962526Z",
     "iopub.status.idle": "2024-10-02T18:45:08.970231Z",
     "shell.execute_reply": "2024-10-02T18:45:08.970231Z"
    }
   },
   "outputs": [
    {
     "name": "stdout",
     "output_type": "stream",
     "text": [
      "[248, 243, 222, 204, 121]\n"
     ]
    }
   ],
   "source": [
    "# Past 3 Month\n",
    "recent_jobs = ja_jobs_df[ja_jobs_df['date'] > datetime(2024, 10, 1) - pd.DateOffset(months=3)]\n",
    "total_job_frequency = recent_jobs['category'].value_counts().tolist()\n",
    "print(total_job_frequency)\n",
    "\n",
    "data_job_type_dist = {\n",
    "    'labels': job_types,\n",
    "    'data': total_job_frequency\n",
    "}\n",
    "\n",
    "# Save data to JSON file\n",
    "with open('../public/analytics/job-type-dist-three-month-total.json', 'w') as file:\n",
    "    json.dump(data_job_type_dist, file, indent=4)  \n",
    "\n",
    "average_job_frequency = [np.ceil(x / 3) for x in total_job_frequency]\n",
    "\n",
    "data_job_type_dist = {\n",
    "    'labels': job_types,\n",
    "    'data': average_job_frequency\n",
    "}\n",
    "\n",
    "# Save data to JSON file\n",
    "with open('../public/analytics/job-type-dist-three-month-average.json', 'w') as file:\n",
    "    json.dump(data_job_type_dist, file, indent=4) "
   ]
  },
  {
   "cell_type": "code",
   "execution_count": 9,
   "metadata": {
    "execution": {
     "iopub.execute_input": "2024-10-02T18:45:08.972805Z",
     "iopub.status.busy": "2024-10-02T18:45:08.972805Z",
     "iopub.status.idle": "2024-10-02T18:45:08.979404Z",
     "shell.execute_reply": "2024-10-02T18:45:08.979404Z"
    }
   },
   "outputs": [
    {
     "name": "stdout",
     "output_type": "stream",
     "text": [
      "[605, 461, 396, 385, 300]\n"
     ]
    }
   ],
   "source": [
    "# Past 6 Month\n",
    "recent_jobs = ja_jobs_df[ja_jobs_df['date'] > datetime(2024, 10, 1) - pd.DateOffset(months=6)]\n",
    "total_job_frequency = recent_jobs['category'].value_counts().tolist()\n",
    "print(total_job_frequency)\n",
    "\n",
    "data_job_type_dist = {\n",
    "    'labels': job_types,\n",
    "    'data': total_job_frequency\n",
    "}\n",
    "\n",
    "# Save data to JSON file\n",
    "with open('../public/analytics/job-type-dist-six-month-total.json', 'w') as file:\n",
    "    json.dump(data_job_type_dist, file, indent=4)\n",
    "\n",
    "average_job_frequency = [np.ceil(x / 6) for x in total_job_frequency]\n",
    "\n",
    "data_job_type_dist = {\n",
    "    'labels': job_types,\n",
    "    'data': average_job_frequency\n",
    "}\n",
    "\n",
    "# Save data to JSON file\n",
    "with open('../public/analytics/job-type-dist-six-month-average.json', 'w') as file:\n",
    "    json.dump(data_job_type_dist, file, indent=4) "
   ]
  },
  {
   "cell_type": "code",
   "execution_count": 10,
   "metadata": {
    "execution": {
     "iopub.execute_input": "2024-10-02T18:45:08.980847Z",
     "iopub.status.busy": "2024-10-02T18:45:08.980847Z",
     "iopub.status.idle": "2024-10-02T18:45:08.988628Z",
     "shell.execute_reply": "2024-10-02T18:45:08.988628Z"
    }
   },
   "outputs": [
    {
     "name": "stdout",
     "output_type": "stream",
     "text": [
      "[1250, 1011, 843, 762, 619]\n"
     ]
    }
   ],
   "source": [
    "# Past 12 Month\n",
    "recent_jobs = ja_jobs_df[ja_jobs_df['date'] > datetime(2024, 10, 1) - pd.DateOffset(months=12)]\n",
    "total_job_frequency = recent_jobs['category'].value_counts().tolist()\n",
    "print(total_job_frequency)\n",
    "\n",
    "data_job_type_dist = {\n",
    "    'labels': job_types,\n",
    "    'data': total_job_frequency\n",
    "}\n",
    "\n",
    "# Save data to JSON file\n",
    "with open('../public/analytics/job-type-dist-twelve-month-total.json', 'w') as file:\n",
    "    json.dump(data_job_type_dist, file, indent=4)\n",
    "\n",
    "average_job_frequency = [np.ceil(x / 12) for x in total_job_frequency]\n",
    "\n",
    "data_job_type_dist = {\n",
    "    'labels': job_types,\n",
    "    'data': average_job_frequency\n",
    "}\n",
    "\n",
    "# Save data to JSON file\n",
    "with open('../public/analytics/job-type-dist-twelve-month-average.json', 'w') as file:\n",
    "    json.dump(data_job_type_dist, file, indent=4) "
   ]
  },
  {
   "cell_type": "markdown",
   "metadata": {},
   "source": [
    "#### Job Duration Distribution"
   ]
  },
  {
   "cell_type": "code",
   "execution_count": 11,
   "metadata": {
    "execution": {
     "iopub.execute_input": "2024-10-02T18:45:08.990090Z",
     "iopub.status.busy": "2024-10-02T18:45:08.990090Z",
     "iopub.status.idle": "2024-10-02T18:45:09.004556Z",
     "shell.execute_reply": "2024-10-02T18:45:09.004556Z"
    }
   },
   "outputs": [
    {
     "name": "stdout",
     "output_type": "stream",
     "text": [
      "      category  frequency  total_duration  average_duration\n",
      "0  Electrician        152           13245              88.0\n",
      "1  Ventilation         75           14130             189.0\n",
      "2      Plumber         57            7560             133.0\n",
      "3     Handyman        146            6600              46.0\n",
      "4       Aircon        126           59490             473.0\n"
     ]
    }
   ],
   "source": [
    "# Past 1 Month\n",
    "recent_jobs = ja_jobs_df[ja_jobs_df['date'] > datetime(2024, 10, 1) - pd.DateOffset(months=1)]\n",
    "duration_stats = recent_jobs.groupby('category').agg(\n",
    "    total_duration=('duration', 'sum'),\n",
    "    frequency=('category', 'count')\n",
    ").reset_index()\n",
    "duration_stats['average_duration'] = np.ceil(duration_stats['total_duration'] / duration_stats['frequency'])\n",
    "duration_stats['category'] = pd.Categorical(duration_stats['category'].str.capitalize(), categories=job_types, ordered=True)\n",
    "duration_stats = duration_stats.sort_values('category').reset_index(drop=True)\n",
    "print(duration_stats[['category', 'frequency', 'total_duration', 'average_duration']])\n",
    "\n",
    "data_job_duration_dist = {\n",
    "    'labels': job_types,\n",
    "    'data': duration_stats['average_duration'].tolist()\n",
    "}\n",
    "\n",
    "# Save data to JSON file\n",
    "with open('../public/analytics/job-duration-dist-one-month.json', 'w') as file:\n",
    "    json.dump(data_job_duration_dist, file, indent=4) "
   ]
  },
  {
   "cell_type": "code",
   "execution_count": 12,
   "metadata": {
    "execution": {
     "iopub.execute_input": "2024-10-02T18:45:09.006030Z",
     "iopub.status.busy": "2024-10-02T18:45:09.006030Z",
     "iopub.status.idle": "2024-10-02T18:45:09.018198Z",
     "shell.execute_reply": "2024-10-02T18:45:09.018198Z"
    }
   },
   "outputs": [
    {
     "name": "stdout",
     "output_type": "stream",
     "text": [
      "      category  frequency  total_duration  average_duration\n",
      "0  Electrician        248           21765              88.0\n",
      "1  Ventilation        121           22845             189.0\n",
      "2      Plumber        222           29940             135.0\n",
      "3     Handyman        243           10725              45.0\n",
      "4       Aircon        204           96870             475.0\n"
     ]
    }
   ],
   "source": [
    "# Past 3 Month\n",
    "recent_jobs = ja_jobs_df[ja_jobs_df['date'] > datetime(2024, 10, 1) - pd.DateOffset(months=3)]\n",
    "duration_stats = recent_jobs.groupby('category').agg(\n",
    "    total_duration=('duration', 'sum'),\n",
    "    frequency=('category', 'count')\n",
    ").reset_index()\n",
    "duration_stats['average_duration'] = np.ceil(duration_stats['total_duration'] / duration_stats['frequency'])\n",
    "duration_stats['category'] = pd.Categorical(duration_stats['category'].str.capitalize(), categories=job_types, ordered=True)\n",
    "duration_stats = duration_stats.sort_values('category').reset_index(drop=True)\n",
    "print(duration_stats[['category', 'frequency', 'total_duration', 'average_duration']])\n",
    "\n",
    "data_job_duration_dist = {\n",
    "    'labels': job_types,\n",
    "    'data': duration_stats['average_duration'].tolist()\n",
    "}\n",
    "\n",
    "# Save data to JSON file\n",
    "with open('../public/analytics/job-duration-dist-three-month.json', 'w') as file:\n",
    "    json.dump(data_job_duration_dist, file, indent=4) "
   ]
  },
  {
   "cell_type": "code",
   "execution_count": 13,
   "metadata": {
    "execution": {
     "iopub.execute_input": "2024-10-02T18:45:09.020924Z",
     "iopub.status.busy": "2024-10-02T18:45:09.019469Z",
     "iopub.status.idle": "2024-10-02T18:45:09.031697Z",
     "shell.execute_reply": "2024-10-02T18:45:09.031697Z"
    }
   },
   "outputs": [
    {
     "name": "stdout",
     "output_type": "stream",
     "text": [
      "      category  frequency  total_duration  average_duration\n",
      "0  Electrician        461           40995              89.0\n",
      "1  Ventilation        300           57180             191.0\n",
      "2      Plumber        396           53850             136.0\n",
      "3     Handyman        605           26475              44.0\n",
      "4       Aircon        385          182490             474.0\n"
     ]
    }
   ],
   "source": [
    "# Past 6 Month\n",
    "recent_jobs = ja_jobs_df[ja_jobs_df['date'] > datetime(2024, 10, 1) - pd.DateOffset(months=6)]\n",
    "duration_stats = recent_jobs.groupby('category').agg(\n",
    "    total_duration=('duration', 'sum'),\n",
    "    frequency=('category', 'count')\n",
    ").reset_index()\n",
    "duration_stats['average_duration'] = np.ceil(duration_stats['total_duration'] / duration_stats['frequency'])\n",
    "duration_stats['category'] = pd.Categorical(duration_stats['category'].str.capitalize(), categories=job_types, ordered=True)\n",
    "duration_stats = duration_stats.sort_values('category').reset_index(drop=True)\n",
    "print(duration_stats[['category', 'frequency', 'total_duration', 'average_duration']])\n",
    "\n",
    "data_job_duration_dist = {\n",
    "    'labels': job_types,\n",
    "    'data': duration_stats['average_duration'].tolist()\n",
    "}\n",
    "\n",
    "# Save data to JSON file\n",
    "with open('../public/analytics/job-duration-dist-six-month.json', 'w') as file:\n",
    "    json.dump(data_job_duration_dist, file, indent=4) "
   ]
  },
  {
   "cell_type": "code",
   "execution_count": 14,
   "metadata": {
    "execution": {
     "iopub.execute_input": "2024-10-02T18:45:09.033160Z",
     "iopub.status.busy": "2024-10-02T18:45:09.033160Z",
     "iopub.status.idle": "2024-10-02T18:45:09.045477Z",
     "shell.execute_reply": "2024-10-02T18:45:09.045477Z"
    }
   },
   "outputs": [
    {
     "name": "stdout",
     "output_type": "stream",
     "text": [
      "      category  frequency  total_duration  average_duration\n",
      "0  Electrician       1011           90345              90.0\n",
      "1  Ventilation        619          117270             190.0\n",
      "2      Plumber        762          102870             135.0\n",
      "3     Handyman       1250           55440              45.0\n",
      "4       Aircon        843          397740             472.0\n"
     ]
    }
   ],
   "source": [
    "# Past 12 Month\n",
    "recent_jobs = ja_jobs_df[ja_jobs_df['date'] > datetime(2024, 10, 1) - pd.DateOffset(months=12)]\n",
    "duration_stats = recent_jobs.groupby('category').agg(\n",
    "    total_duration=('duration', 'sum'),\n",
    "    frequency=('category', 'count')\n",
    ").reset_index()\n",
    "duration_stats['average_duration'] = np.ceil(duration_stats['total_duration'] / duration_stats['frequency'])\n",
    "duration_stats['category'] = pd.Categorical(duration_stats['category'].str.capitalize(), categories=job_types, ordered=True)\n",
    "duration_stats = duration_stats.sort_values('category').reset_index(drop=True)\n",
    "print(duration_stats[['category', 'frequency', 'total_duration', 'average_duration']])\n",
    "\n",
    "data_job_duration_dist = {\n",
    "    'labels': job_types,\n",
    "    'data': duration_stats['average_duration'].tolist()\n",
    "}\n",
    "\n",
    "# Save data to JSON file\n",
    "with open('../public/analytics/job-duration-dist-twelve-month.json', 'w') as file:\n",
    "    json.dump(data_job_duration_dist, file, indent=4) "
   ]
  },
  {
   "cell_type": "markdown",
   "metadata": {},
   "source": [
    "#### Job Revenue Distribution"
   ]
  },
  {
   "cell_type": "code",
   "execution_count": 15,
   "metadata": {
    "execution": {
     "iopub.execute_input": "2024-10-02T18:45:09.048174Z",
     "iopub.status.busy": "2024-10-02T18:45:09.046734Z",
     "iopub.status.idle": "2024-10-02T18:45:09.052845Z",
     "shell.execute_reply": "2024-10-02T18:45:09.052845Z"
    }
   },
   "outputs": [],
   "source": [
    "# Past 1 Month\n",
    "total_job_revenue = [8000, 6000, 6000, 8500, 22000]\n",
    "\n",
    "data_job_revenue_dist = {\n",
    "    'labels': job_types,\n",
    "    'data': total_job_revenue\n",
    "}\n",
    "\n",
    "# Save data to JSON file\n",
    "with open('../public/analytics/job-revenue-dist-one-month-total.json', 'w') as file:\n",
    "    json.dump(data_job_revenue_dist, file, indent=4)\n",
    "\n",
    "average_job_revenue = total_job_revenue\n",
    "\n",
    "data_job_revenue_dist = {\n",
    "    'labels': job_types,\n",
    "    'data': average_job_revenue\n",
    "}\n",
    "\n",
    "# Save data to JSON file\n",
    "with open('../public/analytics/job-revenue-dist-one-month-average.json', 'w') as file:\n",
    "    json.dump(data_job_revenue_dist, file, indent=4)  "
   ]
  },
  {
   "cell_type": "code",
   "execution_count": 16,
   "metadata": {
    "execution": {
     "iopub.execute_input": "2024-10-02T18:45:09.054322Z",
     "iopub.status.busy": "2024-10-02T18:45:09.054322Z",
     "iopub.status.idle": "2024-10-02T18:45:09.059721Z",
     "shell.execute_reply": "2024-10-02T18:45:09.059721Z"
    }
   },
   "outputs": [],
   "source": [
    "# Past 3 Month\n",
    "total_job_revenue = [24900, 17100, 15000, 24000, 51300]\n",
    "\n",
    "data_job_revenue_dist = {\n",
    "    'labels': job_types,\n",
    "    'data': total_job_revenue\n",
    "}\n",
    "\n",
    "# Save data to JSON file\n",
    "with open('../public/analytics/job-revenue-dist-three-month-total.json', 'w') as file:\n",
    "    json.dump(data_job_revenue_dist, file, indent=4)\n",
    "\n",
    "average_job_revenue = [round(x / 3, 2) for x in total_job_revenue]\n",
    "\n",
    "data_job_revenue_dist = {\n",
    "    'labels': job_types,\n",
    "    'data': average_job_revenue\n",
    "}\n",
    "\n",
    "# Save data to JSON file\n",
    "with open('../public/analytics/job-revenue-dist-three-month-average.json', 'w') as file:\n",
    "    json.dump(data_job_revenue_dist, file, indent=4)  "
   ]
  },
  {
   "cell_type": "code",
   "execution_count": 17,
   "metadata": {
    "execution": {
     "iopub.execute_input": "2024-10-02T18:45:09.061032Z",
     "iopub.status.busy": "2024-10-02T18:45:09.061032Z",
     "iopub.status.idle": "2024-10-02T18:45:09.066813Z",
     "shell.execute_reply": "2024-10-02T18:45:09.066813Z"
    }
   },
   "outputs": [],
   "source": [
    "# Past 6 Month\n",
    "total_job_revenue = [44900, 29700, 27000, 44000, 93300]\n",
    "\n",
    "data_job_revenue_dist = {\n",
    "    'labels': job_types,\n",
    "    'data': total_job_revenue\n",
    "}\n",
    "\n",
    "# Save data to JSON file\n",
    "with open('../public/analytics/job-revenue-dist-six-month-total.json', 'w') as file:\n",
    "    json.dump(data_job_revenue_dist, file, indent=4)\n",
    "\n",
    "average_job_revenue = [round(x / 6, 2) for x in total_job_revenue]\n",
    "\n",
    "data_job_revenue_dist = {\n",
    "    'labels': job_types,\n",
    "    'data': average_job_revenue\n",
    "}\n",
    "\n",
    "# Save data to JSON file\n",
    "with open('../public/analytics/job-revenue-dist-six-month-average.json', 'w') as file:\n",
    "    json.dump(data_job_revenue_dist, file, indent=4)  "
   ]
  },
  {
   "cell_type": "code",
   "execution_count": 18,
   "metadata": {
    "execution": {
     "iopub.execute_input": "2024-10-02T18:45:09.068283Z",
     "iopub.status.busy": "2024-10-02T18:45:09.068283Z",
     "iopub.status.idle": "2024-10-02T18:45:09.073562Z",
     "shell.execute_reply": "2024-10-02T18:45:09.073562Z"
    }
   },
   "outputs": [],
   "source": [
    "# Past 12 Month\n",
    "total_job_revenue = [82700, 51300, 48600, 81300, 155700]\n",
    "\n",
    "data_job_revenue_dist = {\n",
    "    'labels': job_types,\n",
    "    'data': total_job_revenue\n",
    "}\n",
    "\n",
    "# Save data to JSON file\n",
    "with open('../public/analytics/job-revenue-dist-twelve-month-total.json', 'w') as file:\n",
    "    json.dump(data_job_revenue_dist, file, indent=4)\n",
    "\n",
    "average_job_revenue = [round(x / 12, 2) for x in total_job_revenue]\n",
    "\n",
    "data_job_revenue_dist = {\n",
    "    'labels': job_types,\n",
    "    'data': average_job_revenue\n",
    "}\n",
    "\n",
    "# Save data to JSON file\n",
    "with open('../public/analytics/job-revenue-dist-twelve-month-average.json', 'w') as file:\n",
    "    json.dump(data_job_revenue_dist, file, indent=4)  "
   ]
  },
  {
   "cell_type": "markdown",
   "metadata": {},
   "source": [
    "#### Job Delay Distribution"
   ]
  },
  {
   "cell_type": "code",
   "execution_count": 19,
   "metadata": {
    "execution": {
     "iopub.execute_input": "2024-10-02T18:45:09.075981Z",
     "iopub.status.busy": "2024-10-02T18:45:09.074978Z",
     "iopub.status.idle": "2024-10-02T18:45:09.086914Z",
     "shell.execute_reply": "2024-10-02T18:45:09.086914Z"
    }
   },
   "outputs": [
    {
     "name": "stdout",
     "output_type": "stream",
     "text": [
      "      category  frequency  total_delay  average_delay\n",
      "0  Electrician        152         2280           15.0\n",
      "1  Ventilation         75         3180           43.0\n",
      "2      Plumber         57         1590           28.0\n",
      "3     Handyman        146         1140            8.0\n",
      "4       Aircon        126         7620           61.0\n"
     ]
    }
   ],
   "source": [
    "# Past 1 Month\n",
    "recent_jobs = ja_jobs_df[ja_jobs_df['date'] > datetime(2024, 10, 1) - pd.DateOffset(months=1)]\n",
    "delay_stats = recent_jobs.groupby('category').agg(\n",
    "    total_delay=('delay', 'sum'),\n",
    "    frequency=('category', 'count')\n",
    ").reset_index()\n",
    "delay_stats['average_delay'] = np.ceil(delay_stats['total_delay'] / delay_stats['frequency'])\n",
    "delay_stats['category'] = pd.Categorical(delay_stats['category'].str.capitalize(), categories=job_types, ordered=True)\n",
    "delay_stats = delay_stats.sort_values('category').reset_index(drop=True)\n",
    "print(delay_stats[['category', 'frequency', 'total_delay', 'average_delay']])\n",
    "\n",
    "data_job_delay_dist = {\n",
    "    'labels': job_types,\n",
    "    'data': delay_stats['average_delay'].tolist()\n",
    "}\n",
    "\n",
    "# Save data to JSON file\n",
    "with open('../public/analytics/job-delay-dist-one-month.json', 'w') as file:\n",
    "    json.dump(data_job_delay_dist, file, indent=4) "
   ]
  },
  {
   "cell_type": "code",
   "execution_count": 20,
   "metadata": {
    "execution": {
     "iopub.execute_input": "2024-10-02T18:45:09.089438Z",
     "iopub.status.busy": "2024-10-02T18:45:09.088394Z",
     "iopub.status.idle": "2024-10-02T18:45:09.100634Z",
     "shell.execute_reply": "2024-10-02T18:45:09.100634Z"
    }
   },
   "outputs": [
    {
     "name": "stdout",
     "output_type": "stream",
     "text": [
      "      category  frequency  total_delay  average_delay\n",
      "0  Electrician        248         3650           15.0\n",
      "1  Ventilation        121         5020           42.0\n",
      "2      Plumber        222         6360           29.0\n",
      "3     Handyman        243         1840            8.0\n",
      "4       Aircon        204        11820           58.0\n"
     ]
    }
   ],
   "source": [
    "# Past 3 Month\n",
    "recent_jobs = ja_jobs_df[ja_jobs_df['date'] > datetime(2024, 10, 1) - pd.DateOffset(months=3)]\n",
    "delay_stats = recent_jobs.groupby('category').agg(\n",
    "    total_delay=('delay', 'sum'),\n",
    "    frequency=('category', 'count')\n",
    ").reset_index()\n",
    "delay_stats['average_delay'] = np.ceil(delay_stats['total_delay'] / delay_stats['frequency'])\n",
    "delay_stats['category'] = pd.Categorical(delay_stats['category'].str.capitalize(), categories=job_types, ordered=True)\n",
    "delay_stats = delay_stats.sort_values('category').reset_index(drop=True)\n",
    "print(delay_stats[['category', 'frequency', 'total_delay', 'average_delay']])\n",
    "\n",
    "data_job_delay_dist = {\n",
    "    'labels': job_types,\n",
    "    'data': delay_stats['average_delay'].tolist()\n",
    "}\n",
    "\n",
    "# Save data to JSON file\n",
    "with open('../public/analytics/job-delay-dist-three-month.json', 'w') as file:\n",
    "    json.dump(data_job_delay_dist, file, indent=4) "
   ]
  },
  {
   "cell_type": "code",
   "execution_count": 21,
   "metadata": {
    "execution": {
     "iopub.execute_input": "2024-10-02T18:45:09.102129Z",
     "iopub.status.busy": "2024-10-02T18:45:09.102129Z",
     "iopub.status.idle": "2024-10-02T18:45:09.113816Z",
     "shell.execute_reply": "2024-10-02T18:45:09.113816Z"
    }
   },
   "outputs": [
    {
     "name": "stdout",
     "output_type": "stream",
     "text": [
      "      category  frequency  total_delay  average_delay\n",
      "0  Electrician        461         7130           16.0\n",
      "1  Ventilation        300        12360           42.0\n",
      "2      Plumber        396        11670           30.0\n",
      "3     Handyman        605         4570            8.0\n",
      "4       Aircon        385        22440           59.0\n"
     ]
    }
   ],
   "source": [
    "# Past 6 Month\n",
    "recent_jobs = ja_jobs_df[ja_jobs_df['date'] > datetime(2024, 10, 1) - pd.DateOffset(months=6)]\n",
    "delay_stats = recent_jobs.groupby('category').agg(\n",
    "    total_delay=('delay', 'sum'),\n",
    "    frequency=('category', 'count')\n",
    ").reset_index()\n",
    "delay_stats['average_delay'] = np.ceil(delay_stats['total_delay'] / delay_stats['frequency'])\n",
    "delay_stats['category'] = pd.Categorical(delay_stats['category'].str.capitalize(), categories=job_types, ordered=True)\n",
    "delay_stats = delay_stats.sort_values('category').reset_index(drop=True)\n",
    "print(delay_stats[['category', 'frequency', 'total_delay', 'average_delay']])\n",
    "\n",
    "data_job_delay_dist = {\n",
    "    'labels': job_types,\n",
    "    'data': delay_stats['average_delay'].tolist()\n",
    "}\n",
    "\n",
    "# Save data to JSON file\n",
    "with open('../public/analytics/job-delay-dist-six-month.json', 'w') as file:\n",
    "    json.dump(data_job_delay_dist, file, indent=4) "
   ]
  },
  {
   "cell_type": "code",
   "execution_count": 22,
   "metadata": {
    "execution": {
     "iopub.execute_input": "2024-10-02T18:45:09.114887Z",
     "iopub.status.busy": "2024-10-02T18:45:09.114887Z",
     "iopub.status.idle": "2024-10-02T18:45:09.127023Z",
     "shell.execute_reply": "2024-10-02T18:45:09.127023Z"
    }
   },
   "outputs": [
    {
     "name": "stdout",
     "output_type": "stream",
     "text": [
      "      category  frequency  total_delay  average_delay\n",
      "0  Electrician       1011        15370           16.0\n",
      "1  Ventilation        619        25500           42.0\n",
      "2      Plumber        762        22800           30.0\n",
      "3     Handyman       1250         9260            8.0\n",
      "4       Aircon        843        49050           59.0\n"
     ]
    }
   ],
   "source": [
    "# Past 12 Month\n",
    "recent_jobs = ja_jobs_df[ja_jobs_df['date'] > datetime(2024, 10, 1) - pd.DateOffset(months=12)]\n",
    "delay_stats = recent_jobs.groupby('category').agg(\n",
    "    total_delay=('delay', 'sum'),\n",
    "    frequency=('category', 'count')\n",
    ").reset_index()\n",
    "delay_stats['average_delay'] = np.ceil(delay_stats['total_delay'] / delay_stats['frequency'])\n",
    "delay_stats['category'] = pd.Categorical(delay_stats['category'].str.capitalize(), categories=job_types, ordered=True)\n",
    "delay_stats = delay_stats.sort_values('category').reset_index(drop=True)\n",
    "print(delay_stats[['category', 'frequency', 'total_delay', 'average_delay']])\n",
    "\n",
    "data_job_delay_dist = {\n",
    "    'labels': job_types,\n",
    "    'data': delay_stats['average_delay'].tolist()\n",
    "}\n",
    "\n",
    "# Save data to JSON file\n",
    "with open('../public/analytics/job-delay-dist-twelve-month.json', 'w') as file:\n",
    "    json.dump(data_job_delay_dist, file, indent=4) "
   ]
  },
  {
   "cell_type": "markdown",
   "metadata": {},
   "source": [
    "#### Job Revenue Forecasting"
   ]
  },
  {
   "cell_type": "code",
   "execution_count": 23,
   "metadata": {
    "execution": {
     "iopub.execute_input": "2024-10-02T18:45:09.129705Z",
     "iopub.status.busy": "2024-10-02T18:45:09.129705Z",
     "iopub.status.idle": "2024-10-02T18:45:09.132657Z",
     "shell.execute_reply": "2024-10-02T18:45:09.132657Z"
    }
   },
   "outputs": [],
   "source": [
    "# Calculate the date 24 months ago from today\n",
    "start_date = datetime(2024, 10, 1) - pd.DateOffset(months=24)\n",
    "\n",
    "def forecast_revenue(df, seasonal_periods, forecast_horizon):\n",
    "    model = ExponentialSmoothing(df['revenue'], seasonal='add', seasonal_periods=seasonal_periods)\n",
    "    model_fit = model.fit()\n",
    "    forecast = model_fit.forecast(forecast_horizon)\n",
    "    return forecast"
   ]
  },
  {
   "cell_type": "code",
   "execution_count": 24,
   "metadata": {
    "execution": {
     "iopub.execute_input": "2024-10-02T18:45:09.133766Z",
     "iopub.status.busy": "2024-10-02T18:45:09.133766Z",
     "iopub.status.idle": "2024-10-02T18:45:09.165515Z",
     "shell.execute_reply": "2024-10-02T18:45:09.165515Z"
    }
   },
   "outputs": [
    {
     "name": "stderr",
     "output_type": "stream",
     "text": [
      "C:\\Python311\\Lib\\site-packages\\statsmodels\\tsa\\base\\tsa_model.py:473: ValueWarning: No frequency information was provided, so inferred frequency M will be used.\n",
      "  self._init_dates(dates, freq)\n"
     ]
    }
   ],
   "source": [
    "# Electrician\n",
    "historical_data = {\n",
    "    'date': pd.date_range(start=start_date, end=datetime(2024, 10, 1), freq='M'),\n",
    "    'revenue': [6300, 6300, 6400, 5500, 7000, 7100, 6200, 5800, 6400, 7500, 7000, 6800,\n",
    "                8000, 7400, 6900, 7700, 10000, 9000, 7300, 8500, 9300, 10400, 7000, 8000]\n",
    "}\n",
    "electrician_df = pd.DataFrame(historical_data)\n",
    "electrician_df.set_index('date', inplace=True)\n",
    "\n",
    "forecast_months = 6\n",
    "\n",
    "# Monthly\n",
    "historical_demand = electrician_df['revenue'][-12:]\n",
    "monthly_forecast = np.ceil(forecast_revenue(electrician_df, seasonal_periods=12, forecast_horizon=forecast_months)).astype(int)\n",
    "combined_demand_forecast = np.concatenate((historical_demand, monthly_forecast))\n",
    "\n",
    "historical_labels = [historical_demand.index[i].strftime(\"%Y-%m\") for i in range(len(historical_demand))]\n",
    "forecasted_labels = [(monthly_forecast.index[i].strftime(\"%Y-%m\")) for i in range(len(monthly_forecast))]\n",
    "combined_labels = historical_labels + forecasted_labels\n",
    "\n",
    "data_job_demand_forecast_monthly = {\n",
    "    'labels': combined_labels,\n",
    "    'data': combined_demand_forecast.tolist()\n",
    "}\n",
    "\n",
    "with open('../public/analytics/job-revenue-forecast-electrician-month.json', 'w') as file:\n",
    "    json.dump(data_job_demand_forecast_monthly, file, indent=4) \n",
    "\n",
    "# Quarterly \n",
    "df_quarterly = electrician_df.resample('Q').sum()\n",
    "historical_demand = np.ceil(df_quarterly['revenue'][-6:]).astype(int)\n",
    "quarterly_forecast = np.ceil(forecast_revenue(df_quarterly, seasonal_periods=4, forecast_horizon=forecast_months // 3)).astype(int)\n",
    "combined_demand_forecast = np.concatenate((historical_demand, quarterly_forecast))\n",
    "\n",
    "historical_labels = [historical_demand.index[i].strftime(\"%Y-%m\") for i in range(len(historical_demand))]\n",
    "forecasted_labels = [(quarterly_forecast.index[i].strftime(\"%Y-%m\")) for i in range(len(quarterly_forecast))]\n",
    "combined_labels = historical_labels + forecasted_labels\n",
    "\n",
    "data_job_demand_forecast_quarterly = {\n",
    "    'labels': combined_labels,\n",
    "    'data': combined_demand_forecast.tolist()\n",
    "}\n",
    "\n",
    "with open('../public/analytics/job-revenue-forecast-electrician-quarter.json', 'w') as file:\n",
    "    json.dump(data_job_demand_forecast_quarterly, file, indent=4) "
   ]
  },
  {
   "cell_type": "code",
   "execution_count": 25,
   "metadata": {
    "execution": {
     "iopub.execute_input": "2024-10-02T18:45:09.168352Z",
     "iopub.status.busy": "2024-10-02T18:45:09.168352Z",
     "iopub.status.idle": "2024-10-02T18:45:09.196426Z",
     "shell.execute_reply": "2024-10-02T18:45:09.196426Z"
    }
   },
   "outputs": [
    {
     "name": "stderr",
     "output_type": "stream",
     "text": [
      "C:\\Python311\\Lib\\site-packages\\statsmodels\\tsa\\base\\tsa_model.py:473: ValueWarning: No frequency information was provided, so inferred frequency M will be used.\n",
      "  self._init_dates(dates, freq)\n"
     ]
    }
   ],
   "source": [
    "# Ventilation\n",
    "historical_data = {\n",
    "    'date': pd.date_range(start=start_date, end=datetime(2024, 10, 1), freq='M'),\n",
    "    'revenue': [4600, 4300, 4800, 5600, 5200, 5100, 4700, 4700, 4800, 4100, 5200, 5300, \n",
    "                5500, 6400, 7000, 7800, 5200, 6000, 6000, 5500, 5200, 5800, 7500, 6700]\n",
    "}\n",
    "ventilation_df = pd.DataFrame(historical_data)\n",
    "ventilation_df.set_index('date', inplace=True)\n",
    "\n",
    "forecast_months = 6\n",
    "\n",
    "# Monthly\n",
    "historical_demand = ventilation_df['revenue'][-12:]\n",
    "monthly_forecast = np.ceil(forecast_revenue(ventilation_df, seasonal_periods=12, forecast_horizon=forecast_months)).astype(int)\n",
    "combined_demand_forecast = np.concatenate((historical_demand, monthly_forecast))\n",
    "\n",
    "historical_labels = [historical_demand.index[i].strftime(\"%Y-%m\") for i in range(len(historical_demand))]\n",
    "forecasted_labels = [(monthly_forecast.index[i].strftime(\"%Y-%m\")) for i in range(len(monthly_forecast))]\n",
    "combined_labels = historical_labels + forecasted_labels\n",
    "\n",
    "data_job_demand_forecast_monthly = {\n",
    "    'labels': combined_labels,\n",
    "    'data': combined_demand_forecast.tolist()\n",
    "}\n",
    "\n",
    "with open('../public/analytics/job-revenue-forecast-ventilation-month.json', 'w') as file:\n",
    "    json.dump(data_job_demand_forecast_monthly, file, indent=4) \n",
    "\n",
    "# Quarterly \n",
    "df_quarterly = ventilation_df.resample('Q').sum()\n",
    "historical_demand = np.ceil(df_quarterly['revenue'][-6:]).astype(int)\n",
    "quarterly_forecast = np.ceil(forecast_revenue(df_quarterly, seasonal_periods=4, forecast_horizon=forecast_months // 3)).astype(int)\n",
    "combined_demand_forecast = np.concatenate((historical_demand, quarterly_forecast))\n",
    "\n",
    "historical_labels = [historical_demand.index[i].strftime(\"%Y-%m\") for i in range(len(historical_demand))]\n",
    "forecasted_labels = [(quarterly_forecast.index[i].strftime(\"%Y-%m\")) for i in range(len(quarterly_forecast))]\n",
    "combined_labels = historical_labels + forecasted_labels\n",
    "\n",
    "data_job_demand_forecast_quarterly = {\n",
    "    'labels': combined_labels,\n",
    "    'data': combined_demand_forecast.tolist()\n",
    "}\n",
    "\n",
    "with open('../public/analytics/job-revenue-forecast-ventilation-quarter.json', 'w') as file:\n",
    "    json.dump(data_job_demand_forecast_quarterly, file, indent=4) "
   ]
  },
  {
   "cell_type": "code",
   "execution_count": 26,
   "metadata": {
    "execution": {
     "iopub.execute_input": "2024-10-02T18:45:09.197929Z",
     "iopub.status.busy": "2024-10-02T18:45:09.197929Z",
     "iopub.status.idle": "2024-10-02T18:45:09.227297Z",
     "shell.execute_reply": "2024-10-02T18:45:09.227297Z"
    }
   },
   "outputs": [
    {
     "name": "stderr",
     "output_type": "stream",
     "text": [
      "C:\\Python311\\Lib\\site-packages\\statsmodels\\tsa\\base\\tsa_model.py:473: ValueWarning: No frequency information was provided, so inferred frequency M will be used.\n",
      "  self._init_dates(dates, freq)\n"
     ]
    }
   ],
   "source": [
    "# Plumber\n",
    "historical_data = {\n",
    "    'date': pd.date_range(start=start_date, end=datetime(2024, 10, 1), freq='M'),\n",
    "    'revenue': [5200, 5100, 4700, 4700, 4600, 4300, 4800, 5600, 4800, 4100, 5200, 5300, \n",
    "                5200, 6000, 6000, 5500, 5500, 6400, 7000, 7800, 5200, 5800, 7500, 6700]\n",
    "}\n",
    "plumber_df = pd.DataFrame(historical_data)\n",
    "plumber_df.set_index('date', inplace=True)\n",
    "\n",
    "forecast_months = 6\n",
    "\n",
    "# Monthly\n",
    "historical_demand = plumber_df['revenue'][-12:]\n",
    "monthly_forecast = np.ceil(forecast_revenue(plumber_df, seasonal_periods=12, forecast_horizon=forecast_months)).astype(int)\n",
    "combined_demand_forecast = np.concatenate((historical_demand, monthly_forecast))\n",
    "\n",
    "historical_labels = [historical_demand.index[i].strftime(\"%Y-%m\") for i in range(len(historical_demand))]\n",
    "forecasted_labels = [(monthly_forecast.index[i].strftime(\"%Y-%m\")) for i in range(len(monthly_forecast))]\n",
    "combined_labels = historical_labels + forecasted_labels\n",
    "\n",
    "data_job_demand_forecast_monthly = {\n",
    "    'labels': combined_labels,\n",
    "    'data': combined_demand_forecast.tolist()\n",
    "}\n",
    "\n",
    "with open('../public/analytics/job-revenue-forecast-plumber-month.json', 'w') as file:\n",
    "    json.dump(data_job_demand_forecast_monthly, file, indent=4) \n",
    "\n",
    "# Quarterly \n",
    "df_quarterly = plumber_df.resample('Q').sum()\n",
    "historical_demand = np.ceil(df_quarterly['revenue'][-6:]).astype(int)\n",
    "quarterly_forecast = np.ceil(forecast_revenue(df_quarterly, seasonal_periods=4, forecast_horizon=forecast_months // 3)).astype(int)\n",
    "combined_demand_forecast = np.concatenate((historical_demand, quarterly_forecast))\n",
    "\n",
    "historical_labels = [historical_demand.index[i].strftime(\"%Y-%m\") for i in range(len(historical_demand))]\n",
    "forecasted_labels = [(quarterly_forecast.index[i].strftime(\"%Y-%m\")) for i in range(len(quarterly_forecast))]\n",
    "combined_labels = historical_labels + forecasted_labels\n",
    "\n",
    "data_job_demand_forecast_quarterly = {\n",
    "    'labels': combined_labels,\n",
    "    'data': combined_demand_forecast.tolist()\n",
    "}\n",
    "\n",
    "with open('../public/analytics/job-revenue-forecast-plumber-quarter.json', 'w') as file:\n",
    "    json.dump(data_job_demand_forecast_quarterly, file, indent=4) "
   ]
  },
  {
   "cell_type": "code",
   "execution_count": 27,
   "metadata": {
    "execution": {
     "iopub.execute_input": "2024-10-02T18:45:09.228737Z",
     "iopub.status.busy": "2024-10-02T18:45:09.228737Z",
     "iopub.status.idle": "2024-10-02T18:45:09.257088Z",
     "shell.execute_reply": "2024-10-02T18:45:09.257088Z"
    }
   },
   "outputs": [
    {
     "name": "stderr",
     "output_type": "stream",
     "text": [
      "C:\\Python311\\Lib\\site-packages\\statsmodels\\tsa\\base\\tsa_model.py:473: ValueWarning: No frequency information was provided, so inferred frequency M will be used.\n",
      "  self._init_dates(dates, freq)\n"
     ]
    }
   ],
   "source": [
    "# Handyman\n",
    "historical_data = {\n",
    "    'date': pd.date_range(start=start_date, end=datetime(2024, 10, 1), freq='M'),\n",
    "    'revenue': [6200, 5800, 6400, 7500, 7000, 6800, 6300, 6300, 6400, 5500, 7000, 7100, \n",
    "                7300, 8500, 9300, 10400, 7000, 8000, 8000, 7400, 6900, 7700, 10000, 9000]\n",
    "}\n",
    "handyman_df = pd.DataFrame(historical_data)\n",
    "handyman_df.set_index('date', inplace=True)\n",
    "\n",
    "forecast_months = 6\n",
    "\n",
    "# Monthly\n",
    "historical_demand = handyman_df['revenue'][-12:]\n",
    "monthly_forecast = np.ceil(forecast_revenue(handyman_df, seasonal_periods=12, forecast_horizon=forecast_months)).astype(int)\n",
    "combined_demand_forecast = np.concatenate((historical_demand, monthly_forecast))\n",
    "\n",
    "historical_labels = [historical_demand.index[i].strftime(\"%Y-%m\") for i in range(len(historical_demand))]\n",
    "forecasted_labels = [(monthly_forecast.index[i].strftime(\"%Y-%m\")) for i in range(len(monthly_forecast))]\n",
    "combined_labels = historical_labels + forecasted_labels\n",
    "\n",
    "data_job_demand_forecast_monthly = {\n",
    "    'labels': combined_labels,\n",
    "    'data': combined_demand_forecast.tolist()\n",
    "}\n",
    "\n",
    "with open('../public/analytics/job-revenue-forecast-handyman-month.json', 'w') as file:\n",
    "    json.dump(data_job_demand_forecast_monthly, file, indent=4) \n",
    "\n",
    "# Quarterly \n",
    "df_quarterly = handyman_df.resample('Q').sum()\n",
    "historical_demand = np.ceil(df_quarterly['revenue'][-6:]).astype(int)\n",
    "quarterly_forecast = np.ceil(forecast_revenue(df_quarterly, seasonal_periods=4, forecast_horizon=forecast_months // 3)).astype(int)\n",
    "combined_demand_forecast = np.concatenate((historical_demand, quarterly_forecast))\n",
    "\n",
    "historical_labels = [historical_demand.index[i].strftime(\"%Y-%m\") for i in range(len(historical_demand))]\n",
    "forecasted_labels = [(quarterly_forecast.index[i].strftime(\"%Y-%m\")) for i in range(len(quarterly_forecast))]\n",
    "combined_labels = historical_labels + forecasted_labels\n",
    "\n",
    "data_job_demand_forecast_quarterly = {\n",
    "    'labels': combined_labels,\n",
    "    'data': combined_demand_forecast.tolist()\n",
    "}\n",
    "\n",
    "with open('../public/analytics/job-revenue-forecast-handyman-quarter.json', 'w') as file:\n",
    "    json.dump(data_job_demand_forecast_quarterly, file, indent=4) "
   ]
  },
  {
   "cell_type": "code",
   "execution_count": 28,
   "metadata": {
    "execution": {
     "iopub.execute_input": "2024-10-02T18:45:09.258421Z",
     "iopub.status.busy": "2024-10-02T18:45:09.258421Z",
     "iopub.status.idle": "2024-10-02T18:45:09.286469Z",
     "shell.execute_reply": "2024-10-02T18:45:09.286469Z"
    }
   },
   "outputs": [
    {
     "name": "stderr",
     "output_type": "stream",
     "text": [
      "C:\\Python311\\Lib\\site-packages\\statsmodels\\tsa\\base\\tsa_model.py:473: ValueWarning: No frequency information was provided, so inferred frequency M will be used.\n",
      "  self._init_dates(dates, freq)\n",
      "C:\\Python311\\Lib\\site-packages\\statsmodels\\tsa\\holtwinters\\model.py:918: ConvergenceWarning: Optimization failed to converge. Check mle_retvals.\n",
      "  warnings.warn(\n"
     ]
    }
   ],
   "source": [
    "# Aircon\n",
    "historical_data = {\n",
    "    'date': pd.date_range(start=start_date, end=datetime(2024, 10, 1), freq='M'),\n",
    "    'revenue': [12400, 11600, 12800, 11000, 14000, 14020, 12080, 15000, 14000, 13600, 12060, 12060, \n",
    "                14600, 17000, 13800, 15040, 20000, 18000, 18060, 20080, 14000, 16000, 16000, 14080]\n",
    "}\n",
    "aircon_df = pd.DataFrame(historical_data)\n",
    "aircon_df.set_index('date', inplace=True)\n",
    "\n",
    "forecast_months = 6\n",
    "\n",
    "# Monthly\n",
    "historical_demand = aircon_df['revenue'][-12:]\n",
    "monthly_forecast = np.ceil(forecast_revenue(aircon_df, seasonal_periods=12, forecast_horizon=forecast_months)).astype(int)\n",
    "combined_demand_forecast = np.concatenate((historical_demand, monthly_forecast))\n",
    "\n",
    "historical_labels = [historical_demand.index[i].strftime(\"%Y-%m\") for i in range(len(historical_demand))]\n",
    "forecasted_labels = [(monthly_forecast.index[i].strftime(\"%Y-%m\")) for i in range(len(monthly_forecast))]\n",
    "combined_labels = historical_labels + forecasted_labels\n",
    "\n",
    "data_job_demand_forecast_monthly = {\n",
    "    'labels': combined_labels,\n",
    "    'data': combined_demand_forecast.tolist()\n",
    "}\n",
    "\n",
    "with open('../public/analytics/job-revenue-forecast-aircon-month.json', 'w') as file:\n",
    "    json.dump(data_job_demand_forecast_monthly, file, indent=4) \n",
    "\n",
    "# Quarterly \n",
    "df_quarterly = aircon_df.resample('Q').sum()\n",
    "historical_demand = np.ceil(df_quarterly['revenue'][-6:]).astype(int)\n",
    "quarterly_forecast = np.ceil(forecast_revenue(df_quarterly, seasonal_periods=4, forecast_horizon=forecast_months // 3)).astype(int)\n",
    "combined_demand_forecast = np.concatenate((historical_demand, quarterly_forecast))\n",
    "\n",
    "historical_labels = [historical_demand.index[i].strftime(\"%Y-%m\") for i in range(len(historical_demand))]\n",
    "forecasted_labels = [(quarterly_forecast.index[i].strftime(\"%Y-%m\")) for i in range(len(quarterly_forecast))]\n",
    "combined_labels = historical_labels + forecasted_labels\n",
    "\n",
    "data_job_demand_forecast_quarterly = {\n",
    "    'labels': combined_labels,\n",
    "    'data': combined_demand_forecast.tolist()\n",
    "}\n",
    "\n",
    "with open('../public/analytics/job-revenue-forecast-aircon-quarter.json', 'w') as file:\n",
    "    json.dump(data_job_demand_forecast_quarterly, file, indent=4) "
   ]
  },
  {
   "cell_type": "markdown",
   "metadata": {},
   "source": [
    "#### Job Demand Forecast"
   ]
  },
  {
   "cell_type": "code",
   "execution_count": 29,
   "metadata": {
    "execution": {
     "iopub.execute_input": "2024-10-02T18:45:09.289074Z",
     "iopub.status.busy": "2024-10-02T18:45:09.289074Z",
     "iopub.status.idle": "2024-10-02T18:45:09.293004Z",
     "shell.execute_reply": "2024-10-02T18:45:09.293004Z"
    }
   },
   "outputs": [],
   "source": [
    "ja_jobs_df['year'] = ja_jobs_df['date'].dt.year\n",
    "ja_jobs_df['month'] = ja_jobs_df['date'].dt.month\n",
    "\n",
    "def forecast_demand(df, seasonal_periods, forecast_horizon):\n",
    "    model = ExponentialSmoothing(df['demand'], seasonal='add', seasonal_periods=seasonal_periods)\n",
    "    model_fit = model.fit()\n",
    "    forecast = model_fit.forecast(forecast_horizon)\n",
    "    return forecast"
   ]
  },
  {
   "cell_type": "code",
   "execution_count": 30,
   "metadata": {
    "execution": {
     "iopub.execute_input": "2024-10-02T18:45:09.294296Z",
     "iopub.status.busy": "2024-10-02T18:45:09.294296Z",
     "iopub.status.idle": "2024-10-02T18:45:09.301606Z",
     "shell.execute_reply": "2024-10-02T18:45:09.301606Z"
    }
   },
   "outputs": [
    {
     "name": "stdout",
     "output_type": "stream",
     "text": [
      "     year  month     category  total_jobs\n",
      "0    2022     10       aircon          53\n",
      "1    2022     10  electrician          95\n",
      "2    2022     10     handyman          83\n",
      "3    2022     10      plumber          68\n",
      "4    2022     10  ventilation          33\n",
      "..    ...    ...          ...         ...\n",
      "115  2024      9       aircon         128\n",
      "116  2024      9  electrician         154\n",
      "117  2024      9     handyman         154\n",
      "118  2024      9      plumber          57\n",
      "119  2024      9  ventilation          76\n",
      "\n",
      "[120 rows x 4 columns]\n"
     ]
    }
   ],
   "source": [
    "job_counts = ja_jobs_df.groupby(['year', 'month', 'category']).size().reset_index(name='total_jobs')\n",
    "print(job_counts)"
   ]
  },
  {
   "cell_type": "code",
   "execution_count": 69,
   "metadata": {},
   "outputs": [
    {
     "name": "stdout",
     "output_type": "stream",
     "text": [
      "     year  month     category  total_jobs\n",
      "1    2022     10  electrician          73\n",
      "6    2022     11  electrician          67\n",
      "11   2022     12  electrician          37\n",
      "16   2023      1  electrician          22\n",
      "21   2023      2  electrician          46\n",
      "26   2023      3  electrician          35\n",
      "31   2023      4  electrician          68\n",
      "36   2023      5  electrician          26\n",
      "41   2023      6  electrician          42\n",
      "46   2023      7  electrician          52\n",
      "51   2023      8  electrician          79\n",
      "56   2023      9  electrician          45\n",
      "61   2023     10  electrician         111\n",
      "66   2023     11  electrician         101\n",
      "71   2023     12  electrician          56\n",
      "76   2024      1  electrician          34\n",
      "81   2024      2  electrician          69\n",
      "86   2024      3  electrician          53\n",
      "91   2024      4  electrician         103\n",
      "96   2024      5  electrician          40\n",
      "101  2024      6  electrician          62\n",
      "106  2024      7  electrician          78\n",
      "111  2024      8  electrician         119\n",
      "116  2024      9  electrician          66\n"
     ]
    }
   ],
   "source": []
  },
  {
   "cell_type": "code",
   "execution_count": 31,
   "metadata": {
    "execution": {
     "iopub.execute_input": "2024-10-02T18:45:09.304232Z",
     "iopub.status.busy": "2024-10-02T18:45:09.304232Z",
     "iopub.status.idle": "2024-10-02T18:45:09.338150Z",
     "shell.execute_reply": "2024-10-02T18:45:09.338150Z"
    }
   },
   "outputs": [
    {
     "name": "stdout",
     "output_type": "stream",
     "text": [
      "     year  month     category  total_jobs\n",
      "1    2022     10  electrician          95\n",
      "6    2022     11  electrician          86\n",
      "11   2022     12  electrician          48\n",
      "16   2023      1  electrician          29\n",
      "21   2023      2  electrician          59\n",
      "26   2023      3  electrician          45\n",
      "31   2023      4  electrician          88\n",
      "36   2023      5  electrician          34\n",
      "41   2023      6  electrician          54\n",
      "46   2023      7  electrician          66\n",
      "51   2023      8  electrician         102\n",
      "56   2023      9  electrician          56\n",
      "61   2023     10  electrician          93\n",
      "66   2023     11  electrician          69\n",
      "71   2023     12  electrician          94\n",
      "76   2024      1  electrician          33\n",
      "81   2024      2  electrician         131\n",
      "86   2024      3  electrician         135\n",
      "91   2024      4  electrician         106\n",
      "96   2024      5  electrician          25\n",
      "101  2024      6  electrician          84\n",
      "106  2024      7  electrician          54\n",
      "111  2024      8  electrician          40\n",
      "116  2024      9  electrician         154\n"
     ]
    },
    {
     "name": "stderr",
     "output_type": "stream",
     "text": [
      "C:\\Python311\\Lib\\site-packages\\statsmodels\\tsa\\base\\tsa_model.py:473: ValueWarning: No frequency information was provided, so inferred frequency M will be used.\n",
      "  self._init_dates(dates, freq)\n"
     ]
    }
   ],
   "source": [
    "# Electrician\n",
    "electrician_counts = job_counts[job_counts['category'] == 'electrician']\n",
    "print(electrician_counts)\n",
    "\n",
    "historical_data = {\n",
    "    'date': pd.date_range(start=start_date, end=datetime(2024, 10, 1), freq='M'),\n",
    "    'demand': electrician_counts['total_jobs'].tolist()\n",
    "}\n",
    "electrician_df = pd.DataFrame(historical_data)\n",
    "electrician_df.set_index('date', inplace=True)\n",
    "\n",
    "forecast_months = 6\n",
    "\n",
    "# Monthly\n",
    "historical_demand = electrician_df['demand'][-12:]\n",
    "monthly_forecast = np.ceil(forecast_demand(electrician_df, seasonal_periods=12, forecast_horizon=forecast_months)).astype(int)\n",
    "combined_demand_forecast = np.concatenate((historical_demand, monthly_forecast))\n",
    "\n",
    "historical_labels = [historical_demand.index[i].strftime(\"%Y-%m\") for i in range(len(historical_demand))]\n",
    "forecasted_labels = [(monthly_forecast.index[i].strftime(\"%Y-%m\")) for i in range(len(monthly_forecast))]\n",
    "combined_labels = historical_labels + forecasted_labels\n",
    "\n",
    "data_job_demand_forecast_monthly = {\n",
    "    'labels': combined_labels,\n",
    "    'data': combined_demand_forecast.tolist()\n",
    "}\n",
    "\n",
    "with open('../public/analytics/job-demand-forecast-electrician-month.json', 'w') as file:\n",
    "    json.dump(data_job_demand_forecast_monthly, file, indent=4) \n",
    "\n",
    "# Quarterly \n",
    "df_quarterly = electrician_df.resample('Q').sum()\n",
    "historical_demand = np.ceil(df_quarterly['demand'][-6:]).astype(int)\n",
    "quarterly_forecast = np.ceil(forecast_demand(df_quarterly, seasonal_periods=4, forecast_horizon=forecast_months // 3)).astype(int)\n",
    "combined_demand_forecast = np.concatenate((historical_demand, quarterly_forecast))\n",
    "\n",
    "historical_labels = [historical_demand.index[i].strftime(\"%Y-%m\") for i in range(len(historical_demand))]\n",
    "forecasted_labels = [(quarterly_forecast.index[i].strftime(\"%Y-%m\")) for i in range(len(quarterly_forecast))]\n",
    "combined_labels = historical_labels + forecasted_labels\n",
    "\n",
    "data_job_demand_forecast_quarterly = {\n",
    "    'labels': combined_labels,\n",
    "    'data': combined_demand_forecast.tolist()\n",
    "}\n",
    "\n",
    "with open('../public/analytics/job-demand-forecast-electrician-quarter.json', 'w') as file:\n",
    "    json.dump(data_job_demand_forecast_quarterly, file, indent=4) \n"
   ]
  },
  {
   "cell_type": "code",
   "execution_count": 32,
   "metadata": {
    "execution": {
     "iopub.execute_input": "2024-10-02T18:45:09.340899Z",
     "iopub.status.busy": "2024-10-02T18:45:09.339453Z",
     "iopub.status.idle": "2024-10-02T18:45:09.375666Z",
     "shell.execute_reply": "2024-10-02T18:45:09.375666Z"
    }
   },
   "outputs": [
    {
     "name": "stdout",
     "output_type": "stream",
     "text": [
      "     year  month     category  total_jobs\n",
      "4    2022     10  ventilation          33\n",
      "9    2022     11  ventilation          24\n",
      "14   2022     12  ventilation          34\n",
      "19   2023      1  ventilation          11\n",
      "24   2023      2  ventilation          46\n",
      "29   2023      3  ventilation          49\n",
      "34   2023      4  ventilation          40\n",
      "39   2023      5  ventilation           9\n",
      "44   2023      6  ventilation          29\n",
      "49   2023      7  ventilation          19\n",
      "54   2023      8  ventilation          14\n",
      "59   2023      9  ventilation          54\n",
      "64   2023     10  ventilation          69\n",
      "69   2023     11  ventilation          53\n",
      "74   2023     12  ventilation          59\n",
      "79   2024      1  ventilation          69\n",
      "84   2024      2  ventilation          19\n",
      "89   2024      3  ventilation          49\n",
      "94   2024      4  ventilation          69\n",
      "99   2024      5  ventilation          69\n",
      "104  2024      6  ventilation          44\n",
      "109  2024      7  ventilation          14\n",
      "114  2024      8  ventilation          31\n",
      "119  2024      9  ventilation          76\n"
     ]
    },
    {
     "name": "stderr",
     "output_type": "stream",
     "text": [
      "C:\\Python311\\Lib\\site-packages\\statsmodels\\tsa\\base\\tsa_model.py:473: ValueWarning: No frequency information was provided, so inferred frequency M will be used.\n",
      "  self._init_dates(dates, freq)\n"
     ]
    }
   ],
   "source": [
    "# Ventilation\n",
    "ventilation_counts = job_counts[job_counts['category'] == 'ventilation']\n",
    "print(ventilation_counts)\n",
    "\n",
    "historical_data = {\n",
    "    'date': pd.date_range(start=start_date, end=datetime(2024, 10, 1), freq='M'),\n",
    "    'demand': ventilation_counts['total_jobs'].tolist()\n",
    "}\n",
    "ventilation_df = pd.DataFrame(historical_data)\n",
    "ventilation_df.set_index('date', inplace=True)\n",
    "\n",
    "forecast_months = 6\n",
    "\n",
    "# Monthly\n",
    "historical_demand = ventilation_df['demand'][-12:]\n",
    "monthly_forecast = np.ceil(forecast_demand(ventilation_df, seasonal_periods=12, forecast_horizon=forecast_months)).astype(int)\n",
    "combined_demand_forecast = np.concatenate((historical_demand, monthly_forecast))\n",
    "\n",
    "historical_labels = [historical_demand.index[i].strftime(\"%Y-%m\") for i in range(len(historical_demand))]\n",
    "forecasted_labels = [(monthly_forecast.index[i].strftime(\"%Y-%m\")) for i in range(len(monthly_forecast))]\n",
    "combined_labels = historical_labels + forecasted_labels\n",
    "\n",
    "data_job_demand_forecast_monthly = {\n",
    "    'labels': combined_labels,\n",
    "    'data': combined_demand_forecast.tolist()\n",
    "}\n",
    "\n",
    "with open('../public/analytics/job-demand-forecast-ventilation-month.json', 'w') as file:\n",
    "    json.dump(data_job_demand_forecast_monthly, file, indent=4) \n",
    "\n",
    "# Quarterly \n",
    "df_quarterly = ventilation_df.resample('Q').sum()\n",
    "historical_demand = np.ceil(df_quarterly['demand'][-6:]).astype(int)\n",
    "quarterly_forecast = np.ceil(forecast_demand(df_quarterly, seasonal_periods=4, forecast_horizon=forecast_months // 3)).astype(int)\n",
    "combined_demand_forecast = np.concatenate((historical_demand, quarterly_forecast))\n",
    "\n",
    "historical_labels = [historical_demand.index[i].strftime(\"%Y-%m\") for i in range(len(historical_demand))]\n",
    "forecasted_labels = [(quarterly_forecast.index[i].strftime(\"%Y-%m\")) for i in range(len(quarterly_forecast))]\n",
    "combined_labels = historical_labels + forecasted_labels\n",
    "\n",
    "data_job_demand_forecast_quarterly = {\n",
    "    'labels': combined_labels,\n",
    "    'data': combined_demand_forecast.tolist()\n",
    "}\n",
    "\n",
    "with open('../public/analytics/job-demand-forecast-ventilation-quarter.json', 'w') as file:\n",
    "    json.dump(data_job_demand_forecast_quarterly, file, indent=4) "
   ]
  },
  {
   "cell_type": "code",
   "execution_count": 33,
   "metadata": {
    "execution": {
     "iopub.execute_input": "2024-10-02T18:45:09.377167Z",
     "iopub.status.busy": "2024-10-02T18:45:09.377167Z",
     "iopub.status.idle": "2024-10-02T18:45:09.410332Z",
     "shell.execute_reply": "2024-10-02T18:45:09.410332Z"
    }
   },
   "outputs": [
    {
     "name": "stdout",
     "output_type": "stream",
     "text": [
      "     year  month category  total_jobs\n",
      "3    2022     10  plumber          68\n",
      "8    2022     11  plumber          53\n",
      "13   2022     12  plumber          59\n",
      "18   2023      1  plumber          68\n",
      "23   2023      2  plumber          19\n",
      "28   2023      3  plumber          49\n",
      "33   2023      4  plumber          69\n",
      "38   2023      5  plumber          68\n",
      "43   2023      6  plumber          43\n",
      "48   2023      7  plumber          13\n",
      "53   2023      8  plumber          31\n",
      "58   2023      9  plumber          75\n",
      "63   2023     10  plumber          95\n",
      "68   2023     11  plumber          87\n",
      "73   2023     12  plumber          48\n",
      "78   2024      1  plumber          29\n",
      "83   2024      2  plumber          60\n",
      "88   2024      3  plumber          45\n",
      "93   2024      4  plumber          88\n",
      "98   2024      5  plumber          34\n",
      "103  2024      6  plumber          54\n",
      "108  2024      7  plumber          67\n",
      "113  2024      8  plumber         103\n",
      "118  2024      9  plumber          57\n"
     ]
    },
    {
     "name": "stderr",
     "output_type": "stream",
     "text": [
      "C:\\Python311\\Lib\\site-packages\\statsmodels\\tsa\\base\\tsa_model.py:473: ValueWarning: No frequency information was provided, so inferred frequency M will be used.\n",
      "  self._init_dates(dates, freq)\n"
     ]
    }
   ],
   "source": [
    "# Plumber\n",
    "plumber_counts = job_counts[job_counts['category'] == 'plumber']\n",
    "print(plumber_counts)\n",
    "\n",
    "historical_data = {\n",
    "    'date': pd.date_range(start=start_date, end=datetime(2024, 10, 1), freq='M'),\n",
    "    'demand': plumber_counts['total_jobs'].tolist()\n",
    "}\n",
    "plumber_df = pd.DataFrame(historical_data)\n",
    "plumber_df.set_index('date', inplace=True)\n",
    "\n",
    "forecast_months = 6\n",
    "\n",
    "# Monthly\n",
    "historical_demand = plumber_df['demand'][-12:]\n",
    "monthly_forecast = np.ceil(forecast_demand(plumber_df, seasonal_periods=12, forecast_horizon=forecast_months)).astype(int)\n",
    "combined_demand_forecast = np.concatenate((historical_demand, monthly_forecast))\n",
    "\n",
    "historical_labels = [historical_demand.index[i].strftime(\"%Y-%m\") for i in range(len(historical_demand))]\n",
    "forecasted_labels = [(monthly_forecast.index[i].strftime(\"%Y-%m\")) for i in range(len(monthly_forecast))]\n",
    "combined_labels = historical_labels + forecasted_labels\n",
    "\n",
    "data_job_demand_forecast_monthly = {\n",
    "    'labels': combined_labels,\n",
    "    'data': combined_demand_forecast.tolist()\n",
    "}\n",
    "\n",
    "with open('../public/analytics/job-demand-forecast-plumber-month.json', 'w') as file:\n",
    "    json.dump(data_job_demand_forecast_monthly, file, indent=4) \n",
    "\n",
    "# Quarterly \n",
    "df_quarterly = plumber_df.resample('Q').sum()\n",
    "historical_demand = np.ceil(df_quarterly['demand'][-6:]).astype(int)\n",
    "quarterly_forecast = np.ceil(forecast_demand(df_quarterly, seasonal_periods=4, forecast_horizon=forecast_months // 3)).astype(int)\n",
    "combined_demand_forecast = np.concatenate((historical_demand, quarterly_forecast))\n",
    "\n",
    "historical_labels = [historical_demand.index[i].strftime(\"%Y-%m\") for i in range(len(historical_demand))]\n",
    "forecasted_labels = [(quarterly_forecast.index[i].strftime(\"%Y-%m\")) for i in range(len(quarterly_forecast))]\n",
    "combined_labels = historical_labels + forecasted_labels\n",
    "\n",
    "data_job_demand_forecast_quarterly = {\n",
    "    'labels': combined_labels,\n",
    "    'data': combined_demand_forecast.tolist()\n",
    "}\n",
    "\n",
    "with open('../public/analytics/job-demand-forecast-plumber-quarter.json', 'w') as file:\n",
    "    json.dump(data_job_demand_forecast_quarterly, file, indent=4) "
   ]
  },
  {
   "cell_type": "code",
   "execution_count": 34,
   "metadata": {
    "execution": {
     "iopub.execute_input": "2024-10-02T18:45:09.411801Z",
     "iopub.status.busy": "2024-10-02T18:45:09.411801Z",
     "iopub.status.idle": "2024-10-02T18:45:09.445416Z",
     "shell.execute_reply": "2024-10-02T18:45:09.445416Z"
    }
   },
   "outputs": [
    {
     "name": "stdout",
     "output_type": "stream",
     "text": [
      "     year  month  category  total_jobs\n",
      "2    2022     10  handyman          83\n",
      "7    2022     11  handyman          62\n",
      "12   2022     12  handyman          84\n",
      "17   2023      1  handyman          29\n",
      "22   2023      2  handyman         117\n",
      "27   2023      3  handyman         120\n",
      "32   2023      4  handyman          95\n",
      "37   2023      5  handyman          23\n",
      "42   2023      6  handyman          75\n",
      "47   2023      7  handyman          48\n",
      "52   2023      8  handyman          36\n",
      "57   2023      9  handyman         137\n",
      "62   2023     10  handyman         140\n",
      "67   2023     11  handyman         107\n",
      "72   2023     12  handyman         120\n",
      "77   2024      1  handyman         140\n",
      "82   2024      2  handyman          40\n",
      "87   2024      3  handyman          99\n",
      "92   2024      4  handyman         140\n",
      "97   2024      5  handyman         137\n",
      "102  2024      6  handyman          89\n",
      "107  2024      7  handyman          27\n",
      "112  2024      8  handyman          63\n",
      "117  2024      9  handyman         154\n"
     ]
    },
    {
     "name": "stderr",
     "output_type": "stream",
     "text": [
      "C:\\Python311\\Lib\\site-packages\\statsmodels\\tsa\\base\\tsa_model.py:473: ValueWarning: No frequency information was provided, so inferred frequency M will be used.\n",
      "  self._init_dates(dates, freq)\n"
     ]
    }
   ],
   "source": [
    "# Handyman\n",
    "handyman_counts = job_counts[job_counts['category'] == 'handyman']\n",
    "print(handyman_counts)\n",
    "\n",
    "historical_data = {\n",
    "    'date': pd.date_range(start=start_date, end=datetime(2024, 10, 1), freq='M'),\n",
    "    'demand': handyman_counts['total_jobs'].tolist()\n",
    "}\n",
    "handyman_df = pd.DataFrame(historical_data)\n",
    "handyman_df.set_index('date', inplace=True)\n",
    "\n",
    "forecast_months = 6\n",
    "\n",
    "# Monthly\n",
    "historical_demand = handyman_df['demand'][-12:]\n",
    "monthly_forecast = np.ceil(forecast_demand(handyman_df, seasonal_periods=12, forecast_horizon=forecast_months)).astype(int)\n",
    "combined_demand_forecast = np.concatenate((historical_demand, monthly_forecast))\n",
    "\n",
    "historical_labels = [historical_demand.index[i].strftime(\"%Y-%m\") for i in range(len(historical_demand))]\n",
    "forecasted_labels = [(monthly_forecast.index[i].strftime(\"%Y-%m\")) for i in range(len(monthly_forecast))]\n",
    "combined_labels = historical_labels + forecasted_labels\n",
    "\n",
    "data_job_demand_forecast_monthly = {\n",
    "    'labels': combined_labels,\n",
    "    'data': combined_demand_forecast.tolist()\n",
    "}\n",
    "\n",
    "with open('../public/analytics/job-demand-forecast-handyman-month.json', 'w') as file:\n",
    "    json.dump(data_job_demand_forecast_monthly, file, indent=4) \n",
    "\n",
    "# Quarterly \n",
    "df_quarterly = handyman_df.resample('Q').sum()\n",
    "historical_demand = np.ceil(df_quarterly['demand'][-6:]).astype(int)\n",
    "quarterly_forecast = np.ceil(forecast_demand(df_quarterly, seasonal_periods=4, forecast_horizon=forecast_months // 3)).astype(int)\n",
    "combined_demand_forecast = np.concatenate((historical_demand, quarterly_forecast))\n",
    "\n",
    "historical_labels = [historical_demand.index[i].strftime(\"%Y-%m\") for i in range(len(historical_demand))]\n",
    "forecasted_labels = [(quarterly_forecast.index[i].strftime(\"%Y-%m\")) for i in range(len(quarterly_forecast))]\n",
    "combined_labels = historical_labels + forecasted_labels\n",
    "\n",
    "data_job_demand_forecast_quarterly = {\n",
    "    'labels': combined_labels,\n",
    "    'data': combined_demand_forecast.tolist()\n",
    "}\n",
    "\n",
    "with open('../public/analytics/job-demand-forecast-handyman-quarter.json', 'w') as file:\n",
    "    json.dump(data_job_demand_forecast_quarterly, file, indent=4) "
   ]
  },
  {
   "cell_type": "code",
   "execution_count": 35,
   "metadata": {
    "execution": {
     "iopub.execute_input": "2024-10-02T18:45:09.448152Z",
     "iopub.status.busy": "2024-10-02T18:45:09.448152Z",
     "iopub.status.idle": "2024-10-02T18:45:09.481984Z",
     "shell.execute_reply": "2024-10-02T18:45:09.481984Z"
    }
   },
   "outputs": [
    {
     "name": "stdout",
     "output_type": "stream",
     "text": [
      "     year  month category  total_jobs\n",
      "0    2022     10   aircon          53\n",
      "5    2022     11   aircon          41\n",
      "10   2022     12   aircon          46\n",
      "15   2023      1   aircon          53\n",
      "20   2023      2   aircon          15\n",
      "25   2023      3   aircon          38\n",
      "30   2023      4   aircon          53\n",
      "35   2023      5   aircon          53\n",
      "40   2023      6   aircon          34\n",
      "45   2023      7   aircon          11\n",
      "50   2023      8   aircon          24\n",
      "55   2023      9   aircon          59\n",
      "60   2023     10   aircon          78\n",
      "65   2023     11   aircon          57\n",
      "70   2023     12   aircon          78\n",
      "75   2024      1   aircon          27\n",
      "80   2024      2   aircon         109\n",
      "85   2024      3   aircon         113\n",
      "90   2024      4   aircon          89\n",
      "95   2024      5   aircon          21\n",
      "100  2024      6   aircon          70\n",
      "105  2024      7   aircon          45\n",
      "110  2024      8   aircon          33\n",
      "115  2024      9   aircon         128\n"
     ]
    },
    {
     "name": "stderr",
     "output_type": "stream",
     "text": [
      "C:\\Python311\\Lib\\site-packages\\statsmodels\\tsa\\base\\tsa_model.py:473: ValueWarning: No frequency information was provided, so inferred frequency M will be used.\n",
      "  self._init_dates(dates, freq)\n"
     ]
    }
   ],
   "source": [
    "# Aircon\n",
    "aircon_counts = job_counts[job_counts['category'] == 'aircon']\n",
    "print(aircon_counts)\n",
    "\n",
    "historical_data = {\n",
    "    'date': pd.date_range(start=start_date, end=datetime(2024, 10, 1), freq='M'),\n",
    "    'demand': aircon_counts['total_jobs'].tolist()\n",
    "}\n",
    "aircon_df = pd.DataFrame(historical_data)\n",
    "aircon_df.set_index('date', inplace=True)\n",
    "\n",
    "forecast_months = 6\n",
    "\n",
    "# Monthly\n",
    "historical_demand = aircon_df['demand'][-12:]\n",
    "monthly_forecast = np.ceil(forecast_demand(aircon_df, seasonal_periods=12, forecast_horizon=forecast_months)).astype(int)\n",
    "combined_demand_forecast = np.concatenate((historical_demand, monthly_forecast))\n",
    "\n",
    "historical_labels = [historical_demand.index[i].strftime(\"%Y-%m\") for i in range(len(historical_demand))]\n",
    "forecasted_labels = [(monthly_forecast.index[i].strftime(\"%Y-%m\")) for i in range(len(monthly_forecast))]\n",
    "combined_labels = historical_labels + forecasted_labels\n",
    "\n",
    "data_job_demand_forecast_monthly = {\n",
    "    'labels': combined_labels,\n",
    "    'data': combined_demand_forecast.tolist()\n",
    "}\n",
    "\n",
    "with open('../public/analytics/job-demand-forecast-aircon-month.json', 'w') as file:\n",
    "    json.dump(data_job_demand_forecast_monthly, file, indent=4) \n",
    "\n",
    "# Quarterly \n",
    "df_quarterly = aircon_df.resample('Q').sum()\n",
    "historical_demand = np.ceil(df_quarterly['demand'][-6:]).astype(int)\n",
    "quarterly_forecast = np.ceil(forecast_demand(df_quarterly, seasonal_periods=4, forecast_horizon=forecast_months // 3)).astype(int)\n",
    "combined_demand_forecast = np.concatenate((historical_demand, quarterly_forecast))\n",
    "\n",
    "historical_labels = [historical_demand.index[i].strftime(\"%Y-%m\") for i in range(len(historical_demand))]\n",
    "forecasted_labels = [(quarterly_forecast.index[i].strftime(\"%Y-%m\")) for i in range(len(quarterly_forecast))]\n",
    "combined_labels = historical_labels + forecasted_labels\n",
    "\n",
    "data_job_demand_forecast_quarterly = {\n",
    "    'labels': combined_labels,\n",
    "    'data': combined_demand_forecast.tolist()\n",
    "}\n",
    "\n",
    "with open('../public/analytics/job-demand-forecast-aircon-quarter.json', 'w') as file:\n",
    "    json.dump(data_job_demand_forecast_quarterly, file, indent=4) "
   ]
  }
 ],
 "metadata": {
  "kernelspec": {
   "display_name": "Python 3 (ipykernel)",
   "language": "python",
   "name": "python3"
  },
  "language_info": {
   "codemirror_mode": {
    "name": "ipython",
    "version": 3
   },
   "file_extension": ".py",
   "mimetype": "text/x-python",
   "name": "python",
   "nbconvert_exporter": "python",
   "pygments_lexer": "ipython3",
   "version": "3.11.0"
  }
 },
 "nbformat": 4,
 "nbformat_minor": 4
}
